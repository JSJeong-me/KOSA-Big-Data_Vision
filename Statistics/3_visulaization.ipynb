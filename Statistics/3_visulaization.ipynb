{
 "cells": [
  {
   "cell_type": "markdown",
   "metadata": {
    "colab_type": "text",
    "id": "view-in-github"
   },
   "source": [
    "<a href=\"https://colab.research.google.com/github/JSJeong-me/SEMICON-BigData/blob/main/visulaization.ipynb\" target=\"_parent\"><img src=\"https://colab.research.google.com/assets/colab-badge.svg\" alt=\"Open In Colab\"/></a>"
   ]
  },
  {
   "cell_type": "markdown",
   "metadata": {
    "id": "BbpqHbSl1JNn"
   },
   "source": [
    "**Visualization**"
   ]
  },
  {
   "cell_type": "code",
   "execution_count": null,
   "metadata": {
    "id": "t-0rhFyk1H7G"
   },
   "outputs": [],
   "source": [
    "# 데이터 처리 패키지\n",
    "import pandas as pd\n",
    "# 행렬 연산 패키지\n",
    "import numpy as np\n",
    "# 데이터 시각화 패키지\n",
    "import matplotlib\n",
    "import matplotlib.pyplot as plt\n",
    "import seaborn as sns\n",
    "# 경고 메시지 처리\n",
    "import warnings"
   ]
  },
  {
   "cell_type": "code",
   "execution_count": null,
   "metadata": {
    "id": "QusW9OVL1gQR"
   },
   "outputs": [],
   "source": [
    "# 한글설치 (윈도우 버전)\n",
    "matplotlib.rc('font', family=\"Malgun Gothic\")\n",
    "# 음수 표시\n",
    "matplotlib.rc('axes', unicode_minus=False)\n",
    "# 실행결과 경고메시지 출력 제외\n",
    "warnings.filterwarnings('ignore')"
   ]
  },
  {
   "cell_type": "code",
   "execution_count": null,
   "metadata": {
    "id": "0Cen1q2TTW8T"
   },
   "outputs": [],
   "source": [
    "path = \"./data/\""
   ]
  },
  {
   "cell_type": "code",
   "execution_count": null,
   "metadata": {
    "id": "qBlNDAU91rSu"
   },
   "outputs": [],
   "source": [
    "df_fitness = pd.read_csv(path+\"health.csv\", encoding =\"euc-kr\")"
   ]
  },
  {
   "cell_type": "code",
   "execution_count": null,
   "metadata": {
    "id": "nwFLDqU91_Jo"
   },
   "outputs": [],
   "source": []
  },
  {
   "cell_type": "code",
   "execution_count": null,
   "metadata": {
    "id": "tQ1mZ-Ld2BKW"
   },
   "outputs": [],
   "source": [
    "df_currency = pd.read_csv(path+\"exchange.csv\", parse_dates = [\"APPL_DATE\"])"
   ]
  },
  {
   "cell_type": "code",
   "execution_count": null,
   "metadata": {
    "id": "krYMDUJ9UTGg"
   },
   "outputs": [],
   "source": [
    "df_currency.head()"
   ]
  },
  {
   "cell_type": "code",
   "execution_count": null,
   "metadata": {
    "id": "4JtHbYTzUTDX"
   },
   "outputs": [],
   "source": [
    "df_count = df_fitness[\"GENDER\"].value_counts()\n",
    "df_count.plot.bar()"
   ]
  },
  {
   "cell_type": "code",
   "execution_count": null,
   "metadata": {
    "id": "b9CXtpY7US_Z"
   },
   "outputs": [],
   "source": [
    "df_count = df_fitness[\"AGEGROUP\"].value_counts()\n",
    "# sort_index(inplace = True) : 정렬 결과를 저장\n",
    "df_count.sort_index(inplace = True)"
   ]
  },
  {
   "cell_type": "code",
   "execution_count": null,
   "metadata": {
    "id": "IBoX7kJ0US8R"
   },
   "outputs": [],
   "source": [
    "df_count.plot.bar()"
   ]
  },
  {
   "cell_type": "code",
   "execution_count": null,
   "metadata": {
    "id": "xGtTFw3WUS5A"
   },
   "outputs": [],
   "source": [
    "df_groupby_total = df_fitness.groupby([\"GENDER\", \"AGEGROUP\"]).size()\n",
    "df_groupby_total.plot.bar()"
   ]
  },
  {
   "cell_type": "code",
   "execution_count": null,
   "metadata": {
    "id": "Vwm-nU2TUS1-"
   },
   "outputs": [],
   "source": [
    "# 누적 막대 그래프\n",
    "df_groupby_total = df_fitness.groupby([\"GENDER\", \"AGEGROUP\"], as_index = False)['WEIGHT'].agg('count')\n",
    "df_pivot = df_groupby_total.pivot(\"AGEGROUP\", \"GENDER\", \"WEIGHT\")\n",
    "df_pivot.plot(kind = 'barh', stacked = True)"
   ]
  },
  {
   "cell_type": "code",
   "execution_count": null,
   "metadata": {
    "id": "PlFxErGUUSy5"
   },
   "outputs": [],
   "source": [
    "df_pivot_norm = df_pivot.div(df_pivot.sum(1), axis = 0)\n",
    "df_pivot_norm.plot(kind = 'barh', stacked = True)"
   ]
  },
  {
   "cell_type": "code",
   "execution_count": null,
   "metadata": {
    "id": "sf66Oc09USvy"
   },
   "outputs": [],
   "source": [
    "# matplotlib 활용\n",
    "plt.hist(df_fitness[\"OXY\"])"
   ]
  },
  {
   "cell_type": "code",
   "execution_count": null,
   "metadata": {
    "id": "umt_J5-CUSrh"
   },
   "outputs": [],
   "source": [
    "# pandas 활용\n",
    "df_fitness[\"OXY\"].hist()"
   ]
  },
  {
   "cell_type": "code",
   "execution_count": null,
   "metadata": {
    "id": "7AmyiXHsUSg7"
   },
   "outputs": [],
   "source": [
    "# seaborn 활용\n",
    "sns.displot(df_fitness, x = \"OXY\")"
   ]
  },
  {
   "cell_type": "code",
   "execution_count": null,
   "metadata": {
    "id": "dr3CT19iWSUu"
   },
   "outputs": [],
   "source": [
    "sns.histplot(data = df_fitness, x = 'OXY', kde = True)"
   ]
  },
  {
   "cell_type": "code",
   "execution_count": null,
   "metadata": {
    "id": "0mLDuu3zWSRP"
   },
   "outputs": [],
   "source": [
    "# pandas 활용\n",
    "# figsize = (x축 크기, y축 크기)\n",
    "df_fitness.hist(figsize = (10,7))"
   ]
  },
  {
   "cell_type": "code",
   "execution_count": null,
   "metadata": {
    "id": "Bx6ZpLk0WSN5"
   },
   "outputs": [],
   "source": [
    "# matplotlib 활용\n",
    "fig, (ax0, ax1) = plt.subplots(nrows =1, ncols = 2)\n",
    "x1 = df_fitness[df_fitness[\"GENDER\"] == \"남성\"][\"OXY\"]\n",
    "x2 = df_fitness[df_fitness[\"GENDER\"] == \"여성\"][\"OXY\"]\n",
    "ax0.hist(x1, histtype = 'bar', color = 'blue')\n",
    "ax1.hist(x2, histtype = 'bar', color= 'red' )\n",
    "ax0.legend('남성')\n",
    "ax1.legend('여성')\n",
    "plt.show()"
   ]
  },
  {
   "cell_type": "code",
   "execution_count": null,
   "metadata": {
    "id": "uW6aZA0MW-nz"
   },
   "outputs": [],
   "source": [
    "# pandas 활용\n",
    "# hist(column = 변수, by = 그룹변수, range=(최소값, 최대값))-X축 범위 통일\n",
    "df_fitness.hist(column=\"OXY\" , by = \"GENDER\" , range=(35,65))"
   ]
  },
  {
   "cell_type": "code",
   "execution_count": null,
   "metadata": {
    "id": "juobLNr-W-kp"
   },
   "outputs": [],
   "source": [
    "# seaborn 활용. FacetGrid(데이터 지정, col=컬럼 지정)\n",
    "grid = sns.FacetGrid(df_fitness, col=\"GENDER\")\n",
    "# map(함수, 컬럼명)\n",
    "grid.map(sns.histplot, \"OXY\")"
   ]
  },
  {
   "cell_type": "code",
   "execution_count": null,
   "metadata": {
    "id": "SmaG8adKW-hf"
   },
   "outputs": [],
   "source": [
    "# seaborn 활용. FacetGrid(데이터 지정, col=컬럼 지정)\n",
    "grid = sns.FacetGrid(df_fitness, col=\"GENDER\")\n",
    "# 함수로 matplotlib.pyplot 활용\n",
    "grid.map(plt.hist, \"OXY\")"
   ]
  },
  {
   "cell_type": "code",
   "execution_count": null,
   "metadata": {
    "id": "0I665IjfW-eX"
   },
   "outputs": [],
   "source": [
    "# matplotlib 활용 - hist(변수,label=\"표시 값\" , alpha = 투명도(0~1 지정) )\n",
    "plt.hist(df_fitness[df_fitness[\"GENDER\"] == \"남성\"][\"OXY\"],label = \"남성\", alpha = 0.5)\n",
    "plt.hist(df_fitness[df_fitness[\"GENDER\"] == \"여성\"][\"OXY\"],label = \"여성\", alpha = 0.5)\n",
    "plt.legend()"
   ]
  },
  {
   "cell_type": "code",
   "execution_count": null,
   "metadata": {
    "id": "6EgYo1oaW-bA"
   },
   "outputs": [],
   "source": [
    "# seaborn 활용\n",
    "sns.displot(df_fitness, x = 'OXY', hue = 'GENDER')"
   ]
  },
  {
   "cell_type": "code",
   "execution_count": null,
   "metadata": {
    "id": "b8Gn6f07W-XY"
   },
   "outputs": [],
   "source": [
    "# matplotlib 활용\n",
    "# x축 구간(bin) 조정(상세 분포 확인)\n",
    "plt.hist(x = \"OXY\", data = df_fitness, bins = 20)"
   ]
  },
  {
   "cell_type": "code",
   "execution_count": null,
   "metadata": {
    "id": "v_ZxyRkRW-TJ"
   },
   "outputs": [],
   "source": [
    "# pandas 활용\n",
    "df_fitness.boxplot(column=\"OXY\", by = [\"GENDER\", \"AGEGROUP\"])"
   ]
  },
  {
   "cell_type": "code",
   "execution_count": null,
   "metadata": {
    "id": "E4Qcnb62W-Pv"
   },
   "outputs": [],
   "source": [
    "df_count = df_fitness.groupby([\"GENDER\"] ).size()"
   ]
  },
  {
   "cell_type": "code",
   "execution_count": null,
   "metadata": {
    "id": "4xn88He8XzkI"
   },
   "outputs": [],
   "source": [
    "# matplotlib 활용 (데이터, labels=레이블 변수 지정, autopct=비율 %로 표시)\n",
    "plt.pie(df_count, labels = df_count.index, autopct=\"%.1f%%\")"
   ]
  },
  {
   "cell_type": "code",
   "execution_count": null,
   "metadata": {
    "id": "APTmZJORXzgz"
   },
   "outputs": [],
   "source": [
    "# pandas 활용\n",
    "df_count.plot.pie(y = \"OXY\", autopct=\"%.1f%%\")"
   ]
  },
  {
   "cell_type": "code",
   "execution_count": null,
   "metadata": {
    "id": "G10SSaXgXzdp"
   },
   "outputs": [],
   "source": [
    "df_count = df_fitness.groupby([\"GENDER\", \"AGEGROUP\"] ).size()"
   ]
  },
  {
   "cell_type": "code",
   "execution_count": null,
   "metadata": {
    "id": "VMaE4x1kXza5"
   },
   "outputs": [],
   "source": [
    "# matplotlib 활용\n",
    "plt.pie(df_count, labels = df_count.index, autopct=\"%.1f%%\")"
   ]
  },
  {
   "cell_type": "code",
   "execution_count": null,
   "metadata": {
    "id": "SmbEbmKwXzXg"
   },
   "outputs": [],
   "source": [
    "# pandas 활용\n",
    "df_count.plot.pie(y = \"OXY\", autopct=\"%.1f%%\")"
   ]
  },
  {
   "cell_type": "code",
   "execution_count": null,
   "metadata": {
    "id": "AIJIgcpIXzUP"
   },
   "outputs": [],
   "source": [
    "# seaborn 활용\n",
    "# scatterplot( x, y, hue: 그룹 변수, style : 그룹별 marker 구분 , data )\n",
    "sns.scatterplot(x = \"RUNTIME\", y = \"OXY\", hue = \"GENDER\", style= \"GENDER\", data = df_fitness)"
   ]
  },
  {
   "cell_type": "code",
   "execution_count": null,
   "metadata": {
    "id": "voohTP-EXzK5"
   },
   "outputs": [],
   "source": [
    "# 회귀선 포함하여 그리기\n",
    "sns.lmplot(x = \"RUNTIME\", y = \"OXY\", hue = \"GENDER\", data = df_fitness, size = 5)"
   ]
  },
  {
   "cell_type": "code",
   "execution_count": null,
   "metadata": {
    "id": "sW9Sh0VYXzAV"
   },
   "outputs": [],
   "source": [
    "# seaborn 활용\n",
    "# pairplot(데이터): Scatter Plot 그래프 생성\n",
    "sns.pairplot(df_fitness)"
   ]
  },
  {
   "cell_type": "code",
   "execution_count": null,
   "metadata": {
    "id": "m6qs-r9hYrI6"
   },
   "outputs": [],
   "source": [
    "# 성별로 그리기\n",
    "sns.pairplot(df_fitness, hue = \"GENDER\")"
   ]
  },
  {
   "cell_type": "code",
   "execution_count": null,
   "metadata": {
    "id": "bX_O3bXXYrFw"
   },
   "outputs": [],
   "source": [
    "# seaborn 활용\n",
    "# y변수: 혈당산소 요구량, x변수: 맥박(운동), 맥박(최대), 운동시간 Scatter Matrix 생성\n",
    "sns.pairplot(df_fitness , y_vars=[\"OXY\"] , x_vars=[\"RUNPULSE\",\"MAXPULSE\",\"RUNTIME\"])"
   ]
  },
  {
   "cell_type": "code",
   "execution_count": null,
   "metadata": {
    "id": "ByWVR3MQYrBX"
   },
   "outputs": [],
   "source": [
    "sns.pairplot(df_fitness , y_vars=[\"OXY\"] , x_vars=[\"RUNPULSE\",\"MAXPULSE\",\"RUNTIME\"], hue = 'GENDER')"
   ]
  },
  {
   "cell_type": "code",
   "execution_count": null,
   "metadata": {
    "id": "PF-p_wWtYq9h"
   },
   "outputs": [],
   "source": [
    "# pivot 활용하여 각국 통화별 데이터 생성\n",
    "df_currency_pivot = df_currency.pivot(index = \"APPL_DATE\", columns=\"CURRENCY\", values = \"STD_RATE\")\n",
    "df_currency_pivot.head()"
   ]
  },
  {
   "cell_type": "code",
   "execution_count": null,
   "metadata": {
    "id": "lwIWVlO3Yq47"
   },
   "outputs": [],
   "source": [
    "# pandas 활용\n",
    "# 중국 위안화 그래프 그리기\n",
    "df_currency_pivot[\"CNY\"].plot()\n",
    "\n",
    "# 일본 엔화, 미국 달러 그래프 그리기\n",
    "df_currency_pivot[[\"JPY\", \"USD\"]].plot()"
   ]
  },
  {
   "cell_type": "code",
   "execution_count": null,
   "metadata": {
    "id": "aabUTGpYYqu5"
   },
   "outputs": [],
   "source": [
    "# 성별과 연령대별 혈당 산소 요구량 평균 계산, groupby: (성별, 연령), agg(\"mean\")\n",
    "df_agg = df_fitness.groupby([\"GENDER\", \"AGEGROUP\"], as_index = False).agg(\"mean\")\n",
    "# pivot(성별, 연령대, 혈당 산소 요구량): x축(연령대), y축(성별), 값(혈당산소요구량의 평균)으로 pivot\n",
    "df_pivot = df_agg.pivot(\"GENDER\", \"AGEGROUP\", \"OXY\")"
   ]
  },
  {
   "cell_type": "code",
   "execution_count": null,
   "metadata": {
    "id": "tDRqNA6rZUMW"
   },
   "outputs": [],
   "source": [
    "# seaborn 활용 : heatmap(데이터, cmap: 색상)\n",
    "sns.heatmap(df_pivot, annot = True, cmap=\"Blues\")"
   ]
  },
  {
   "cell_type": "code",
   "execution_count": null,
   "metadata": {
    "id": "TNOLeczdZUIm"
   },
   "outputs": [],
   "source": [
    "# seaborn 활용\n",
    "df_cor = df_fitness.corr(method = 'pearson')\n",
    "sns.heatmap(df_cor, annot = True, cmap=\"Blues\")"
   ]
  },
  {
   "cell_type": "code",
   "execution_count": null,
   "metadata": {
    "id": "zfadNTFbZUFO"
   },
   "outputs": [],
   "source": [
    "# seaborn 활용 : kdeplot( x축, y축 , shade: 음영 선택 여부)\n",
    "sns.kdeplot(df_fitness[\"RUNTIME\"], df_fitness[\"OXY\"], shade = False)"
   ]
  },
  {
   "cell_type": "code",
   "execution_count": null,
   "metadata": {
    "id": "-p8yLTABZUCO"
   },
   "outputs": [],
   "source": [
    "# pandas 활용\n",
    "# parallel_coordinates(데이터, 그룹 변수, cols = 변수, colormap= 다양한 colormap지정)\n",
    "pd.plotting.parallel_coordinates(df_fitness,\"GENDER\", cols=[\"OXY\", \"WEIGHT\", \"RSTPULSE\"], colormap=\"Accent\")"
   ]
  },
  {
   "cell_type": "code",
   "execution_count": null,
   "metadata": {},
   "outputs": [],
   "source": []
  }
 ],
 "metadata": {
  "colab": {
   "authorship_tag": "ABX9TyNcHwqYk7A7RbXn4a6UnsdQ",
   "include_colab_link": true,
   "name": "Untitled3.ipynb",
   "provenance": []
  },
  "kernelspec": {
   "display_name": "Python 3",
   "language": "python",
   "name": "python3"
  },
  "language_info": {
   "codemirror_mode": {
    "name": "ipython",
    "version": 3
   },
   "file_extension": ".py",
   "mimetype": "text/x-python",
   "name": "python",
   "nbconvert_exporter": "python",
   "pygments_lexer": "ipython3",
   "version": "3.7.10"
  }
 },
 "nbformat": 4,
 "nbformat_minor": 1
}
