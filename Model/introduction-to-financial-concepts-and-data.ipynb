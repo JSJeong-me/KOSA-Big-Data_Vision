{
 "cells": [
  {
   "cell_type": "markdown",
   "id": "inclusive-retention",
   "metadata": {
    "_cell_guid": "b1076dfc-b9ad-4769-8c92-a6c4dae69d19",
    "_uuid": "8f2839f25d086af736a60e9eeb907d3b93b6e0e5",
    "papermill": {
     "duration": 0.035421,
     "end_time": "2021-07-01T09:53:03.120097",
     "exception": false,
     "start_time": "2021-07-01T09:53:03.084676",
     "status": "completed"
    },
    "tags": []
   },
   "source": [
    "#### A glimpse of our trading floor"
   ]
  },
  {
   "cell_type": "markdown",
   "id": "naked-litigation",
   "metadata": {
    "papermill": {
     "duration": 0.032703,
     "end_time": "2021-07-01T09:53:03.186412",
     "exception": false,
     "start_time": "2021-07-01T09:53:03.153709",
     "status": "completed"
    },
    "tags": []
   },
   "source": [
    "![work_at_optiver](https://www.optiver.com/wp-content/uploads/2020/11/WorkingAtOptiver_Hero.jpg)"
   ]
  },
  {
   "cell_type": "markdown",
   "id": "compatible-caution",
   "metadata": {
    "papermill": {
     "duration": 0.032644,
     "end_time": "2021-07-01T09:53:03.251782",
     "exception": false,
     "start_time": "2021-07-01T09:53:03.219138",
     "status": "completed"
    },
    "tags": []
   },
   "source": [
    "# Optiver Realized Volatility Prediction"
   ]
  },
  {
   "cell_type": "markdown",
   "id": "widespread-wayne",
   "metadata": {
    "papermill": {
     "duration": 0.032934,
     "end_time": "2021-07-01T09:53:03.317669",
     "exception": false,
     "start_time": "2021-07-01T09:53:03.284735",
     "status": "completed"
    },
    "tags": []
   },
   "source": [
    "# Introduction\n",
    "In order to make Kagglers better prepared for this competition, Optiver's data scientists have created a tutorial notebook looping through some financial concepts covered in this particular trading challenge. Also, the data structure and the example code submission will also be presented in this notebook. "
   ]
  },
  {
   "cell_type": "markdown",
   "id": "pacific-phase",
   "metadata": {
    "papermill": {
     "duration": 0.033493,
     "end_time": "2021-07-01T09:53:03.384081",
     "exception": false,
     "start_time": "2021-07-01T09:53:03.350588",
     "status": "completed"
    },
    "tags": []
   },
   "source": [
    "# Order book\n",
    "The term order book refers to an electronic list of buy and sell orders for a specific security or financial instrument organized by price level. An order book lists the number of shares being bid on or offered at each price point.\n",
    "\n",
    "Below is a snapshot of an order book of a stock (let's call it stock A), as you can see, all intended buy orders are on the left side of the book displayed as \"bid\" while all intended sell orders are on the right side of the book displayed as \"offer/ask\"\n"
   ]
  },
  {
   "cell_type": "markdown",
   "id": "accessible-custom",
   "metadata": {
    "papermill": {
     "duration": 0.032913,
     "end_time": "2021-07-01T09:53:03.449973",
     "exception": false,
     "start_time": "2021-07-01T09:53:03.417060",
     "status": "completed"
    },
    "tags": []
   },
   "source": [
    "![order_book_1](https://www.optiver.com/wp-content/uploads/2021/05/OrderBook3.png)\n",
    "\n",
    "An actively traded financial instrument always has a dense order book (A liquid book). As the order book data is a continous representation of market demand/supply it is always considered as the number one data source for market research. "
   ]
  },
  {
   "cell_type": "markdown",
   "id": "guided-chinese",
   "metadata": {
    "papermill": {
     "duration": 0.032973,
     "end_time": "2021-07-01T09:53:03.515699",
     "exception": false,
     "start_time": "2021-07-01T09:53:03.482726",
     "status": "completed"
    },
    "tags": []
   },
   "source": [
    "# Trade\n",
    "An order book is a representation of trading intention on the market, however the market needs a buyer and seller at the **same** price to make the trade happen. Therefore, sometimes when someone wants to do a trade in a stock, they check the order book and find someone with counter-interest to trade with. \n",
    "\n",
    "For example, imagine you want to buy 20 shares of a stock A when you have the order book in the previous paragraph. Then you need to find some people who are willing to trade against you by selling 20 shares or more in total. You check the **offer** side of the book starting from the lowest price: there are 221 shares of selling interest on the level of 148. You can **lift** 20 shares for a price of 148 and **guarantee** your execution. This will be the resulting order book of stock A after your trade:"
   ]
  },
  {
   "cell_type": "markdown",
   "id": "practical-feeling",
   "metadata": {
    "papermill": {
     "duration": 0.03325,
     "end_time": "2021-07-01T09:53:03.582727",
     "exception": false,
     "start_time": "2021-07-01T09:53:03.549477",
     "status": "completed"
    },
    "tags": []
   },
   "source": [
    "![order_book2](https://www.optiver.com/wp-content/uploads/2021/05/OrderBook4.png)\n",
    "\n",
    "In this case, the seller(s) sold 20 shares and buyer bought 20 shares, the exchange will match the order between seller(s) and buyer and one trade message will be broadcast to public:\n",
    "\n",
    "- 20 shares of stock A traded on the market at price of 148."
   ]
  },
  {
   "cell_type": "markdown",
   "id": "worst-singer",
   "metadata": {
    "papermill": {
     "duration": 0.032753,
     "end_time": "2021-07-01T09:53:03.648428",
     "exception": false,
     "start_time": "2021-07-01T09:53:03.615675",
     "status": "completed"
    },
    "tags": []
   },
   "source": [
    "Similar to order book data, trade data is also extremely crucial to Optiver's data scientists, as it reflects how active the market is. Actually, some commonly seen technical signals of the financial market are derived from trade data directly, such as high-low or total traded volume."
   ]
  },
  {
   "cell_type": "markdown",
   "id": "fifty-worth",
   "metadata": {
    "papermill": {
     "duration": 0.032506,
     "end_time": "2021-07-01T09:53:03.713921",
     "exception": false,
     "start_time": "2021-07-01T09:53:03.681415",
     "status": "completed"
    },
    "tags": []
   },
   "source": [
    "# Market making and market efficiency\n",
    "Imagine, on another day, stock A's order book becomes below shape, and you, again, want to buy 20 shares from all the intentional sellers. As you can see the book is not as dense as the previous one, and one can say, compared with the previous one, this book is **less liquid**."
   ]
  },
  {
   "cell_type": "markdown",
   "id": "behavioral-fairy",
   "metadata": {
    "papermill": {
     "duration": 0.033072,
     "end_time": "2021-07-01T09:53:03.779859",
     "exception": false,
     "start_time": "2021-07-01T09:53:03.746787",
     "status": "completed"
    },
    "tags": []
   },
   "source": [
    "![order_book_3](https://www.optiver.com/wp-content/uploads/2021/05/OrderBook5.png)"
   ]
  },
  {
   "cell_type": "markdown",
   "id": "editorial-mission",
   "metadata": {
    "papermill": {
     "duration": 0.032669,
     "end_time": "2021-07-01T09:53:03.845553",
     "exception": false,
     "start_time": "2021-07-01T09:53:03.812884",
     "status": "completed"
    },
    "tags": []
   },
   "source": [
    "You could insert an order to buy at 148. However, there is nobody currently willing to sell to you at 148, so your order will be sitting in the book, waiting for someone to trade against it. If you get unlucky, the price goes up, and others start bidding at 149, and you never get to buy at all. Alternatively, you could insert an order to buy at 155. The exchange would match this order against the outstanding sell order of one share at 149, so you buy 1 lot at 149. Similarly, you'd buy 12 shares at a price of 150, and 7 shares at 151. Compared to trying to buy at 148, there is no risk of not getting the trade that you wanted, but you do end up buying at a higher price."
   ]
  },
  {
   "cell_type": "markdown",
   "id": "alpha-watch",
   "metadata": {
    "papermill": {
     "duration": 0.032575,
     "end_time": "2021-07-01T09:53:03.911169",
     "exception": false,
     "start_time": "2021-07-01T09:53:03.878594",
     "status": "completed"
    },
    "tags": []
   },
   "source": [
    "You can see that in such an inefficient market it is difficult to trade, as trading will be more expensive, and if you want quality execution of your orders, you need to deal with higher market risk. That is why investors love liquidity, and market makers like Optiver are there to provide it, no matter how extreme market conditions are."
   ]
  },
  {
   "cell_type": "markdown",
   "id": "understanding-villa",
   "metadata": {
    "papermill": {
     "duration": 0.033119,
     "end_time": "2021-07-01T09:53:03.977152",
     "exception": false,
     "start_time": "2021-07-01T09:53:03.944033",
     "status": "completed"
    },
    "tags": []
   },
   "source": [
    "A market maker is a firm or individual who actively quotes two-sided markets in a security, providing bids and offers (known as asks) along with the market size of each. As a market maker will show both bid and offer orders, an order book with the presence of market maker will be more liquid, therefore a more efficient market will be provided to end investors to trade freely without concern on executions."
   ]
  },
  {
   "cell_type": "markdown",
   "id": "independent-platinum",
   "metadata": {
    "papermill": {
     "duration": 0.044277,
     "end_time": "2021-07-01T09:53:04.060328",
     "exception": false,
     "start_time": "2021-07-01T09:53:04.016051",
     "status": "completed"
    },
    "tags": []
   },
   "source": [
    "# Order book statistics\n",
    "There are a lot of statistics Optiver data scientist can derive from raw order book data to reflect market liquidity and stock valuation. These stats are proven to be fundamental inputs of any market prediction algorithms. Below we would like to list some common stats to inspire Kagglers mining more valuable signals from the order book data.\n",
    "\n",
    "Let's come back to the original order book of stock A"
   ]
  },
  {
   "cell_type": "markdown",
   "id": "responsible-suicide",
   "metadata": {
    "papermill": {
     "duration": 0.041758,
     "end_time": "2021-07-01T09:53:04.150075",
     "exception": false,
     "start_time": "2021-07-01T09:53:04.108317",
     "status": "completed"
    },
    "tags": []
   },
   "source": [
    "![order_book_1](https://www.optiver.com/wp-content/uploads/2021/05/OrderBook3.png)"
   ]
  },
  {
   "cell_type": "markdown",
   "id": "precious-complaint",
   "metadata": {
    "papermill": {
     "duration": 0.032477,
     "end_time": "2021-07-01T09:53:04.215341",
     "exception": false,
     "start_time": "2021-07-01T09:53:04.182864",
     "status": "completed"
    },
    "tags": []
   },
   "source": [
    "**bid/ask spread**\n",
    "\n",
    "As different stocks trade on different level on the market we take the ratio of best offer price and best bid price to calculate the bid-ask spread. \n",
    "\n",
    "The formula of bid/ask spread can be written in below form:\n",
    "$$BidAskSpread = BestOffer/BestBid -1$$"
   ]
  },
  {
   "cell_type": "markdown",
   "id": "strong-cache",
   "metadata": {
    "papermill": {
     "duration": 0.032739,
     "end_time": "2021-07-01T09:53:04.281010",
     "exception": false,
     "start_time": "2021-07-01T09:53:04.248271",
     "status": "completed"
    },
    "tags": []
   },
   "source": [
    "**Weighted averaged price**\n",
    "\n",
    "The order book is also one of the primary source for stock valuation. A fair book-based valuation must take two factors into account: the level and the size of orders. In this competition we used weighted averaged price, or WAP, to calculate the instantaneous stock valuation and calculate realized volatility as our target. \n",
    "\n",
    "The formula of WAP can be written as below, which takes the top level price and volume information into account:\n",
    "\n",
    "$$ WAP = \\frac{BidPrice_{1}*AskSize_{1} + AskPrice_{1}*BidSize_{1}}{BidSize_{1} + AskSize_{1}} $$\n",
    "\n",
    "As you can see, if two books have both bid and ask offers on the same price level respectively, the one with more offers in place will generate a lower stock valuation, as there are more intended seller in the book, and more seller implies a fact of more supply on the market resulting in a lower stock valuation.\n",
    "\n",
    "Note that in most of cases, during the continuous trading hours, an order book should not have the scenario when bid order is higher than the offer, or ask, order. In another word, most likely, the bid and ask should never be **in cross.**\n",
    "\n",
    "In this competition the target is constructed from the WAP. The WAP of the order book snapshot is 147.5317797."
   ]
  },
  {
   "cell_type": "markdown",
   "id": "incorporate-fireplace",
   "metadata": {
    "papermill": {
     "duration": 0.033099,
     "end_time": "2021-07-01T09:53:04.347677",
     "exception": false,
     "start_time": "2021-07-01T09:53:04.314578",
     "status": "completed"
    },
    "tags": []
   },
   "source": [
    "# Log returns\n",
    "\n",
    "**How can we compare the price of a stock between yesterday and today?**\n",
    "\n",
    "The easiest method would be to just take the difference. This is definitely the most intuitive way, however **price differences** are not always comparable across stocks. For example, let's assume that we have invested $\\$$1000 dollars in both stock A and stock B and that stock A moves from $\\$$100 to $\\$$102 and stock B moves from $\\$$10 to $\\$$11. We had a total of 10 shares of A ($\\$1000 \\ / \\ \\$100 = 10$) which led to a profit of $10 \\cdot (\\$102 - \\$100) = \\$20$ and a total of 100 shares of B that yielded \\$100. So the price increase was larger for stock **A**, although the move was proportionally much larger for stock B.\n",
    "\n",
    "We can solve the above problem by dividing the move by the starting price of the stock, effectively computing the percentage change in price, also known as the **stock return**. In our example, the return for stock A was $\\frac{\\$102 - \\$100 }{\\$100} = 2\\%$, while for stock B it was $\\frac{\\$11 - \\$10 }{\\$10} = 10\\%$. The stock return coincides with the percentage change in our invested capital.\n",
    "\n",
    "Returns are widely used in finance, however **log returns** are preferred whenever some mathematical modelling is required. Calling $S_t$ the price of the stock $S$ at time $t$, we can define the log return between $t_1$ and $t_2$ as:\n",
    "$$\n",
    "r_{t_1, t_2} = \\log \\left( \\frac{S_{t_2}}{S_{t_1}} \\right)\n",
    "$$\n",
    "Usually, we look at log returns over fixed time intervals, so with 10-minute log return we mean $r_t = r_{t - 10 min, t}$.\n",
    "\n",
    "Log returns present several advantages, for example:\n",
    "- they are additive across time $r_{t_1, t_2} + r_{t_2, t_3} = r_{t_1, t_3}$\n",
    "- regular returns cannot go below -100%, while log returns are not bounded"
   ]
  },
  {
   "cell_type": "markdown",
   "id": "conditional-feeding",
   "metadata": {
    "papermill": {
     "duration": 0.034164,
     "end_time": "2021-07-01T09:53:04.415346",
     "exception": false,
     "start_time": "2021-07-01T09:53:04.381182",
     "status": "completed"
    },
    "tags": []
   },
   "source": [
    "# Realized volatility\n",
    "When we trade options, a valuable input to our models is the standard deviation of the stock log returns. The standard deviation will be different for log returns computed over longer or shorter intervals, for this reason it is usually normalized to a 1-year period and the annualized standard deviation is called **volatility**. \n",
    "\n",
    "In this competition, you will be given 10 minutes of book data and we ask you to predict what the volatility will be in the following 10 minutes. Volatility will be measured as follows:\n",
    "\n",
    "We will compute the log returns over all consecutive book updates and we define the **realized volatility, $\\sigma$,** as the squared root of the sum of squared log returns.\n",
    "$$\n",
    "\\sigma = \\sqrt{\\sum_{t}r_{t-1, t}^2}\n",
    "$$\n",
    "Where we use **WAP** as price of the stock to compute log returns.\n",
    "\n",
    "We want to keep definitions as simple and clear as possible, so that Kagglers without financial knowledge will not be penalized. So we are not annualizing the volatility and we are assuming that log returns have 0 mean."
   ]
  },
  {
   "cell_type": "markdown",
   "id": "scenic-disorder",
   "metadata": {
    "papermill": {
     "duration": 0.032593,
     "end_time": "2021-07-01T09:53:04.481127",
     "exception": false,
     "start_time": "2021-07-01T09:53:04.448534",
     "status": "completed"
    },
    "tags": []
   },
   "source": [
    "# Competition data\n",
    "In this competition, Kagglers are challenged to generate a series of short-term signals from the book and trade data of a fixed 10-minute window to predict the realized volatility of the next 10-minute window. The target, which is given in train/test.csv, can be linked with the raw order book/trade data by the same **time_id** and **stock_id**. There is no overlap between the feature and target window."
   ]
  },
  {
   "cell_type": "markdown",
   "id": "supported-effort",
   "metadata": {
    "papermill": {
     "duration": 0.032592,
     "end_time": "2021-07-01T09:53:04.546453",
     "exception": false,
     "start_time": "2021-07-01T09:53:04.513861",
     "status": "completed"
    },
    "tags": []
   },
   "source": [
    "Note that the competition data will come with partitioned parquet file. You can find a tutorial of parquet file handling in this [notebook](https://www.kaggle.com/sohier/working-with-parquet)"
   ]
  },
  {
   "cell_type": "code",
   "execution_count": 1,
   "id": "controversial-lending",
   "metadata": {
    "execution": {
     "iopub.execute_input": "2021-07-01T09:53:04.627393Z",
     "iopub.status.busy": "2021-07-01T09:53:04.626729Z",
     "iopub.status.idle": "2021-07-01T09:53:06.447238Z",
     "shell.execute_reply": "2021-07-01T09:53:06.446568Z",
     "shell.execute_reply.started": "2021-06-25T12:16:46.196003Z"
    },
    "papermill": {
     "duration": 1.865951,
     "end_time": "2021-07-01T09:53:06.447406",
     "exception": false,
     "start_time": "2021-07-01T09:53:04.581455",
     "status": "completed"
    },
    "tags": []
   },
   "outputs": [
    {
     "data": {
      "text/html": [
       "<div>\n",
       "<style scoped>\n",
       "    .dataframe tbody tr th:only-of-type {\n",
       "        vertical-align: middle;\n",
       "    }\n",
       "\n",
       "    .dataframe tbody tr th {\n",
       "        vertical-align: top;\n",
       "    }\n",
       "\n",
       "    .dataframe thead th {\n",
       "        text-align: right;\n",
       "    }\n",
       "</style>\n",
       "<table border=\"1\" class=\"dataframe\">\n",
       "  <thead>\n",
       "    <tr style=\"text-align: right;\">\n",
       "      <th></th>\n",
       "      <th>stock_id</th>\n",
       "      <th>time_id</th>\n",
       "      <th>target</th>\n",
       "    </tr>\n",
       "  </thead>\n",
       "  <tbody>\n",
       "    <tr>\n",
       "      <th>0</th>\n",
       "      <td>0</td>\n",
       "      <td>5</td>\n",
       "      <td>0.004136</td>\n",
       "    </tr>\n",
       "    <tr>\n",
       "      <th>1</th>\n",
       "      <td>0</td>\n",
       "      <td>11</td>\n",
       "      <td>0.001445</td>\n",
       "    </tr>\n",
       "    <tr>\n",
       "      <th>2</th>\n",
       "      <td>0</td>\n",
       "      <td>16</td>\n",
       "      <td>0.002168</td>\n",
       "    </tr>\n",
       "    <tr>\n",
       "      <th>3</th>\n",
       "      <td>0</td>\n",
       "      <td>31</td>\n",
       "      <td>0.002195</td>\n",
       "    </tr>\n",
       "    <tr>\n",
       "      <th>4</th>\n",
       "      <td>0</td>\n",
       "      <td>62</td>\n",
       "      <td>0.001747</td>\n",
       "    </tr>\n",
       "  </tbody>\n",
       "</table>\n",
       "</div>"
      ],
      "text/plain": [
       "   stock_id  time_id    target\n",
       "0         0        5  0.004136\n",
       "1         0       11  0.001445\n",
       "2         0       16  0.002168\n",
       "3         0       31  0.002195\n",
       "4         0       62  0.001747"
      ]
     },
     "execution_count": 1,
     "metadata": {},
     "output_type": "execute_result"
    }
   ],
   "source": [
    "import pandas as pd\n",
    "import numpy as np\n",
    "import plotly.express as px\n",
    "train = pd.read_csv('../input/optiver-realized-volatility-prediction/train.csv')\n",
    "train.head()"
   ]
  },
  {
   "cell_type": "markdown",
   "id": "choice-casino",
   "metadata": {
    "papermill": {
     "duration": 0.032851,
     "end_time": "2021-07-01T09:53:06.514247",
     "exception": false,
     "start_time": "2021-07-01T09:53:06.481396",
     "status": "completed"
    },
    "tags": []
   },
   "source": [
    "Taking the first row of data, it implies that the realized vol of the **target bucket** for time_id 5, stock_id 0 is 0.004136. How does the book and trade data in **feature bucket** look like for us to build signals?"
   ]
  },
  {
   "cell_type": "code",
   "execution_count": 2,
   "id": "hawaiian-central",
   "metadata": {
    "execution": {
     "iopub.execute_input": "2021-07-01T09:53:06.588128Z",
     "iopub.status.busy": "2021-07-01T09:53:06.587467Z",
     "iopub.status.idle": "2021-07-01T09:53:07.133056Z",
     "shell.execute_reply": "2021-07-01T09:53:07.132358Z",
     "shell.execute_reply.started": "2021-06-25T12:16:50.514371Z"
    },
    "papermill": {
     "duration": 0.584657,
     "end_time": "2021-07-01T09:53:07.133221",
     "exception": false,
     "start_time": "2021-07-01T09:53:06.548564",
     "status": "completed"
    },
    "tags": []
   },
   "outputs": [],
   "source": [
    "book_example = pd.read_parquet('../input/optiver-realized-volatility-prediction/book_train.parquet/stock_id=0')\n",
    "trade_example =  pd.read_parquet('../input/optiver-realized-volatility-prediction/trade_train.parquet/stock_id=0')\n",
    "stock_id = '0'\n",
    "book_example = book_example[book_example['time_id']==5]\n",
    "book_example.loc[:,'stock_id'] = stock_id\n",
    "trade_example = trade_example[trade_example['time_id']==5]\n",
    "trade_example.loc[:,'stock_id'] = stock_id"
   ]
  },
  {
   "cell_type": "markdown",
   "id": "assumed-arrival",
   "metadata": {
    "papermill": {
     "duration": 0.033189,
     "end_time": "2021-07-01T09:53:07.199700",
     "exception": false,
     "start_time": "2021-07-01T09:53:07.166511",
     "status": "completed"
    },
    "tags": []
   },
   "source": [
    "**book data snapshot**"
   ]
  },
  {
   "cell_type": "code",
   "execution_count": 3,
   "id": "later-thing",
   "metadata": {
    "execution": {
     "iopub.execute_input": "2021-07-01T09:53:07.270453Z",
     "iopub.status.busy": "2021-07-01T09:53:07.269808Z",
     "iopub.status.idle": "2021-07-01T09:53:07.286554Z",
     "shell.execute_reply": "2021-07-01T09:53:07.285888Z",
     "shell.execute_reply.started": "2021-06-22T17:05:57.255543Z"
    },
    "papermill": {
     "duration": 0.052862,
     "end_time": "2021-07-01T09:53:07.286700",
     "exception": false,
     "start_time": "2021-07-01T09:53:07.233838",
     "status": "completed"
    },
    "tags": []
   },
   "outputs": [
    {
     "data": {
      "text/html": [
       "<div>\n",
       "<style scoped>\n",
       "    .dataframe tbody tr th:only-of-type {\n",
       "        vertical-align: middle;\n",
       "    }\n",
       "\n",
       "    .dataframe tbody tr th {\n",
       "        vertical-align: top;\n",
       "    }\n",
       "\n",
       "    .dataframe thead th {\n",
       "        text-align: right;\n",
       "    }\n",
       "</style>\n",
       "<table border=\"1\" class=\"dataframe\">\n",
       "  <thead>\n",
       "    <tr style=\"text-align: right;\">\n",
       "      <th></th>\n",
       "      <th>time_id</th>\n",
       "      <th>seconds_in_bucket</th>\n",
       "      <th>bid_price1</th>\n",
       "      <th>ask_price1</th>\n",
       "      <th>bid_price2</th>\n",
       "      <th>ask_price2</th>\n",
       "      <th>bid_size1</th>\n",
       "      <th>ask_size1</th>\n",
       "      <th>bid_size2</th>\n",
       "      <th>ask_size2</th>\n",
       "      <th>stock_id</th>\n",
       "    </tr>\n",
       "  </thead>\n",
       "  <tbody>\n",
       "    <tr>\n",
       "      <th>0</th>\n",
       "      <td>5</td>\n",
       "      <td>0</td>\n",
       "      <td>1.001422</td>\n",
       "      <td>1.002301</td>\n",
       "      <td>1.00137</td>\n",
       "      <td>1.002353</td>\n",
       "      <td>3</td>\n",
       "      <td>226</td>\n",
       "      <td>2</td>\n",
       "      <td>100</td>\n",
       "      <td>0</td>\n",
       "    </tr>\n",
       "    <tr>\n",
       "      <th>1</th>\n",
       "      <td>5</td>\n",
       "      <td>1</td>\n",
       "      <td>1.001422</td>\n",
       "      <td>1.002301</td>\n",
       "      <td>1.00137</td>\n",
       "      <td>1.002353</td>\n",
       "      <td>3</td>\n",
       "      <td>100</td>\n",
       "      <td>2</td>\n",
       "      <td>100</td>\n",
       "      <td>0</td>\n",
       "    </tr>\n",
       "    <tr>\n",
       "      <th>2</th>\n",
       "      <td>5</td>\n",
       "      <td>5</td>\n",
       "      <td>1.001422</td>\n",
       "      <td>1.002301</td>\n",
       "      <td>1.00137</td>\n",
       "      <td>1.002405</td>\n",
       "      <td>3</td>\n",
       "      <td>100</td>\n",
       "      <td>2</td>\n",
       "      <td>100</td>\n",
       "      <td>0</td>\n",
       "    </tr>\n",
       "    <tr>\n",
       "      <th>3</th>\n",
       "      <td>5</td>\n",
       "      <td>6</td>\n",
       "      <td>1.001422</td>\n",
       "      <td>1.002301</td>\n",
       "      <td>1.00137</td>\n",
       "      <td>1.002405</td>\n",
       "      <td>3</td>\n",
       "      <td>126</td>\n",
       "      <td>2</td>\n",
       "      <td>100</td>\n",
       "      <td>0</td>\n",
       "    </tr>\n",
       "    <tr>\n",
       "      <th>4</th>\n",
       "      <td>5</td>\n",
       "      <td>7</td>\n",
       "      <td>1.001422</td>\n",
       "      <td>1.002301</td>\n",
       "      <td>1.00137</td>\n",
       "      <td>1.002405</td>\n",
       "      <td>3</td>\n",
       "      <td>126</td>\n",
       "      <td>2</td>\n",
       "      <td>100</td>\n",
       "      <td>0</td>\n",
       "    </tr>\n",
       "  </tbody>\n",
       "</table>\n",
       "</div>"
      ],
      "text/plain": [
       "   time_id  seconds_in_bucket  bid_price1  ask_price1  bid_price2  ask_price2  \\\n",
       "0        5                  0    1.001422    1.002301     1.00137    1.002353   \n",
       "1        5                  1    1.001422    1.002301     1.00137    1.002353   \n",
       "2        5                  5    1.001422    1.002301     1.00137    1.002405   \n",
       "3        5                  6    1.001422    1.002301     1.00137    1.002405   \n",
       "4        5                  7    1.001422    1.002301     1.00137    1.002405   \n",
       "\n",
       "   bid_size1  ask_size1  bid_size2  ask_size2 stock_id  \n",
       "0          3        226          2        100        0  \n",
       "1          3        100          2        100        0  \n",
       "2          3        100          2        100        0  \n",
       "3          3        126          2        100        0  \n",
       "4          3        126          2        100        0  "
      ]
     },
     "execution_count": 3,
     "metadata": {},
     "output_type": "execute_result"
    }
   ],
   "source": [
    "book_example.head()"
   ]
  },
  {
   "cell_type": "markdown",
   "id": "yellow-acceptance",
   "metadata": {
    "papermill": {
     "duration": 0.033754,
     "end_time": "2021-07-01T09:53:07.354233",
     "exception": false,
     "start_time": "2021-07-01T09:53:07.320479",
     "status": "completed"
    },
    "tags": []
   },
   "source": [
    "**trade date snapshot**"
   ]
  },
  {
   "cell_type": "code",
   "execution_count": 4,
   "id": "productive-frame",
   "metadata": {
    "execution": {
     "iopub.execute_input": "2021-07-01T09:53:07.426267Z",
     "iopub.status.busy": "2021-07-01T09:53:07.425279Z",
     "iopub.status.idle": "2021-07-01T09:53:07.438549Z",
     "shell.execute_reply": "2021-07-01T09:53:07.439110Z",
     "shell.execute_reply.started": "2021-06-22T17:05:58.726886Z"
    },
    "papermill": {
     "duration": 0.051187,
     "end_time": "2021-07-01T09:53:07.439325",
     "exception": false,
     "start_time": "2021-07-01T09:53:07.388138",
     "status": "completed"
    },
    "tags": []
   },
   "outputs": [
    {
     "data": {
      "text/html": [
       "<div>\n",
       "<style scoped>\n",
       "    .dataframe tbody tr th:only-of-type {\n",
       "        vertical-align: middle;\n",
       "    }\n",
       "\n",
       "    .dataframe tbody tr th {\n",
       "        vertical-align: top;\n",
       "    }\n",
       "\n",
       "    .dataframe thead th {\n",
       "        text-align: right;\n",
       "    }\n",
       "</style>\n",
       "<table border=\"1\" class=\"dataframe\">\n",
       "  <thead>\n",
       "    <tr style=\"text-align: right;\">\n",
       "      <th></th>\n",
       "      <th>time_id</th>\n",
       "      <th>seconds_in_bucket</th>\n",
       "      <th>price</th>\n",
       "      <th>size</th>\n",
       "      <th>order_count</th>\n",
       "      <th>stock_id</th>\n",
       "    </tr>\n",
       "  </thead>\n",
       "  <tbody>\n",
       "    <tr>\n",
       "      <th>0</th>\n",
       "      <td>5</td>\n",
       "      <td>21</td>\n",
       "      <td>1.002301</td>\n",
       "      <td>326</td>\n",
       "      <td>12</td>\n",
       "      <td>0</td>\n",
       "    </tr>\n",
       "    <tr>\n",
       "      <th>1</th>\n",
       "      <td>5</td>\n",
       "      <td>46</td>\n",
       "      <td>1.002778</td>\n",
       "      <td>128</td>\n",
       "      <td>4</td>\n",
       "      <td>0</td>\n",
       "    </tr>\n",
       "    <tr>\n",
       "      <th>2</th>\n",
       "      <td>5</td>\n",
       "      <td>50</td>\n",
       "      <td>1.002818</td>\n",
       "      <td>55</td>\n",
       "      <td>1</td>\n",
       "      <td>0</td>\n",
       "    </tr>\n",
       "    <tr>\n",
       "      <th>3</th>\n",
       "      <td>5</td>\n",
       "      <td>57</td>\n",
       "      <td>1.003155</td>\n",
       "      <td>121</td>\n",
       "      <td>5</td>\n",
       "      <td>0</td>\n",
       "    </tr>\n",
       "    <tr>\n",
       "      <th>4</th>\n",
       "      <td>5</td>\n",
       "      <td>68</td>\n",
       "      <td>1.003646</td>\n",
       "      <td>4</td>\n",
       "      <td>1</td>\n",
       "      <td>0</td>\n",
       "    </tr>\n",
       "  </tbody>\n",
       "</table>\n",
       "</div>"
      ],
      "text/plain": [
       "   time_id  seconds_in_bucket     price  size  order_count stock_id\n",
       "0        5                 21  1.002301   326           12        0\n",
       "1        5                 46  1.002778   128            4        0\n",
       "2        5                 50  1.002818    55            1        0\n",
       "3        5                 57  1.003155   121            5        0\n",
       "4        5                 68  1.003646     4            1        0"
      ]
     },
     "execution_count": 4,
     "metadata": {},
     "output_type": "execute_result"
    }
   ],
   "source": [
    "trade_example.head()"
   ]
  },
  {
   "cell_type": "markdown",
   "id": "leading-notice",
   "metadata": {
    "papermill": {
     "duration": 0.034491,
     "end_time": "2021-07-01T09:53:07.511867",
     "exception": false,
     "start_time": "2021-07-01T09:53:07.477376",
     "status": "completed"
    },
    "tags": []
   },
   "source": [
    "**Realized volatility calculation in python**"
   ]
  },
  {
   "cell_type": "markdown",
   "id": "certain-scope",
   "metadata": {
    "papermill": {
     "duration": 0.033739,
     "end_time": "2021-07-01T09:53:07.579673",
     "exception": false,
     "start_time": "2021-07-01T09:53:07.545934",
     "status": "completed"
    },
    "tags": []
   },
   "source": [
    "In this competition, our target is to predict short-term realized volatility. Although the order book and trade data for the target cannot be shared, we can still present the realized volatility calculation using the feature data we provided. \n",
    "\n",
    "As realized volatility is a statistical measure of price changes on a given stock, to calculate the price change we first need to have a stock valuation at the fixed interval (1 second). We will use weighted averaged price, or WAP, of the order book data we provided."
   ]
  },
  {
   "cell_type": "code",
   "execution_count": 5,
   "id": "outdoor-lounge",
   "metadata": {
    "execution": {
     "iopub.execute_input": "2021-07-01T09:53:07.652283Z",
     "iopub.status.busy": "2021-07-01T09:53:07.651237Z",
     "iopub.status.idle": "2021-07-01T09:53:07.661045Z",
     "shell.execute_reply": "2021-07-01T09:53:07.661564Z",
     "shell.execute_reply.started": "2021-06-25T12:19:38.572508Z"
    },
    "papermill": {
     "duration": 0.047303,
     "end_time": "2021-07-01T09:53:07.661777",
     "exception": false,
     "start_time": "2021-07-01T09:53:07.614474",
     "status": "completed"
    },
    "tags": []
   },
   "outputs": [],
   "source": [
    "book_example['wap'] = (book_example['bid_price1'] * book_example['ask_size1'] +\n",
    "                                book_example['ask_price1'] * book_example['bid_size1']) / (\n",
    "                                       book_example['bid_size1']+ book_example['ask_size1'])"
   ]
  },
  {
   "cell_type": "markdown",
   "id": "solid-prayer",
   "metadata": {
    "papermill": {
     "duration": 0.033742,
     "end_time": "2021-07-01T09:53:07.729971",
     "exception": false,
     "start_time": "2021-07-01T09:53:07.696229",
     "status": "completed"
    },
    "tags": []
   },
   "source": [
    "**The WAP of the stock is plotted below**"
   ]
  },
  {
   "cell_type": "code",
   "execution_count": 6,
   "id": "diagnostic-present",
   "metadata": {
    "execution": {
     "iopub.execute_input": "2021-07-01T09:53:07.801771Z",
     "iopub.status.busy": "2021-07-01T09:53:07.800763Z",
     "iopub.status.idle": "2021-07-01T09:53:09.158872Z",
     "shell.execute_reply": "2021-07-01T09:53:09.158131Z",
     "shell.execute_reply.started": "2021-06-22T17:13:08.574265Z"
    },
    "papermill": {
     "duration": 1.395043,
     "end_time": "2021-07-01T09:53:09.159031",
     "exception": false,
     "start_time": "2021-07-01T09:53:07.763988",
     "status": "completed"
    },
    "tags": []
   },
   "outputs": [
    {
     "data": {
      "text/html": [
       "        <script type=\"text/javascript\">\n",
       "        window.PlotlyConfig = {MathJaxConfig: 'local'};\n",
       "        if (window.MathJax) {MathJax.Hub.Config({SVG: {font: \"STIX-Web\"}});}\n",
       "        if (typeof require !== 'undefined') {\n",
       "        require.undef(\"plotly\");\n",
       "        requirejs.config({\n",
       "            paths: {\n",
       "                'plotly': ['https://cdn.plot.ly/plotly-latest.min']\n",
       "            }\n",
       "        });\n",
       "        require(['plotly'], function(Plotly) {\n",
       "            window._Plotly = Plotly;\n",
       "        });\n",
       "        }\n",
       "        </script>\n",
       "        "
      ]
     },
     "metadata": {},
     "output_type": "display_data"
    },
    {
     "data": {
      "text/html": [
       "<div>                            <div id=\"db87adf0-2bc5-414f-98b7-2259aad8127b\" class=\"plotly-graph-div\" style=\"height:525px; width:100%;\"></div>            <script type=\"text/javascript\">                require([\"plotly\"], function(Plotly) {                    window.PLOTLYENV=window.PLOTLYENV || {};                                    if (document.getElementById(\"db87adf0-2bc5-414f-98b7-2259aad8127b\")) {                    Plotly.newPlot(                        \"db87adf0-2bc5-414f-98b7-2259aad8127b\",                        [{\"hovertemplate\": \"seconds_in_bucket=%{x}<br>wap=%{y}<extra></extra>\", \"legendgroup\": \"\", \"line\": {\"color\": \"#636efa\", \"dash\": \"solid\"}, \"mode\": \"lines\", \"name\": \"\", \"orientation\": \"v\", \"showlegend\": false, \"type\": \"scatter\", \"x\": [0, 1, 5, 6, 7, 11, 12, 14, 15, 16, 17, 18, 19, 21, 24, 25, 44, 46, 47, 48, 50, 51, 55, 57, 59, 60, 63, 68, 69, 78, 79, 81, 83, 85, 90, 92, 93, 94, 97, 98, 101, 103, 105, 106, 110, 111, 113, 114, 115, 118, 119, 122, 123, 124, 126, 127, 128, 129, 132, 133, 134, 138, 140, 141, 143, 144, 145, 147, 148, 149, 150, 151, 152, 153, 154, 158, 159, 160, 161, 164, 165, 166, 167, 168, 169, 171, 173, 174, 175, 177, 178, 181, 182, 183, 185, 186, 187, 188, 189, 190, 191, 192, 193, 194, 195, 196, 197, 198, 199, 200, 201, 203, 204, 205, 206, 207, 209, 211, 212, 213, 215, 216, 218, 219, 221, 222, 223, 224, 225, 226, 227, 228, 230, 231, 232, 233, 234, 235, 237, 239, 248, 253, 254, 255, 256, 257, 258, 259, 260, 263, 264, 265, 269, 278, 282, 283, 287, 288, 290, 293, 295, 296, 298, 301, 303, 304, 305, 306, 308, 309, 310, 311, 312, 313, 314, 316, 322, 323, 329, 331, 336, 338, 340, 345, 348, 350, 353, 356, 363, 365, 366, 367, 374, 378, 380, 382, 385, 386, 388, 389, 391, 394, 398, 399, 400, 401, 402, 403, 404, 406, 410, 411, 416, 425, 426, 427, 428, 430, 431, 433, 434, 435, 437, 438, 440, 441, 442, 443, 444, 445, 446, 447, 448, 449, 464, 465, 466, 467, 470, 471, 472, 473, 474, 475, 477, 478, 479, 488, 489, 495, 496, 498, 503, 511, 513, 514, 515, 516, 518, 519, 520, 521, 522, 523, 524, 525, 526, 528, 531, 532, 534, 535, 538, 539, 540, 541, 542, 545, 546, 548, 549, 550, 551, 552, 555, 558, 561, 562, 563, 571, 572, 573, 574, 575, 579, 581, 584, 585, 586, 587, 588, 593], \"xaxis\": \"x\", \"y\": [1.0014336843157439, 1.0014477736741594, 1.0014477736741594, 1.0014426126036533, 1.0014426126036533, 1.0014477736741594, 1.0014426126036533, 1.0014426126036533, 1.0014426126036533, 1.0014426126036533, 1.0014477736741594, 1.0014426126036533, 1.0014426126036533, 1.0015491030432961, 1.002600428220388, 1.0025301475440507, 1.0025445201375462, 1.0032295882701874, 1.0032248518296651, 1.002964347600937, 1.0024407687394514, 1.0024407687394514, 1.0024407687394514, 1.0032566723070646, 1.0036235884124158, 1.0036120873231154, 1.0034252484639485, 1.0033097863197327, 1.002910717113598, 1.0038805561406272, 1.0041013294830918, 1.0041036534130126, 1.0041013294830918, 1.004102745128952, 1.0041392411350123, 1.0041288927003935, 1.0041036534130126, 1.0041036534130126, 1.0041288927003935, 1.004128441998833, 1.0041013294830918, 1.0041013294830918, 1.0041013294830918, 1.0041013294830918, 1.0041143033239577, 1.004120945930481, 1.0038257338961616, 1.0039918102435212, 1.0039680694278919, 1.0039179451418239, 1.0037970106200416, 1.0040983216453145, 1.0040972449562766, 1.0040972449562766, 1.0045380145311356, 1.0041829622708833, 1.0049040850335762, 1.0049195733724856, 1.0048730265010486, 1.0046135148694437, 1.0046135148694437, 1.0046135148694437, 1.0043389240900675, 1.0043389240900675, 1.0046789098430324, 1.0041458426099834, 1.0041448057146, 1.0040079355239868, 1.0034489781556728, 1.0034542808345719, 1.0034542808345719, 1.0034637682473482, 1.0039562781651814, 1.0034622274227996, 1.0034618868547327, 1.0039562781651814, 1.0034636978119138, 1.0039562781651814, 1.0034489781556728, 1.0034489191713787, 1.0034489781556728, 1.0034489191713787, 1.0034489781556728, 1.0034489781556728, 1.0034640950541343, 1.0034636978119138, 1.0039562781651814, 1.0034640950541343, 1.0034636978119138, 1.003940543032581, 1.0038157341615208, 1.0037824202300911, 1.0037835206625596, 1.0038157341615208, 1.003962755203247, 1.003962755203247, 1.0044647653897603, 1.0043182522058487, 1.0042349599265112, 1.0045665620577218, 1.004083096684508, 1.0040527946256064, 1.0040505470014085, 1.0040527946256064, 1.0040505470014085, 1.004003386686344, 1.0040295112251054, 1.0040057246277971, 1.0040011165177294, 1.0040011165177294, 1.004003386686344, 1.004455194753759, 1.003982126712799, 1.0039799397264546, 1.0039756303937564, 1.0041469218684178, 1.00371783002844, 1.0040888161335177, 1.0039464976843886, 1.0039464976843886, 1.0039464976843886, 1.0039464976843886, 1.0040484959003972, 1.0041674535367742, 1.0041742634378086, 1.0039415521844353, 1.0043196158531384, 1.004629827681042, 1.0045994654507704, 1.004640596700706, 1.0046049650804496, 1.0043470197253757, 1.0038643368968256, 1.004344003635217, 1.0043470197253757, 1.004372299705421, 1.004518723148468, 1.0043745604190197, 1.004393008020189, 1.004393008020189, 1.0043903095287512, 1.0043876406910655, 1.0039278478112839, 1.0039278478112839, 1.003671512975321, 1.004104240105884, 1.004104240105884, 1.004104240105884, 1.004104240105884, 1.0041037290403159, 1.0037493705749512, 1.0033963470283997, 1.0038597560845888, 1.0040079355239868, 1.004035194714864, 1.0035930388378647, 1.0034454067548115, 1.0035579901236993, 1.003558057287465, 1.0035631393457387, 1.0035781249021873, 1.0035784316473995, 1.003573437789818, 1.0039443511229296, 1.004015904206496, 1.0037027799074922, 1.0037027799074922, 1.0038727155098548, 1.0037678224699838, 1.0037678224699838, 1.0041016656390869, 1.0040977407287766, 1.0046738433600657, 1.0042749100392407, 1.0042749100392407, 1.0040497362907297, 1.0046674744917614, 1.0037674464068367, 1.0037585420561541, 1.004064338547843, 1.004064338547843, 1.004064338547843, 1.0034453060159731, 1.0037586796283722, 1.0037632646845347, 1.0037586796283722, 1.0037632646845347, 1.0037586796283722, 1.0037632646845347, 1.0037586796283722, 1.0040008948173051, 1.0040098340423018, 1.004163077899388, 1.0040357676181164, 1.004418126427301, 1.004418161569857, 1.004418161569857, 1.004418161569857, 1.004418126427301, 1.0044217242134943, 1.0044217242134943, 1.00444757938385, 1.0041968070187615, 1.0035236965526233, 1.0035236965526233, 1.0042688308563907, 1.00347651695383, 1.0039820671081543, 1.0039045214653015, 1.003671795129776, 1.0043398500646201, 1.0043398500646201, 1.004330194913424, 1.0041900821354077, 1.0038477241402806, 1.0038477241402806, 1.0038477493624383, 1.004152692561587, 1.0039854057792093, 1.0038655799688752, 1.0038906483306098, 1.0040968172252178, 1.0039235729920237, 1.0039786617439914, 1.0039992318095932, 1.0039215780677595, 1.0039786617439914, 1.0040016860672922, 1.0039235729920237, 1.0040220202821675, 1.003948079912286, 1.003948079912286, 1.0039562225341796, 1.004094123840332, 1.0037062366803486, 1.0040038399177023, 1.0038168690851983, 1.0038161344654095, 1.0034568984257548, 1.0033324025571346, 1.003693523785926, 1.003641215237704, 1.003882272570741, 1.003849411010742, 1.003516674041748, 1.0038244955001339, 1.003849411010742, 1.0039927258211023, 1.003990696925743, 1.0039458751678467, 1.0039941985160112, 1.0039950065753038, 1.0040005163804389, 1.0039173341889418, 1.0039183598644328, 1.0036890705426533, 1.003798966606458, 1.003810115482496, 1.0038030368310433, 1.0035979231511514, 1.0035974904894829, 1.0039721360573401, 1.003956225183275, 1.0036175103150597, 1.0036169336392329, 1.0035711333034485, 1.0035711333034485, 1.0035979231511514, 1.0036106950552888, 1.0036106950552888, 1.0039271786808968, 1.0039247896360315, 1.0035983626804654, 1.0035888144844456, 1.00320521644924, 1.0031453550986524, 1.003137302630156, 1.003450592358907, 1.003450592358907, 1.0033356547355652, 1.0027724799543325, 1.0026688174197549, 1.0020535228276017, 1.002053417411505, 1.002053417411505, 1.002053417411505, 1.0023789405822754, 1.0026891827583313, 1.0026869957719868, 1.0027129928864056, 1.0032041855712435, 1.0032580494880676, 1.0032580494880676, 1.0034068687906805, 1.0034068687906805, 1.0036209998307404, 1.0034858328955514, 1.0037312947430657, 1.0037312947430657, 1.0037312947430657, 1.0037312947430657, 1.0037312947430657], \"yaxis\": \"y\"}],                        {\"legend\": {\"tracegroupgap\": 0}, \"template\": {\"data\": {\"bar\": [{\"error_x\": {\"color\": \"#2a3f5f\"}, \"error_y\": {\"color\": \"#2a3f5f\"}, \"marker\": {\"line\": {\"color\": \"#E5ECF6\", \"width\": 0.5}}, \"type\": \"bar\"}], \"barpolar\": [{\"marker\": {\"line\": {\"color\": \"#E5ECF6\", \"width\": 0.5}}, \"type\": \"barpolar\"}], \"carpet\": [{\"aaxis\": {\"endlinecolor\": \"#2a3f5f\", \"gridcolor\": \"white\", \"linecolor\": \"white\", \"minorgridcolor\": \"white\", \"startlinecolor\": \"#2a3f5f\"}, \"baxis\": {\"endlinecolor\": \"#2a3f5f\", \"gridcolor\": \"white\", \"linecolor\": \"white\", \"minorgridcolor\": \"white\", \"startlinecolor\": \"#2a3f5f\"}, \"type\": \"carpet\"}], \"choropleth\": [{\"colorbar\": {\"outlinewidth\": 0, \"ticks\": \"\"}, \"type\": \"choropleth\"}], \"contour\": [{\"colorbar\": {\"outlinewidth\": 0, \"ticks\": \"\"}, \"colorscale\": [[0.0, \"#0d0887\"], [0.1111111111111111, \"#46039f\"], [0.2222222222222222, \"#7201a8\"], [0.3333333333333333, \"#9c179e\"], [0.4444444444444444, \"#bd3786\"], [0.5555555555555556, \"#d8576b\"], [0.6666666666666666, \"#ed7953\"], [0.7777777777777778, \"#fb9f3a\"], [0.8888888888888888, \"#fdca26\"], [1.0, \"#f0f921\"]], \"type\": \"contour\"}], \"contourcarpet\": [{\"colorbar\": {\"outlinewidth\": 0, \"ticks\": \"\"}, \"type\": \"contourcarpet\"}], \"heatmap\": [{\"colorbar\": {\"outlinewidth\": 0, \"ticks\": \"\"}, \"colorscale\": [[0.0, \"#0d0887\"], [0.1111111111111111, \"#46039f\"], [0.2222222222222222, \"#7201a8\"], [0.3333333333333333, \"#9c179e\"], [0.4444444444444444, \"#bd3786\"], [0.5555555555555556, \"#d8576b\"], [0.6666666666666666, \"#ed7953\"], [0.7777777777777778, \"#fb9f3a\"], [0.8888888888888888, \"#fdca26\"], [1.0, \"#f0f921\"]], \"type\": \"heatmap\"}], \"heatmapgl\": [{\"colorbar\": {\"outlinewidth\": 0, \"ticks\": \"\"}, \"colorscale\": [[0.0, \"#0d0887\"], [0.1111111111111111, \"#46039f\"], [0.2222222222222222, \"#7201a8\"], [0.3333333333333333, \"#9c179e\"], [0.4444444444444444, \"#bd3786\"], [0.5555555555555556, \"#d8576b\"], [0.6666666666666666, \"#ed7953\"], [0.7777777777777778, \"#fb9f3a\"], [0.8888888888888888, \"#fdca26\"], [1.0, \"#f0f921\"]], \"type\": \"heatmapgl\"}], \"histogram\": [{\"marker\": {\"colorbar\": {\"outlinewidth\": 0, \"ticks\": \"\"}}, \"type\": \"histogram\"}], \"histogram2d\": [{\"colorbar\": {\"outlinewidth\": 0, \"ticks\": \"\"}, \"colorscale\": [[0.0, \"#0d0887\"], [0.1111111111111111, \"#46039f\"], [0.2222222222222222, \"#7201a8\"], [0.3333333333333333, \"#9c179e\"], [0.4444444444444444, \"#bd3786\"], [0.5555555555555556, \"#d8576b\"], [0.6666666666666666, \"#ed7953\"], [0.7777777777777778, \"#fb9f3a\"], [0.8888888888888888, \"#fdca26\"], [1.0, \"#f0f921\"]], \"type\": \"histogram2d\"}], \"histogram2dcontour\": [{\"colorbar\": {\"outlinewidth\": 0, \"ticks\": \"\"}, \"colorscale\": [[0.0, \"#0d0887\"], [0.1111111111111111, \"#46039f\"], [0.2222222222222222, \"#7201a8\"], [0.3333333333333333, \"#9c179e\"], [0.4444444444444444, \"#bd3786\"], [0.5555555555555556, \"#d8576b\"], [0.6666666666666666, \"#ed7953\"], [0.7777777777777778, \"#fb9f3a\"], [0.8888888888888888, \"#fdca26\"], [1.0, \"#f0f921\"]], \"type\": \"histogram2dcontour\"}], \"mesh3d\": [{\"colorbar\": {\"outlinewidth\": 0, \"ticks\": \"\"}, \"type\": \"mesh3d\"}], \"parcoords\": [{\"line\": {\"colorbar\": {\"outlinewidth\": 0, \"ticks\": \"\"}}, \"type\": \"parcoords\"}], \"pie\": [{\"automargin\": true, \"type\": \"pie\"}], \"scatter\": [{\"marker\": {\"colorbar\": {\"outlinewidth\": 0, \"ticks\": \"\"}}, \"type\": \"scatter\"}], \"scatter3d\": [{\"line\": {\"colorbar\": {\"outlinewidth\": 0, \"ticks\": \"\"}}, \"marker\": {\"colorbar\": {\"outlinewidth\": 0, \"ticks\": \"\"}}, \"type\": \"scatter3d\"}], \"scattercarpet\": [{\"marker\": {\"colorbar\": {\"outlinewidth\": 0, \"ticks\": \"\"}}, \"type\": \"scattercarpet\"}], \"scattergeo\": [{\"marker\": {\"colorbar\": {\"outlinewidth\": 0, \"ticks\": \"\"}}, \"type\": \"scattergeo\"}], \"scattergl\": [{\"marker\": {\"colorbar\": {\"outlinewidth\": 0, \"ticks\": \"\"}}, \"type\": \"scattergl\"}], \"scattermapbox\": [{\"marker\": {\"colorbar\": {\"outlinewidth\": 0, \"ticks\": \"\"}}, \"type\": \"scattermapbox\"}], \"scatterpolar\": [{\"marker\": {\"colorbar\": {\"outlinewidth\": 0, \"ticks\": \"\"}}, \"type\": \"scatterpolar\"}], \"scatterpolargl\": [{\"marker\": {\"colorbar\": {\"outlinewidth\": 0, \"ticks\": \"\"}}, \"type\": \"scatterpolargl\"}], \"scatterternary\": [{\"marker\": {\"colorbar\": {\"outlinewidth\": 0, \"ticks\": \"\"}}, \"type\": \"scatterternary\"}], \"surface\": [{\"colorbar\": {\"outlinewidth\": 0, \"ticks\": \"\"}, \"colorscale\": [[0.0, \"#0d0887\"], [0.1111111111111111, \"#46039f\"], [0.2222222222222222, \"#7201a8\"], [0.3333333333333333, \"#9c179e\"], [0.4444444444444444, \"#bd3786\"], [0.5555555555555556, \"#d8576b\"], [0.6666666666666666, \"#ed7953\"], [0.7777777777777778, \"#fb9f3a\"], [0.8888888888888888, \"#fdca26\"], [1.0, \"#f0f921\"]], \"type\": \"surface\"}], \"table\": [{\"cells\": {\"fill\": {\"color\": \"#EBF0F8\"}, \"line\": {\"color\": \"white\"}}, \"header\": {\"fill\": {\"color\": \"#C8D4E3\"}, \"line\": {\"color\": \"white\"}}, \"type\": \"table\"}]}, \"layout\": {\"annotationdefaults\": {\"arrowcolor\": \"#2a3f5f\", \"arrowhead\": 0, \"arrowwidth\": 1}, \"autotypenumbers\": \"strict\", \"coloraxis\": {\"colorbar\": {\"outlinewidth\": 0, \"ticks\": \"\"}}, \"colorscale\": {\"diverging\": [[0, \"#8e0152\"], [0.1, \"#c51b7d\"], [0.2, \"#de77ae\"], [0.3, \"#f1b6da\"], [0.4, \"#fde0ef\"], [0.5, \"#f7f7f7\"], [0.6, \"#e6f5d0\"], [0.7, \"#b8e186\"], [0.8, \"#7fbc41\"], [0.9, \"#4d9221\"], [1, \"#276419\"]], \"sequential\": [[0.0, \"#0d0887\"], [0.1111111111111111, \"#46039f\"], [0.2222222222222222, \"#7201a8\"], [0.3333333333333333, \"#9c179e\"], [0.4444444444444444, \"#bd3786\"], [0.5555555555555556, \"#d8576b\"], [0.6666666666666666, \"#ed7953\"], [0.7777777777777778, \"#fb9f3a\"], [0.8888888888888888, \"#fdca26\"], [1.0, \"#f0f921\"]], \"sequentialminus\": [[0.0, \"#0d0887\"], [0.1111111111111111, \"#46039f\"], [0.2222222222222222, \"#7201a8\"], [0.3333333333333333, \"#9c179e\"], [0.4444444444444444, \"#bd3786\"], [0.5555555555555556, \"#d8576b\"], [0.6666666666666666, \"#ed7953\"], [0.7777777777777778, \"#fb9f3a\"], [0.8888888888888888, \"#fdca26\"], [1.0, \"#f0f921\"]]}, \"colorway\": [\"#636efa\", \"#EF553B\", \"#00cc96\", \"#ab63fa\", \"#FFA15A\", \"#19d3f3\", \"#FF6692\", \"#B6E880\", \"#FF97FF\", \"#FECB52\"], \"font\": {\"color\": \"#2a3f5f\"}, \"geo\": {\"bgcolor\": \"white\", \"lakecolor\": \"white\", \"landcolor\": \"#E5ECF6\", \"showlakes\": true, \"showland\": true, \"subunitcolor\": \"white\"}, \"hoverlabel\": {\"align\": \"left\"}, \"hovermode\": \"closest\", \"mapbox\": {\"style\": \"light\"}, \"paper_bgcolor\": \"white\", \"plot_bgcolor\": \"#E5ECF6\", \"polar\": {\"angularaxis\": {\"gridcolor\": \"white\", \"linecolor\": \"white\", \"ticks\": \"\"}, \"bgcolor\": \"#E5ECF6\", \"radialaxis\": {\"gridcolor\": \"white\", \"linecolor\": \"white\", \"ticks\": \"\"}}, \"scene\": {\"xaxis\": {\"backgroundcolor\": \"#E5ECF6\", \"gridcolor\": \"white\", \"gridwidth\": 2, \"linecolor\": \"white\", \"showbackground\": true, \"ticks\": \"\", \"zerolinecolor\": \"white\"}, \"yaxis\": {\"backgroundcolor\": \"#E5ECF6\", \"gridcolor\": \"white\", \"gridwidth\": 2, \"linecolor\": \"white\", \"showbackground\": true, \"ticks\": \"\", \"zerolinecolor\": \"white\"}, \"zaxis\": {\"backgroundcolor\": \"#E5ECF6\", \"gridcolor\": \"white\", \"gridwidth\": 2, \"linecolor\": \"white\", \"showbackground\": true, \"ticks\": \"\", \"zerolinecolor\": \"white\"}}, \"shapedefaults\": {\"line\": {\"color\": \"#2a3f5f\"}}, \"ternary\": {\"aaxis\": {\"gridcolor\": \"white\", \"linecolor\": \"white\", \"ticks\": \"\"}, \"baxis\": {\"gridcolor\": \"white\", \"linecolor\": \"white\", \"ticks\": \"\"}, \"bgcolor\": \"#E5ECF6\", \"caxis\": {\"gridcolor\": \"white\", \"linecolor\": \"white\", \"ticks\": \"\"}}, \"title\": {\"x\": 0.05}, \"xaxis\": {\"automargin\": true, \"gridcolor\": \"white\", \"linecolor\": \"white\", \"ticks\": \"\", \"title\": {\"standoff\": 15}, \"zerolinecolor\": \"white\", \"zerolinewidth\": 2}, \"yaxis\": {\"automargin\": true, \"gridcolor\": \"white\", \"linecolor\": \"white\", \"ticks\": \"\", \"title\": {\"standoff\": 15}, \"zerolinecolor\": \"white\", \"zerolinewidth\": 2}}}, \"title\": {\"text\": \"WAP of stock_id_0, time_id_5\"}, \"xaxis\": {\"anchor\": \"y\", \"domain\": [0.0, 1.0], \"title\": {\"text\": \"seconds_in_bucket\"}}, \"yaxis\": {\"anchor\": \"x\", \"domain\": [0.0, 1.0], \"title\": {\"text\": \"wap\"}}},                        {\"responsive\": true}                    ).then(function(){\n",
       "                            \n",
       "var gd = document.getElementById('db87adf0-2bc5-414f-98b7-2259aad8127b');\n",
       "var x = new MutationObserver(function (mutations, observer) {{\n",
       "        var display = window.getComputedStyle(gd).display;\n",
       "        if (!display || display === 'none') {{\n",
       "            console.log([gd, 'removed!']);\n",
       "            Plotly.purge(gd);\n",
       "            observer.disconnect();\n",
       "        }}\n",
       "}});\n",
       "\n",
       "// Listen for the removal of the full notebook cells\n",
       "var notebookContainer = gd.closest('#notebook-container');\n",
       "if (notebookContainer) {{\n",
       "    x.observe(notebookContainer, {childList: true});\n",
       "}}\n",
       "\n",
       "// Listen for the clearing of the current output cell\n",
       "var outputEl = gd.closest('.output');\n",
       "if (outputEl) {{\n",
       "    x.observe(outputEl, {childList: true});\n",
       "}}\n",
       "\n",
       "                        })                };                });            </script>        </div>"
      ]
     },
     "metadata": {},
     "output_type": "display_data"
    }
   ],
   "source": [
    "fig = px.line(book_example, x=\"seconds_in_bucket\", y=\"wap\", title='WAP of stock_id_0, time_id_5')\n",
    "fig.show()"
   ]
  },
  {
   "cell_type": "markdown",
   "id": "plastic-tuesday",
   "metadata": {
    "papermill": {
     "duration": 0.036105,
     "end_time": "2021-07-01T09:53:09.235503",
     "exception": false,
     "start_time": "2021-07-01T09:53:09.199398",
     "status": "completed"
    },
    "tags": []
   },
   "source": [
    "To compute the log return, we can simply take **the logarithm of the ratio** between two consecutive **WAP**. The first row will have an empty return as the previous book update is unknown, therefore the empty return data point will be dropped."
   ]
  },
  {
   "cell_type": "code",
   "execution_count": 7,
   "id": "floral-cooper",
   "metadata": {
    "execution": {
     "iopub.execute_input": "2021-07-01T09:53:09.314198Z",
     "iopub.status.busy": "2021-07-01T09:53:09.313309Z",
     "iopub.status.idle": "2021-07-01T09:53:09.315846Z",
     "shell.execute_reply": "2021-07-01T09:53:09.316410Z",
     "shell.execute_reply.started": "2021-06-25T12:19:46.465304Z"
    },
    "papermill": {
     "duration": 0.043895,
     "end_time": "2021-07-01T09:53:09.316657",
     "exception": false,
     "start_time": "2021-07-01T09:53:09.272762",
     "status": "completed"
    },
    "tags": []
   },
   "outputs": [],
   "source": [
    "def log_return(list_stock_prices):\n",
    "    return np.log(list_stock_prices).diff() "
   ]
  },
  {
   "cell_type": "code",
   "execution_count": 8,
   "id": "infrared-engineer",
   "metadata": {
    "execution": {
     "iopub.execute_input": "2021-07-01T09:53:09.391647Z",
     "iopub.status.busy": "2021-07-01T09:53:09.390957Z",
     "iopub.status.idle": "2021-07-01T09:53:09.402954Z",
     "shell.execute_reply": "2021-07-01T09:53:09.402424Z",
     "shell.execute_reply.started": "2021-06-25T12:19:47.146987Z"
    },
    "papermill": {
     "duration": 0.05067,
     "end_time": "2021-07-01T09:53:09.403118",
     "exception": false,
     "start_time": "2021-07-01T09:53:09.352448",
     "status": "completed"
    },
    "tags": []
   },
   "outputs": [],
   "source": [
    "book_example.loc[:,'log_return'] = log_return(book_example['wap'])\n",
    "book_example = book_example[~book_example['log_return'].isnull()]"
   ]
  },
  {
   "cell_type": "markdown",
   "id": "criminal-opposition",
   "metadata": {
    "execution": {
     "iopub.execute_input": "2021-06-09T15:01:53.679605Z",
     "iopub.status.busy": "2021-06-09T15:01:53.679074Z",
     "iopub.status.idle": "2021-06-09T15:01:53.686279Z",
     "shell.execute_reply": "2021-06-09T15:01:53.684738Z",
     "shell.execute_reply.started": "2021-06-09T15:01:53.67957Z"
    },
    "papermill": {
     "duration": 0.035845,
     "end_time": "2021-07-01T09:53:09.474602",
     "exception": false,
     "start_time": "2021-07-01T09:53:09.438757",
     "status": "completed"
    },
    "tags": []
   },
   "source": [
    "**Let's plot the tick-to-tick return of this instrument over this time bucket**"
   ]
  },
  {
   "cell_type": "code",
   "execution_count": 9,
   "id": "inappropriate-limit",
   "metadata": {
    "execution": {
     "iopub.execute_input": "2021-07-01T09:53:09.574612Z",
     "iopub.status.busy": "2021-07-01T09:53:09.563007Z",
     "iopub.status.idle": "2021-07-01T09:53:09.619417Z",
     "shell.execute_reply": "2021-07-01T09:53:09.618704Z",
     "shell.execute_reply.started": "2021-06-22T17:49:48.840723Z"
    },
    "papermill": {
     "duration": 0.109199,
     "end_time": "2021-07-01T09:53:09.619565",
     "exception": false,
     "start_time": "2021-07-01T09:53:09.510366",
     "status": "completed"
    },
    "tags": []
   },
   "outputs": [
    {
     "data": {
      "text/html": [
       "<div>                            <div id=\"f1dee02e-5e20-45dc-bb44-be91c196fa70\" class=\"plotly-graph-div\" style=\"height:525px; width:100%;\"></div>            <script type=\"text/javascript\">                require([\"plotly\"], function(Plotly) {                    window.PLOTLYENV=window.PLOTLYENV || {};                                    if (document.getElementById(\"f1dee02e-5e20-45dc-bb44-be91c196fa70\")) {                    Plotly.newPlot(                        \"f1dee02e-5e20-45dc-bb44-be91c196fa70\",                        [{\"hovertemplate\": \"seconds_in_bucket=%{x}<br>log_return=%{y}<extra></extra>\", \"legendgroup\": \"\", \"line\": {\"color\": \"#636efa\", \"dash\": \"solid\"}, \"mode\": \"lines\", \"name\": \"\", \"orientation\": \"v\", \"showlegend\": false, \"type\": \"scatter\", \"x\": [1, 5, 6, 7, 11, 12, 14, 15, 16, 17, 18, 19, 21, 24, 25, 44, 46, 47, 48, 50, 51, 55, 57, 59, 60, 63, 68, 69, 78, 79, 81, 83, 85, 90, 92, 93, 94, 97, 98, 101, 103, 105, 106, 110, 111, 113, 114, 115, 118, 119, 122, 123, 124, 126, 127, 128, 129, 132, 133, 134, 138, 140, 141, 143, 144, 145, 147, 148, 149, 150, 151, 152, 153, 154, 158, 159, 160, 161, 164, 165, 166, 167, 168, 169, 171, 173, 174, 175, 177, 178, 181, 182, 183, 185, 186, 187, 188, 189, 190, 191, 192, 193, 194, 195, 196, 197, 198, 199, 200, 201, 203, 204, 205, 206, 207, 209, 211, 212, 213, 215, 216, 218, 219, 221, 222, 223, 224, 225, 226, 227, 228, 230, 231, 232, 233, 234, 235, 237, 239, 248, 253, 254, 255, 256, 257, 258, 259, 260, 263, 264, 265, 269, 278, 282, 283, 287, 288, 290, 293, 295, 296, 298, 301, 303, 304, 305, 306, 308, 309, 310, 311, 312, 313, 314, 316, 322, 323, 329, 331, 336, 338, 340, 345, 348, 350, 353, 356, 363, 365, 366, 367, 374, 378, 380, 382, 385, 386, 388, 389, 391, 394, 398, 399, 400, 401, 402, 403, 404, 406, 410, 411, 416, 425, 426, 427, 428, 430, 431, 433, 434, 435, 437, 438, 440, 441, 442, 443, 444, 445, 446, 447, 448, 449, 464, 465, 466, 467, 470, 471, 472, 473, 474, 475, 477, 478, 479, 488, 489, 495, 496, 498, 503, 511, 513, 514, 515, 516, 518, 519, 520, 521, 522, 523, 524, 525, 526, 528, 531, 532, 534, 535, 538, 539, 540, 541, 542, 545, 546, 548, 549, 550, 551, 552, 555, 558, 561, 562, 563, 571, 572, 573, 574, 575, 579, 581, 584, 585, 586, 587, 588, 593], \"xaxis\": \"x\", \"y\": [1.4069088671764826e-05, 0.0, -5.1536225261729005e-06, 0.0, 5.1536225261729005e-06, -5.1536225261729005e-06, 0.0, 0.0, 0.0, 5.1536225261729005e-06, -5.1536225261729005e-06, 0.0, 0.00010633138311186307, 0.001049148536200136, -7.010084751142391e-05, 1.4336217725433378e-05, 0.0006830960240321884, -4.721204157526887e-06, -0.0002597005609105249, -0.0005221676848391342, 0.0, 0.0, 0.0008135859336718815, 0.0003656581975727026, -1.1459630216459002e-05, -0.000186183740954941, -0.00011507462853035076, -0.00039783185419059496, 0.0009665570260937802, 0.00021989575198349143, 2.314434971047684e-06, -2.314434971047684e-06, 1.4098625513107171e-06, 3.634622352686155e-05, -1.030582962953993e-05, -2.5135821477584655e-05, 0.0, 2.5135821477584655e-05, -4.488484147222721e-07, -2.7001408033910067e-05, 0.0, 0.0, 0.0, 1.2920764736698044e-05, 6.615366925530504e-06, -0.0002940437008734733, 0.00016542972066674278, -2.3646703174550268e-05, -4.992742189017206e-05, -0.00012046981229232347, 0.0003001262293834458, -1.0722950053599495e-06, 0.0, 0.0004388746835462618, -0.0003535107842753361, 0.0007178611744355018, 1.5412634680595644e-05, -4.63200744676498e-05, -0.00025828651021528055, 0.0, 0.0, -0.0002733671298145975, 0.0, 0.000338459669663449, -0.0005307254850483939, -1.0326148600029589e-06, -0.00013631452231146514, -0.0005568810757034981, 5.284438973673748e-06, 0.0, 9.454708706913787e-06, 0.0004906894584374094, -0.0004922249655282965, -3.3939306866249616e-07, 0.000492564358596959, -0.000490759650744371, 0.000490759650744371, -0.000505428606117997, -5.878155953436756e-08, 5.878155953436756e-08, -5.878155953436756e-08, 5.878155953436756e-08, 0.0, 1.5064826338055236e-05, -3.958709644293068e-07, 0.000490759650744371, -0.0004903637797799417, -3.958709644293068e-07, 0.00047508640256284027, -0.00012432671498886771, -3.318784823533923e-05, 1.0962852537658302e-06, 3.20915629815734e-05, 0.0001464514564408449, 0.0, 0.0004999037225097234, -0.00014587258343784406, -8.293758799327294e-05, 0.00033014922638548595, -0.00048138348113190704, -3.0179291187484684e-05, -2.2385543126980656e-06, 2.2385543126980656e-06, -2.2385543126980656e-06, -4.6971163754080426e-05, 2.6020030637975526e-05, -2.369141425876721e-05, -4.589735426527991e-06, 0.0, 2.261119047319675e-06, 0.00044990529474803285, -0.00047108071997285696, -2.178314402466984e-06, -4.292259014463014e-06, 0.0001705986269452675, -0.00042741110535926856, 0.00036954366099829295, -0.00014174895071626843, 0.0, 0.0, 0.0, 0.00010159210199451804, 0.00011847096080419128, 6.781615874308991e-06, -0.0002317707500779139, 0.0003765084732866419, 0.0003088299024820683, -3.0222762904790444e-05, 4.09420961846119e-05, -3.546766103439906e-05, -0.00025679593981573715, -0.00048070920050646837, 0.00047770616009491524, 3.0030404115531303e-06, 2.517024633766178e-05, 0.000145775397112715, -0.00014352452753462527, 1.836708383754458e-05, 0.0, -2.686692401599605e-06, -2.6571754090064237e-06, -0.00045788910203338126, 0.0, -0.00025536453374374636, 0.00043105126316923294, 0.0, 0.0, 0.0, -5.089767354171312e-07, -0.0003529725049225014, -0.0003517667373081515, 0.00046173387013595394, 0.00014759880871268415, 2.715000536431412e-05, -0.0004404758577894693, -0.00014711435512715886, 0.00011219051166624005, 6.692564263714729e-08, 5.064027306671617e-06, 1.493223891695138e-05, 3.056515059762614e-07, -4.976063503226401e-06, 0.0003695243343602751, 7.126942219778248e-05, -0.0003119204936629025, 0.0, 0.00016929435845011893, -0.00010449384536938711, 0.0, 0.0003325347331154145, -3.908885041868301e-06, 0.0005735870137225001, -0.0003971562991775578, 0.0, -0.00022424038849106018, 0.0006150574278845945, -0.0008962482536088315, -8.870969276414137e-06, 0.0003046050495861068, 0.0, 0.0, -0.0006167168891729161, 0.00031224889666066737, 4.567876506174524e-06, -4.567876506174524e-06, 4.567876506174524e-06, -4.567876506174524e-06, 4.567876506174524e-06, -4.567876506174524e-06, 0.00024127907862165395, 8.903562982265183e-06, 0.00015262018173070255, -0.00012679051352536448, 0.00038074940623482496, 3.498797406832621e-08, 0.0, 0.0, -3.498797406832621e-08, 3.581954223024278e-06, 0.0, 2.57410179058757e-05, -0.00024969314438048375, -0.0006705221071957113, 0.0, 0.0007422423659862436, -0.0007892574071252413, 0.0005036718256860844, -7.724105866599917e-05, -0.00023184805941794864, 0.0006653895270886351, 0.0, -9.613476559100671e-06, -0.00013951841048818157, -0.00034098760229955144, 0.0, 2.5125481457541343e-08, 0.0003037282214945385, -0.0001666088431894596, -0.00011935727434643799, 2.4971519333494112e-05, 0.0002053487871503377, -0.00017255226537336247, 5.4871946480757224e-05, 2.0488338709804925e-05, -7.734741478885102e-05, 5.685907607904609e-05, 2.293281737236058e-05, -7.78047638531178e-05, 9.805772681529493e-05, -7.364688339509505e-05, 0.0, 8.110567703610225e-06, 0.00013734845505063934, -0.00038638021233189726, 0.00029646037343952856, -0.00018624255861695747, -7.318267706089149e-07, -0.0003579344091248415, -0.00012407467861116775, 0.00035985706806118244, -5.211741441697466e-05, 0.00024015393658844341, -3.2735011625901946e-05, -0.00033151598457213747, 0.000306695708202838, 2.4820276369299458e-05, 0.00014275505825348239, -2.020828793993651e-06, -4.464459537886767e-05, 4.8132261323105725e-05, 8.048442596605282e-07, 5.487865955928692e-06, -8.285417804423933e-05, 1.0216727335029402e-06, -0.0002284204763377596, 0.00010948614575105684, 1.1106620444914072e-05, -7.051808207818051e-06, -0.00020435745991433975, -4.31110658735169e-07, 0.00037323295516358953, -1.584804953465909e-05, -0.00033743704197754633, -5.745973805960924e-07, -4.563631734030415e-05, 0.0, 2.66941617282513e-05, 1.2726035571712039e-05, 0.0, 0.0003152953001487541, -2.379702192162325e-06, -0.0003252036800335126, -9.5140065944385e-06, -0.0003822993630284233, -5.9671875348417305e-05, -8.027252257270055e-06, 0.0003122611594329073, 0.0, -0.00011454894474575549, -0.0005614600591948883, -0.00010338127055194287, -0.000613845218483258, -1.0520007153727237e-07, 0.0, 0.0, 0.0003248033512670101, 0.00030945799289339073, -2.1811232903640003e-06, 2.5927111366546435e-05, 0.0004897437440894055, 5.369043672581904e-05, 0.0, 0.00014832501583113625, 0.0, 0.00021338123323559914, -0.00013468833167165324, 0.0002445792688374111, 0.0, 0.0, 0.0, 0.0], \"yaxis\": \"y\"}],                        {\"legend\": {\"tracegroupgap\": 0}, \"template\": {\"data\": {\"bar\": [{\"error_x\": {\"color\": \"#2a3f5f\"}, \"error_y\": {\"color\": \"#2a3f5f\"}, \"marker\": {\"line\": {\"color\": \"#E5ECF6\", \"width\": 0.5}}, \"type\": \"bar\"}], \"barpolar\": [{\"marker\": {\"line\": {\"color\": \"#E5ECF6\", \"width\": 0.5}}, \"type\": \"barpolar\"}], \"carpet\": [{\"aaxis\": {\"endlinecolor\": \"#2a3f5f\", \"gridcolor\": \"white\", \"linecolor\": \"white\", \"minorgridcolor\": \"white\", \"startlinecolor\": \"#2a3f5f\"}, \"baxis\": {\"endlinecolor\": \"#2a3f5f\", \"gridcolor\": \"white\", \"linecolor\": \"white\", \"minorgridcolor\": \"white\", \"startlinecolor\": \"#2a3f5f\"}, \"type\": \"carpet\"}], \"choropleth\": [{\"colorbar\": {\"outlinewidth\": 0, \"ticks\": \"\"}, \"type\": \"choropleth\"}], \"contour\": [{\"colorbar\": {\"outlinewidth\": 0, \"ticks\": \"\"}, \"colorscale\": [[0.0, \"#0d0887\"], [0.1111111111111111, \"#46039f\"], [0.2222222222222222, \"#7201a8\"], [0.3333333333333333, \"#9c179e\"], [0.4444444444444444, \"#bd3786\"], [0.5555555555555556, \"#d8576b\"], [0.6666666666666666, \"#ed7953\"], [0.7777777777777778, \"#fb9f3a\"], [0.8888888888888888, \"#fdca26\"], [1.0, \"#f0f921\"]], \"type\": \"contour\"}], \"contourcarpet\": [{\"colorbar\": {\"outlinewidth\": 0, \"ticks\": \"\"}, \"type\": \"contourcarpet\"}], \"heatmap\": [{\"colorbar\": {\"outlinewidth\": 0, \"ticks\": \"\"}, \"colorscale\": [[0.0, \"#0d0887\"], [0.1111111111111111, \"#46039f\"], [0.2222222222222222, \"#7201a8\"], [0.3333333333333333, \"#9c179e\"], [0.4444444444444444, \"#bd3786\"], [0.5555555555555556, \"#d8576b\"], [0.6666666666666666, \"#ed7953\"], [0.7777777777777778, \"#fb9f3a\"], [0.8888888888888888, \"#fdca26\"], [1.0, \"#f0f921\"]], \"type\": \"heatmap\"}], \"heatmapgl\": [{\"colorbar\": {\"outlinewidth\": 0, \"ticks\": \"\"}, \"colorscale\": [[0.0, \"#0d0887\"], [0.1111111111111111, \"#46039f\"], [0.2222222222222222, \"#7201a8\"], [0.3333333333333333, \"#9c179e\"], [0.4444444444444444, \"#bd3786\"], [0.5555555555555556, \"#d8576b\"], [0.6666666666666666, \"#ed7953\"], [0.7777777777777778, \"#fb9f3a\"], [0.8888888888888888, \"#fdca26\"], [1.0, \"#f0f921\"]], \"type\": \"heatmapgl\"}], \"histogram\": [{\"marker\": {\"colorbar\": {\"outlinewidth\": 0, \"ticks\": \"\"}}, \"type\": \"histogram\"}], \"histogram2d\": [{\"colorbar\": {\"outlinewidth\": 0, \"ticks\": \"\"}, \"colorscale\": [[0.0, \"#0d0887\"], [0.1111111111111111, \"#46039f\"], [0.2222222222222222, \"#7201a8\"], [0.3333333333333333, \"#9c179e\"], [0.4444444444444444, \"#bd3786\"], [0.5555555555555556, \"#d8576b\"], [0.6666666666666666, \"#ed7953\"], [0.7777777777777778, \"#fb9f3a\"], [0.8888888888888888, \"#fdca26\"], [1.0, \"#f0f921\"]], \"type\": \"histogram2d\"}], \"histogram2dcontour\": [{\"colorbar\": {\"outlinewidth\": 0, \"ticks\": \"\"}, \"colorscale\": [[0.0, \"#0d0887\"], [0.1111111111111111, \"#46039f\"], [0.2222222222222222, \"#7201a8\"], [0.3333333333333333, \"#9c179e\"], [0.4444444444444444, \"#bd3786\"], [0.5555555555555556, \"#d8576b\"], [0.6666666666666666, \"#ed7953\"], [0.7777777777777778, \"#fb9f3a\"], [0.8888888888888888, \"#fdca26\"], [1.0, \"#f0f921\"]], \"type\": \"histogram2dcontour\"}], \"mesh3d\": [{\"colorbar\": {\"outlinewidth\": 0, \"ticks\": \"\"}, \"type\": \"mesh3d\"}], \"parcoords\": [{\"line\": {\"colorbar\": {\"outlinewidth\": 0, \"ticks\": \"\"}}, \"type\": \"parcoords\"}], \"pie\": [{\"automargin\": true, \"type\": \"pie\"}], \"scatter\": [{\"marker\": {\"colorbar\": {\"outlinewidth\": 0, \"ticks\": \"\"}}, \"type\": \"scatter\"}], \"scatter3d\": [{\"line\": {\"colorbar\": {\"outlinewidth\": 0, \"ticks\": \"\"}}, \"marker\": {\"colorbar\": {\"outlinewidth\": 0, \"ticks\": \"\"}}, \"type\": \"scatter3d\"}], \"scattercarpet\": [{\"marker\": {\"colorbar\": {\"outlinewidth\": 0, \"ticks\": \"\"}}, \"type\": \"scattercarpet\"}], \"scattergeo\": [{\"marker\": {\"colorbar\": {\"outlinewidth\": 0, \"ticks\": \"\"}}, \"type\": \"scattergeo\"}], \"scattergl\": [{\"marker\": {\"colorbar\": {\"outlinewidth\": 0, \"ticks\": \"\"}}, \"type\": \"scattergl\"}], \"scattermapbox\": [{\"marker\": {\"colorbar\": {\"outlinewidth\": 0, \"ticks\": \"\"}}, \"type\": \"scattermapbox\"}], \"scatterpolar\": [{\"marker\": {\"colorbar\": {\"outlinewidth\": 0, \"ticks\": \"\"}}, \"type\": \"scatterpolar\"}], \"scatterpolargl\": [{\"marker\": {\"colorbar\": {\"outlinewidth\": 0, \"ticks\": \"\"}}, \"type\": \"scatterpolargl\"}], \"scatterternary\": [{\"marker\": {\"colorbar\": {\"outlinewidth\": 0, \"ticks\": \"\"}}, \"type\": \"scatterternary\"}], \"surface\": [{\"colorbar\": {\"outlinewidth\": 0, \"ticks\": \"\"}, \"colorscale\": [[0.0, \"#0d0887\"], [0.1111111111111111, \"#46039f\"], [0.2222222222222222, \"#7201a8\"], [0.3333333333333333, \"#9c179e\"], [0.4444444444444444, \"#bd3786\"], [0.5555555555555556, \"#d8576b\"], [0.6666666666666666, \"#ed7953\"], [0.7777777777777778, \"#fb9f3a\"], [0.8888888888888888, \"#fdca26\"], [1.0, \"#f0f921\"]], \"type\": \"surface\"}], \"table\": [{\"cells\": {\"fill\": {\"color\": \"#EBF0F8\"}, \"line\": {\"color\": \"white\"}}, \"header\": {\"fill\": {\"color\": \"#C8D4E3\"}, \"line\": {\"color\": \"white\"}}, \"type\": \"table\"}]}, \"layout\": {\"annotationdefaults\": {\"arrowcolor\": \"#2a3f5f\", \"arrowhead\": 0, \"arrowwidth\": 1}, \"autotypenumbers\": \"strict\", \"coloraxis\": {\"colorbar\": {\"outlinewidth\": 0, \"ticks\": \"\"}}, \"colorscale\": {\"diverging\": [[0, \"#8e0152\"], [0.1, \"#c51b7d\"], [0.2, \"#de77ae\"], [0.3, \"#f1b6da\"], [0.4, \"#fde0ef\"], [0.5, \"#f7f7f7\"], [0.6, \"#e6f5d0\"], [0.7, \"#b8e186\"], [0.8, \"#7fbc41\"], [0.9, \"#4d9221\"], [1, \"#276419\"]], \"sequential\": [[0.0, \"#0d0887\"], [0.1111111111111111, \"#46039f\"], [0.2222222222222222, \"#7201a8\"], [0.3333333333333333, \"#9c179e\"], [0.4444444444444444, \"#bd3786\"], [0.5555555555555556, \"#d8576b\"], [0.6666666666666666, \"#ed7953\"], [0.7777777777777778, \"#fb9f3a\"], [0.8888888888888888, \"#fdca26\"], [1.0, \"#f0f921\"]], \"sequentialminus\": [[0.0, \"#0d0887\"], [0.1111111111111111, \"#46039f\"], [0.2222222222222222, \"#7201a8\"], [0.3333333333333333, \"#9c179e\"], [0.4444444444444444, \"#bd3786\"], [0.5555555555555556, \"#d8576b\"], [0.6666666666666666, \"#ed7953\"], [0.7777777777777778, \"#fb9f3a\"], [0.8888888888888888, \"#fdca26\"], [1.0, \"#f0f921\"]]}, \"colorway\": [\"#636efa\", \"#EF553B\", \"#00cc96\", \"#ab63fa\", \"#FFA15A\", \"#19d3f3\", \"#FF6692\", \"#B6E880\", \"#FF97FF\", \"#FECB52\"], \"font\": {\"color\": \"#2a3f5f\"}, \"geo\": {\"bgcolor\": \"white\", \"lakecolor\": \"white\", \"landcolor\": \"#E5ECF6\", \"showlakes\": true, \"showland\": true, \"subunitcolor\": \"white\"}, \"hoverlabel\": {\"align\": \"left\"}, \"hovermode\": \"closest\", \"mapbox\": {\"style\": \"light\"}, \"paper_bgcolor\": \"white\", \"plot_bgcolor\": \"#E5ECF6\", \"polar\": {\"angularaxis\": {\"gridcolor\": \"white\", \"linecolor\": \"white\", \"ticks\": \"\"}, \"bgcolor\": \"#E5ECF6\", \"radialaxis\": {\"gridcolor\": \"white\", \"linecolor\": \"white\", \"ticks\": \"\"}}, \"scene\": {\"xaxis\": {\"backgroundcolor\": \"#E5ECF6\", \"gridcolor\": \"white\", \"gridwidth\": 2, \"linecolor\": \"white\", \"showbackground\": true, \"ticks\": \"\", \"zerolinecolor\": \"white\"}, \"yaxis\": {\"backgroundcolor\": \"#E5ECF6\", \"gridcolor\": \"white\", \"gridwidth\": 2, \"linecolor\": \"white\", \"showbackground\": true, \"ticks\": \"\", \"zerolinecolor\": \"white\"}, \"zaxis\": {\"backgroundcolor\": \"#E5ECF6\", \"gridcolor\": \"white\", \"gridwidth\": 2, \"linecolor\": \"white\", \"showbackground\": true, \"ticks\": \"\", \"zerolinecolor\": \"white\"}}, \"shapedefaults\": {\"line\": {\"color\": \"#2a3f5f\"}}, \"ternary\": {\"aaxis\": {\"gridcolor\": \"white\", \"linecolor\": \"white\", \"ticks\": \"\"}, \"baxis\": {\"gridcolor\": \"white\", \"linecolor\": \"white\", \"ticks\": \"\"}, \"bgcolor\": \"#E5ECF6\", \"caxis\": {\"gridcolor\": \"white\", \"linecolor\": \"white\", \"ticks\": \"\"}}, \"title\": {\"x\": 0.05}, \"xaxis\": {\"automargin\": true, \"gridcolor\": \"white\", \"linecolor\": \"white\", \"ticks\": \"\", \"title\": {\"standoff\": 15}, \"zerolinecolor\": \"white\", \"zerolinewidth\": 2}, \"yaxis\": {\"automargin\": true, \"gridcolor\": \"white\", \"linecolor\": \"white\", \"ticks\": \"\", \"title\": {\"standoff\": 15}, \"zerolinecolor\": \"white\", \"zerolinewidth\": 2}}}, \"title\": {\"text\": \"Log return of stock_id_0, time_id_5\"}, \"xaxis\": {\"anchor\": \"y\", \"domain\": [0.0, 1.0], \"title\": {\"text\": \"seconds_in_bucket\"}}, \"yaxis\": {\"anchor\": \"x\", \"domain\": [0.0, 1.0], \"title\": {\"text\": \"log_return\"}}},                        {\"responsive\": true}                    ).then(function(){\n",
       "                            \n",
       "var gd = document.getElementById('f1dee02e-5e20-45dc-bb44-be91c196fa70');\n",
       "var x = new MutationObserver(function (mutations, observer) {{\n",
       "        var display = window.getComputedStyle(gd).display;\n",
       "        if (!display || display === 'none') {{\n",
       "            console.log([gd, 'removed!']);\n",
       "            Plotly.purge(gd);\n",
       "            observer.disconnect();\n",
       "        }}\n",
       "}});\n",
       "\n",
       "// Listen for the removal of the full notebook cells\n",
       "var notebookContainer = gd.closest('#notebook-container');\n",
       "if (notebookContainer) {{\n",
       "    x.observe(notebookContainer, {childList: true});\n",
       "}}\n",
       "\n",
       "// Listen for the clearing of the current output cell\n",
       "var outputEl = gd.closest('.output');\n",
       "if (outputEl) {{\n",
       "    x.observe(outputEl, {childList: true});\n",
       "}}\n",
       "\n",
       "                        })                };                });            </script>        </div>"
      ]
     },
     "metadata": {},
     "output_type": "display_data"
    }
   ],
   "source": [
    "fig = px.line(book_example, x=\"seconds_in_bucket\", y=\"log_return\", title='Log return of stock_id_0, time_id_5')\n",
    "fig.show()"
   ]
  },
  {
   "cell_type": "markdown",
   "id": "vital-fountain",
   "metadata": {
    "papermill": {
     "duration": 0.036272,
     "end_time": "2021-07-01T09:53:09.692447",
     "exception": false,
     "start_time": "2021-07-01T09:53:09.656175",
     "status": "completed"
    },
    "tags": []
   },
   "source": [
    "The realized vol of stock 0 in this feature bucket, will be:"
   ]
  },
  {
   "cell_type": "code",
   "execution_count": 10,
   "id": "cubic-pepper",
   "metadata": {
    "execution": {
     "iopub.execute_input": "2021-07-01T09:53:09.771860Z",
     "iopub.status.busy": "2021-07-01T09:53:09.771044Z",
     "iopub.status.idle": "2021-07-01T09:53:09.774954Z",
     "shell.execute_reply": "2021-07-01T09:53:09.774136Z",
     "shell.execute_reply.started": "2021-06-25T12:19:49.311443Z"
    },
    "papermill": {
     "duration": 0.04627,
     "end_time": "2021-07-01T09:53:09.775170",
     "exception": false,
     "start_time": "2021-07-01T09:53:09.728900",
     "status": "completed"
    },
    "tags": []
   },
   "outputs": [
    {
     "name": "stdout",
     "output_type": "stream",
     "text": [
      "Realized volatility for stock_id 0 on time_id 5 is 0.004499364172786558\n"
     ]
    }
   ],
   "source": [
    "def realized_volatility(series_log_return):\n",
    "    return np.sqrt(np.sum(series_log_return**2))\n",
    "realized_vol = realized_volatility(book_example['log_return'])\n",
    "print(f'Realized volatility for stock_id 0 on time_id 5 is {realized_vol}')"
   ]
  },
  {
   "cell_type": "markdown",
   "id": "sound-military",
   "metadata": {
    "papermill": {
     "duration": 0.036892,
     "end_time": "2021-07-01T09:53:09.854364",
     "exception": false,
     "start_time": "2021-07-01T09:53:09.817472",
     "status": "completed"
    },
    "tags": []
   },
   "source": [
    "# Naive prediction: using past realized volatility as target"
   ]
  },
  {
   "cell_type": "markdown",
   "id": "engaging-robinson",
   "metadata": {
    "papermill": {
     "duration": 0.036274,
     "end_time": "2021-07-01T09:53:09.927655",
     "exception": false,
     "start_time": "2021-07-01T09:53:09.891381",
     "status": "completed"
    },
    "tags": []
   },
   "source": [
    "A commonly known fact about volatility is that it tends to be autocorrelated. We can use this property to implement a naive model that just \"predicts\" realized volatility by using whatever the realized volatility was in the initial 10 minutes.\n",
    "\n",
    "Let's calculate the past realized volatility across the training set to see how predictive a single naive signal can be."
   ]
  },
  {
   "cell_type": "code",
   "execution_count": 11,
   "id": "assured-surgeon",
   "metadata": {
    "execution": {
     "iopub.execute_input": "2021-07-01T09:53:10.006887Z",
     "iopub.status.busy": "2021-07-01T09:53:10.006103Z",
     "iopub.status.idle": "2021-07-01T09:53:10.805140Z",
     "shell.execute_reply": "2021-07-01T09:53:10.804444Z",
     "shell.execute_reply.started": "2021-06-22T17:58:30.665865Z"
    },
    "papermill": {
     "duration": 0.840368,
     "end_time": "2021-07-01T09:53:10.805328",
     "exception": false,
     "start_time": "2021-07-01T09:53:09.964960",
     "status": "completed"
    },
    "tags": []
   },
   "outputs": [],
   "source": [
    "import os\n",
    "from sklearn.metrics import r2_score\n",
    "import glob\n",
    "list_order_book_file_train = glob.glob('/kaggle/input/optiver-realized-volatility-prediction/book_train.parquet/*')"
   ]
  },
  {
   "cell_type": "markdown",
   "id": "civil-travel",
   "metadata": {
    "papermill": {
     "duration": 0.036286,
     "end_time": "2021-07-01T09:53:10.880073",
     "exception": false,
     "start_time": "2021-07-01T09:53:10.843787",
     "status": "completed"
    },
    "tags": []
   },
   "source": [
    "As the data is partitioned by stock_id in this competition to allow Kagglers better manage the memory, we try to calculcate realized volatility stock by stock and combine them into one submission file. Note that the stock id as the partition column is not present if we load the single file so we will remedy that manually. We will reuse the log return and realized volatility functions defined in the previous session."
   ]
  },
  {
   "cell_type": "code",
   "execution_count": 12,
   "id": "floral-issue",
   "metadata": {
    "execution": {
     "iopub.execute_input": "2021-07-01T09:53:10.962729Z",
     "iopub.status.busy": "2021-07-01T09:53:10.961819Z",
     "iopub.status.idle": "2021-07-01T09:53:10.964932Z",
     "shell.execute_reply": "2021-07-01T09:53:10.964265Z",
     "shell.execute_reply.started": "2021-06-22T18:31:38.919927Z"
    },
    "papermill": {
     "duration": 0.048386,
     "end_time": "2021-07-01T09:53:10.965080",
     "exception": false,
     "start_time": "2021-07-01T09:53:10.916694",
     "status": "completed"
    },
    "tags": []
   },
   "outputs": [],
   "source": [
    "def realized_volatility_per_time_id(file_path, prediction_column_name):\n",
    "    df_book_data = pd.read_parquet(file_path)\n",
    "    df_book_data['wap'] =(df_book_data['bid_price1'] * df_book_data['ask_size1']+df_book_data['ask_price1'] * df_book_data['bid_size1'])  / (\n",
    "                                      df_book_data['bid_size1']+ df_book_data[\n",
    "                                  'ask_size1'])\n",
    "    df_book_data['log_return'] = df_book_data.groupby(['time_id'])['wap'].apply(log_return)\n",
    "    df_book_data = df_book_data[~df_book_data['log_return'].isnull()]\n",
    "    df_realized_vol_per_stock =  pd.DataFrame(df_book_data.groupby(['time_id'])['log_return'].agg(realized_volatility)).reset_index()\n",
    "    df_realized_vol_per_stock = df_realized_vol_per_stock.rename(columns = {'log_return':prediction_column_name})\n",
    "    stock_id = file_path.split('=')[1]\n",
    "    df_realized_vol_per_stock['row_id'] = df_realized_vol_per_stock['time_id'].apply(lambda x:f'{stock_id}-{x}')\n",
    "    return df_realized_vol_per_stock[['row_id',prediction_column_name]]"
   ]
  },
  {
   "cell_type": "markdown",
   "id": "positive-builder",
   "metadata": {
    "papermill": {
     "duration": 0.037035,
     "end_time": "2021-07-01T09:53:11.038943",
     "exception": false,
     "start_time": "2021-07-01T09:53:11.001908",
     "status": "completed"
    },
    "tags": []
   },
   "source": [
    "Looping through each individual stocks, we can get the past realized volatility as prediction for each individual stocks."
   ]
  },
  {
   "cell_type": "code",
   "execution_count": 13,
   "id": "accredited-instrument",
   "metadata": {
    "execution": {
     "iopub.execute_input": "2021-07-01T09:53:11.126495Z",
     "iopub.status.busy": "2021-07-01T09:53:11.125498Z",
     "iopub.status.idle": "2021-07-01T10:00:27.839685Z",
     "shell.execute_reply": "2021-07-01T10:00:27.840285Z",
     "shell.execute_reply.started": "2021-06-22T18:01:24.770106Z"
    },
    "papermill": {
     "duration": 436.763144,
     "end_time": "2021-07-01T10:00:27.840523",
     "exception": false,
     "start_time": "2021-07-01T09:53:11.077379",
     "status": "completed"
    },
    "tags": []
   },
   "outputs": [],
   "source": [
    "def past_realized_volatility_per_stock(list_file,prediction_column_name):\n",
    "    df_past_realized = pd.DataFrame()\n",
    "    for file in list_file:\n",
    "        df_past_realized = pd.concat([df_past_realized,\n",
    "                                     realized_volatility_per_time_id(file,prediction_column_name)])\n",
    "    return df_past_realized\n",
    "df_past_realized_train = past_realized_volatility_per_stock(list_file=list_order_book_file_train,\n",
    "                                                           prediction_column_name='pred')"
   ]
  },
  {
   "cell_type": "markdown",
   "id": "figured-standard",
   "metadata": {
    "papermill": {
     "duration": 0.036845,
     "end_time": "2021-07-01T10:00:27.915044",
     "exception": false,
     "start_time": "2021-07-01T10:00:27.878199",
     "status": "completed"
    },
    "tags": []
   },
   "source": [
    "Let's join the output dataframe with train.csv to see the performance of the naive prediction on training set."
   ]
  },
  {
   "cell_type": "code",
   "execution_count": 14,
   "id": "explicit-stack",
   "metadata": {
    "execution": {
     "iopub.execute_input": "2021-07-01T10:00:27.995375Z",
     "iopub.status.busy": "2021-07-01T10:00:27.993982Z",
     "iopub.status.idle": "2021-07-01T10:00:29.763803Z",
     "shell.execute_reply": "2021-07-01T10:00:29.764351Z",
     "shell.execute_reply.started": "2021-06-22T18:13:50.129028Z"
    },
    "papermill": {
     "duration": 1.811358,
     "end_time": "2021-07-01T10:00:29.764555",
     "exception": false,
     "start_time": "2021-07-01T10:00:27.953197",
     "status": "completed"
    },
    "tags": []
   },
   "outputs": [],
   "source": [
    "train['row_id'] = train['stock_id'].astype(str) + '-' + train['time_id'].astype(str)\n",
    "train = train[['row_id','target']]\n",
    "df_joined = train.merge(df_past_realized_train[['row_id','pred']], on = ['row_id'], how = 'left')"
   ]
  },
  {
   "cell_type": "markdown",
   "id": "disciplinary-electricity",
   "metadata": {
    "papermill": {
     "duration": 0.03818,
     "end_time": "2021-07-01T10:00:29.840303",
     "exception": false,
     "start_time": "2021-07-01T10:00:29.802123",
     "status": "completed"
    },
    "tags": []
   },
   "source": [
    "We will evaluate the naive prediction result by two metrics: RMSPE and R squared. "
   ]
  },
  {
   "cell_type": "code",
   "execution_count": 15,
   "id": "scenic-street",
   "metadata": {
    "execution": {
     "iopub.execute_input": "2021-07-01T10:00:29.918198Z",
     "iopub.status.busy": "2021-07-01T10:00:29.917200Z",
     "iopub.status.idle": "2021-07-01T10:00:29.935831Z",
     "shell.execute_reply": "2021-07-01T10:00:29.936358Z",
     "shell.execute_reply.started": "2021-06-22T18:13:54.853239Z"
    },
    "papermill": {
     "duration": 0.059449,
     "end_time": "2021-07-01T10:00:29.936550",
     "exception": false,
     "start_time": "2021-07-01T10:00:29.877101",
     "status": "completed"
    },
    "tags": []
   },
   "outputs": [
    {
     "name": "stdout",
     "output_type": "stream",
     "text": [
      "Performance of the naive prediction: R2 score: 0.628, RMSPE: 0.341\n"
     ]
    }
   ],
   "source": [
    "from sklearn.metrics import r2_score\n",
    "def rmspe(y_true, y_pred):\n",
    "    return  (np.sqrt(np.mean(np.square((y_true - y_pred) / y_true))))\n",
    "R2 = round(r2_score(y_true = df_joined['target'], y_pred = df_joined['pred']),3)\n",
    "RMSPE = round(rmspe(y_true = df_joined['target'], y_pred = df_joined['pred']),3)\n",
    "print(f'Performance of the naive prediction: R2 score: {R2}, RMSPE: {RMSPE}')"
   ]
  },
  {
   "cell_type": "markdown",
   "id": "unique-celebrity",
   "metadata": {
    "papermill": {
     "duration": 0.038329,
     "end_time": "2021-07-01T10:00:30.015597",
     "exception": false,
     "start_time": "2021-07-01T10:00:29.977268",
     "status": "completed"
    },
    "tags": []
   },
   "source": [
    "The performance of the naive model is not amazing but as a benchmark it is a reasonable start."
   ]
  },
  {
   "cell_type": "markdown",
   "id": "protective-feeding",
   "metadata": {
    "papermill": {
     "duration": 0.039268,
     "end_time": "2021-07-01T10:00:30.096729",
     "exception": false,
     "start_time": "2021-07-01T10:00:30.057461",
     "status": "completed"
    },
    "tags": []
   },
   "source": [
    "# Submission"
   ]
  },
  {
   "cell_type": "markdown",
   "id": "measured-serum",
   "metadata": {
    "execution": {
     "iopub.execute_input": "2021-06-09T15:25:51.89209Z",
     "iopub.status.busy": "2021-06-09T15:25:51.891717Z",
     "iopub.status.idle": "2021-06-09T15:25:51.898582Z",
     "shell.execute_reply": "2021-06-09T15:25:51.89729Z",
     "shell.execute_reply.started": "2021-06-09T15:25:51.892059Z"
    },
    "papermill": {
     "duration": 0.037045,
     "end_time": "2021-07-01T10:00:30.172395",
     "exception": false,
     "start_time": "2021-07-01T10:00:30.135350",
     "status": "completed"
    },
    "tags": []
   },
   "source": [
    "As a last step, we will make a submission via the tutorial notebook -- through a file written to output folder.  The naive submission scored a RMSPE 0.327 on public LB, the room of improvement is big for sure!"
   ]
  },
  {
   "cell_type": "code",
   "execution_count": 16,
   "id": "working-printing",
   "metadata": {
    "execution": {
     "iopub.execute_input": "2021-07-01T10:00:30.252002Z",
     "iopub.status.busy": "2021-07-01T10:00:30.251274Z",
     "iopub.status.idle": "2021-07-01T10:00:30.287910Z",
     "shell.execute_reply": "2021-07-01T10:00:30.287332Z",
     "shell.execute_reply.started": "2021-06-22T18:31:41.736997Z"
    },
    "papermill": {
     "duration": 0.078466,
     "end_time": "2021-07-01T10:00:30.288069",
     "exception": false,
     "start_time": "2021-07-01T10:00:30.209603",
     "status": "completed"
    },
    "tags": []
   },
   "outputs": [],
   "source": [
    "list_order_book_file_test = glob.glob('/kaggle/input/optiver-realized-volatility-prediction/book_test.parquet/*')\n",
    "df_naive_pred_test = past_realized_volatility_per_stock(list_file=list_order_book_file_test,\n",
    "                                                           prediction_column_name='target')\n",
    "df_naive_pred_test.to_csv('submission.csv',index = False)"
   ]
  },
  {
   "cell_type": "markdown",
   "id": "sustainable-differential",
   "metadata": {
    "papermill": {
     "duration": 0.037423,
     "end_time": "2021-07-01T10:00:30.366485",
     "exception": false,
     "start_time": "2021-07-01T10:00:30.329062",
     "status": "completed"
    },
    "tags": []
   },
   "source": [
    "Note that in this competition, there will be only few rows of test data that can be downloaded. The actual evaluation program will run in background after you commit the notebook and manually submit the output. Please check to [code requirement](https://www.kaggle.com/c/optiver-realized-volatility-prediction/overview/code-requirements) for more explanation."
   ]
  },
  {
   "cell_type": "markdown",
   "id": "systematic-ballot",
   "metadata": {
    "papermill": {
     "duration": 0.036667,
     "end_time": "2021-07-01T10:00:30.440163",
     "exception": false,
     "start_time": "2021-07-01T10:00:30.403496",
     "status": "completed"
    },
    "tags": []
   },
   "source": [
    "The private leaderboard will be built against the real market data collected after the training period, therefore the public and private leaderboard data will have zero overlap. It will be exciting to get your model tested against the live market! As this competition will provide a very rich dataset representing market microstructure, there is unlimited amount of signals one can come up with. It is all on you, good luck! We at Optiver are really looking forward to learn from the talented Kaggle community!\n",
    "\n",
    "If you have any question about this notebook or the financial concepts behind it, feel free to ask in the comment section and we will make sure your questions get answered. \n",
    "\n",
    "Good luck!"
   ]
  }
 ],
 "metadata": {
  "kernelspec": {
   "display_name": "Python 3",
   "language": "python",
   "name": "python3"
  },
  "language_info": {
   "codemirror_mode": {
    "name": "ipython",
    "version": 3
   },
   "file_extension": ".py",
   "mimetype": "text/x-python",
   "name": "python",
   "nbconvert_exporter": "python",
   "pygments_lexer": "ipython3",
   "version": "3.7.10"
  },
  "papermill": {
   "default_parameters": {},
   "duration": 458.049723,
   "end_time": "2021-07-01T10:00:32.262570",
   "environment_variables": {},
   "exception": null,
   "input_path": "__notebook__.ipynb",
   "output_path": "__notebook__.ipynb",
   "parameters": {},
   "start_time": "2021-07-01T09:52:54.212847",
   "version": "2.3.3"
  }
 },
 "nbformat": 4,
 "nbformat_minor": 5
}
