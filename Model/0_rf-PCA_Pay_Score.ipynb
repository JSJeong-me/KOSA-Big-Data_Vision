{
  "nbformat": 4,
  "nbformat_minor": 0,
  "metadata": {
    "colab": {
      "name": "09-17.ipynb",
      "provenance": [],
      "authorship_tag": "ABX9TyNTtZT3gyHGF/ZHI/SN3GmY",
      "include_colab_link": true
    },
    "kernelspec": {
      "display_name": "Python 3",
      "name": "python3"
    },
    "language_info": {
      "name": "python"
    }
  },
  "cells": [
    {
      "cell_type": "markdown",
      "metadata": {
        "id": "view-in-github",
        "colab_type": "text"
      },
      "source": [
        "<a href=\"https://colab.research.google.com/github/JSJeong-me/KOSA-Big-Data_Vision/blob/main/Model/0_rf-PCA_Pay_Score.ipynb\" target=\"_parent\"><img src=\"https://colab.research.google.com/assets/colab-badge.svg\" alt=\"Open In Colab\"/></a>"
      ]
    },
    {
      "cell_type": "code",
      "metadata": {
        "id": "oVc3ov20k6H0"
      },
      "source": [
        "!pip install -U pandas-profiling"
      ],
      "execution_count": null,
      "outputs": []
    },
    {
      "cell_type": "code",
      "metadata": {
        "id": "J2oEQELXj8My"
      },
      "source": [
        "import pandas as pd"
      ],
      "execution_count": 1,
      "outputs": []
    },
    {
      "cell_type": "code",
      "metadata": {
        "id": "OxYrBBoUkSV1"
      },
      "source": [
        "import pandas_profiling"
      ],
      "execution_count": null,
      "outputs": []
    },
    {
      "cell_type": "code",
      "metadata": {
        "id": "W9yLEIlbkRRc"
      },
      "source": [
        "df = pd.read_csv('credit_cards_dataset.csv')"
      ],
      "execution_count": 2,
      "outputs": []
    },
    {
      "cell_type": "code",
      "metadata": {
        "id": "TX9HFEK8kfND"
      },
      "source": [
        "df.head(3)"
      ],
      "execution_count": null,
      "outputs": []
    },
    {
      "cell_type": "code",
      "metadata": {
        "colab": {
          "background_save": true
        },
        "id": "ZSn_u173lPtE"
      },
      "source": [
        "df.profile_report()"
      ],
      "execution_count": null,
      "outputs": []
    },
    {
      "cell_type": "code",
      "metadata": {
        "id": "0qiVoorapwFG"
      },
      "source": [
        "df.corr(method='spearman')"
      ],
      "execution_count": null,
      "outputs": []
    },
    {
      "cell_type": "code",
      "metadata": {
        "id": "piA7L8-uOxc6"
      },
      "source": [
        "df.columns"
      ],
      "execution_count": null,
      "outputs": []
    },
    {
      "cell_type": "markdown",
      "metadata": {
        "id": "8Qrq0GJpNrez"
      },
      "source": [
        "PCA for Pay_Score Bill_Amount Pay_Amount"
      ]
    },
    {
      "cell_type": "code",
      "metadata": {
        "id": "X6Xy17irNpqx"
      },
      "source": [
        "from sklearn.decomposition import PCA"
      ],
      "execution_count": 3,
      "outputs": []
    },
    {
      "cell_type": "code",
      "metadata": {
        "id": "0R-xYhypOeNt"
      },
      "source": [
        "df_X_Pay_Score = df[['PAY_0','PAY_2', 'PAY_3', 'PAY_4', 'PAY_5', 'PAY_6']]"
      ],
      "execution_count": 5,
      "outputs": []
    },
    {
      "cell_type": "code",
      "metadata": {
        "id": "R78ZfS4IOb0N"
      },
      "source": [
        "df_X_Pay_Score.head(3)"
      ],
      "execution_count": null,
      "outputs": []
    },
    {
      "cell_type": "markdown",
      "metadata": {
        "id": "mxV8ES8NPGbE"
      },
      "source": [
        "PCA instance 생성"
      ]
    },
    {
      "cell_type": "code",
      "metadata": {
        "id": "3OJKLXfvPAN_"
      },
      "source": [
        "trans = PCA(n_components=1)"
      ],
      "execution_count": 10,
      "outputs": []
    },
    {
      "cell_type": "code",
      "metadata": {
        "id": "cGLU5GIIPS3i"
      },
      "source": [
        "X_Pay_Score = df_X_Pay_Score.values"
      ],
      "execution_count": 11,
      "outputs": []
    },
    {
      "cell_type": "code",
      "metadata": {
        "id": "SzI07uC3PJ_2"
      },
      "source": [
        "# transform the data\n",
        "X_dim = trans.fit_transform(X_Pay_Score)"
      ],
      "execution_count": 12,
      "outputs": []
    },
    {
      "cell_type": "code",
      "metadata": {
        "id": "pTsxFlvCPkbO",
        "outputId": "4f1fbb0a-8a0e-40cb-8b22-8449d6ce1e73",
        "colab": {
          "base_uri": "https://localhost:8080/"
        }
      },
      "source": [
        "X_dim.shape"
      ],
      "execution_count": 13,
      "outputs": [
        {
          "output_type": "execute_result",
          "data": {
            "text/plain": [
              "(30000, 1)"
            ]
          },
          "metadata": {},
          "execution_count": 13
        }
      ]
    },
    {
      "cell_type": "code",
      "metadata": {
        "id": "bhV_bpuiQzgS"
      },
      "source": [
        "df_X_dim = pd.DataFrame(X_dim, columns=['Pay_AVR'])"
      ],
      "execution_count": 22,
      "outputs": []
    },
    {
      "cell_type": "markdown",
      "metadata": {
        "id": "R4eeaiBpLG4p"
      },
      "source": [
        "목표변수 : default.payment.next.month  Input 데이터 셋: X"
      ]
    },
    {
      "cell_type": "markdown",
      "metadata": {
        "id": "TAuFRBfKK0i4"
      },
      "source": [
        ""
      ]
    },
    {
      "cell_type": "code",
      "metadata": {
        "id": "sXXFfgqZQLG2"
      },
      "source": [
        "df = pd.concat([df, df_X_dim], axis=1)"
      ],
      "execution_count": 23,
      "outputs": []
    },
    {
      "cell_type": "code",
      "metadata": {
        "id": "MGdmERbQRUgs"
      },
      "source": [
        "df.head(3)"
      ],
      "execution_count": null,
      "outputs": []
    },
    {
      "cell_type": "code",
      "metadata": {
        "id": "72UQxDzBKtIb"
      },
      "source": [
        "X = df.drop(['PAY_0','PAY_2', 'PAY_3', 'PAY_4', 'PAY_5', 'PAY_6','default.payment.next.month'], axis =1).values"
      ],
      "execution_count": 26,
      "outputs": []
    },
    {
      "cell_type": "code",
      "metadata": {
        "id": "i1UYQJ_GRnIh"
      },
      "source": [
        ""
      ],
      "execution_count": null,
      "outputs": []
    },
    {
      "cell_type": "code",
      "metadata": {
        "id": "ugzidzUvP1BC"
      },
      "source": [
        "y = df['default.payment.next.month'].values"
      ],
      "execution_count": 27,
      "outputs": []
    },
    {
      "cell_type": "markdown",
      "metadata": {
        "id": "jH-rAGZDKloy"
      },
      "source": [
        "Train Test Data Set 분리"
      ]
    },
    {
      "cell_type": "code",
      "metadata": {
        "id": "HkLXrznZKwyw"
      },
      "source": [
        "from sklearn.model_selection import train_test_split"
      ],
      "execution_count": 28,
      "outputs": []
    },
    {
      "cell_type": "code",
      "metadata": {
        "id": "KE16UHPEKf-r"
      },
      "source": [
        "X_train, X_test, y_train, y_test = train_test_split(X, y, train_size=0.7, random_state=42, shuffle=True)"
      ],
      "execution_count": 29,
      "outputs": []
    },
    {
      "cell_type": "markdown",
      "metadata": {
        "id": "mnnP47NHLKLa"
      },
      "source": [
        "RandomForest 모델 생성 및 학습"
      ]
    },
    {
      "cell_type": "code",
      "metadata": {
        "id": "1e-k-8OoLLCA"
      },
      "source": [
        "from sklearn.ensemble import RandomForestClassifier"
      ],
      "execution_count": 30,
      "outputs": []
    },
    {
      "cell_type": "code",
      "metadata": {
        "id": "dmjztqOeLRg9"
      },
      "source": [
        "rf = RandomForestClassifier(n_estimators=200, criterion='entropy', max_features='log2', max_depth=15)"
      ],
      "execution_count": 31,
      "outputs": []
    },
    {
      "cell_type": "code",
      "metadata": {
        "id": "SaZYSTKJLb2L",
        "colab": {
          "base_uri": "https://localhost:8080/"
        },
        "outputId": "9b5c8be0-44c6-48fb-b95a-40bde1d193c5"
      },
      "source": [
        "rf.fit(X_train, y_train)"
      ],
      "execution_count": 32,
      "outputs": [
        {
          "output_type": "execute_result",
          "data": {
            "text/plain": [
              "RandomForestClassifier(bootstrap=True, ccp_alpha=0.0, class_weight=None,\n",
              "                       criterion='entropy', max_depth=15, max_features='log2',\n",
              "                       max_leaf_nodes=None, max_samples=None,\n",
              "                       min_impurity_decrease=0.0, min_impurity_split=None,\n",
              "                       min_samples_leaf=1, min_samples_split=2,\n",
              "                       min_weight_fraction_leaf=0.0, n_estimators=200,\n",
              "                       n_jobs=None, oob_score=False, random_state=None,\n",
              "                       verbose=0, warm_start=False)"
            ]
          },
          "metadata": {},
          "execution_count": 32
        }
      ]
    },
    {
      "cell_type": "code",
      "metadata": {
        "id": "KY8ZQWnFLf5V"
      },
      "source": [
        "y_predict = rf.predict(X_test)"
      ],
      "execution_count": 33,
      "outputs": []
    },
    {
      "cell_type": "code",
      "metadata": {
        "id": "x-3YxKw5MNJV"
      },
      "source": [
        ""
      ],
      "execution_count": null,
      "outputs": []
    },
    {
      "cell_type": "markdown",
      "metadata": {
        "id": "llfsv0hDLqLR"
      },
      "source": [
        "모델 성능 평가"
      ]
    },
    {
      "cell_type": "code",
      "metadata": {
        "id": "bppBSIIuL2A5"
      },
      "source": [
        "from sklearn.metrics import confusion_matrix"
      ],
      "execution_count": 34,
      "outputs": []
    },
    {
      "cell_type": "code",
      "metadata": {
        "id": "AkhkW4GjMBnd"
      },
      "source": [
        "import matplotlib.pyplot as plt"
      ],
      "execution_count": 35,
      "outputs": []
    },
    {
      "cell_type": "code",
      "metadata": {
        "id": "lZLcamTcMejL"
      },
      "source": [
        "import numpy as np"
      ],
      "execution_count": 36,
      "outputs": []
    },
    {
      "cell_type": "code",
      "metadata": {
        "id": "Cn1VujhsMnKJ"
      },
      "source": [
        "import itertools"
      ],
      "execution_count": 37,
      "outputs": []
    },
    {
      "cell_type": "code",
      "metadata": {
        "id": "pQoGcLq0LpUt"
      },
      "source": [
        "def plot_confusion_matrix(cm, classes,\n",
        "                          normalize=False,\n",
        "                          title='Confusion matrix',\n",
        "                          cmap=plt.cm.Blues):\n",
        "    if normalize:\n",
        "        cm = cm.astype('float') / cm.sum(axis=1)[:, np.newaxis]\n",
        "        print(\"Normalized confusion matrix\")\n",
        "    else:\n",
        "        print('Confusion matrix, without normalization')\n",
        "\n",
        "    print(cm)\n",
        "    \n",
        "    plt.imshow(cm, interpolation='nearest', cmap=cmap)\n",
        "    plt.title(title)\n",
        "    plt.colorbar()\n",
        "    tick_marks = np.arange(len(classes))\n",
        "    plt.xticks(tick_marks, classes, rotation=45)\n",
        "    plt.yticks(tick_marks, classes)\n",
        "\n",
        "    fmt = '.2f' if normalize else 'd'\n",
        "    thresh = cm.max() / 2.\n",
        "    for i, j in itertools.product(range(cm.shape[0]), range(cm.shape[1])):\n",
        "        plt.text(j, i, format(cm[i, j], fmt),\n",
        "                 horizontalalignment=\"center\",\n",
        "                 color=\"white\" if cm[i, j] > thresh else \"black\")"
      ],
      "execution_count": 38,
      "outputs": []
    },
    {
      "cell_type": "code",
      "metadata": {
        "id": "7C_cto_wMGSG",
        "colab": {
          "base_uri": "https://localhost:8080/",
          "height": 375
        },
        "outputId": "e95b6450-f7af-4ed2-a843-fa8619fa132d"
      },
      "source": [
        "cnf_matrix = confusion_matrix(y_test, y_predict)\n",
        "plt.figure()\n",
        "plot_confusion_matrix(cnf_matrix, classes=['Non_Default','Default'], normalize=False,\n",
        "                      title='Non Normalized confusion matrix')"
      ],
      "execution_count": 39,
      "outputs": [
        {
          "output_type": "stream",
          "name": "stdout",
          "text": [
            "Confusion matrix, without normalization\n",
            "[[6613  427]\n",
            " [1261  699]]\n"
          ]
        },
        {
          "output_type": "display_data",
          "data": {
            "image/png": "[encoded data removed]",
            "text/plain": [
              "<Figure size 432x288 with 2 Axes>"
            ]
          },
          "metadata": {
            "needs_background": "light"
          }
        }
      ]
    },
    {
      "cell_type": "code",
      "metadata": {
        "id": "KdvLweVsMwxE"
      },
      "source": [
        "from sklearn.metrics import recall_score"
      ],
      "execution_count": null,
      "outputs": []
    },
    {
      "cell_type": "code",
      "metadata": {
        "id": "ib6E6RzoMzob",
        "colab": {
          "base_uri": "https://localhost:8080/"
        },
        "outputId": "11c6edea-4209-44aa-b3c4-1f2117a63a9c"
      },
      "source": [
        "print(\"Recall score:\"+ str(recall_score(y_test, y_predict)))"
      ],
      "execution_count": null,
      "outputs": [
        {
          "output_type": "stream",
          "name": "stdout",
          "text": [
            "Recall score:0.3566326530612245\n"
          ]
        }
      ]
    }
  ]
}