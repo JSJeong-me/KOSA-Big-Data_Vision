{
  "nbformat": 4,
  "nbformat_minor": 0,
  "metadata": {
    "kernelspec": {
      "display_name": "Python 3",
      "language": "python",
      "name": "python3"
    },
    "language_info": {
      "codemirror_mode": {
        "name": "ipython",
        "version": 3
      },
      "file_extension": ".py",
      "mimetype": "text/x-python",
      "name": "python",
      "nbconvert_exporter": "python",
      "pygments_lexer": "ipython3",
      "version": "3.7.6"
    },
    "colab": {
      "name": "lgbm.ipynb",
      "provenance": [],
      "include_colab_link": true
    },
    "accelerator": "GPU"
  },
  "cells": [
    {
      "cell_type": "markdown",
      "metadata": {
        "id": "view-in-github",
        "colab_type": "text"
      },
      "source": [
        "<a href=\"https://colab.research.google.com/github/JSJeong-me/KOSA-Big-Data_Vision/blob/main/Model/01-lgbm-SMOTE-Model-Save.ipynb\" target=\"_parent\"><img src=\"https://colab.research.google.com/assets/colab-badge.svg\" alt=\"Open In Colab\"/></a>"
      ]
    },
    {
      "cell_type": "markdown",
      "metadata": {
        "id": "gBFOpPbwQesK"
      },
      "source": [
        "### Microsoft https://github.com/microsoft/LightGBM"
      ]
    },
    {
      "cell_type": "markdown",
      "metadata": {
        "id": "_AJ0qNS6enHy"
      },
      "source": [
        "![download.png](data:image/png;base64,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)"
      ]
    },
    {
      "cell_type": "code",
      "metadata": {
        "id": "BUufWch4QYGd"
      },
      "source": [
        "#Import modules\n",
        "import numpy as np\n",
        "import pandas as pd\n",
        "import seaborn as sns\n",
        "import matplotlib.pyplot as plt\n",
        "import lightgbm as lgb\n",
        "from sklearn.model_selection import train_test_split, GridSearchCV\n",
        "from sklearn.metrics import confusion_matrix,accuracy_score, roc_curve, auc\n",
        "sns.set_style(\"whitegrid\")"
      ],
      "execution_count": 1,
      "outputs": []
    },
    {
      "cell_type": "code",
      "metadata": {
        "id": "EB6HgVUUQYGf"
      },
      "source": [
        "#Import data\n",
        "df = pd.read_csv('./credit_cards_pca.csv')"
      ],
      "execution_count": 2,
      "outputs": []
    },
    {
      "cell_type": "code",
      "metadata": {
        "id": "IFfzWWBo9D52",
        "outputId": "35ba40ae-b1d3-4777-bdb2-1786e72ec08b",
        "colab": {
          "base_uri": "https://localhost:8080/"
        }
      },
      "source": [
        "df.columns"
      ],
      "execution_count": 3,
      "outputs": [
        {
          "output_type": "execute_result",
          "data": {
            "text/plain": [
              "Index(['ID', 'LIMIT_BAL', 'SEX', 'EDUCATION', 'MARRIAGE', 'AGE', 'Pay_AVR',\n",
              "       'Bill_AVR', 'P_AMT_AVR', 'default.payment.next.month'],\n",
              "      dtype='object')"
            ]
          },
          "metadata": {},
          "execution_count": 3
        }
      ]
    },
    {
      "cell_type": "markdown",
      "metadata": {
        "id": "boJ1U7oE8C8q"
      },
      "source": [
        "### Synthetic Minority Oversampling Technique (SMOTE)"
      ]
    },
    {
      "cell_type": "code",
      "metadata": {
        "id": "-_aQSGv88YOU"
      },
      "source": [
        "x= df.drop(['default.payment.next.month'],axis = 1)\n",
        "y = df['default.payment.next.month']"
      ],
      "execution_count": 4,
      "outputs": []
    },
    {
      "cell_type": "code",
      "metadata": {
        "id": "VyCAFTqZ8ChF",
        "outputId": "7f6f6c06-5e97-470b-a048-9e0e9b777d05",
        "colab": {
          "base_uri": "https://localhost:8080/"
        }
      },
      "source": [
        "from imblearn.over_sampling import SMOTE\n",
        "from collections import Counter\n",
        "\n",
        "smote = SMOTE()\n",
        "\n",
        "x_smote, y_smote = smote.fit_resample(x, y)\n",
        "\n",
        "print('Original dataset shape', Counter(y))\n",
        "print('Resample dataset shape', Counter(y_smote))"
      ],
      "execution_count": 5,
      "outputs": [
        {
          "output_type": "stream",
          "name": "stderr",
          "text": [
            "/usr/local/lib/python3.7/dist-packages/sklearn/externals/six.py:31: FutureWarning: The module is deprecated in version 0.21 and will be removed in version 0.23 since we've dropped support for Python 2.7. Please rely on the official version of six (https://pypi.org/project/six/).\n",
            "  \"(https://pypi.org/project/six/).\", FutureWarning)\n",
            "/usr/local/lib/python3.7/dist-packages/sklearn/utils/deprecation.py:144: FutureWarning: The sklearn.neighbors.base module is  deprecated in version 0.22 and will be removed in version 0.24. The corresponding classes / functions should instead be imported from sklearn.neighbors. Anything that cannot be imported from sklearn.neighbors is now part of the private API.\n",
            "  warnings.warn(message, FutureWarning)\n",
            "/usr/local/lib/python3.7/dist-packages/sklearn/utils/deprecation.py:87: FutureWarning: Function safe_indexing is deprecated; safe_indexing is deprecated in version 0.22 and will be removed in version 0.24.\n",
            "  warnings.warn(msg, category=FutureWarning)\n"
          ]
        },
        {
          "output_type": "stream",
          "name": "stdout",
          "text": [
            "Original dataset shape Counter({0: 23364, 1: 6636})\n",
            "Resample dataset shape Counter({1: 23364, 0: 23364})\n"
          ]
        }
      ]
    },
    {
      "cell_type": "code",
      "metadata": {
        "id": "TNqf3XKkQYGh"
      },
      "source": [
        "#Split in 75% train and 25% test set\n",
        "train_x, test_x, train_y, test_y = train_test_split(x_smote,y_smote, test_size = 0.3, random_state= 42)"
      ],
      "execution_count": 6,
      "outputs": []
    },
    {
      "cell_type": "code",
      "metadata": {
        "id": "lL1p6erG-blf"
      },
      "source": [
        ""
      ],
      "execution_count": 6,
      "outputs": []
    },
    {
      "cell_type": "code",
      "metadata": {
        "id": "3a82qyG0QYGj"
      },
      "source": [
        "#------------------------Build LightGBM Model-----------------------\n",
        "train_data=lgb.Dataset(train_x, label=train_y)"
      ],
      "execution_count": 7,
      "outputs": []
    },
    {
      "cell_type": "code",
      "metadata": {
        "id": "qU8xhPIgQYGj"
      },
      "source": [
        "#Select Hyper-Parameters\n",
        "params = {'boosting_type': 'gbdt',\n",
        "          'max_depth' : -1,\n",
        "          'objective': 'binary',\n",
        "          'nthread': 5,\n",
        "          'num_leaves': 64,\n",
        "          'learning_rate': 0.07,\n",
        "          'max_bin': 512,\n",
        "          'subsample_for_bin': 200,\n",
        "          'subsample': 1,\n",
        "          'subsample_freq': 1,\n",
        "          'colsample_bytree': 0.8,\n",
        "          'reg_alpha': 1.2,\n",
        "          'reg_lambda': 1.2,\n",
        "          'min_split_gain': 0.5,\n",
        "          'min_child_weight': 1,\n",
        "          'min_child_samples': 5,\n",
        "          'scale_pos_weight': 1,\n",
        "          'num_class' : 1,\n",
        "          'metric' : 'binary_error'\n",
        "          }"
      ],
      "execution_count": 8,
      "outputs": []
    },
    {
      "cell_type": "code",
      "metadata": {
        "id": "LuqTNXApQYGk"
      },
      "source": [
        "# Create parameters to search\n",
        "gridParams = {\n",
        "    'learning_rate': [0.07],\n",
        "    'n_estimators': [8,16],\n",
        "    'num_leaves': [20, 24, 27],\n",
        "    'boosting_type' : ['gbdt'],\n",
        "    'objective' : ['binary'],\n",
        "    'random_state' : [501], \n",
        "    'colsample_bytree' : [0.64, 0.65],\n",
        "    'subsample' : [0.7,0.75],\n",
        "    #'reg_alpha' : [1, 1.2],\n",
        "    #'reg_lambda' : [ 1.2, 1.4],\n",
        "    }"
      ],
      "execution_count": 9,
      "outputs": []
    },
    {
      "cell_type": "code",
      "metadata": {
        "id": "LnkY0KiwQYGk"
      },
      "source": [
        "# Create classifier to use\n",
        "mdl = lgb.LGBMClassifier(boosting_type= 'gbdt',\n",
        "          objective = 'binary',\n",
        "          n_jobs = 5, \n",
        "          silent = True,\n",
        "          max_depth = params['max_depth'],\n",
        "          max_bin = params['max_bin'],\n",
        "          subsample_for_bin = params['subsample_for_bin'],\n",
        "          subsample = params['subsample'],\n",
        "          subsample_freq = params['subsample_freq'],\n",
        "          min_split_gain = params['min_split_gain'],\n",
        "          min_child_weight = params['min_child_weight'],\n",
        "          min_child_samples = params['min_child_samples'],\n",
        "          scale_pos_weight = params['scale_pos_weight'])"
      ],
      "execution_count": 10,
      "outputs": []
    },
    {
      "cell_type": "code",
      "metadata": {
        "colab": {
          "base_uri": "https://localhost:8080/"
        },
        "id": "3OveWHcmQYGl",
        "outputId": "558805a5-1c4e-49ad-a4ba-871bad966664"
      },
      "source": [
        "# View the default model params:\n",
        "mdl.get_params().keys()"
      ],
      "execution_count": 11,
      "outputs": [
        {
          "output_type": "execute_result",
          "data": {
            "text/plain": [
              "dict_keys(['boosting_type', 'class_weight', 'colsample_bytree', 'importance_type', 'learning_rate', 'max_depth', 'min_child_samples', 'min_child_weight', 'min_split_gain', 'n_estimators', 'n_jobs', 'num_leaves', 'objective', 'random_state', 'reg_alpha', 'reg_lambda', 'silent', 'subsample', 'subsample_for_bin', 'subsample_freq', 'max_bin', 'scale_pos_weight'])"
            ]
          },
          "metadata": {},
          "execution_count": 11
        }
      ]
    },
    {
      "cell_type": "code",
      "metadata": {
        "colab": {
          "base_uri": "https://localhost:8080/"
        },
        "id": "FNRoT8YYQYGm",
        "outputId": "3fda2d7a-5630-4a32-f178-817a430283c4"
      },
      "source": [
        "# Create the grid\n",
        "grid = GridSearchCV(mdl, gridParams, verbose=2, cv=4, n_jobs=-1)\n",
        "\n",
        "# Run the grid\n",
        "grid.fit(train_x, train_y)\n",
        "\n",
        "# Print the best parameters found\n",
        "print(grid.best_params_)\n",
        "print(grid.best_score_)"
      ],
      "execution_count": 12,
      "outputs": [
        {
          "output_type": "stream",
          "name": "stdout",
          "text": [
            "Fitting 4 folds for each of 24 candidates, totalling 96 fits\n"
          ]
        },
        {
          "output_type": "stream",
          "name": "stderr",
          "text": [
            "[Parallel(n_jobs=-1)]: Using backend LokyBackend with 2 concurrent workers.\n",
            "[Parallel(n_jobs=-1)]: Done  37 tasks      | elapsed:    4.3s\n",
            "[Parallel(n_jobs=-1)]: Done  96 out of  96 | elapsed:    9.4s finished\n"
          ]
        },
        {
          "output_type": "stream",
          "name": "stdout",
          "text": [
            "{'boosting_type': 'gbdt', 'colsample_bytree': 0.64, 'learning_rate': 0.07, 'n_estimators': 16, 'num_leaves': 27, 'objective': 'binary', 'random_state': 501, 'subsample': 0.75}\n",
            "0.8481761088198013\n"
          ]
        }
      ]
    },
    {
      "cell_type": "code",
      "metadata": {
        "colab": {
          "base_uri": "https://localhost:8080/"
        },
        "id": "2NfBlxPQRXH1",
        "outputId": "c29fd271-1866-4711-bf80-9cf07f7897e5"
      },
      "source": [
        "# Using parameters already set above, replace in the best from the grid search\n",
        "params['colsample_bytree'] = grid.best_params_['colsample_bytree']\n",
        "params['learning_rate'] = grid.best_params_['learning_rate']\n",
        "# params['max_bin'] = grid.best_params_['max_bin']\n",
        "params['num_leaves'] = grid.best_params_['num_leaves']\n",
        "#params['reg_alpha'] = grid.best_params_['reg_alpha']\n",
        "#params['reg_lambda'] = grid.best_params_['reg_lambda']\n",
        "params['subsample'] = grid.best_params_['subsample']\n",
        "# params['subsample_for_bin'] = grid.best_params_['subsample_for_bin']\n",
        "\n",
        "print('Fitting with params: ')\n",
        "print(params)"
      ],
      "execution_count": 13,
      "outputs": [
        {
          "output_type": "stream",
          "name": "stdout",
          "text": [
            "Fitting with params: \n",
            "{'boosting_type': 'gbdt', 'max_depth': -1, 'objective': 'binary', 'nthread': 5, 'num_leaves': 27, 'learning_rate': 0.07, 'max_bin': 512, 'subsample_for_bin': 200, 'subsample': 0.75, 'subsample_freq': 1, 'colsample_bytree': 0.64, 'reg_alpha': 1.2, 'reg_lambda': 1.2, 'min_split_gain': 0.5, 'min_child_weight': 1, 'min_child_samples': 5, 'scale_pos_weight': 1, 'num_class': 1, 'metric': 'binary_error'}\n"
          ]
        }
      ]
    },
    {
      "cell_type": "code",
      "metadata": {
        "id": "F-tET99kQYGo"
      },
      "source": [
        "#Train model on selected parameters and number of iterations\n",
        "lgbm = lgb.train(params,\n",
        "                 train_data,\n",
        "                 280,\n",
        "                 #early_stopping_rounds= 40,\n",
        "                 verbose_eval= 1\n",
        "                 )"
      ],
      "execution_count": 14,
      "outputs": []
    },
    {
      "cell_type": "code",
      "metadata": {
        "id": "FPYSYKY2QYGo"
      },
      "source": [
        "#Predict on test set\n",
        "predictions_lgbm_prob = lgbm.predict(test_x)"
      ],
      "execution_count": 15,
      "outputs": []
    },
    {
      "cell_type": "markdown",
      "metadata": {
        "id": "0X8kSZn0_iLx"
      },
      "source": [
        "### Model Save"
      ]
    },
    {
      "cell_type": "code",
      "metadata": {
        "id": "6_ua7ywn_ces",
        "outputId": "015d10d4-ef8a-4b3f-d237-a7334fb38c0e",
        "colab": {
          "base_uri": "https://localhost:8080/"
        }
      },
      "source": [
        "from sklearn.externals import joblib"
      ],
      "execution_count": 22,
      "outputs": [
        {
          "output_type": "stream",
          "name": "stderr",
          "text": [
            "/usr/local/lib/python3.7/dist-packages/sklearn/externals/joblib/__init__.py:15: FutureWarning: sklearn.externals.joblib is deprecated in 0.21 and will be removed in 0.23. Please import this functionality directly from joblib, which can be installed with: pip install joblib. If this warning is raised when loading pickled models, you may need to re-serialize those models with scikit-learn 0.21+.\n",
            "  warnings.warn(msg, category=FutureWarning)\n"
          ]
        }
      ]
    },
    {
      "cell_type": "code",
      "metadata": {
        "id": "Fg0jdKz7_CQ1",
        "outputId": "29784b06-2565-49c2-b668-766a589b52e8",
        "colab": {
          "base_uri": "https://localhost:8080/"
        }
      },
      "source": [
        "joblib.dump(lgbm, 'lgb-model.pkl')"
      ],
      "execution_count": 24,
      "outputs": [
        {
          "output_type": "execute_result",
          "data": {
            "text/plain": [
              "['lgb-model.pkl']"
            ]
          },
          "metadata": {},
          "execution_count": 24
        }
      ]
    },
    {
      "cell_type": "code",
      "metadata": {
        "id": "3b_PVD6WQYGp"
      },
      "source": [
        "predictions_lgbm_01 = np.where(predictions_lgbm_prob > 0.5, 1, 0) #Turn probability to 0-1 binary output"
      ],
      "execution_count": 16,
      "outputs": []
    },
    {
      "cell_type": "code",
      "metadata": {
        "colab": {
          "base_uri": "https://localhost:8080/",
          "height": 312
        },
        "id": "la-zoK65QYGp",
        "outputId": "d7387e72-226f-471d-e0d8-218909e4c272"
      },
      "source": [
        "#--------------------------Print accuracy measures and variable importances----------------------\n",
        "#Plot Variable Importances\n",
        "lgb.plot_importance(lgbm, max_num_features=21, importance_type='split')\n",
        "\n",
        "#Print accuracy\n",
        "acc_lgbm = accuracy_score(test_y,predictions_lgbm_01)\n",
        "print('Overall accuracy of Light GBM model:', acc_lgbm)"
      ],
      "execution_count": 17,
      "outputs": [
        {
          "output_type": "stream",
          "name": "stdout",
          "text": [
            "Overall accuracy of Light GBM model: 0.8536272202011556\n"
          ]
        },
        {
          "output_type": "display_data",
          "data": {
            "image/png": "[encoded data removed]",
            "text/plain": [
              "<Figure size 432x288 with 1 Axes>"
            ]
          },
          "metadata": {
            "needs_background": "light"
          }
        }
      ]
    },
    {
      "cell_type": "code",
      "metadata": {
        "colab": {
          "base_uri": "https://localhost:8080/",
          "height": 718
        },
        "id": "jPBhNNxBQYGq",
        "outputId": "d96347ed-0c02-4c92-a22c-3e527cfa8898"
      },
      "source": [
        "#Print Area Under Curve\n",
        "plt.figure()\n",
        "false_positive_rate, recall, thresholds = roc_curve(test_y, predictions_lgbm_prob)\n",
        "roc_auc = auc(false_positive_rate, recall)\n",
        "plt.title('Receiver Operating Characteristic (ROC)')\n",
        "plt.plot(false_positive_rate, recall, 'b', label = 'AUC = %0.3f' %roc_auc)\n",
        "plt.legend(loc='lower right')\n",
        "plt.plot([0,1], [0,1], 'r--')\n",
        "plt.xlim([0.0,1.0])\n",
        "plt.ylim([0.0,1.0])\n",
        "plt.ylabel('Recall')\n",
        "plt.xlabel('Fall-out (1-Specificity)')\n",
        "plt.show()\n",
        "\n",
        "print('AUC score:', roc_auc)\n",
        "\n",
        "#Print Confusion Matrix\n",
        "plt.figure()\n",
        "cm = confusion_matrix(test_y, predictions_lgbm_01)\n",
        "labels = ['No Default', 'Default']\n",
        "plt.figure(figsize=(8,6))\n",
        "sns.heatmap(cm, xticklabels = labels, yticklabels = labels, annot = True, fmt='d', cmap=\"Blues\", vmin = 0.2);\n",
        "plt.title('Confusion Matrix')\n",
        "plt.ylabel('True Class')\n",
        "plt.xlabel('Predicted Class')\n",
        "plt.show()"
      ],
      "execution_count": 18,
      "outputs": [
        {
          "output_type": "display_data",
          "data": {
            "image/png": "[encoded data removed]",
            "text/plain": [
              "<Figure size 432x288 with 1 Axes>"
            ]
          },
          "metadata": {
            "needs_background": "light"
          }
        },
        {
          "output_type": "stream",
          "name": "stdout",
          "text": [
            "AUC score: 0.9221074420955173\n"
          ]
        },
        {
          "output_type": "display_data",
          "data": {
            "text/plain": [
              "<Figure size 432x288 with 0 Axes>"
            ]
          },
          "metadata": {}
        },
        {
          "output_type": "display_data",
          "data": {
            "image/png": "[encoded data removed]",
            "text/plain": [
              "<Figure size 576x432 with 2 Axes>"
            ]
          },
          "metadata": {
            "needs_background": "light"
          }
        }
      ]
    },
    {
      "cell_type": "code",
      "metadata": {
        "id": "ll5fySnAS9DL"
      },
      "source": [
        ""
      ],
      "execution_count": 18,
      "outputs": []
    },
    {
      "cell_type": "code",
      "metadata": {
        "id": "xYPW8YrrSL0x"
      },
      "source": [
        "from sklearn.metrics import accuracy_score\n",
        "from sklearn.metrics import confusion_matrix\n",
        "from sklearn.metrics import precision_score\n",
        "from sklearn.metrics import recall_score"
      ],
      "execution_count": 19,
      "outputs": []
    },
    {
      "cell_type": "code",
      "metadata": {
        "id": "AQ1cvW25QYGr"
      },
      "source": [
        "accuracy = accuracy_score(test_y, predictions_lgbm_01)\n",
        "cm = confusion_matrix(test_y, predictions_lgbm_01)\n",
        "precision = precision_score(test_y,predictions_lgbm_01)\n",
        "recall = recall_score(test_y,predictions_lgbm_01)"
      ],
      "execution_count": 20,
      "outputs": []
    },
    {
      "cell_type": "code",
      "metadata": {
        "colab": {
          "base_uri": "https://localhost:8080/"
        },
        "id": "_gsy9uiqSV9a",
        "outputId": "e541f204-baa7-4502-ed23-fd478f524dea"
      },
      "source": [
        "print(accuracy)\n",
        "print(cm)\n",
        "print(precision)\n",
        "print(recall)"
      ],
      "execution_count": 21,
      "outputs": [
        {
          "output_type": "stream",
          "name": "stdout",
          "text": [
            "0.8536272202011556\n",
            "[[6366  639]\n",
            " [1413 5601]]\n",
            "0.8975961538461539\n",
            "0.7985457656116339\n"
          ]
        }
      ]
    }
  ]
}