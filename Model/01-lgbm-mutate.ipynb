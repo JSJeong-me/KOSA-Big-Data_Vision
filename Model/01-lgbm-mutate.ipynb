{
  "nbformat": 4,
  "nbformat_minor": 0,
  "metadata": {
    "kernelspec": {
      "display_name": "Python 3",
      "language": "python",
      "name": "python3"
    },
    "language_info": {
      "codemirror_mode": {
        "name": "ipython",
        "version": 3
      },
      "file_extension": ".py",
      "mimetype": "text/x-python",
      "name": "python",
      "nbconvert_exporter": "python",
      "pygments_lexer": "ipython3",
      "version": "3.7.6"
    },
    "colab": {
      "name": "lgbm.ipynb",
      "provenance": [],
      "include_colab_link": true
    },
    "accelerator": "GPU"
  },
  "cells": [
    {
      "cell_type": "markdown",
      "metadata": {
        "id": "view-in-github",
        "colab_type": "text"
      },
      "source": [
        "<a href=\"https://colab.research.google.com/github/JSJeong-me/KOSA-Big-Data_Vision/blob/main/Model/01-lgbm-mutate.ipynb\" target=\"_parent\"><img src=\"https://colab.research.google.com/assets/colab-badge.svg\" alt=\"Open In Colab\"/></a>"
      ]
    },
    {
      "cell_type": "markdown",
      "metadata": {
        "id": "gBFOpPbwQesK"
      },
      "source": [
        "### Microsoft https://github.com/microsoft/LightGBM"
      ]
    },
    {
      "cell_type": "markdown",
      "metadata": {
        "id": "TWwXStX4rKFo"
      },
      "source": [
        "![download.png](data:image/png;base64,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)"
      ]
    },
    {
      "cell_type": "code",
      "metadata": {
        "id": "_0pqNTHSrJQD"
      },
      "source": [
        ""
      ],
      "execution_count": null,
      "outputs": []
    },
    {
      "cell_type": "code",
      "metadata": {
        "id": "BUufWch4QYGd"
      },
      "source": [
        "#Import modules\n",
        "import numpy as np\n",
        "import pandas as pd\n",
        "import seaborn as sns\n",
        "import matplotlib.pyplot as plt\n",
        "import lightgbm as lgb\n",
        "from sklearn.model_selection import train_test_split, GridSearchCV\n",
        "from sklearn.metrics import confusion_matrix,accuracy_score, roc_curve, auc\n",
        "sns.set_style(\"whitegrid\")"
      ],
      "execution_count": 1,
      "outputs": []
    },
    {
      "cell_type": "code",
      "metadata": {
        "id": "EB6HgVUUQYGf"
      },
      "source": [
        "#Import data\n",
        "df = pd.read_csv('./credit_cards_dataset.csv')"
      ],
      "execution_count": 2,
      "outputs": []
    },
    {
      "cell_type": "code",
      "metadata": {
        "id": "V6JBnMaxaXR3",
        "colab": {
          "base_uri": "https://localhost:8080/"
        },
        "outputId": "6ddb3ef7-b646-40c4-88cc-60f64006d120"
      },
      "source": [
        "df.columns"
      ],
      "execution_count": 3,
      "outputs": [
        {
          "output_type": "execute_result",
          "data": {
            "text/plain": [
              "Index(['ID', 'LIMIT_BAL', 'SEX', 'EDUCATION', 'MARRIAGE', 'AGE', 'PAY_0',\n",
              "       'PAY_2', 'PAY_3', 'PAY_4', 'PAY_5', 'PAY_6', 'BILL_AMT1', 'BILL_AMT2',\n",
              "       'BILL_AMT3', 'BILL_AMT4', 'BILL_AMT5', 'BILL_AMT6', 'PAY_AMT1',\n",
              "       'PAY_AMT2', 'PAY_AMT3', 'PAY_AMT4', 'PAY_AMT5', 'PAY_AMT6',\n",
              "       'default.payment.next.month'],\n",
              "      dtype='object')"
            ]
          },
          "metadata": {},
          "execution_count": 3
        }
      ]
    },
    {
      "cell_type": "code",
      "metadata": {
        "id": "chSBB2triY2m"
      },
      "source": [
        ""
      ],
      "execution_count": 3,
      "outputs": []
    },
    {
      "cell_type": "markdown",
      "metadata": {
        "id": "sHD4xr4nf4kF"
      },
      "source": [
        "Mutate Variable I : Credit Utilize"
      ]
    },
    {
      "cell_type": "code",
      "metadata": {
        "id": "slrk3gIdjK8N"
      },
      "source": [
        "df['Pay_Score_AVR'] = (df[['PAY_0','PAY_2', 'PAY_3', 'PAY_4', 'PAY_5', 'PAY_6']]).mean(axis=1)"
      ],
      "execution_count": 4,
      "outputs": []
    },
    {
      "cell_type": "code",
      "metadata": {
        "id": "glGCDKJrf7oX"
      },
      "source": [
        "df['Bill_Amount_AVR'] = (df[[ 'BILL_AMT1', 'BILL_AMT2','BILL_AMT3', 'BILL_AMT4', 'BILL_AMT5', 'BILL_AMT6']]).mean(axis=1)"
      ],
      "execution_count": 5,
      "outputs": []
    },
    {
      "cell_type": "code",
      "metadata": {
        "id": "sL9HhRtSijDC"
      },
      "source": [
        "df['Pay_Amount_AVR'] = (df[['PAY_AMT1','PAY_AMT2', 'PAY_AMT3', 'PAY_AMT4', 'PAY_AMT5', 'PAY_AMT6']]).mean(axis=1)"
      ],
      "execution_count": 6,
      "outputs": []
    },
    {
      "cell_type": "code",
      "metadata": {
        "id": "scHSv6I8jGZa"
      },
      "source": [
        ""
      ],
      "execution_count": 6,
      "outputs": []
    },
    {
      "cell_type": "code",
      "metadata": {
        "id": "ChMIoDtWgJ9d"
      },
      "source": [
        "df['Credit_Util'] = (df['Bill_Amount_AVR'] / df['LIMIT_BAL'])*100"
      ],
      "execution_count": 7,
      "outputs": []
    },
    {
      "cell_type": "code",
      "metadata": {
        "colab": {
          "base_uri": "https://localhost:8080/"
        },
        "id": "kHU7otz2gM0t",
        "outputId": "9b39c2ec-33eb-45f6-c206-cf54b71f2694"
      },
      "source": [
        "df['Credit_Util'].describe()"
      ],
      "execution_count": 8,
      "outputs": [
        {
          "output_type": "execute_result",
          "data": {
            "text/plain": [
              "count    30000.000000\n",
              "mean        37.304795\n",
              "std         35.188994\n",
              "min        -23.259000\n",
              "25%          2.999701\n",
              "50%         28.483403\n",
              "75%         68.792911\n",
              "max        536.430833\n",
              "Name: Credit_Util, dtype: float64"
            ]
          },
          "metadata": {},
          "execution_count": 8
        }
      ]
    },
    {
      "cell_type": "markdown",
      "metadata": {
        "id": "PZar84xPf8b2"
      },
      "source": [
        "Mutate Variable 2 : Bill to Pay Rate"
      ]
    },
    {
      "cell_type": "code",
      "metadata": {
        "id": "oFVCis3kgkoE"
      },
      "source": [
        ""
      ],
      "execution_count": 8,
      "outputs": []
    },
    {
      "cell_type": "code",
      "metadata": {
        "id": "H4cmRSKbga43"
      },
      "source": [
        "df['Pay_Rate'] = (df['Pay_Amount_AVR'] / df['Bill_Amount_AVR'])"
      ],
      "execution_count": 9,
      "outputs": []
    },
    {
      "cell_type": "code",
      "metadata": {
        "colab": {
          "base_uri": "https://localhost:8080/"
        },
        "id": "c7Z_K3ZBge8G",
        "outputId": "8ebab255-045f-46ca-c9e3-ac8c3da3dfd9"
      },
      "source": [
        "df['Pay_Rate'].describe()"
      ],
      "execution_count": 10,
      "outputs": [
        {
          "output_type": "execute_result",
          "data": {
            "text/plain": [
              "count    2.920500e+04\n",
              "mean              inf\n",
              "std               NaN\n",
              "min     -5.469286e+02\n",
              "25%      4.222217e-02\n",
              "50%      9.313918e-02\n",
              "75%      6.237201e-01\n",
              "max               inf\n",
              "Name: Pay_Rate, dtype: float64"
            ]
          },
          "metadata": {},
          "execution_count": 10
        }
      ]
    },
    {
      "cell_type": "code",
      "metadata": {
        "id": "DaczCyoHgerf"
      },
      "source": [
        "df['Pay_Rate'].replace([np.inf, -np.inf, np.nan], 1, inplace=True)"
      ],
      "execution_count": 11,
      "outputs": []
    },
    {
      "cell_type": "code",
      "metadata": {
        "colab": {
          "base_uri": "https://localhost:8080/"
        },
        "id": "a8M5D_ZcggUR",
        "outputId": "91be628a-2b62-4e5f-e71f-01eb2c522987"
      },
      "source": [
        "df['Pay_Rate'].describe()"
      ],
      "execution_count": 12,
      "outputs": [
        {
          "output_type": "execute_result",
          "data": {
            "text/plain": [
              "count    30000.000000\n",
              "mean         0.409941\n",
              "std          7.671399\n",
              "min       -546.928571\n",
              "25%          0.042687\n",
              "50%          0.101829\n",
              "75%          0.694778\n",
              "max        797.000000\n",
              "Name: Pay_Rate, dtype: float64"
            ]
          },
          "metadata": {},
          "execution_count": 12
        }
      ]
    },
    {
      "cell_type": "code",
      "metadata": {
        "colab": {
          "base_uri": "https://localhost:8080/"
        },
        "id": "aF9EjwUlgjge",
        "outputId": "bf80f303-bd2e-44f0-c07d-535f5c71ecae"
      },
      "source": [
        "df.columns"
      ],
      "execution_count": 13,
      "outputs": [
        {
          "output_type": "execute_result",
          "data": {
            "text/plain": [
              "Index(['ID', 'LIMIT_BAL', 'SEX', 'EDUCATION', 'MARRIAGE', 'AGE', 'PAY_0',\n",
              "       'PAY_2', 'PAY_3', 'PAY_4', 'PAY_5', 'PAY_6', 'BILL_AMT1', 'BILL_AMT2',\n",
              "       'BILL_AMT3', 'BILL_AMT4', 'BILL_AMT5', 'BILL_AMT6', 'PAY_AMT1',\n",
              "       'PAY_AMT2', 'PAY_AMT3', 'PAY_AMT4', 'PAY_AMT5', 'PAY_AMT6',\n",
              "       'default.payment.next.month', 'Pay_Score_AVR', 'Bill_Amount_AVR',\n",
              "       'Pay_Amount_AVR', 'Credit_Util', 'Pay_Rate'],\n",
              "      dtype='object')"
            ]
          },
          "metadata": {},
          "execution_count": 13
        }
      ]
    },
    {
      "cell_type": "code",
      "metadata": {
        "id": "j0s8psDtgis-"
      },
      "source": [
        ""
      ],
      "execution_count": 13,
      "outputs": []
    },
    {
      "cell_type": "code",
      "metadata": {
        "id": "eeyQxKUCkDF5"
      },
      "source": [
        "df = df.drop(['ID', 'PAY_AMT1','PAY_AMT2', 'PAY_AMT3','PAY_AMT4', 'PAY_AMT5', 'PAY_AMT6', 'BILL_AMT1', 'BILL_AMT2','BILL_AMT3', 'BILL_AMT4', 'BILL_AMT5', 'BILL_AMT6', 'PAY_0','PAY_2', 'PAY_3', 'PAY_4', 'PAY_5', 'PAY_6'], axis = 1)"
      ],
      "execution_count": 14,
      "outputs": []
    },
    {
      "cell_type": "code",
      "metadata": {
        "colab": {
          "base_uri": "https://localhost:8080/"
        },
        "id": "1INM6yiklG82",
        "outputId": "8ce48ba3-53e4-495e-efa4-83eac62f7175"
      },
      "source": [
        "df.columns"
      ],
      "execution_count": 15,
      "outputs": [
        {
          "output_type": "execute_result",
          "data": {
            "text/plain": [
              "Index(['LIMIT_BAL', 'SEX', 'EDUCATION', 'MARRIAGE', 'AGE',\n",
              "       'default.payment.next.month', 'Pay_Score_AVR', 'Bill_Amount_AVR',\n",
              "       'Pay_Amount_AVR', 'Credit_Util', 'Pay_Rate'],\n",
              "      dtype='object')"
            ]
          },
          "metadata": {},
          "execution_count": 15
        }
      ]
    },
    {
      "cell_type": "code",
      "metadata": {
        "id": "_1FQkefQmW8L"
      },
      "source": [
        ""
      ],
      "execution_count": 15,
      "outputs": []
    },
    {
      "cell_type": "code",
      "metadata": {
        "id": "O9OFB96XmWu0"
      },
      "source": [
        "#Split in 75% train and 25% test set\n",
        "train_df, test_df = train_test_split(df, test_size = 0.3, random_state= 42)"
      ],
      "execution_count": 16,
      "outputs": []
    },
    {
      "cell_type": "code",
      "metadata": {
        "id": "07de78MDoYYU"
      },
      "source": [
        ""
      ],
      "execution_count": 16,
      "outputs": []
    },
    {
      "cell_type": "code",
      "metadata": {
        "id": "kwQQwzTcQYGi"
      },
      "source": [
        "#Define 'y' labels\n",
        "train_y = train_df['default.payment.next.month']\n",
        "test_y = test_df['default.payment.next.month']"
      ],
      "execution_count": 17,
      "outputs": []
    },
    {
      "cell_type": "code",
      "metadata": {
        "id": "Or_1w4R5kHb8"
      },
      "source": [
        "#Define 'x' sets\n",
        "train_x = train_df.drop('default.payment.next.month', axis = 1)\n",
        "test_x = test_df.drop('default.payment.next.month', axis = 1)"
      ],
      "execution_count": 18,
      "outputs": []
    },
    {
      "cell_type": "code",
      "metadata": {
        "id": "mvsJXt1goTfr"
      },
      "source": [
        ""
      ],
      "execution_count": 18,
      "outputs": []
    },
    {
      "cell_type": "code",
      "metadata": {
        "id": "3a82qyG0QYGj"
      },
      "source": [
        "#------------------------Build LightGBM Model-----------------------\n",
        "train_data=lgb.Dataset(train_x, label=train_y)"
      ],
      "execution_count": 19,
      "outputs": []
    },
    {
      "cell_type": "code",
      "metadata": {
        "id": "qU8xhPIgQYGj"
      },
      "source": [
        "#Select Hyper-Parameters\n",
        "params = {'boosting_type': 'gbdt',\n",
        "          'max_depth' : -1,\n",
        "          'objective': 'binary',\n",
        "          'nthread': 5,\n",
        "          'num_leaves': 64,\n",
        "          'learning_rate': 0.07,\n",
        "          'max_bin': 512,\n",
        "          'subsample_for_bin': 200,\n",
        "          'subsample': 1,\n",
        "          'subsample_freq': 1,\n",
        "          'colsample_bytree': 0.8,\n",
        "          'reg_alpha': 1.2,\n",
        "          'reg_lambda': 1.2,\n",
        "          'min_split_gain': 0.5,\n",
        "          'min_child_weight': 1,\n",
        "          'min_child_samples': 5,\n",
        "          'scale_pos_weight': 1,\n",
        "          'num_class' : 1,\n",
        "          'metric' : 'binary_error'\n",
        "          }"
      ],
      "execution_count": 20,
      "outputs": []
    },
    {
      "cell_type": "code",
      "metadata": {
        "id": "LuqTNXApQYGk"
      },
      "source": [
        "# Create parameters to search\n",
        "gridParams = {\n",
        "    'learning_rate': [0.07],\n",
        "    'n_estimators': [8,16],\n",
        "    'num_leaves': [20, 24, 27],\n",
        "    'boosting_type' : ['gbdt'],\n",
        "    'objective' : ['binary'],\n",
        "    'random_state' : [501], \n",
        "    'colsample_bytree' : [0.64, 0.65],\n",
        "    'subsample' : [0.7,0.75],\n",
        "    #'reg_alpha' : [1, 1.2],\n",
        "    #'reg_lambda' : [ 1.2, 1.4],\n",
        "    }"
      ],
      "execution_count": 21,
      "outputs": []
    },
    {
      "cell_type": "code",
      "metadata": {
        "id": "LnkY0KiwQYGk"
      },
      "source": [
        "# Create classifier to use\n",
        "mdl = lgb.LGBMClassifier(boosting_type= 'gbdt',\n",
        "          objective = 'binary',\n",
        "          n_jobs = 5, \n",
        "          silent = True,\n",
        "          max_depth = params['max_depth'],\n",
        "          max_bin = params['max_bin'],\n",
        "          subsample_for_bin = params['subsample_for_bin'],\n",
        "          subsample = params['subsample'],\n",
        "          subsample_freq = params['subsample_freq'],\n",
        "          min_split_gain = params['min_split_gain'],\n",
        "          min_child_weight = params['min_child_weight'],\n",
        "          min_child_samples = params['min_child_samples'],\n",
        "          scale_pos_weight = params['scale_pos_weight'])"
      ],
      "execution_count": 22,
      "outputs": []
    },
    {
      "cell_type": "code",
      "metadata": {
        "id": "3OveWHcmQYGl",
        "colab": {
          "base_uri": "https://localhost:8080/"
        },
        "outputId": "800d96b4-f617-415b-c3f4-9dd2088ce8ad"
      },
      "source": [
        "# View the default model params:\n",
        "mdl.get_params().keys()"
      ],
      "execution_count": 23,
      "outputs": [
        {
          "output_type": "execute_result",
          "data": {
            "text/plain": [
              "dict_keys(['boosting_type', 'class_weight', 'colsample_bytree', 'importance_type', 'learning_rate', 'max_depth', 'min_child_samples', 'min_child_weight', 'min_split_gain', 'n_estimators', 'n_jobs', 'num_leaves', 'objective', 'random_state', 'reg_alpha', 'reg_lambda', 'silent', 'subsample', 'subsample_for_bin', 'subsample_freq', 'max_bin', 'scale_pos_weight'])"
            ]
          },
          "metadata": {},
          "execution_count": 23
        }
      ]
    },
    {
      "cell_type": "code",
      "metadata": {
        "id": "FNRoT8YYQYGm",
        "colab": {
          "base_uri": "https://localhost:8080/"
        },
        "outputId": "ac1b7b85-96f7-4b97-bbd7-77bb0a4d5b29"
      },
      "source": [
        "# Create the grid\n",
        "grid = GridSearchCV(mdl, gridParams, verbose=2, cv=4, n_jobs=-1)\n",
        "\n",
        "# Run the grid\n",
        "grid.fit(train_x, train_y)\n",
        "\n",
        "# Print the best parameters found\n",
        "print(grid.best_params_)\n",
        "print(grid.best_score_)"
      ],
      "execution_count": 24,
      "outputs": [
        {
          "output_type": "stream",
          "name": "stdout",
          "text": [
            "Fitting 4 folds for each of 24 candidates, totalling 96 fits\n"
          ]
        },
        {
          "output_type": "stream",
          "name": "stderr",
          "text": [
            "[Parallel(n_jobs=-1)]: Using backend LokyBackend with 2 concurrent workers.\n",
            "[Parallel(n_jobs=-1)]: Done  37 tasks      | elapsed:    4.3s\n"
          ]
        },
        {
          "output_type": "stream",
          "name": "stdout",
          "text": [
            "{'boosting_type': 'gbdt', 'colsample_bytree': 0.64, 'learning_rate': 0.07, 'n_estimators': 16, 'num_leaves': 27, 'objective': 'binary', 'random_state': 501, 'subsample': 0.75}\n",
            "0.7897142857142858\n"
          ]
        },
        {
          "output_type": "stream",
          "name": "stderr",
          "text": [
            "[Parallel(n_jobs=-1)]: Done  96 out of  96 | elapsed:    9.1s finished\n"
          ]
        }
      ]
    },
    {
      "cell_type": "code",
      "metadata": {
        "id": "2NfBlxPQRXH1",
        "colab": {
          "base_uri": "https://localhost:8080/"
        },
        "outputId": "6f0b97cf-661e-4941-b7b8-04ba45eb6757"
      },
      "source": [
        "# Using parameters already set above, replace in the best from the grid search\n",
        "params['colsample_bytree'] = grid.best_params_['colsample_bytree']\n",
        "params['learning_rate'] = grid.best_params_['learning_rate']\n",
        "# params['max_bin'] = grid.best_params_['max_bin']\n",
        "params['num_leaves'] = grid.best_params_['num_leaves']\n",
        "#params['reg_alpha'] = grid.best_params_['reg_alpha']\n",
        "#params['reg_lambda'] = grid.best_params_['reg_lambda']\n",
        "params['subsample'] = grid.best_params_['subsample']\n",
        "# params['subsample_for_bin'] = grid.best_params_['subsample_for_bin']\n",
        "\n",
        "print('Fitting with params: ')\n",
        "print(params)"
      ],
      "execution_count": 25,
      "outputs": [
        {
          "output_type": "stream",
          "name": "stdout",
          "text": [
            "Fitting with params: \n",
            "{'boosting_type': 'gbdt', 'max_depth': -1, 'objective': 'binary', 'nthread': 5, 'num_leaves': 27, 'learning_rate': 0.07, 'max_bin': 512, 'subsample_for_bin': 200, 'subsample': 0.75, 'subsample_freq': 1, 'colsample_bytree': 0.64, 'reg_alpha': 1.2, 'reg_lambda': 1.2, 'min_split_gain': 0.5, 'min_child_weight': 1, 'min_child_samples': 5, 'scale_pos_weight': 1, 'num_class': 1, 'metric': 'binary_error'}\n"
          ]
        }
      ]
    },
    {
      "cell_type": "code",
      "metadata": {
        "id": "F-tET99kQYGo"
      },
      "source": [
        "#Train model on selected parameters and number of iterations\n",
        "lgbm = lgb.train(params,\n",
        "                 train_data,\n",
        "                 280,\n",
        "                 #early_stopping_rounds= 40,\n",
        "                 verbose_eval= 1\n",
        "                 )"
      ],
      "execution_count": 26,
      "outputs": []
    },
    {
      "cell_type": "code",
      "metadata": {
        "id": "FPYSYKY2QYGo"
      },
      "source": [
        "#Predict on test set\n",
        "predictions_lgbm_prob = lgbm.predict(test_x)"
      ],
      "execution_count": 27,
      "outputs": []
    },
    {
      "cell_type": "code",
      "metadata": {
        "id": "3b_PVD6WQYGp"
      },
      "source": [
        "predictions_lgbm_01 = np.where(predictions_lgbm_prob > 0.5, 1, 0) #Turn probability to 0-1 binary output"
      ],
      "execution_count": 28,
      "outputs": []
    },
    {
      "cell_type": "code",
      "metadata": {
        "id": "la-zoK65QYGp",
        "colab": {
          "base_uri": "https://localhost:8080/",
          "height": 312
        },
        "outputId": "e9520279-48f8-4a17-b15f-ffffdf87dd47"
      },
      "source": [
        "#--------------------------Print accuracy measures and variable importances----------------------\n",
        "#Plot Variable Importances\n",
        "lgb.plot_importance(lgbm, max_num_features=21, importance_type='split')\n",
        "\n",
        "#Print accuracy\n",
        "acc_lgbm = accuracy_score(test_y,predictions_lgbm_01)\n",
        "print('Overall accuracy of Light GBM model:', acc_lgbm)"
      ],
      "execution_count": 29,
      "outputs": [
        {
          "output_type": "stream",
          "name": "stdout",
          "text": [
            "Overall accuracy of Light GBM model: 0.8058888888888889\n"
          ]
        },
        {
          "output_type": "display_data",
          "data": {
            "image/png": "[encoded data removed]",
            "text/plain": [
              "<Figure size 432x288 with 1 Axes>"
            ]
          },
          "metadata": {
            "needs_background": "light"
          }
        }
      ]
    },
    {
      "cell_type": "code",
      "metadata": {
        "id": "jPBhNNxBQYGq",
        "colab": {
          "base_uri": "https://localhost:8080/",
          "height": 715
        },
        "outputId": "aaab3c76-da95-4f5b-caba-675821291075"
      },
      "source": [
        "#Print Area Under Curve\n",
        "plt.figure()\n",
        "false_positive_rate, recall, thresholds = roc_curve(test_y, predictions_lgbm_prob)\n",
        "roc_auc = auc(false_positive_rate, recall)\n",
        "plt.title('Receiver Operating Characteristic (ROC)')\n",
        "plt.plot(false_positive_rate, recall, 'b', label = 'AUC = %0.3f' %roc_auc)\n",
        "plt.legend(loc='lower right')\n",
        "plt.plot([0,1], [0,1], 'r--')\n",
        "plt.xlim([0.0,1.0])\n",
        "plt.ylim([0.0,1.0])\n",
        "plt.ylabel('Recall')\n",
        "plt.xlabel('Fall-out (1-Specificity)')\n",
        "plt.show()\n",
        "\n",
        "print('AUC score:', roc_auc)\n",
        "\n",
        "#Print Confusion Matrix\n",
        "plt.figure()\n",
        "cm = confusion_matrix(test_y, predictions_lgbm_01)\n",
        "labels = ['No Default', 'Default']\n",
        "plt.figure(figsize=(8,6))\n",
        "sns.heatmap(cm, xticklabels = labels, yticklabels = labels, annot = True, fmt='d', cmap=\"Blues\", vmin = 0.2);\n",
        "plt.title('Confusion Matrix')\n",
        "plt.ylabel('True Class')\n",
        "plt.xlabel('Predicted Class')\n",
        "plt.show()"
      ],
      "execution_count": 30,
      "outputs": [
        {
          "output_type": "display_data",
          "data": {
            "image/png": "[encoded data removed]",
            "text/plain": [
              "<Figure size 432x288 with 1 Axes>"
            ]
          },
          "metadata": {
            "needs_background": "light"
          }
        },
        {
          "output_type": "stream",
          "name": "stdout",
          "text": [
            "AUC score: 0.7578184064819109\n"
          ]
        },
        {
          "output_type": "display_data",
          "data": {
            "text/plain": [
              "<Figure size 432x288 with 0 Axes>"
            ]
          },
          "metadata": {}
        },
        {
          "output_type": "display_data",
          "data": {
            "image/png": "[encoded data removed]",
            "text/plain": [
              "<Figure size 576x432 with 2 Axes>"
            ]
          },
          "metadata": {
            "needs_background": "light"
          }
        }
      ]
    },
    {
      "cell_type": "code",
      "metadata": {
        "id": "ll5fySnAS9DL"
      },
      "source": [
        ""
      ],
      "execution_count": 30,
      "outputs": []
    },
    {
      "cell_type": "code",
      "metadata": {
        "id": "xYPW8YrrSL0x"
      },
      "source": [
        "from sklearn.metrics import accuracy_score\n",
        "from sklearn.metrics import confusion_matrix\n",
        "from sklearn.metrics import precision_score\n",
        "from sklearn.metrics import recall_score"
      ],
      "execution_count": 31,
      "outputs": []
    },
    {
      "cell_type": "code",
      "metadata": {
        "id": "AQ1cvW25QYGr"
      },
      "source": [
        "accuracy = accuracy_score(test_y, predictions_lgbm_01)\n",
        "cm = confusion_matrix(test_y, predictions_lgbm_01)\n",
        "precision = precision_score(test_y,predictions_lgbm_01)\n",
        "recall = recall_score(test_y,predictions_lgbm_01)"
      ],
      "execution_count": 32,
      "outputs": []
    },
    {
      "cell_type": "code",
      "metadata": {
        "id": "_gsy9uiqSV9a",
        "colab": {
          "base_uri": "https://localhost:8080/"
        },
        "outputId": "9e0598a0-1174-4e73-f854-1321e6571581"
      },
      "source": [
        "print(accuracy)\n",
        "print(cm)\n",
        "print(precision)\n",
        "print(recall)"
      ],
      "execution_count": 33,
      "outputs": [
        {
          "output_type": "stream",
          "name": "stdout",
          "text": [
            "0.8058888888888889\n",
            "[[6630  410]\n",
            " [1337  623]]\n",
            "0.6030977734753146\n",
            "0.31785714285714284\n"
          ]
        }
      ]
    }
  ]
}