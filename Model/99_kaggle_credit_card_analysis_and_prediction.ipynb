{
  "nbformat": 4,
  "nbformat_minor": 0,
  "metadata": {
    "kernelspec": {
      "language": "python",
      "display_name": "Python 3",
      "name": "python3"
    },
    "language_info": {
      "name": "python",
      "version": "3.7.10",
      "mimetype": "text/x-python",
      "codemirror_mode": {
        "name": "ipython",
        "version": 3
      },
      "pygments_lexer": "ipython3",
      "nbconvert_exporter": "python",
      "file_extension": ".py"
    },
    "colab": {
      "name": "99-kaggle-credit-card-analysis-and-prediction.ipynb",
      "provenance": [],
      "include_colab_link": true
    },
    "accelerator": "GPU"
  },
  "cells": [
    {
      "cell_type": "markdown",
      "metadata": {
        "id": "view-in-github",
        "colab_type": "text"
      },
      "source": [
        "<a href=\"https://colab.research.google.com/github/JSJeong-me/KOSA-Big-Data_Vision/blob/main/Model/99_kaggle_credit_card_analysis_and_prediction.ipynb\" target=\"_parent\"><img src=\"https://colab.research.google.com/assets/colab-badge.svg\" alt=\"Open In Colab\"/></a>"
      ]
    },
    {
      "cell_type": "markdown",
      "metadata": {
        "id": "NRE6XdwGYzl4"
      },
      "source": [
        "# Importing Packages"
      ]
    },
    {
      "cell_type": "code",
      "metadata": {
        "execution": {
          "iopub.status.busy": "2021-09-18T23:50:29.358299Z",
          "iopub.execute_input": "2021-09-18T23:50:29.358621Z",
          "iopub.status.idle": "2021-09-18T23:50:30.464568Z",
          "shell.execute_reply.started": "2021-09-18T23:50:29.358593Z",
          "shell.execute_reply": "2021-09-18T23:50:30.463743Z"
        },
        "trusted": true,
        "colab": {
          "base_uri": "https://localhost:8080/"
        },
        "id": "vU4Bfxf9Yzl7",
        "outputId": "017d8fc7-1765-4150-e045-a44178f6ff98"
      },
      "source": [
        "import pandas as pd\n",
        "import numpy as np\n",
        "import matplotlib.pyplot as plt\n",
        "import seaborn as sns\n",
        "import warnings\n",
        "import os\n",
        "from sklearn.model_selection import train_test_split, GridSearchCV\n",
        "from sklearn.preprocessing import StandardScaler\n",
        "from sklearn.linear_model import LogisticRegression\n",
        "from sklearn.tree import DecisionTreeClassifier\n",
        "from sklearn.ensemble import RandomForestClassifier\n",
        "from sklearn.neighbors import KNeighborsClassifier\n",
        "from sklearn.svm import SVC\n",
        "from sklearn.naive_bayes import GaussianNB\n",
        "from imblearn.over_sampling import SMOTE\n",
        "from sklearn.metrics import confusion_matrix,ConfusionMatrixDisplay,classification_report,plot_roc_curve,accuracy_score\n",
        "pd.set_option('display.max_columns',25)\n",
        "warnings.filterwarnings('ignore')"
      ],
      "execution_count": 1,
      "outputs": [
        {
          "output_type": "stream",
          "name": "stderr",
          "text": [
            "/usr/local/lib/python3.7/dist-packages/sklearn/externals/six.py:31: FutureWarning: The module is deprecated in version 0.21 and will be removed in version 0.23 since we've dropped support for Python 2.7. Please rely on the official version of six (https://pypi.org/project/six/).\n",
            "  \"(https://pypi.org/project/six/).\", FutureWarning)\n",
            "/usr/local/lib/python3.7/dist-packages/sklearn/utils/deprecation.py:144: FutureWarning: The sklearn.neighbors.base module is  deprecated in version 0.22 and will be removed in version 0.24. The corresponding classes / functions should instead be imported from sklearn.neighbors. Anything that cannot be imported from sklearn.neighbors is now part of the private API.\n",
            "  warnings.warn(message, FutureWarning)\n"
          ]
        }
      ]
    },
    {
      "cell_type": "code",
      "metadata": {
        "execution": {
          "iopub.status.busy": "2021-09-18T23:50:35.127840Z",
          "iopub.execute_input": "2021-09-18T23:50:35.128174Z",
          "iopub.status.idle": "2021-09-18T23:50:35.283154Z",
          "shell.execute_reply.started": "2021-09-18T23:50:35.128144Z",
          "shell.execute_reply": "2021-09-18T23:50:35.282375Z"
        },
        "trusted": true,
        "id": "6ZuhaBBQYzl9"
      },
      "source": [
        "# Importing Dataset\n",
        "data = pd.read_csv(r'./credit_cards_dataset.csv')\n",
        "data.head(10)"
      ],
      "execution_count": null,
      "outputs": []
    },
    {
      "cell_type": "code",
      "metadata": {
        "scrolled": true,
        "execution": {
          "iopub.status.busy": "2021-09-15T14:47:07.127982Z",
          "iopub.execute_input": "2021-09-15T14:47:07.128436Z",
          "iopub.status.idle": "2021-09-15T14:47:07.155146Z",
          "shell.execute_reply.started": "2021-09-15T14:47:07.128391Z",
          "shell.execute_reply": "2021-09-15T14:47:07.153727Z"
        },
        "trusted": true,
        "id": "JOyHHavqYzl9"
      },
      "source": [
        "data.info()\n",
        "#info shows that there is no null values and all the features are numeric"
      ],
      "execution_count": null,
      "outputs": []
    },
    {
      "cell_type": "code",
      "metadata": {
        "execution": {
          "iopub.status.busy": "2021-09-18T23:30:58.631748Z",
          "iopub.execute_input": "2021-09-18T23:30:58.632228Z",
          "iopub.status.idle": "2021-09-18T23:30:58.762784Z",
          "shell.execute_reply.started": "2021-09-18T23:30:58.632198Z",
          "shell.execute_reply": "2021-09-18T23:30:58.761657Z"
        },
        "trusted": true,
        "id": "KJfClBUnYzl-"
      },
      "source": [
        "data.describe(include='all') # Descriptive analysis"
      ],
      "execution_count": null,
      "outputs": []
    },
    {
      "cell_type": "code",
      "metadata": {
        "execution": {
          "iopub.status.busy": "2021-09-18T23:50:48.244922Z",
          "iopub.execute_input": "2021-09-18T23:50:48.245241Z",
          "iopub.status.idle": "2021-09-18T23:50:48.250906Z",
          "shell.execute_reply.started": "2021-09-18T23:50:48.245213Z",
          "shell.execute_reply": "2021-09-18T23:50:48.250054Z"
        },
        "trusted": true,
        "id": "_TSUjqFtYzmD"
      },
      "source": [
        "data.rename(columns={'PAY_0':'PAY_1','default.payment.next.month':'def_pay'},inplace=True) \n",
        "#rename few columns"
      ],
      "execution_count": 4,
      "outputs": []
    },
    {
      "cell_type": "markdown",
      "metadata": {
        "id": "7jK7XdF0YzmE"
      },
      "source": [
        "# Exploratory Data Analysis"
      ]
    },
    {
      "cell_type": "code",
      "metadata": {
        "execution": {
          "iopub.status.busy": "2021-09-18T23:31:45.982937Z",
          "iopub.execute_input": "2021-09-18T23:31:45.983468Z",
          "iopub.status.idle": "2021-09-18T23:31:46.255546Z",
          "shell.execute_reply.started": "2021-09-18T23:31:45.983422Z",
          "shell.execute_reply": "2021-09-18T23:31:46.254819Z"
        },
        "trusted": true,
        "id": "ILWrprlTYzmE"
      },
      "source": [
        "plt.figure(figsize=(10,6))\n",
        "data.groupby('def_pay')['AGE'].hist(legend=True)\n",
        "plt.show()\n",
        "#here we can see that, between age 20 to 45 most of the people will fall into.."
      ],
      "execution_count": null,
      "outputs": []
    },
    {
      "cell_type": "code",
      "metadata": {
        "execution": {
          "iopub.status.busy": "2021-09-18T23:31:56.208785Z",
          "iopub.execute_input": "2021-09-18T23:31:56.209155Z",
          "iopub.status.idle": "2021-09-18T23:31:56.991729Z",
          "shell.execute_reply.started": "2021-09-18T23:31:56.209117Z",
          "shell.execute_reply": "2021-09-18T23:31:56.990748Z"
        },
        "trusted": true,
        "id": "eLlBTFlXYzmE"
      },
      "source": [
        "sns.distplot(data['AGE'])\n",
        "plt.title('Age Distribution')"
      ],
      "execution_count": null,
      "outputs": []
    },
    {
      "cell_type": "code",
      "metadata": {
        "execution": {
          "iopub.status.busy": "2021-09-18T23:32:06.202090Z",
          "iopub.execute_input": "2021-09-18T23:32:06.202471Z",
          "iopub.status.idle": "2021-09-18T23:32:06.359028Z",
          "shell.execute_reply.started": "2021-09-18T23:32:06.202436Z",
          "shell.execute_reply": "2021-09-18T23:32:06.357798Z"
        },
        "trusted": true,
        "id": "_UXk1QPQYzmF"
      },
      "source": [
        "sns.boxplot('def_pay','LIMIT_BAL',data=data)"
      ],
      "execution_count": null,
      "outputs": []
    },
    {
      "cell_type": "code",
      "metadata": {
        "scrolled": true,
        "execution": {
          "iopub.status.busy": "2021-09-18T23:32:28.492013Z",
          "iopub.execute_input": "2021-09-18T23:32:28.492412Z",
          "iopub.status.idle": "2021-09-18T23:32:28.560509Z",
          "shell.execute_reply.started": "2021-09-18T23:32:28.492372Z",
          "shell.execute_reply": "2021-09-18T23:32:28.559684Z"
        },
        "trusted": true,
        "id": "1gC8_sCVYzmF"
      },
      "source": [
        "data[data['LIMIT_BAL']>700000].sort_values(ascending=False,by='LIMIT_BAL')"
      ],
      "execution_count": null,
      "outputs": []
    },
    {
      "cell_type": "code",
      "metadata": {
        "execution": {
          "iopub.status.busy": "2021-09-18T23:34:14.055131Z",
          "iopub.execute_input": "2021-09-18T23:34:14.055540Z",
          "iopub.status.idle": "2021-09-18T23:34:14.075009Z",
          "shell.execute_reply.started": "2021-09-18T23:34:14.055505Z",
          "shell.execute_reply": "2021-09-18T23:34:14.074095Z"
        },
        "trusted": true,
        "id": "KkcRYMVeYzmF"
      },
      "source": [
        "data[data['LIMIT_BAL']>700000].value_counts().sum()"
      ],
      "execution_count": null,
      "outputs": []
    },
    {
      "cell_type": "code",
      "metadata": {
        "execution": {
          "iopub.status.busy": "2021-09-18T23:34:52.389749Z",
          "iopub.execute_input": "2021-09-18T23:34:52.390375Z",
          "iopub.status.idle": "2021-09-18T23:34:53.259208Z",
          "shell.execute_reply.started": "2021-09-18T23:34:52.390331Z",
          "shell.execute_reply": "2021-09-18T23:34:53.258159Z"
        },
        "trusted": true,
        "id": "WXkvEClpYzmG"
      },
      "source": [
        "plt.figure(figsize=(16,5))\n",
        "plt.subplot(121)\n",
        "sns.boxplot(x='SEX', y= 'AGE',data = data)\n",
        "sns.stripplot(x='SEX', y= 'AGE',data = data,linewidth = 0.9)\n",
        "plt.title ('Sex vs AGE')\n",
        "\n",
        "plt.subplot(122)\n",
        "ax = sns.countplot(x='EDUCATION',data = data,  order= data['EDUCATION'].value_counts().index)\n",
        "plt.title ('EDUCATION')\n",
        "labels = data['EDUCATION'].value_counts()\n",
        "for i, v in enumerate(labels):\n",
        "    ax.text(i,v+100,v, horizontalalignment='center')\n",
        "plt.show()"
      ],
      "execution_count": null,
      "outputs": []
    },
    {
      "cell_type": "code",
      "metadata": {
        "scrolled": true,
        "execution": {
          "iopub.status.busy": "2021-09-18T23:35:06.379132Z",
          "iopub.execute_input": "2021-09-18T23:35:06.379696Z",
          "iopub.status.idle": "2021-09-18T23:35:07.257655Z",
          "shell.execute_reply.started": "2021-09-18T23:35:06.379651Z",
          "shell.execute_reply": "2021-09-18T23:35:07.256598Z"
        },
        "trusted": true,
        "id": "f5sqy_07YzmG"
      },
      "source": [
        "plt.figure(figsize=(20,5))\n",
        "plt.subplot(121)\n",
        "sns.boxplot(x='def_pay', y= 'AGE',data = data)\n",
        "sns.stripplot(x='def_pay', y= 'AGE',data = data,linewidth = 0.9)\n",
        "plt.title ('Age vs def_pay')\n",
        "\n",
        "ax2=plt.subplot(1,2,2)\n",
        "pay_edu = data.groupby('EDUCATION')['def_pay'].value_counts(normalize=True).unstack()\n",
        "pay_edu = pay_edu.sort_values(ascending=False,by=1)\n",
        "pay_edu.plot(kind='bar',stacked= True,color=[\"#3f3e6fd1\", \"#85c6a9\"], ax = ax2)\n",
        "plt.legend(loc=(1.04,0))\n",
        "plt.title('Education vs def_pay')\n",
        "plt.show()"
      ],
      "execution_count": null,
      "outputs": []
    },
    {
      "cell_type": "code",
      "metadata": {
        "execution": {
          "iopub.status.busy": "2021-09-18T23:51:03.360751Z",
          "iopub.execute_input": "2021-09-18T23:51:03.361147Z",
          "iopub.status.idle": "2021-09-18T23:51:03.371104Z",
          "shell.execute_reply.started": "2021-09-18T23:51:03.361116Z",
          "shell.execute_reply": "2021-09-18T23:51:03.370121Z"
        },
        "trusted": true,
        "id": "o71s21WQYzmH"
      },
      "source": [
        "# function for Multivariate analysis\n",
        "# This method is used to show point estimates and confidence intervals using scatter plot graphs\n",
        "def plotfig(df1,col11,col22,deft1):\n",
        "    plt.figure(figsize=(16,6))\n",
        "\n",
        "    plt.subplot(121)\n",
        "    sns.pointplot(df1[col11], df1[deft1],hue = df1[col22])\n",
        "\n",
        "    plt.subplot(122)\n",
        "    sns.countplot(df1[col11], hue = df1[col22])\n",
        "    plt.show() \n",
        "\n",
        "\n",
        "def varplot(df2, col1, col2, deft, bin=3, unique=10):\n",
        "    df=df2.copy()\n",
        "    if len(df[col1].unique())>unique:\n",
        "        df[col1+'cut']= pd.qcut(df[col1],bin)\n",
        "        if len(df[col2].unique())>unique:\n",
        "            df[col2+'cut']= pd.qcut(df[col2],bin)\n",
        "            return plotfig(df,col1+'cut',col2+'cut',deft)\n",
        "        else:\n",
        "            df[col2+'cut']= df[col2]\n",
        "            return plotfig(df,col1+'cut',col2+'cut',deft)\n",
        "    else:\n",
        "        return plotfig(df,col1,col2,deft)"
      ],
      "execution_count": 7,
      "outputs": []
    },
    {
      "cell_type": "code",
      "metadata": {
        "scrolled": true,
        "execution": {
          "iopub.status.busy": "2021-09-18T23:35:21.568994Z",
          "iopub.execute_input": "2021-09-18T23:35:21.569356Z",
          "iopub.status.idle": "2021-09-18T23:35:22.463719Z",
          "shell.execute_reply.started": "2021-09-18T23:35:21.569327Z",
          "shell.execute_reply": "2021-09-18T23:35:22.462596Z"
        },
        "trusted": true,
        "id": "dIb4IdjRYzmI"
      },
      "source": [
        "varplot(data,'AGE','SEX','def_pay',3)"
      ],
      "execution_count": null,
      "outputs": []
    },
    {
      "cell_type": "code",
      "metadata": {
        "execution": {
          "iopub.status.busy": "2021-09-18T23:35:34.884513Z",
          "iopub.execute_input": "2021-09-18T23:35:34.884907Z",
          "iopub.status.idle": "2021-09-18T23:35:35.889265Z",
          "shell.execute_reply.started": "2021-09-18T23:35:34.884872Z",
          "shell.execute_reply": "2021-09-18T23:35:35.888092Z"
        },
        "trusted": true,
        "id": "6mRza6QGYzmJ"
      },
      "source": [
        "varplot(data,'LIMIT_BAL','AGE','def_pay',3)"
      ],
      "execution_count": null,
      "outputs": []
    },
    {
      "cell_type": "code",
      "metadata": {
        "execution": {
          "iopub.status.busy": "2021-09-18T23:51:13.226052Z",
          "iopub.execute_input": "2021-09-18T23:51:13.226379Z",
          "iopub.status.idle": "2021-09-18T23:51:14.782137Z",
          "shell.execute_reply.started": "2021-09-18T23:51:13.226350Z",
          "shell.execute_reply": "2021-09-18T23:51:14.781255Z"
        },
        "trusted": true,
        "id": "-WPYwLcSYzmJ"
      },
      "source": [
        "# Univariate Analysis\n",
        "df = data.drop('ID',1)\n",
        "nuniq = df.nunique()\n",
        "df = data[[col for col in df if nuniq[col]>1 and nuniq[col]<50]]\n",
        "row, cols = df.shape\n",
        "colnames = list(df)\n",
        "graph_perrow = 5\n",
        "graph_row = (cols+graph_perrow-1)/ graph_perrow\n",
        "max_graph = 20\n",
        "plt.figure(figsize=(graph_perrow*12,graph_row*8))\n",
        "for i in range(min(cols,max_graph)):\n",
        "    plt.subplot(graph_row,graph_perrow,i+1)\n",
        "    coldf = df.iloc[:,i]\n",
        "    if (not np.issubdtype(type(coldf),np.number)):\n",
        "        sns.countplot(colnames[i],data= df, order= df[colnames[i]].value_counts().index)\n",
        "    else:\n",
        "        coldf.hist()\n",
        "    plt.title(colnames[i])\n",
        "plt.show()"
      ],
      "execution_count": null,
      "outputs": []
    },
    {
      "cell_type": "code",
      "metadata": {
        "execution": {
          "iopub.status.busy": "2021-09-18T23:51:20.689705Z",
          "iopub.execute_input": "2021-09-18T23:51:20.690084Z",
          "iopub.status.idle": "2021-09-18T23:51:24.883974Z",
          "shell.execute_reply.started": "2021-09-18T23:51:20.690050Z",
          "shell.execute_reply": "2021-09-18T23:51:24.883125Z"
        },
        "trusted": true,
        "id": "ENhsdj4qYzmK"
      },
      "source": [
        "cont_var = df.select_dtypes(exclude='object').columns\n",
        "nrow = (len(cont_var)+5-1)/5\n",
        "plt.figure(figsize=(12*5,6*2))\n",
        "for i,j in enumerate(cont_var):\n",
        "    plt.subplot(nrow,5,i+1)\n",
        "    sns.distplot(data[j])\n",
        "plt.show()"
      ],
      "execution_count": null,
      "outputs": []
    },
    {
      "cell_type": "code",
      "metadata": {
        "execution": {
          "iopub.status.busy": "2021-09-15T14:47:19.603047Z",
          "iopub.execute_input": "2021-09-15T14:47:19.603461Z",
          "iopub.status.idle": "2021-09-15T14:47:19.608668Z",
          "shell.execute_reply.started": "2021-09-15T14:47:19.603419Z",
          "shell.execute_reply": "2021-09-15T14:47:19.606916Z"
        },
        "trusted": true,
        "id": "C6AzwIGCYzmK"
      },
      "source": [
        "# from the above,we can see that we have maximum clients from 20-30 age group followed by 31-40. \n",
        "# Hence with increasing age group the number of clients that will default the payment next month is decreasing. \n",
        "# Hence we can see that Age is important feature to predict the default payment for next month."
      ],
      "execution_count": null,
      "outputs": []
    },
    {
      "cell_type": "code",
      "metadata": {
        "execution": {
          "iopub.status.busy": "2021-09-18T23:51:30.217387Z",
          "iopub.execute_input": "2021-09-18T23:51:30.217703Z",
          "iopub.status.idle": "2021-09-18T23:51:32.758654Z",
          "shell.execute_reply.started": "2021-09-18T23:51:30.217672Z",
          "shell.execute_reply": "2021-09-18T23:51:32.757706Z"
        },
        "trusted": true,
        "id": "ImRmQXvHYzmL"
      },
      "source": [
        "plt.subplots(figsize=(26,20))\n",
        "corr = data.corr()\n",
        "sns.heatmap(corr,annot=True)\n",
        "plt.show()"
      ],
      "execution_count": null,
      "outputs": []
    },
    {
      "cell_type": "code",
      "metadata": {
        "execution": {
          "iopub.status.busy": "2021-09-18T23:51:42.144987Z",
          "iopub.execute_input": "2021-09-18T23:51:42.145329Z",
          "iopub.status.idle": "2021-09-18T23:51:43.525509Z",
          "shell.execute_reply.started": "2021-09-18T23:51:42.145301Z",
          "shell.execute_reply": "2021-09-18T23:51:43.524417Z"
        },
        "trusted": true,
        "id": "6bQexTzCYzmL"
      },
      "source": [
        "from statsmodels.stats.outliers_influence import variance_inflation_factor\n",
        "df= data.drop(['def_pay','ID'],1)\n",
        "vif = pd.DataFrame()\n",
        "vif['Features']= df.columns\n",
        "vif['vif']= [variance_inflation_factor(df.values,i) for i in range(df.shape[1])]\n",
        "vif"
      ],
      "execution_count": null,
      "outputs": []
    },
    {
      "cell_type": "code",
      "metadata": {
        "execution": {
          "iopub.status.busy": "2021-09-18T23:56:15.377073Z",
          "iopub.execute_input": "2021-09-18T23:56:15.377411Z",
          "iopub.status.idle": "2021-09-18T23:56:15.397597Z",
          "shell.execute_reply.started": "2021-09-18T23:56:15.377380Z",
          "shell.execute_reply": "2021-09-18T23:56:15.396786Z"
        },
        "trusted": true,
        "id": "B7lBO28bYzmL"
      },
      "source": [
        "# From this heatmap and VIF we can see that there are some multicolinearity(values >10) in the data which we can handle\n",
        "# simply doing feature engineering of some columns \n",
        "\n",
        "bill_tot = pd.DataFrame(data['BILL_AMT1']+data['BILL_AMT2']+data['BILL_AMT3']+data['BILL_AMT4']+data['BILL_AMT5']+data['BILL_AMT6'],columns=['bill_tot'])\n",
        "pay_tot =pd.DataFrame(data['PAY_1']+data['PAY_2']+data['PAY_3']+data['PAY_4']+data['PAY_5']+data['PAY_6'],columns=['pay_tot'])\n",
        "pay_amt_tot = pd.DataFrame(data['PAY_AMT1']+data['PAY_AMT2']+data['PAY_AMT3']+data['PAY_AMT4']+data['PAY_AMT5']+data['PAY_AMT6'],columns=['pay_amt_tot'])\n",
        "frames=[bill_tot,pay_tot,pay_amt_tot,data['def_pay']]\n",
        "tot = pd.concat(frames,axis=1)\n"
      ],
      "execution_count": 11,
      "outputs": []
    },
    {
      "cell_type": "code",
      "metadata": {
        "execution": {
          "iopub.status.busy": "2021-09-18T23:56:21.329053Z",
          "iopub.execute_input": "2021-09-18T23:56:21.329395Z",
          "iopub.status.idle": "2021-09-18T23:56:23.154934Z",
          "shell.execute_reply.started": "2021-09-18T23:56:21.329367Z",
          "shell.execute_reply": "2021-09-18T23:56:23.154095Z"
        },
        "trusted": true,
        "id": "Uv3KR2P4YzmM"
      },
      "source": [
        "plt.figure(figsize=(20,4))\n",
        "plt.subplot(131)\n",
        "sns.boxplot(x='def_pay',y='pay_tot',data = tot)\n",
        "sns.stripplot(x='def_pay',y='pay_tot',data = tot,linewidth=1)\n",
        "\n",
        "plt.subplot(132)\n",
        "sns.boxplot(x='def_pay', y='bill_tot',data=tot)\n",
        "sns.stripplot(x='def_pay', y='bill_tot',data=tot,linewidth=1)\n",
        "\n",
        "plt.subplot(133)\n",
        "sns.boxplot(x='def_pay', y='pay_amt_tot',data=tot)\n",
        "sns.stripplot(x='def_pay', y='pay_amt_tot',data=tot,linewidth=1)\n",
        "plt.show()"
      ],
      "execution_count": null,
      "outputs": []
    },
    {
      "cell_type": "code",
      "metadata": {
        "execution": {
          "iopub.status.busy": "2021-09-18T23:56:42.028165Z",
          "iopub.execute_input": "2021-09-18T23:56:42.028491Z",
          "iopub.status.idle": "2021-09-18T23:56:53.238661Z",
          "shell.execute_reply.started": "2021-09-18T23:56:42.028461Z",
          "shell.execute_reply": "2021-09-18T23:56:53.237850Z"
        },
        "trusted": true,
        "id": "5b0s8fkqYzmM"
      },
      "source": [
        "sns.pairplot(tot[['bill_tot','pay_amt_tot','pay_tot','def_pay']],hue='def_pay')\n",
        "plt.show()"
      ],
      "execution_count": null,
      "outputs": []
    },
    {
      "cell_type": "code",
      "metadata": {
        "scrolled": true,
        "execution": {
          "iopub.status.busy": "2021-09-18T23:38:46.944878Z",
          "iopub.execute_input": "2021-09-18T23:38:46.945287Z",
          "iopub.status.idle": "2021-09-18T23:38:47.260079Z",
          "shell.execute_reply.started": "2021-09-18T23:38:46.945246Z",
          "shell.execute_reply": "2021-09-18T23:38:47.259029Z"
        },
        "trusted": true,
        "id": "ZUOkzVR7YzmN"
      },
      "source": [
        "sns.violinplot(x=tot['def_pay'], y= tot['bill_tot'])"
      ],
      "execution_count": null,
      "outputs": []
    },
    {
      "cell_type": "code",
      "metadata": {
        "execution": {
          "iopub.status.busy": "2021-09-18T23:56:53.240326Z",
          "iopub.execute_input": "2021-09-18T23:56:53.240718Z",
          "iopub.status.idle": "2021-09-18T23:56:53.246098Z",
          "shell.execute_reply.started": "2021-09-18T23:56:53.240682Z",
          "shell.execute_reply": "2021-09-18T23:56:53.245164Z"
        },
        "trusted": true,
        "id": "7kWxthh_YzmN"
      },
      "source": [
        "tot.drop('def_pay',1,inplace=True)"
      ],
      "execution_count": 13,
      "outputs": []
    },
    {
      "cell_type": "code",
      "metadata": {
        "execution": {
          "iopub.status.busy": "2021-09-18T23:56:55.928494Z",
          "iopub.execute_input": "2021-09-18T23:56:55.928831Z",
          "iopub.status.idle": "2021-09-18T23:56:55.936464Z",
          "shell.execute_reply.started": "2021-09-18T23:56:55.928787Z",
          "shell.execute_reply": "2021-09-18T23:56:55.935668Z"
        },
        "trusted": true,
        "id": "s14Q9YeCYzmN"
      },
      "source": [
        "data1 = pd.concat([data,tot],1)"
      ],
      "execution_count": 14,
      "outputs": []
    },
    {
      "cell_type": "code",
      "metadata": {
        "scrolled": true,
        "execution": {
          "iopub.status.busy": "2021-09-18T23:56:59.429739Z",
          "iopub.execute_input": "2021-09-18T23:56:59.430082Z",
          "iopub.status.idle": "2021-09-18T23:56:59.617651Z",
          "shell.execute_reply.started": "2021-09-18T23:56:59.430053Z",
          "shell.execute_reply": "2021-09-18T23:56:59.616697Z"
        },
        "trusted": true,
        "id": "uOrw13qKYzmN"
      },
      "source": [
        "data1.groupby('def_pay')['EDUCATION'].hist(legend=True)\n",
        "plt.show()"
      ],
      "execution_count": null,
      "outputs": []
    },
    {
      "cell_type": "code",
      "metadata": {
        "scrolled": true,
        "execution": {
          "iopub.status.busy": "2021-09-18T23:57:03.146182Z",
          "iopub.execute_input": "2021-09-18T23:57:03.146510Z",
          "iopub.status.idle": "2021-09-18T23:57:03.327978Z",
          "shell.execute_reply.started": "2021-09-18T23:57:03.146481Z",
          "shell.execute_reply": "2021-09-18T23:57:03.327105Z"
        },
        "trusted": true,
        "id": "nq2TjamIYzmO"
      },
      "source": [
        "data1.groupby('def_pay')['AGE'].hist()\n",
        "plt.figure(figsize=(12,6))"
      ],
      "execution_count": null,
      "outputs": []
    },
    {
      "cell_type": "code",
      "metadata": {
        "execution": {
          "iopub.status.busy": "2021-09-18T23:57:07.047559Z",
          "iopub.execute_input": "2021-09-18T23:57:07.047910Z",
          "iopub.status.idle": "2021-09-18T23:57:07.058405Z",
          "shell.execute_reply.started": "2021-09-18T23:57:07.047877Z",
          "shell.execute_reply": "2021-09-18T23:57:07.057334Z"
        },
        "trusted": true,
        "id": "EB9S3CwrYzmO"
      },
      "source": [
        "# we know that the Bill_AMT is the most correlated column so using that we create a data\n",
        "df= pd.concat([bill_tot,df],1)\n",
        "df1 = df.drop(['BILL_AMT1','BILL_AMT2','BILL_AMT3','BILL_AMT4','BILL_AMT5','BILL_AMT6'],1)"
      ],
      "execution_count": 15,
      "outputs": []
    },
    {
      "cell_type": "code",
      "metadata": {
        "execution": {
          "iopub.status.busy": "2021-09-18T23:57:10.793163Z",
          "iopub.execute_input": "2021-09-18T23:57:10.793476Z",
          "iopub.status.idle": "2021-09-18T23:57:11.512463Z",
          "shell.execute_reply.started": "2021-09-18T23:57:10.793448Z",
          "shell.execute_reply": "2021-09-18T23:57:11.511564Z"
        },
        "trusted": true,
        "id": "QkIEp86GYzmO"
      },
      "source": [
        "vif = pd.DataFrame()\n",
        "vif['Features']= df1.columns\n",
        "vif['vif']= [variance_inflation_factor(df1.values,i) for i in range(df1.shape[1])]\n",
        "vif"
      ],
      "execution_count": null,
      "outputs": []
    },
    {
      "cell_type": "code",
      "metadata": {
        "execution": {
          "iopub.status.busy": "2021-09-15T14:48:46.370848Z",
          "iopub.execute_input": "2021-09-15T14:48:46.371222Z",
          "iopub.status.idle": "2021-09-15T14:48:46.377033Z",
          "shell.execute_reply.started": "2021-09-15T14:48:46.37119Z",
          "shell.execute_reply": "2021-09-15T14:48:46.375756Z"
        },
        "trusted": true,
        "id": "PA19UoKbYzmP"
      },
      "source": [
        "# above we can see that now our data doesnt have multicollinearty(no values >10)"
      ],
      "execution_count": null,
      "outputs": []
    },
    {
      "cell_type": "code",
      "metadata": {
        "execution": {
          "iopub.status.busy": "2021-09-18T23:58:44.433001Z",
          "iopub.execute_input": "2021-09-18T23:58:44.433337Z",
          "iopub.status.idle": "2021-09-18T23:58:44.438381Z",
          "shell.execute_reply.started": "2021-09-18T23:58:44.433310Z",
          "shell.execute_reply": "2021-09-18T23:58:44.437540Z"
        },
        "trusted": true,
        "id": "WP99Tx0yYzmP"
      },
      "source": [
        "data2 = df1.copy()"
      ],
      "execution_count": 17,
      "outputs": []
    },
    {
      "cell_type": "code",
      "metadata": {
        "execution": {
          "iopub.status.busy": "2021-09-18T23:58:46.968274Z",
          "iopub.execute_input": "2021-09-18T23:58:46.968602Z",
          "iopub.status.idle": "2021-09-18T23:58:46.978633Z",
          "shell.execute_reply.started": "2021-09-18T23:58:46.968573Z",
          "shell.execute_reply": "2021-09-18T23:58:46.977606Z"
        },
        "trusted": true,
        "id": "xT-Z8YjGYzmP"
      },
      "source": [
        "# using the above plot we can create age bins\n",
        "age = [20,27,32,37,42,48,58,64,80]\n",
        "lab = [8,7,6,5,4,3,2,1]\n",
        "data2['AGE'] = pd.cut(data2['AGE'],bins= age,labels=lab)"
      ],
      "execution_count": 18,
      "outputs": []
    },
    {
      "cell_type": "code",
      "metadata": {
        "execution": {
          "iopub.status.busy": "2021-09-18T23:58:51.238949Z",
          "iopub.execute_input": "2021-09-18T23:58:51.239309Z",
          "iopub.status.idle": "2021-09-18T23:58:51.283610Z",
          "shell.execute_reply.started": "2021-09-18T23:58:51.239280Z",
          "shell.execute_reply": "2021-09-18T23:58:51.282797Z"
        },
        "trusted": true,
        "id": "9xt8gBiWYzmP"
      },
      "source": [
        "data2 =  pd.concat([data2,data['def_pay']],1)\n",
        "data2"
      ],
      "execution_count": null,
      "outputs": []
    },
    {
      "cell_type": "code",
      "metadata": {
        "execution": {
          "iopub.status.busy": "2021-09-18T23:58:55.316629Z",
          "iopub.execute_input": "2021-09-18T23:58:55.316991Z",
          "iopub.status.idle": "2021-09-18T23:58:55.496825Z",
          "shell.execute_reply.started": "2021-09-18T23:58:55.316959Z",
          "shell.execute_reply": "2021-09-18T23:58:55.495929Z"
        },
        "trusted": true,
        "id": "CZcSHvbvYzmQ"
      },
      "source": [
        "data2.groupby('def_pay')['AGE'].hist()\n",
        "plt.figure(figsize=(12,6))"
      ],
      "execution_count": null,
      "outputs": []
    },
    {
      "cell_type": "code",
      "metadata": {
        "scrolled": true,
        "execution": {
          "iopub.status.busy": "2021-09-18T23:42:03.432995Z",
          "iopub.execute_input": "2021-09-18T23:42:03.433406Z",
          "iopub.status.idle": "2021-09-18T23:42:03.618022Z",
          "shell.execute_reply.started": "2021-09-18T23:42:03.433373Z",
          "shell.execute_reply": "2021-09-18T23:42:03.616942Z"
        },
        "trusted": true,
        "id": "ENrBNaNvYzmQ"
      },
      "source": [
        "sns.countplot(data2['AGE'])"
      ],
      "execution_count": null,
      "outputs": []
    },
    {
      "cell_type": "code",
      "metadata": {
        "scrolled": true,
        "execution": {
          "iopub.status.busy": "2021-09-18T23:42:11.606444Z",
          "iopub.execute_input": "2021-09-18T23:42:11.606807Z",
          "iopub.status.idle": "2021-09-18T23:42:11.809623Z",
          "shell.execute_reply.started": "2021-09-18T23:42:11.606769Z",
          "shell.execute_reply": "2021-09-18T23:42:11.808611Z"
        },
        "trusted": true,
        "id": "2VW2nd7TYzmQ"
      },
      "source": [
        "data2.groupby('def_pay')['LIMIT_BAL'].hist(legend=True)\n",
        "plt.show()"
      ],
      "execution_count": null,
      "outputs": []
    },
    {
      "cell_type": "code",
      "metadata": {
        "execution": {
          "iopub.status.busy": "2021-09-18T23:59:03.223098Z",
          "iopub.execute_input": "2021-09-18T23:59:03.223412Z",
          "iopub.status.idle": "2021-09-18T23:59:03.230311Z",
          "shell.execute_reply.started": "2021-09-18T23:59:03.223382Z",
          "shell.execute_reply": "2021-09-18T23:59:03.229392Z"
        },
        "trusted": true,
        "id": "QAlt1mkGYzmR"
      },
      "source": [
        "data2.columns"
      ],
      "execution_count": null,
      "outputs": []
    },
    {
      "cell_type": "markdown",
      "metadata": {
        "id": "D_DTLupEYzmR"
      },
      "source": [
        "# Model Creation\n",
        "#### We know that we have a dataset where we have imbalance in the target variable\n",
        "#### you get a pretty high accuracy just by predicting the majority class, but you fail to capture the minority class\n",
        "#### which is most often the point of creating the model in the first place.\n",
        "#### Hence we try to create more model to get the best results"
      ]
    },
    {
      "cell_type": "code",
      "metadata": {
        "execution": {
          "iopub.status.busy": "2021-09-18T23:59:21.654800Z",
          "iopub.execute_input": "2021-09-18T23:59:21.655235Z",
          "iopub.status.idle": "2021-09-18T23:59:21.697669Z",
          "shell.execute_reply.started": "2021-09-18T23:59:21.655198Z",
          "shell.execute_reply": "2021-09-18T23:59:21.696706Z"
        },
        "trusted": true,
        "id": "sUKxGteeYzmR"
      },
      "source": [
        "x= data2.drop(['def_pay'],1)\n",
        "y = data2['def_pay']\n",
        "x_train,x_test, y_train, y_test = train_test_split(x,y,test_size=0.30, random_state=1)\n",
        "sc = StandardScaler()\n",
        "x_train = sc.fit_transform(x_train)\n",
        "x_test = sc.transform(x_test)"
      ],
      "execution_count": 20,
      "outputs": []
    },
    {
      "cell_type": "code",
      "metadata": {
        "execution": {
          "iopub.status.busy": "2021-09-18T23:59:26.835427Z",
          "iopub.execute_input": "2021-09-18T23:59:26.835760Z",
          "iopub.status.idle": "2021-09-18T23:59:26.840755Z",
          "shell.execute_reply.started": "2021-09-18T23:59:26.835730Z",
          "shell.execute_reply": "2021-09-18T23:59:26.839683Z"
        },
        "trusted": true,
        "id": "zpesdxsdYzmR"
      },
      "source": [
        "# Accuracy is not the best metric to use when evaluating imbalanced datasets as it can be misleading.\n",
        "# hence we are using Classification Report and Confusion Matrix\n",
        "# function for accuracy and confusion matrix\n",
        "def res(y_test_valid,y_train_valid):\n",
        "    cm_log = confusion_matrix(y_test,y_test_valid)\n",
        "    ConfusionMatrixDisplay(cm_log).plot()\n",
        "    print(classification_report(y_test,y_test_valid))\n",
        "    print('train_accuracy:',accuracy_score(y_train,y_train_valid))\n",
        "    print('test_accuracy:',accuracy_score(y_test,y_test_valid))"
      ],
      "execution_count": 21,
      "outputs": []
    },
    {
      "cell_type": "markdown",
      "metadata": {
        "id": "SZ4z2354YzmS"
      },
      "source": [
        "# Logistic model"
      ]
    },
    {
      "cell_type": "code",
      "metadata": {
        "execution": {
          "iopub.status.busy": "2021-09-18T23:59:31.497453Z",
          "iopub.execute_input": "2021-09-18T23:59:31.497769Z",
          "iopub.status.idle": "2021-09-18T23:59:31.820630Z",
          "shell.execute_reply.started": "2021-09-18T23:59:31.497737Z",
          "shell.execute_reply": "2021-09-18T23:59:31.819831Z"
        },
        "trusted": true,
        "id": "lj-0JoIKYzmS",
        "outputId": "af960cfb-e6d1-4596-e441-f7c44b9acddb"
      },
      "source": [
        "log_model= LogisticRegression()\n",
        "log_model.fit(x_train,y_train)\n",
        "y_pred_log = log_model.predict(x_test)\n",
        "y_pred_train = log_model.predict(x_train)\n",
        "res(y_pred_log,y_pred_train)"
      ],
      "execution_count": null,
      "outputs": [
        {
          "name": "stdout",
          "text": "              precision    recall  f1-score   support\n\n           0       0.81      0.98      0.89      4663\n           1       0.72      0.22      0.34      1337\n\n    accuracy                           0.81      6000\n   macro avg       0.77      0.60      0.61      6000\nweighted avg       0.79      0.81      0.76      6000\n\ntrain_accuracy: 0.8107916666666667\ntest_accuracy: 0.8071666666666667\n",
          "output_type": "stream"
        },
        {
          "output_type": "display_data",
          "data": {
            "text/plain": "<Figure size 432x288 with 2 Axes>",
            "image/png": "[encoded data removed]"
          },
          "metadata": {
            "needs_background": "light"
          }
        }
      ]
    },
    {
      "cell_type": "code",
      "metadata": {
        "execution": {
          "iopub.status.busy": "2021-09-18T23:59:36.343361Z",
          "iopub.execute_input": "2021-09-18T23:59:36.343676Z",
          "iopub.status.idle": "2021-09-18T23:59:36.521676Z",
          "shell.execute_reply.started": "2021-09-18T23:59:36.343646Z",
          "shell.execute_reply": "2021-09-18T23:59:36.520914Z"
        },
        "trusted": true,
        "id": "CjZO5hajYzmS",
        "outputId": "cde29999-9d56-4d8a-eb2e-ac2cab9f0d8e"
      },
      "source": [
        "plot_roc_curve(log_model,x_test,y_test)\n",
        "plt.show()"
      ],
      "execution_count": null,
      "outputs": [
        {
          "output_type": "display_data",
          "data": {
            "text/plain": "<Figure size 432x288 with 1 Axes>",
            "image/png": "[encoded data removed]"
          },
          "metadata": {
            "needs_background": "light"
          }
        }
      ]
    },
    {
      "cell_type": "code",
      "metadata": {
        "execution": {
          "iopub.status.busy": "2021-09-18T23:59:52.244757Z",
          "iopub.execute_input": "2021-09-18T23:59:52.245094Z",
          "iopub.status.idle": "2021-09-18T23:59:52.490893Z",
          "shell.execute_reply.started": "2021-09-18T23:59:52.245062Z",
          "shell.execute_reply": "2021-09-18T23:59:52.490116Z"
        },
        "trusted": true,
        "id": "LMdeStqXYzmS",
        "outputId": "47381f99-6157-40ae-948e-47b3d49e7ed7"
      },
      "source": [
        "# log model using Threshold\n",
        "threshold = 0.36\n",
        "y_log_prob =  log_model.predict_proba(x_test)\n",
        "y_train_log_prob = log_model.predict_proba(x_train)\n",
        "y_log_prob=y_log_prob[:,1]\n",
        "y_train_log_prob= y_train_log_prob[:,1]\n",
        "y_pred_log_prob = np.where(y_log_prob>threshold,1,0)\n",
        "y_pred_log_prob_train = np.where(y_train_log_prob>threshold,1,0)\n",
        "res(y_pred_log_prob,y_pred_log_prob_train)"
      ],
      "execution_count": null,
      "outputs": [
        {
          "name": "stdout",
          "text": "              precision    recall  f1-score   support\n\n           0       0.85      0.93      0.89      4663\n           1       0.64      0.41      0.50      1337\n\n    accuracy                           0.82      6000\n   macro avg       0.74      0.67      0.69      6000\nweighted avg       0.80      0.82      0.80      6000\n\ntrain_accuracy: 0.8137083333333334\ntest_accuracy: 0.8158333333333333\n",
          "output_type": "stream"
        },
        {
          "output_type": "display_data",
          "data": {
            "text/plain": "<Figure size 432x288 with 2 Axes>",
            "image/png": "[encoded data removed]"
          },
          "metadata": {
            "needs_background": "light"
          }
        }
      ]
    },
    {
      "cell_type": "markdown",
      "metadata": {
        "id": "g405ccvJYzmT"
      },
      "source": [
        "# using Decision Tree model"
      ]
    },
    {
      "cell_type": "code",
      "metadata": {
        "execution": {
          "iopub.status.busy": "2021-09-18T23:59:57.898393Z",
          "iopub.execute_input": "2021-09-18T23:59:57.898719Z",
          "iopub.status.idle": "2021-09-18T23:59:58.380272Z",
          "shell.execute_reply.started": "2021-09-18T23:59:57.898687Z",
          "shell.execute_reply": "2021-09-18T23:59:58.379320Z"
        },
        "trusted": true,
        "id": "2oGIj8bxYzmT",
        "outputId": "67f4fcb3-f8b0-458b-e8af-93e89ee336a8"
      },
      "source": [
        "dec_model = DecisionTreeClassifier()\n",
        "dec_model.fit(x_train,y_train)\n",
        "y_pred_dec = dec_model.predict(x_test)\n",
        "y_pred_dec_train = dec_model.predict(x_train)\n",
        "res(y_pred_dec,y_pred_dec_train)"
      ],
      "execution_count": null,
      "outputs": [
        {
          "name": "stdout",
          "text": "              precision    recall  f1-score   support\n\n           0       0.82      0.81      0.81      4663\n           1       0.37      0.40      0.38      1337\n\n    accuracy                           0.71      6000\n   macro avg       0.60      0.60      0.60      6000\nweighted avg       0.72      0.71      0.72      6000\n\ntrain_accuracy: 0.9977083333333333\ntest_accuracy: 0.7146666666666667\n",
          "output_type": "stream"
        },
        {
          "output_type": "display_data",
          "data": {
            "text/plain": "<Figure size 432x288 with 2 Axes>",
            "image/png": "[encoded data removed]"
          },
          "metadata": {
            "needs_background": "light"
          }
        }
      ]
    },
    {
      "cell_type": "markdown",
      "metadata": {
        "id": "5ss9qKqtYzmT"
      },
      "source": [
        "### Hyper parameter tuning for DecisionTree"
      ]
    },
    {
      "cell_type": "code",
      "metadata": {
        "execution": {
          "iopub.status.busy": "2021-09-19T00:00:07.478259Z",
          "iopub.execute_input": "2021-09-19T00:00:07.478584Z",
          "iopub.status.idle": "2021-09-19T00:01:52.250076Z",
          "shell.execute_reply.started": "2021-09-19T00:00:07.478547Z",
          "shell.execute_reply": "2021-09-19T00:01:52.249049Z"
        },
        "trusted": true,
        "id": "xXUKBqqjYzmT",
        "outputId": "b5cf816c-54df-48b3-cbee-e772d7d15fea"
      },
      "source": [
        "parameters = {'max_depth':[1,2,3,4,5,6],'min_samples_split':[3,4,5,6,7],'min_samples_leaf':[1,2,3,4,5,6]}\n",
        "tree = GridSearchCV(dec_model, parameters,cv=10)\n",
        "tree.fit(x_train,y_train)\n",
        "tree.best_params_"
      ],
      "execution_count": null,
      "outputs": [
        {
          "execution_count": 30,
          "output_type": "execute_result",
          "data": {
            "text/plain": "{'max_depth': 4, 'min_samples_leaf': 1, 'min_samples_split': 3}"
          },
          "metadata": {}
        }
      ]
    },
    {
      "cell_type": "code",
      "metadata": {
        "execution": {
          "iopub.status.busy": "2021-09-19T00:02:39.736438Z",
          "iopub.execute_input": "2021-09-19T00:02:39.736761Z",
          "iopub.status.idle": "2021-09-19T00:02:40.005168Z",
          "shell.execute_reply.started": "2021-09-19T00:02:39.736729Z",
          "shell.execute_reply": "2021-09-19T00:02:40.004364Z"
        },
        "trusted": true,
        "id": "Ok_nuVAfYzmU",
        "outputId": "b8998e8f-affc-4a57-f419-2056286cbd2c"
      },
      "source": [
        "# We know that Decision tree will have high variance due to which the model overfit hence we can reduce this by \"Pruning\"\n",
        "# By using the best parameter from GridSearchCV best parameters\n",
        "dec_model1 = DecisionTreeClassifier(max_depth=4,min_samples_split=10,min_samples_leaf=1)\n",
        "dec_model1.fit(x_train,y_train)\n",
        "y_pred_dec1 = dec_model1.predict(x_test)\n",
        "y_pred_dec_train1 = dec_model1.predict(x_train)\n",
        "res(y_pred_dec1,y_pred_dec_train1)"
      ],
      "execution_count": null,
      "outputs": [
        {
          "name": "stdout",
          "text": "              precision    recall  f1-score   support\n\n           0       0.84      0.95      0.89      4663\n           1       0.68      0.35      0.46      1337\n\n    accuracy                           0.82      6000\n   macro avg       0.76      0.65      0.68      6000\nweighted avg       0.80      0.82      0.79      6000\n\ntrain_accuracy: 0.824375\ntest_accuracy: 0.8183333333333334\n",
          "output_type": "stream"
        },
        {
          "output_type": "display_data",
          "data": {
            "text/plain": "<Figure size 432x288 with 2 Axes>",
            "image/png": "[encoded data removed]"
          },
          "metadata": {
            "needs_background": "light"
          }
        }
      ]
    },
    {
      "cell_type": "markdown",
      "metadata": {
        "id": "iuyoG_bRYzmU"
      },
      "source": [
        "# Random Forest Model"
      ]
    },
    {
      "cell_type": "code",
      "metadata": {
        "execution": {
          "iopub.status.busy": "2021-09-19T00:02:54.147592Z",
          "iopub.execute_input": "2021-09-19T00:02:54.147933Z",
          "iopub.status.idle": "2021-09-19T00:02:59.512057Z",
          "shell.execute_reply.started": "2021-09-19T00:02:54.147902Z",
          "shell.execute_reply": "2021-09-19T00:02:59.511183Z"
        },
        "trusted": true,
        "id": "8IvTvqgkYzmU"
      },
      "source": [
        "rf_model = RandomForestClassifier(n_estimators=200, criterion='entropy', max_features='log2', max_depth=15, random_state=42)\n",
        "rf_model.fit(x_train,y_train)\n",
        "y_pred_rf = rf_model.predict(x_test)\n",
        "y_pred_rf_train = rf_model.predict(x_train)\n",
        "#res(y_pred_rf,y_pred_rf_train)"
      ],
      "execution_count": 22,
      "outputs": []
    },
    {
      "cell_type": "code",
      "metadata": {
        "id": "b_keI2skaPsb"
      },
      "source": [
        "from sklearn.metrics import confusion_matrix\n",
        "import itertools"
      ],
      "execution_count": 23,
      "outputs": []
    },
    {
      "cell_type": "code",
      "metadata": {
        "id": "QmsW-CJpanK9"
      },
      "source": [
        "def plot_confusion_matrix(cm, classes,\n",
        "                          normalize=False,\n",
        "                          title='Confusion matrix',\n",
        "                          cmap=plt.cm.Blues):\n",
        "    if normalize:\n",
        "        cm = cm.astype('float') / cm.sum(axis=1)[:, np.newaxis]\n",
        "        print(\"Normalized confusion matrix\")\n",
        "    else:\n",
        "        print('Confusion matrix, without normalization')\n",
        "\n",
        "    print(cm)\n",
        "    \n",
        "    plt.imshow(cm, interpolation='nearest', cmap=cmap)\n",
        "    plt.title(title)\n",
        "    plt.colorbar()\n",
        "    tick_marks = np.arange(len(classes))\n",
        "    plt.xticks(tick_marks, classes, rotation=45)\n",
        "    plt.yticks(tick_marks, classes)\n",
        "\n",
        "    fmt = '.2f' if normalize else 'd'\n",
        "    thresh = cm.max() / 2.\n",
        "    for i, j in itertools.product(range(cm.shape[0]), range(cm.shape[1])):\n",
        "        plt.text(j, i, format(cm[i, j], fmt),\n",
        "                 horizontalalignment=\"center\",\n",
        "                 color=\"white\" if cm[i, j] > thresh else \"black\")"
      ],
      "execution_count": 24,
      "outputs": []
    },
    {
      "cell_type": "code",
      "metadata": {
        "colab": {
          "base_uri": "https://localhost:8080/",
          "height": 375
        },
        "id": "EZPJW7K4as1v",
        "outputId": "126cd7a6-9e6f-4109-bd8e-a0ad9d5fdaa6"
      },
      "source": [
        "cnf_matrix = confusion_matrix(y_test, y_pred_rf)\n",
        "plt.figure()\n",
        "plot_confusion_matrix(cnf_matrix, classes=['Non_Default','Default'], normalize=False,\n",
        "                      title='Non Normalized confusion matrix')"
      ],
      "execution_count": 25,
      "outputs": [
        {
          "output_type": "stream",
          "name": "stdout",
          "text": [
            "Confusion matrix, without normalization\n",
            "[[6647  353]\n",
            " [1282  718]]\n"
          ]
        },
        {
          "output_type": "display_data",
          "data": {
            "image/png": "[encoded data removed]",
            "text/plain": [
              "<Figure size 432x288 with 2 Axes>"
            ]
          },
          "metadata": {
            "needs_background": "light"
          }
        }
      ]
    },
    {
      "cell_type": "code",
      "metadata": {
        "id": "rWKsadOgbZks"
      },
      "source": [
        "from sklearn.metrics import recall_score"
      ],
      "execution_count": 26,
      "outputs": []
    },
    {
      "cell_type": "code",
      "metadata": {
        "colab": {
          "base_uri": "https://localhost:8080/"
        },
        "id": "02ehUefEbclD",
        "outputId": "ecd5e2d5-67a5-48a7-c990-81543f480270"
      },
      "source": [
        "print(\"Recall score:\"+ str(recall_score(y_test, y_pred_rf)))"
      ],
      "execution_count": 27,
      "outputs": [
        {
          "output_type": "stream",
          "name": "stdout",
          "text": [
            "Recall score:0.359\n"
          ]
        }
      ]
    },
    {
      "cell_type": "markdown",
      "metadata": {
        "id": "SwkDofFnYzmU"
      },
      "source": [
        "### Again hyper parameter tuning for Random Forest"
      ]
    },
    {
      "cell_type": "code",
      "metadata": {
        "execution": {
          "iopub.status.busy": "2021-09-15T14:54:42.630186Z",
          "iopub.execute_input": "2021-09-15T14:54:42.630619Z",
          "iopub.status.idle": "2021-09-15T14:54:42.635701Z",
          "shell.execute_reply.started": "2021-09-15T14:54:42.630542Z",
          "shell.execute_reply": "2021-09-15T14:54:42.633965Z"
        },
        "trusted": true,
        "colab": {
          "base_uri": "https://localhost:8080/"
        },
        "id": "2BjoKTxyYzmV",
        "outputId": "db2904b7-85e9-48d9-ce0a-f430f7310b2a"
      },
      "source": [
        "parameters = {'n_estimators':[60,70,80],'max_depth':[1,2,3,4,5,6],'min_samples_split':[3,4,5,6,7],\n",
        "               'min_samples_leaf':[1,2,3,4,5,6]}\n",
        "clf = GridSearchCV(rf_model, parameters,cv=10)\n",
        "clf.fit(x_train,y_train)\n",
        "clf.best_params_\n",
        "#  {'max_depth': 5,\n",
        "#   'min_samples_leaf': 4,\n",
        "#   'min_samples_split': 3,\n",
        "#   'n_estimators': 70}"
      ],
      "execution_count": 28,
      "outputs": [
        {
          "output_type": "execute_result",
          "data": {
            "text/plain": [
              "{'max_depth': 6,\n",
              " 'min_samples_leaf': 2,\n",
              " 'min_samples_split': 5,\n",
              " 'n_estimators': 80}"
            ]
          },
          "metadata": {},
          "execution_count": 28
        }
      ]
    },
    {
      "cell_type": "code",
      "metadata": {
        "execution": {
          "iopub.status.busy": "2021-09-19T00:03:08.266370Z",
          "iopub.execute_input": "2021-09-19T00:03:08.266698Z",
          "iopub.status.idle": "2021-09-19T00:03:09.682464Z",
          "shell.execute_reply.started": "2021-09-19T00:03:08.266656Z",
          "shell.execute_reply": "2021-09-19T00:03:09.681475Z"
        },
        "trusted": true,
        "colab": {
          "base_uri": "https://localhost:8080/",
          "height": 375
        },
        "id": "DehC06gWYzmV",
        "outputId": "c50507f6-5582-43bb-bb89-a75fe88ae677"
      },
      "source": [
        "# Decision trees frequently perform well on imbalanced data. so using RandomForest uses bagging of n_trees will be a better idea.\n",
        "rf_model = RandomForestClassifier(n_estimators=80, max_depth=6, min_samples_leaf=2, min_samples_split=5)\n",
        "rf_model.fit(x_train,y_train)\n",
        "y_pred_rf = rf_model.predict(x_test)\n",
        "y_pred_rf_train = rf_model.predict(x_train)\n",
        "#res(y_pred_rf,y_pred_rf_train)\n",
        "\n",
        "cnf_matrix = confusion_matrix(y_test, y_pred_rf)\n",
        "plt.figure()\n",
        "plot_confusion_matrix(cnf_matrix, classes=['Non_Default','Default'], normalize=False,\n",
        "                      title='Non Normalized confusion matrix')"
      ],
      "execution_count": 29,
      "outputs": [
        {
          "output_type": "stream",
          "name": "stdout",
          "text": [
            "Confusion matrix, without normalization\n",
            "[[6679  321]\n",
            " [1306  694]]\n"
          ]
        },
        {
          "output_type": "display_data",
          "data": {
            "image/png": "[encoded data removed]",
            "text/plain": [
              "<Figure size 432x288 with 2 Axes>"
            ]
          },
          "metadata": {
            "needs_background": "light"
          }
        }
      ]
    },
    {
      "cell_type": "code",
      "metadata": {
        "colab": {
          "base_uri": "https://localhost:8080/"
        },
        "id": "DQG6rolWhFvT",
        "outputId": "bd060ddd-9161-4fed-98e4-dcaeca0d93ff"
      },
      "source": [
        "print(\"Recall score:\"+ str(recall_score(y_test, y_pred_rf)))"
      ],
      "execution_count": 30,
      "outputs": [
        {
          "output_type": "stream",
          "name": "stdout",
          "text": [
            "Recall score:0.347\n"
          ]
        }
      ]
    },
    {
      "cell_type": "markdown",
      "metadata": {
        "id": "PFJQg_Q0YzmW"
      },
      "source": [
        "# KNN model"
      ]
    },
    {
      "cell_type": "code",
      "metadata": {
        "execution": {
          "iopub.status.busy": "2021-09-19T00:04:00.112922Z",
          "iopub.execute_input": "2021-09-19T00:04:00.113246Z",
          "iopub.status.idle": "2021-09-19T00:04:38.480664Z",
          "shell.execute_reply.started": "2021-09-19T00:04:00.113217Z",
          "shell.execute_reply": "2021-09-19T00:04:38.479752Z"
        },
        "trusted": true,
        "id": "fAPC3m7LYzmW",
        "outputId": "962dd0cc-b7ef-4bec-f9f3-60b726002269"
      },
      "source": [
        "# finding the K value\n",
        "error = []\n",
        "\n",
        "for i in range(1,21,2):\n",
        "    knn =  KNeighborsClassifier(n_neighbors=i)\n",
        "    knn.fit(x_train,y_train)\n",
        "    preds = knn.predict(x_test)\n",
        "    error.append(np.mean(preds!=y_test))\n",
        "\n",
        "plt.plot(range(1,21,2), error, linestyle = 'dashed', marker ='o', mfc= 'red')"
      ],
      "execution_count": null,
      "outputs": [
        {
          "execution_count": 34,
          "output_type": "execute_result",
          "data": {
            "text/plain": "[<matplotlib.lines.Line2D at 0x7f0de248f550>]"
          },
          "metadata": {}
        },
        {
          "output_type": "display_data",
          "data": {
            "text/plain": "<Figure size 432x288 with 1 Axes>",
            "image/png": "[encoded data removed]"
          },
          "metadata": {
            "needs_background": "light"
          }
        }
      ]
    },
    {
      "cell_type": "code",
      "metadata": {
        "execution": {
          "iopub.status.busy": "2021-09-19T00:04:47.525235Z",
          "iopub.execute_input": "2021-09-19T00:04:47.525552Z",
          "iopub.status.idle": "2021-09-19T00:05:04.639495Z",
          "shell.execute_reply.started": "2021-09-19T00:04:47.525523Z",
          "shell.execute_reply": "2021-09-19T00:05:04.638634Z"
        },
        "trusted": true,
        "id": "RLoZCmumYzmW",
        "outputId": "4b20524a-a78b-41fd-fdc7-080e38eede0a"
      },
      "source": [
        "# By using the elbow graph we can see that the k=5 will perform better in the first place so impute k = 5\n",
        "knn_model = KNeighborsClassifier(n_neighbors=5)\n",
        "knn_model.fit(x_train,y_train)\n",
        "y_pred_knn = knn_model.predict(x_test)\n",
        "y_pred_knn_train = knn_model.predict(x_train)\n",
        "\n",
        "res(y_pred_knn,y_pred_knn_train)"
      ],
      "execution_count": null,
      "outputs": [
        {
          "name": "stdout",
          "text": "              precision    recall  f1-score   support\n\n           0       0.83      0.92      0.87      4663\n           1       0.55      0.34      0.42      1337\n\n    accuracy                           0.79      6000\n   macro avg       0.69      0.63      0.65      6000\nweighted avg       0.77      0.79      0.77      6000\n\ntrain_accuracy: 0.84325\ntest_accuracy: 0.792\n",
          "output_type": "stream"
        },
        {
          "output_type": "display_data",
          "data": {
            "text/plain": "<Figure size 432x288 with 2 Axes>",
            "image/png": "[encoded data removed]"
          },
          "metadata": {
            "needs_background": "light"
          }
        }
      ]
    },
    {
      "cell_type": "markdown",
      "metadata": {
        "id": "XA9z5NcCYzmW"
      },
      "source": [
        "# SVM Model"
      ]
    },
    {
      "cell_type": "code",
      "metadata": {
        "execution": {
          "iopub.status.busy": "2021-09-19T00:05:11.124971Z",
          "iopub.execute_input": "2021-09-19T00:05:11.127032Z",
          "iopub.status.idle": "2021-09-19T00:08:36.489044Z",
          "shell.execute_reply.started": "2021-09-19T00:05:11.126985Z",
          "shell.execute_reply": "2021-09-19T00:08:36.488279Z"
        },
        "trusted": true,
        "id": "kXoVRvUfYzmX",
        "outputId": "8d152b51-6724-4b08-e6b5-b5e36d2b76bd"
      },
      "source": [
        "# use penalized learning algorithms that increase the cost of classification mistakes on the minority class.\n",
        "svm_model = SVC(class_weight='balanced', probability=True)\n",
        "svm_model.fit(x_train,y_train)\n",
        "y_pred_svm = svm_model.predict(x_test)\n",
        "y_pred_svm_train = svm_model.predict(x_train)\n",
        "res(y_pred_svm,y_pred_svm_train)"
      ],
      "execution_count": null,
      "outputs": [
        {
          "name": "stdout",
          "text": "              precision    recall  f1-score   support\n\n           0       0.87      0.84      0.85      4663\n           1       0.49      0.56      0.52      1337\n\n    accuracy                           0.77      6000\n   macro avg       0.68      0.70      0.69      6000\nweighted avg       0.79      0.77      0.78      6000\n\ntrain_accuracy: 0.7889583333333333\ntest_accuracy: 0.7745\n",
          "output_type": "stream"
        },
        {
          "output_type": "display_data",
          "data": {
            "text/plain": "<Figure size 432x288 with 2 Axes>",
            "image/png": "[encoded data removed]"
          },
          "metadata": {
            "needs_background": "light"
          }
        }
      ]
    },
    {
      "cell_type": "code",
      "metadata": {
        "execution": {
          "iopub.status.busy": "2021-09-15T14:59:30.305217Z",
          "iopub.execute_input": "2021-09-15T14:59:30.305719Z",
          "iopub.status.idle": "2021-09-15T14:59:30.312814Z",
          "shell.execute_reply.started": "2021-09-15T14:59:30.305678Z",
          "shell.execute_reply": "2021-09-15T14:59:30.311043Z"
        },
        "trusted": true,
        "id": "764tRbZ-YzmX"
      },
      "source": [
        "# we can see in SVM that our recall of target variable is 0.56 which is the best we ever predicted."
      ],
      "execution_count": null,
      "outputs": []
    },
    {
      "cell_type": "markdown",
      "metadata": {
        "id": "KeLmeM62YzmX"
      },
      "source": [
        "# Naive Bayes"
      ]
    },
    {
      "cell_type": "code",
      "metadata": {
        "execution": {
          "iopub.status.busy": "2021-09-19T00:09:08.663007Z",
          "iopub.execute_input": "2021-09-19T00:09:08.663333Z",
          "iopub.status.idle": "2021-09-19T00:09:08.862057Z",
          "shell.execute_reply.started": "2021-09-19T00:09:08.663303Z",
          "shell.execute_reply": "2021-09-19T00:09:08.861183Z"
        },
        "trusted": true,
        "id": "1R32CIbgYzmX",
        "outputId": "a6f93098-4c01-44e1-afee-02c5878a2c31"
      },
      "source": [
        "nb_model = GaussianNB()\n",
        "nb_model.fit(x_train,y_train)\n",
        "y_pred_nb = nb_model.predict(x_test)\n",
        "y_pred_nb_train = nb_model.predict(x_train)\n",
        "res(y_pred_nb,y_pred_nb_train)"
      ],
      "execution_count": null,
      "outputs": [
        {
          "name": "stdout",
          "text": "              precision    recall  f1-score   support\n\n           0       0.88      0.78      0.83      4663\n           1       0.45      0.61      0.52      1337\n\n    accuracy                           0.74      6000\n   macro avg       0.66      0.70      0.67      6000\nweighted avg       0.78      0.74      0.76      6000\n\ntrain_accuracy: 0.743375\ntest_accuracy: 0.7448333333333333\n",
          "output_type": "stream"
        },
        {
          "output_type": "display_data",
          "data": {
            "text/plain": "<Figure size 432x288 with 2 Axes>",
            "image/png": "[encoded data removed]"
          },
          "metadata": {
            "needs_background": "light"
          }
        }
      ]
    },
    {
      "cell_type": "code",
      "metadata": {
        "execution": {
          "iopub.status.busy": "2021-09-15T14:59:30.564751Z",
          "iopub.execute_input": "2021-09-15T14:59:30.565224Z",
          "iopub.status.idle": "2021-09-15T14:59:30.571057Z",
          "shell.execute_reply.started": "2021-09-15T14:59:30.565176Z",
          "shell.execute_reply": "2021-09-15T14:59:30.569664Z"
        },
        "trusted": true,
        "id": "ie87KMgQYzmY"
      },
      "source": [
        "# But here Naive bayes out performs every other model though over accuracy is acceptable, checkout the recall "
      ],
      "execution_count": null,
      "outputs": []
    },
    {
      "cell_type": "markdown",
      "metadata": {
        "id": "bzOQv46WYzmY"
      },
      "source": [
        "# Boosting model XGB Classifier"
      ]
    },
    {
      "cell_type": "code",
      "metadata": {
        "execution": {
          "iopub.status.busy": "2021-09-19T00:09:20.968527Z",
          "iopub.execute_input": "2021-09-19T00:09:20.968891Z",
          "iopub.status.idle": "2021-09-19T00:09:27.057571Z",
          "shell.execute_reply.started": "2021-09-19T00:09:20.968857Z",
          "shell.execute_reply": "2021-09-19T00:09:27.056561Z"
        },
        "trusted": true,
        "id": "itZbbkaBYzmY",
        "outputId": "ead834e1-0c32-41c5-def6-95f369756f79"
      },
      "source": [
        "from xgboost import XGBClassifier\n",
        "\n",
        "xgb_model = XGBClassifier()\n",
        "xgb_model.fit(x_train, y_train)\n",
        "xgb_y_predict = xgb_model.predict(x_test)\n",
        "xgb_y_predict_train = xgb_model.predict(x_train)\n",
        "res(xgb_y_predict,xgb_y_predict_train)"
      ],
      "execution_count": null,
      "outputs": [
        {
          "name": "stdout",
          "text": "[00:09:23] WARNING: ../src/learner.cc:1095: Starting in XGBoost 1.3.0, the default evaluation metric used with the objective 'binary:logistic' was changed from 'error' to 'logloss'. Explicitly set eval_metric if you'd like to restore the old behavior.\n              precision    recall  f1-score   support\n\n           0       0.84      0.94      0.89      4663\n           1       0.64      0.35      0.46      1337\n\n    accuracy                           0.81      6000\n   macro avg       0.74      0.65      0.67      6000\nweighted avg       0.79      0.81      0.79      6000\n\ntrain_accuracy: 0.874125\ntest_accuracy: 0.8125\n",
          "output_type": "stream"
        },
        {
          "output_type": "display_data",
          "data": {
            "text/plain": "<Figure size 432x288 with 2 Axes>",
            "image/png": "[encoded data removed]"
          },
          "metadata": {
            "needs_background": "light"
          }
        }
      ]
    },
    {
      "cell_type": "code",
      "metadata": {
        "execution": {
          "iopub.status.busy": "2021-09-15T14:59:37.370191Z",
          "iopub.execute_input": "2021-09-15T14:59:37.370842Z",
          "iopub.status.idle": "2021-09-15T14:59:37.375872Z",
          "shell.execute_reply.started": "2021-09-15T14:59:37.370797Z",
          "shell.execute_reply": "2021-09-15T14:59:37.374185Z"
        },
        "trusted": true,
        "id": "W0xCDmORYzmY"
      },
      "source": [
        "# Even Boosting technique gives low recall for our target variable"
      ],
      "execution_count": null,
      "outputs": []
    },
    {
      "cell_type": "code",
      "metadata": {
        "execution": {
          "iopub.status.busy": "2021-09-15T14:59:37.378142Z",
          "iopub.execute_input": "2021-09-15T14:59:37.37877Z",
          "iopub.status.idle": "2021-09-15T14:59:37.388018Z",
          "shell.execute_reply.started": "2021-09-15T14:59:37.378724Z",
          "shell.execute_reply": "2021-09-15T14:59:37.386342Z"
        },
        "trusted": true,
        "id": "7MWLqQKHYzmZ"
      },
      "source": [
        "# So from the above model we can conclude that the data imbalance is playing a major part \n",
        "# Hence we try to fix that by doing ReSample techniques"
      ],
      "execution_count": null,
      "outputs": []
    },
    {
      "cell_type": "markdown",
      "metadata": {
        "id": "N0qxB-9IYzmZ"
      },
      "source": [
        "# Random under-sampling\n",
        "### Let’s apply some of these resampling techniques, using the Python library imbalanced-learn."
      ]
    },
    {
      "cell_type": "code",
      "metadata": {
        "execution": {
          "iopub.status.busy": "2021-09-19T00:09:45.960012Z",
          "iopub.execute_input": "2021-09-19T00:09:45.960335Z",
          "iopub.status.idle": "2021-09-19T00:09:45.964503Z",
          "shell.execute_reply.started": "2021-09-19T00:09:45.960307Z",
          "shell.execute_reply": "2021-09-19T00:09:45.963301Z"
        },
        "trusted": true,
        "id": "FgziF7Z2YzmZ"
      },
      "source": [
        "from collections import Counter\n",
        "from imblearn.under_sampling import RandomUnderSampler\n",
        "from imblearn.over_sampling import RandomOverSampler\n",
        "from imblearn.under_sampling import TomekLinks"
      ],
      "execution_count": null,
      "outputs": []
    },
    {
      "cell_type": "code",
      "metadata": {
        "execution": {
          "iopub.status.busy": "2021-09-19T00:09:52.466018Z",
          "iopub.execute_input": "2021-09-19T00:09:52.466346Z",
          "iopub.status.idle": "2021-09-19T00:09:52.505938Z",
          "shell.execute_reply.started": "2021-09-19T00:09:52.466317Z",
          "shell.execute_reply": "2021-09-19T00:09:52.504916Z"
        },
        "trusted": true,
        "id": "d2tao-0XYzmZ",
        "outputId": "0ab61235-8ecf-4ea2-df48-c985fb800302"
      },
      "source": [
        "x= data2.drop(['def_pay'],1)\n",
        "y = data2['def_pay']\n",
        "\n",
        "rus = RandomUnderSampler(random_state=1)\n",
        "x_rus, y_rus = rus.fit_resample(x,y)\n",
        "\n",
        "print('original dataset shape:', Counter(y))\n",
        "print('Resample dataset shape', Counter(y_rus))"
      ],
      "execution_count": null,
      "outputs": [
        {
          "name": "stdout",
          "text": "original dataset shape: Counter({0: 23364, 1: 6636})\nResample dataset shape Counter({0: 6636, 1: 6636})\n",
          "output_type": "stream"
        }
      ]
    },
    {
      "cell_type": "code",
      "metadata": {
        "execution": {
          "iopub.status.busy": "2021-09-19T00:10:09.679285Z",
          "iopub.execute_input": "2021-09-19T00:10:09.679601Z",
          "iopub.status.idle": "2021-09-19T00:10:09.700497Z",
          "shell.execute_reply.started": "2021-09-19T00:10:09.679572Z",
          "shell.execute_reply": "2021-09-19T00:10:09.699754Z"
        },
        "trusted": true,
        "id": "rqwVJ1oCYzma"
      },
      "source": [
        "x_train,x_test, y_train, y_test = train_test_split(x_rus,y_rus,test_size=0.20, random_state=1)\n",
        "x_train = sc.fit_transform(x_train)\n",
        "x_test = sc.transform(x_test)"
      ],
      "execution_count": null,
      "outputs": []
    },
    {
      "cell_type": "code",
      "metadata": {
        "execution": {
          "iopub.status.busy": "2021-09-19T00:10:13.248588Z",
          "iopub.execute_input": "2021-09-19T00:10:13.248937Z",
          "iopub.status.idle": "2021-09-19T00:10:13.991894Z",
          "shell.execute_reply.started": "2021-09-19T00:10:13.248906Z",
          "shell.execute_reply": "2021-09-19T00:10:13.990927Z"
        },
        "trusted": true,
        "id": "Qb-9RVhPYzma",
        "outputId": "681abf9b-e140-4ded-f4d7-2b77ea466fe3"
      },
      "source": [
        "# again we try to predict using Random Forest\n",
        "rf_model_rus = RandomForestClassifier(n_estimators=70, max_depth=5, min_samples_leaf=4, min_samples_split=3,random_state=1)\n",
        "rf_model_rus.fit(x_train,y_train)\n",
        "y_pred_rf_rus = rf_model_rus.predict(x_test)\n",
        "y_pred_rf_rus_train = rf_model_rus.predict(x_train)\n",
        "res(y_pred_rf_rus,y_pred_rf_rus_train)"
      ],
      "execution_count": null,
      "outputs": [
        {
          "name": "stdout",
          "text": "              precision    recall  f1-score   support\n\n           0       0.70      0.84      0.76      1364\n           1       0.78      0.62      0.69      1291\n\n    accuracy                           0.73      2655\n   macro avg       0.74      0.73      0.72      2655\nweighted avg       0.74      0.73      0.73      2655\n\ntrain_accuracy: 0.719318074785721\ntest_accuracy: 0.7295668549905838\n",
          "output_type": "stream"
        },
        {
          "output_type": "display_data",
          "data": {
            "text/plain": "<Figure size 432x288 with 2 Axes>",
            "image/png": "[encoded data removed]"
          },
          "metadata": {
            "needs_background": "light"
          }
        }
      ]
    },
    {
      "cell_type": "markdown",
      "metadata": {
        "id": "6kPtSYcWYzma"
      },
      "source": [
        "# Random over-sampling"
      ]
    },
    {
      "cell_type": "code",
      "metadata": {
        "execution": {
          "iopub.status.busy": "2021-09-19T00:10:52.788184Z",
          "iopub.execute_input": "2021-09-19T00:10:52.788521Z",
          "iopub.status.idle": "2021-09-19T00:10:52.850331Z",
          "shell.execute_reply.started": "2021-09-19T00:10:52.788492Z",
          "shell.execute_reply": "2021-09-19T00:10:52.849439Z"
        },
        "trusted": true,
        "id": "xPGkkwGjYzma",
        "outputId": "61cf910f-938e-4b59-e4d3-818ae1f94da9"
      },
      "source": [
        "x= data2.drop(['def_pay'],1)\n",
        "y = data2['def_pay']\n",
        "\n",
        "ros = RandomOverSampler(random_state=42)\n",
        "x_ros, y_ros = ros.fit_resample(x, y)\n",
        "\n",
        "print('Original dataset shape', Counter(y))\n",
        "print('Resample dataset shape', Counter(y_ros))"
      ],
      "execution_count": null,
      "outputs": [
        {
          "name": "stdout",
          "text": "Original dataset shape Counter({0: 23364, 1: 6636})\nResample dataset shape Counter({1: 23364, 0: 23364})\n",
          "output_type": "stream"
        }
      ]
    },
    {
      "cell_type": "code",
      "metadata": {
        "execution": {
          "iopub.status.busy": "2021-09-19T00:11:02.563506Z",
          "iopub.execute_input": "2021-09-19T00:11:02.563856Z",
          "iopub.status.idle": "2021-09-19T00:11:02.597404Z",
          "shell.execute_reply.started": "2021-09-19T00:11:02.563802Z",
          "shell.execute_reply": "2021-09-19T00:11:02.596571Z"
        },
        "trusted": true,
        "id": "5mQNrNPlYzmb"
      },
      "source": [
        "x_train,x_test, y_train, y_test = train_test_split(x_ros,y_ros,test_size=0.20, random_state=1)\n",
        "x_train = sc.fit_transform(x_train)\n",
        "x_test = sc.transform(x_test)"
      ],
      "execution_count": null,
      "outputs": []
    },
    {
      "cell_type": "code",
      "metadata": {
        "execution": {
          "iopub.status.busy": "2021-09-19T00:11:06.595087Z",
          "iopub.execute_input": "2021-09-19T00:11:06.595443Z",
          "iopub.status.idle": "2021-09-19T00:11:08.950328Z",
          "shell.execute_reply.started": "2021-09-19T00:11:06.595413Z",
          "shell.execute_reply": "2021-09-19T00:11:08.949356Z"
        },
        "trusted": true,
        "id": "ShktbmRZYzmb",
        "outputId": "abfac310-db4f-4282-c139-bcd4a0414eda"
      },
      "source": [
        "rf_model_ros = RandomForestClassifier(n_estimators=70, max_depth=5, min_samples_leaf=4, min_samples_split=3,random_state=1)\n",
        "rf_model_ros.fit(x_train,y_train)\n",
        "y_pred_rf_ros = rf_model_ros.predict(x_test)\n",
        "y_pred_rf_ros_train = rf_model_ros.predict(x_train)\n",
        "res(y_pred_rf_ros,y_pred_rf_ros_train)"
      ],
      "execution_count": null,
      "outputs": [
        {
          "name": "stdout",
          "text": "              precision    recall  f1-score   support\n\n           0       0.67      0.82      0.74      4607\n           1       0.77      0.62      0.69      4739\n\n    accuracy                           0.71      9346\n   macro avg       0.72      0.72      0.71      9346\nweighted avg       0.72      0.71      0.71      9346\n\ntrain_accuracy: 0.7182066235086405\ntest_accuracy: 0.7138882944575219\n",
          "output_type": "stream"
        },
        {
          "output_type": "display_data",
          "data": {
            "text/plain": "<Figure size 432x288 with 2 Axes>",
            "image/png": "[encoded data removed]"
          },
          "metadata": {
            "needs_background": "light"
          }
        }
      ]
    },
    {
      "cell_type": "markdown",
      "metadata": {
        "id": "CFkAxRc-Yzmb"
      },
      "source": [
        "# Under-sampling: Tomek links"
      ]
    },
    {
      "cell_type": "code",
      "metadata": {
        "execution": {
          "iopub.status.busy": "2021-09-19T00:11:35.044308Z",
          "iopub.execute_input": "2021-09-19T00:11:35.044638Z",
          "iopub.status.idle": "2021-09-19T00:11:35.970432Z",
          "shell.execute_reply.started": "2021-09-19T00:11:35.044609Z",
          "shell.execute_reply": "2021-09-19T00:11:35.969553Z"
        },
        "trusted": true,
        "id": "ZrDkpvFaYzmb",
        "outputId": "310da21d-4a4e-4483-ad2a-836f051abcf1"
      },
      "source": [
        "x= data2.drop(['def_pay'],1)\n",
        "y = data2['def_pay']\n",
        "\n",
        "tl = TomekLinks(sampling_strategy='majority')\n",
        "x_tl, y_tl = tl.fit_resample(x,y)\n",
        "\n",
        "print('Original dataset shape', Counter(y))\n",
        "print('Resample dataset shape', Counter(y_tl))"
      ],
      "execution_count": null,
      "outputs": [
        {
          "name": "stdout",
          "text": "Original dataset shape Counter({0: 23364, 1: 6636})\nResample dataset shape Counter({0: 21479, 1: 6636})\n",
          "output_type": "stream"
        }
      ]
    },
    {
      "cell_type": "code",
      "metadata": {
        "execution": {
          "iopub.status.busy": "2021-09-19T00:11:43.481996Z",
          "iopub.execute_input": "2021-09-19T00:11:43.482312Z",
          "iopub.status.idle": "2021-09-19T00:11:43.507967Z",
          "shell.execute_reply.started": "2021-09-19T00:11:43.482284Z",
          "shell.execute_reply": "2021-09-19T00:11:43.507189Z"
        },
        "trusted": true,
        "id": "FP39tSuYYzmc"
      },
      "source": [
        "x_train,x_test, y_train, y_test = train_test_split(x_tl,y_tl,test_size=0.20, random_state=1)\n",
        "x_train = sc.fit_transform(x_train)\n",
        "x_test = sc.transform(x_test)"
      ],
      "execution_count": null,
      "outputs": []
    },
    {
      "cell_type": "code",
      "metadata": {
        "execution": {
          "iopub.status.busy": "2021-09-19T00:11:47.697672Z",
          "iopub.execute_input": "2021-09-19T00:11:47.698006Z",
          "iopub.status.idle": "2021-09-19T00:11:49.018702Z",
          "shell.execute_reply.started": "2021-09-19T00:11:47.697977Z",
          "shell.execute_reply": "2021-09-19T00:11:49.017740Z"
        },
        "trusted": true,
        "id": "Iyq9FcQBYzmc",
        "outputId": "d481a687-3ec6-4a8d-bc9d-fcb912150956"
      },
      "source": [
        "rf_model_tl = RandomForestClassifier(n_estimators=70, max_depth=5, min_samples_leaf=4, min_samples_split=3,random_state=1)\n",
        "rf_model_tl.fit(x_train,y_train)\n",
        "y_pred_rf_tl = rf_model_tl.predict(x_test)\n",
        "y_pred_rf_tl_train = rf_model_tl.predict(x_train)\n",
        "res(y_pred_rf_tl,y_pred_rf_tl_train)"
      ],
      "execution_count": null,
      "outputs": [
        {
          "name": "stdout",
          "text": "              precision    recall  f1-score   support\n\n           0       0.83      0.95      0.89      4286\n           1       0.71      0.38      0.49      1337\n\n    accuracy                           0.81      5623\n   macro avg       0.77      0.66      0.69      5623\nweighted avg       0.80      0.81      0.79      5623\n\ntrain_accuracy: 0.8188689311755291\ntest_accuracy: 0.8143339854170372\n",
          "output_type": "stream"
        },
        {
          "output_type": "display_data",
          "data": {
            "text/plain": "<Figure size 432x288 with 2 Axes>",
            "image/png": "[encoded data removed]"
          },
          "metadata": {
            "needs_background": "light"
          }
        }
      ]
    },
    {
      "cell_type": "markdown",
      "metadata": {
        "id": "4a8itUo8Yzmc"
      },
      "source": [
        "# Synthetic Minority Oversampling Technique (SMOTE)"
      ]
    },
    {
      "cell_type": "code",
      "metadata": {
        "execution": {
          "iopub.status.busy": "2021-09-19T00:11:54.241383Z",
          "iopub.execute_input": "2021-09-19T00:11:54.241760Z",
          "iopub.status.idle": "2021-09-19T00:11:54.380938Z",
          "shell.execute_reply.started": "2021-09-19T00:11:54.241726Z",
          "shell.execute_reply": "2021-09-19T00:11:54.379990Z"
        },
        "trusted": true,
        "id": "wJWbhmaCYzmc",
        "outputId": "21c0af29-deec-4fad-8f64-6ec545fb2f6b"
      },
      "source": [
        "from imblearn.over_sampling import SMOTE\n",
        "smote = SMOTE()\n",
        "\n",
        "x_smote, y_smote = smote.fit_resample(x, y)\n",
        "\n",
        "print('Original dataset shape', Counter(y))\n",
        "print('Resample dataset shape', Counter(y_smote))"
      ],
      "execution_count": null,
      "outputs": [
        {
          "name": "stdout",
          "text": "Original dataset shape Counter({0: 23364, 1: 6636})\nResample dataset shape Counter({1: 23364, 0: 23364})\n",
          "output_type": "stream"
        }
      ]
    },
    {
      "cell_type": "code",
      "metadata": {
        "execution": {
          "iopub.status.busy": "2021-09-19T00:12:04.241308Z",
          "iopub.execute_input": "2021-09-19T00:12:04.241625Z",
          "iopub.status.idle": "2021-09-19T00:12:04.275106Z",
          "shell.execute_reply.started": "2021-09-19T00:12:04.241595Z",
          "shell.execute_reply": "2021-09-19T00:12:04.274302Z"
        },
        "trusted": true,
        "id": "29xMi4mcYzmd"
      },
      "source": [
        "x_train,x_test, y_train, y_test = train_test_split(x_smote,y_smote,test_size=0.20, random_state=1)\n",
        "x_train = sc.fit_transform(x_train)\n",
        "x_test = sc.transform(x_test)"
      ],
      "execution_count": null,
      "outputs": []
    },
    {
      "cell_type": "code",
      "metadata": {
        "execution": {
          "iopub.status.busy": "2021-09-19T00:12:08.571402Z",
          "iopub.execute_input": "2021-09-19T00:12:08.571741Z",
          "iopub.status.idle": "2021-09-19T00:12:08.579711Z",
          "shell.execute_reply.started": "2021-09-19T00:12:08.571711Z",
          "shell.execute_reply": "2021-09-19T00:12:08.578608Z"
        },
        "trusted": true,
        "id": "Jg3ANOX5Yzmd"
      },
      "source": [
        "x_train = pd.DataFrame(x_train).fillna(0)\n",
        "x_test = pd.DataFrame(x_test).fillna(0)"
      ],
      "execution_count": null,
      "outputs": []
    },
    {
      "cell_type": "code",
      "metadata": {
        "execution": {
          "iopub.status.busy": "2021-09-19T00:12:16.751951Z",
          "iopub.execute_input": "2021-09-19T00:12:16.752277Z",
          "iopub.status.idle": "2021-09-19T00:12:18.921680Z",
          "shell.execute_reply.started": "2021-09-19T00:12:16.752247Z",
          "shell.execute_reply": "2021-09-19T00:12:18.920715Z"
        },
        "trusted": true,
        "id": "KqyrMuiTYzmd",
        "outputId": "95a64207-2f71-4bbe-ae79-1ed144767e89"
      },
      "source": [
        "rf_model_smote = RandomForestClassifier(n_estimators=70, max_depth=5, min_samples_leaf=4, min_samples_split=3,random_state=1)\n",
        "rf_model_smote.fit(x_train,y_train)\n",
        "y_pred_rf_smote = rf_model_smote.predict(x_test)\n",
        "y_pred_rf_smote_train = rf_model_smote.predict(x_train)\n",
        "res(y_pred_rf_smote,y_pred_rf_smote_train)"
      ],
      "execution_count": null,
      "outputs": [
        {
          "name": "stdout",
          "text": "              precision    recall  f1-score   support\n\n           0       0.80      0.87      0.84      4607\n           1       0.87      0.79      0.83      4739\n\n    accuracy                           0.83      9346\n   macro avg       0.83      0.83      0.83      9346\nweighted avg       0.83      0.83      0.83      9346\n\ntrain_accuracy: 0.8365256005564176\ntest_accuracy: 0.831371709822384\n",
          "output_type": "stream"
        },
        {
          "output_type": "display_data",
          "data": {
            "text/plain": "<Figure size 432x288 with 2 Axes>",
            "image/png": "[encoded data removed]"
          },
          "metadata": {
            "needs_background": "light"
          }
        }
      ]
    },
    {
      "cell_type": "markdown",
      "metadata": {
        "id": "l57J920ZYzmd"
      },
      "source": [
        "### Finally using SMOTE we can see our accuracy as well as recall and precision ratio are give equal ratio\n",
        "### Though all the above models performs well, based on the accuracy  but in a imbalance dataset like this,\n",
        "####              we actually prefer to change the performance metrics \n",
        "### We can get better result when we do SVM and Naive bayes with our original data\n",
        "### Even we dont have any variance in the model nor to much of bias\n",
        "### But when we do over or Under sample the date the other metrics like sensity and specificity was better\n",
        "### Hence we can conclue that if we use resample technique we will get better result"
      ]
    }
  ]
}