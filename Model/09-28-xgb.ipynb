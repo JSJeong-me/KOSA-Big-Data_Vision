{
  "nbformat": 4,
  "nbformat_minor": 0,
  "metadata": {
    "colab": {
      "name": "Untitled16.ipynb",
      "provenance": [],
      "authorship_tag": "ABX9TyOuGU4vfCiCWwcWtFOSDvev",
      "include_colab_link": true
    },
    "kernelspec": {
      "name": "python3",
      "display_name": "Python 3"
    },
    "language_info": {
      "name": "python"
    }
  },
  "cells": [
    {
      "cell_type": "markdown",
      "metadata": {
        "id": "view-in-github",
        "colab_type": "text"
      },
      "source": [
        "<a href=\"https://colab.research.google.com/github/JSJeong-me/KOSA-Big-Data_Vision/blob/main/Model/09-28-xgb.ipynb\" target=\"_parent\"><img src=\"https://colab.research.google.com/assets/colab-badge.svg\" alt=\"Open In Colab\"/></a>"
      ]
    },
    {
      "cell_type": "code",
      "metadata": {
        "id": "qbV6ZyL671Tr"
      },
      "source": [
        "import pandas as pd"
      ],
      "execution_count": 1,
      "outputs": []
    },
    {
      "cell_type": "code",
      "metadata": {
        "id": "eFDqgA8r73wd"
      },
      "source": [
        "df = pd.read_csv('credit_cards_dataset.csv')"
      ],
      "execution_count": 2,
      "outputs": []
    },
    {
      "cell_type": "code",
      "metadata": {
        "colab": {
          "base_uri": "https://localhost:8080/"
        },
        "id": "UNV0TLDH8jFl",
        "outputId": "bc01844b-98e4-4607-af3f-c6660d0f9eb7"
      },
      "source": [
        "df.columns"
      ],
      "execution_count": 3,
      "outputs": [
        {
          "output_type": "execute_result",
          "data": {
            "text/plain": [
              "Index(['ID', 'LIMIT_BAL', 'SEX', 'EDUCATION', 'MARRIAGE', 'AGE', 'PAY_0',\n",
              "       'PAY_2', 'PAY_3', 'PAY_4', 'PAY_5', 'PAY_6', 'BILL_AMT1', 'BILL_AMT2',\n",
              "       'BILL_AMT3', 'BILL_AMT4', 'BILL_AMT5', 'BILL_AMT6', 'PAY_AMT1',\n",
              "       'PAY_AMT2', 'PAY_AMT3', 'PAY_AMT4', 'PAY_AMT5', 'PAY_AMT6',\n",
              "       'default.payment.next.month'],\n",
              "      dtype='object')"
            ]
          },
          "metadata": {},
          "execution_count": 3
        }
      ]
    },
    {
      "cell_type": "markdown",
      "metadata": {
        "id": "UVRM2do88nSN"
      },
      "source": [
        "Target Variable(목표변수) : default.payment.next.month"
      ]
    },
    {
      "cell_type": "markdown",
      "metadata": {
        "id": "opEQ2MqJ8ulm"
      },
      "source": [
        "Input Variable(독립변수): 'ID', 'LIMIT_BAL', 'SEX', 'EDUCATION', 'MARRIAGE', 'AGE', 'PAY_0',  'PAY_2', 'PAY_3', 'PAY_4', 'PAY_5', 'PAY_6', 'BILL_AMT1', 'BILL_AMT2',  'BILL_AMT3', 'BILL_AMT4', 'BILL_AMT5', 'BILL_AMT6', 'PAY_AMT1',\n",
        "       'PAY_AMT2', 'PAY_AMT3', 'PAY_AMT4', 'PAY_AMT5', 'PAY_AMT6'"
      ]
    },
    {
      "cell_type": "code",
      "metadata": {
        "id": "0XQhdT028c9O"
      },
      "source": [
        "X = df.drop(['ID','default.payment.next.month'], axis=1).values"
      ],
      "execution_count": 4,
      "outputs": []
    },
    {
      "cell_type": "code",
      "metadata": {
        "colab": {
          "base_uri": "https://localhost:8080/"
        },
        "id": "sqDBKnhb9Zxe",
        "outputId": "a22e66ae-e075-4387-ae73-1d1262f8b4b6"
      },
      "source": [
        "type(X)"
      ],
      "execution_count": 5,
      "outputs": [
        {
          "output_type": "execute_result",
          "data": {
            "text/plain": [
              "numpy.ndarray"
            ]
          },
          "metadata": {},
          "execution_count": 5
        }
      ]
    },
    {
      "cell_type": "code",
      "metadata": {
        "colab": {
          "base_uri": "https://localhost:8080/"
        },
        "id": "DU71nl4a9c5v",
        "outputId": "898a21f4-e45d-4bf6-bba0-525b2a9f92a7"
      },
      "source": [
        "X.shape"
      ],
      "execution_count": 6,
      "outputs": [
        {
          "output_type": "execute_result",
          "data": {
            "text/plain": [
              "(30000, 23)"
            ]
          },
          "metadata": {},
          "execution_count": 6
        }
      ]
    },
    {
      "cell_type": "code",
      "metadata": {
        "id": "BZlCB_PM9l_H"
      },
      "source": [
        "Y = df['default.payment.next.month'].values"
      ],
      "execution_count": 7,
      "outputs": []
    },
    {
      "cell_type": "code",
      "metadata": {
        "id": "PqxOSnXP_NZ_"
      },
      "source": [
        "from sklearn.model_selection import train_test_split"
      ],
      "execution_count": 8,
      "outputs": []
    },
    {
      "cell_type": "code",
      "metadata": {
        "id": "YOXKphRN-jXt"
      },
      "source": [
        "X_train, X_test, Y_train, Y_test = train_test_split(X, Y, train_size=0.7, random_state=123435)"
      ],
      "execution_count": 9,
      "outputs": []
    },
    {
      "cell_type": "code",
      "metadata": {
        "colab": {
          "base_uri": "https://localhost:8080/"
        },
        "id": "eFQDtfa4_to-",
        "outputId": "c3e0507e-c147-4ce6-98d1-bf0187050ed8"
      },
      "source": [
        "X_train.shape"
      ],
      "execution_count": 10,
      "outputs": [
        {
          "output_type": "execute_result",
          "data": {
            "text/plain": [
              "(21000, 23)"
            ]
          },
          "metadata": {},
          "execution_count": 10
        }
      ]
    },
    {
      "cell_type": "code",
      "metadata": {
        "id": "rLahEOdJ-3mv"
      },
      "source": [
        "import xgboost as xgb"
      ],
      "execution_count": 11,
      "outputs": []
    },
    {
      "cell_type": "code",
      "metadata": {
        "id": "f50MH6g--rni"
      },
      "source": [
        "dtrain = xgb.DMatrix(X_train, label=Y_train)"
      ],
      "execution_count": 12,
      "outputs": []
    },
    {
      "cell_type": "code",
      "metadata": {
        "id": "ONn8_wgv_Brl"
      },
      "source": [
        "dtest = xgb.DMatrix(X_test, label=Y_test)"
      ],
      "execution_count": 13,
      "outputs": []
    },
    {
      "cell_type": "markdown",
      "metadata": {
        "id": "OdH18bjIAF0G"
      },
      "source": [
        "Hyper - Parameter setting"
      ]
    },
    {
      "cell_type": "code",
      "metadata": {
        "id": "KV7MWgNx_8Mp"
      },
      "source": [
        "param = {'max_depth': 5, 'eta': 0.01, 'objective': 'binary:logistic'}\n",
        "param['nthread'] = 4\n",
        "param['eval_metric'] = 'auc'"
      ],
      "execution_count": 14,
      "outputs": []
    },
    {
      "cell_type": "code",
      "metadata": {
        "id": "mWH7vcg-AUZ-"
      },
      "source": [
        "evallist = [(dtest, 'eval'), (dtrain, 'train')]"
      ],
      "execution_count": 15,
      "outputs": []
    },
    {
      "cell_type": "code",
      "metadata": {
        "colab": {
          "base_uri": "https://localhost:8080/"
        },
        "id": "Agksc4eiAVpv",
        "outputId": "29a02799-80d7-45cc-8aa9-93f59ba41b7a"
      },
      "source": [
        "num_round = 100\n",
        "bst = xgb.train(param, dtrain, num_round, evallist)"
      ],
      "execution_count": 16,
      "outputs": [
        {
          "output_type": "stream",
          "name": "stdout",
          "text": [
            "[0]\teval-auc:0.763584\ttrain-auc:0.762042\n",
            "[1]\teval-auc:0.763552\ttrain-auc:0.762026\n",
            "[2]\teval-auc:0.763628\ttrain-auc:0.76202\n",
            "[3]\teval-auc:0.763846\ttrain-auc:0.762104\n",
            "[4]\teval-auc:0.763926\ttrain-auc:0.762128\n",
            "[5]\teval-auc:0.763973\ttrain-auc:0.762182\n",
            "[6]\teval-auc:0.764006\ttrain-auc:0.762587\n",
            "[7]\teval-auc:0.77\ttrain-auc:0.768614\n",
            "[8]\teval-auc:0.769982\ttrain-auc:0.768589\n",
            "[9]\teval-auc:0.770119\ttrain-auc:0.768691\n",
            "[10]\teval-auc:0.770157\ttrain-auc:0.768872\n",
            "[11]\teval-auc:0.770549\ttrain-auc:0.769367\n",
            "[12]\teval-auc:0.770479\ttrain-auc:0.769501\n",
            "[13]\teval-auc:0.770572\ttrain-auc:0.769386\n",
            "[14]\teval-auc:0.772501\ttrain-auc:0.770606\n",
            "[15]\teval-auc:0.772603\ttrain-auc:0.770635\n",
            "[16]\teval-auc:0.772686\ttrain-auc:0.77065\n",
            "[17]\teval-auc:0.772562\ttrain-auc:0.770642\n",
            "[18]\teval-auc:0.772598\ttrain-auc:0.770713\n",
            "[19]\teval-auc:0.772586\ttrain-auc:0.77067\n",
            "[20]\teval-auc:0.772578\ttrain-auc:0.770714\n",
            "[21]\teval-auc:0.772598\ttrain-auc:0.770761\n",
            "[22]\teval-auc:0.772582\ttrain-auc:0.770784\n",
            "[23]\teval-auc:0.772661\ttrain-auc:0.770869\n",
            "[24]\teval-auc:0.772709\ttrain-auc:0.77089\n",
            "[25]\teval-auc:0.773306\ttrain-auc:0.771501\n",
            "[26]\teval-auc:0.773435\ttrain-auc:0.772389\n",
            "[27]\teval-auc:0.773549\ttrain-auc:0.772448\n",
            "[28]\teval-auc:0.773806\ttrain-auc:0.772761\n",
            "[29]\teval-auc:0.773789\ttrain-auc:0.772779\n",
            "[30]\teval-auc:0.773853\ttrain-auc:0.772857\n",
            "[31]\teval-auc:0.77429\ttrain-auc:0.773158\n",
            "[32]\teval-auc:0.774282\ttrain-auc:0.773186\n",
            "[33]\teval-auc:0.774407\ttrain-auc:0.773209\n",
            "[34]\teval-auc:0.774564\ttrain-auc:0.773168\n",
            "[35]\teval-auc:0.774666\ttrain-auc:0.773262\n",
            "[36]\teval-auc:0.774603\ttrain-auc:0.773344\n",
            "[37]\teval-auc:0.774894\ttrain-auc:0.773376\n",
            "[38]\teval-auc:0.775\ttrain-auc:0.773409\n",
            "[39]\teval-auc:0.774876\ttrain-auc:0.773312\n",
            "[40]\teval-auc:0.774897\ttrain-auc:0.773526\n",
            "[41]\teval-auc:0.774957\ttrain-auc:0.773522\n",
            "[42]\teval-auc:0.774964\ttrain-auc:0.773595\n",
            "[43]\teval-auc:0.775066\ttrain-auc:0.773641\n",
            "[44]\teval-auc:0.774965\ttrain-auc:0.773608\n",
            "[45]\teval-auc:0.774992\ttrain-auc:0.773716\n",
            "[46]\teval-auc:0.775056\ttrain-auc:0.773744\n",
            "[47]\teval-auc:0.775024\ttrain-auc:0.773832\n",
            "[48]\teval-auc:0.77507\ttrain-auc:0.773847\n",
            "[49]\teval-auc:0.775188\ttrain-auc:0.774034\n",
            "[50]\teval-auc:0.775184\ttrain-auc:0.774109\n",
            "[51]\teval-auc:0.775314\ttrain-auc:0.774201\n",
            "[52]\teval-auc:0.775342\ttrain-auc:0.774235\n",
            "[53]\teval-auc:0.775361\ttrain-auc:0.774238\n",
            "[54]\teval-auc:0.775248\ttrain-auc:0.774396\n",
            "[55]\teval-auc:0.775266\ttrain-auc:0.774412\n",
            "[56]\teval-auc:0.775198\ttrain-auc:0.774419\n",
            "[57]\teval-auc:0.775324\ttrain-auc:0.774703\n",
            "[58]\teval-auc:0.77543\ttrain-auc:0.77467\n",
            "[59]\teval-auc:0.775869\ttrain-auc:0.775127\n",
            "[60]\teval-auc:0.775877\ttrain-auc:0.775128\n",
            "[61]\teval-auc:0.776004\ttrain-auc:0.775171\n",
            "[62]\teval-auc:0.776012\ttrain-auc:0.77521\n",
            "[63]\teval-auc:0.776159\ttrain-auc:0.775404\n",
            "[64]\teval-auc:0.776266\ttrain-auc:0.775422\n",
            "[65]\teval-auc:0.776355\ttrain-auc:0.77554\n",
            "[66]\teval-auc:0.77635\ttrain-auc:0.775613\n",
            "[67]\teval-auc:0.776409\ttrain-auc:0.77573\n",
            "[68]\teval-auc:0.776525\ttrain-auc:0.775798\n",
            "[69]\teval-auc:0.776618\ttrain-auc:0.775927\n",
            "[70]\teval-auc:0.776615\ttrain-auc:0.775985\n",
            "[71]\teval-auc:0.776657\ttrain-auc:0.776002\n",
            "[72]\teval-auc:0.776685\ttrain-auc:0.776289\n",
            "[73]\teval-auc:0.776714\ttrain-auc:0.776348\n",
            "[74]\teval-auc:0.776712\ttrain-auc:0.776401\n",
            "[75]\teval-auc:0.776769\ttrain-auc:0.776579\n",
            "[76]\teval-auc:0.776853\ttrain-auc:0.776761\n",
            "[77]\teval-auc:0.777014\ttrain-auc:0.77693\n",
            "[78]\teval-auc:0.777062\ttrain-auc:0.777089\n",
            "[79]\teval-auc:0.777366\ttrain-auc:0.777267\n",
            "[80]\teval-auc:0.777469\ttrain-auc:0.777458\n",
            "[81]\teval-auc:0.778594\ttrain-auc:0.778606\n",
            "[82]\teval-auc:0.778716\ttrain-auc:0.778746\n",
            "[83]\teval-auc:0.778664\ttrain-auc:0.778847\n",
            "[84]\teval-auc:0.778748\ttrain-auc:0.779009\n",
            "[85]\teval-auc:0.779054\ttrain-auc:0.779576\n",
            "[86]\teval-auc:0.779083\ttrain-auc:0.779713\n",
            "[87]\teval-auc:0.779176\ttrain-auc:0.779748\n",
            "[88]\teval-auc:0.779594\ttrain-auc:0.780147\n",
            "[89]\teval-auc:0.779717\ttrain-auc:0.780631\n",
            "[90]\teval-auc:0.780021\ttrain-auc:0.780789\n",
            "[91]\teval-auc:0.780128\ttrain-auc:0.780921\n",
            "[92]\teval-auc:0.780266\ttrain-auc:0.781157\n",
            "[93]\teval-auc:0.780418\ttrain-auc:0.781214\n",
            "[94]\teval-auc:0.78049\ttrain-auc:0.781522\n",
            "[95]\teval-auc:0.780724\ttrain-auc:0.781809\n",
            "[96]\teval-auc:0.780978\ttrain-auc:0.781944\n",
            "[97]\teval-auc:0.780974\ttrain-auc:0.782005\n",
            "[98]\teval-auc:0.781118\ttrain-auc:0.782133\n",
            "[99]\teval-auc:0.781192\ttrain-auc:0.782203\n"
          ]
        }
      ]
    },
    {
      "cell_type": "code",
      "metadata": {
        "id": "RKnCbnUwA6ow"
      },
      "source": [
        "ypred = bst.predict(dtest)"
      ],
      "execution_count": 17,
      "outputs": []
    },
    {
      "cell_type": "code",
      "metadata": {
        "colab": {
          "base_uri": "https://localhost:8080/"
        },
        "id": "8pbXZSMvBRxt",
        "outputId": "3aa0f91b-a4ce-4d52-d986-670a31dafa05"
      },
      "source": [
        "type(ypred)"
      ],
      "execution_count": 18,
      "outputs": [
        {
          "output_type": "execute_result",
          "data": {
            "text/plain": [
              "numpy.ndarray"
            ]
          },
          "metadata": {},
          "execution_count": 18
        }
      ]
    },
    {
      "cell_type": "code",
      "metadata": {
        "colab": {
          "base_uri": "https://localhost:8080/"
        },
        "id": "DRn1GisBBV9u",
        "outputId": "ce03d0e6-434c-43a8-88dd-2bf0a29a8bd0"
      },
      "source": [
        "ypred[:30]"
      ],
      "execution_count": 19,
      "outputs": [
        {
          "output_type": "execute_result",
          "data": {
            "text/plain": [
              "array([0.23417206, 0.24706452, 0.24706452, 0.27013406, 0.41221747,\n",
              "       0.2519243 , 0.2420104 , 0.2682993 , 0.31672642, 0.2345034 ,\n",
              "       0.3022913 , 0.24706452, 0.23417206, 0.2345034 , 0.265465  ,\n",
              "       0.334935  , 0.23417206, 0.331391  , 0.23993142, 0.2909264 ,\n",
              "       0.24706452, 0.28592768, 0.70638686, 0.44852236, 0.2689549 ,\n",
              "       0.24431972, 0.36255962, 0.6769386 , 0.41472042, 0.23417206],\n",
              "      dtype=float32)"
            ]
          },
          "metadata": {},
          "execution_count": 19
        }
      ]
    },
    {
      "cell_type": "code",
      "metadata": {
        "id": "VCOajv8qB8Ud"
      },
      "source": [
        "import numpy as np"
      ],
      "execution_count": 20,
      "outputs": []
    },
    {
      "cell_type": "code",
      "metadata": {
        "id": "hHoas1JyBqOy"
      },
      "source": [
        "predictive_values = np.rint(ypred)"
      ],
      "execution_count": 21,
      "outputs": []
    },
    {
      "cell_type": "code",
      "metadata": {
        "colab": {
          "base_uri": "https://localhost:8080/"
        },
        "id": "v1tIcAXjBD5e",
        "outputId": "04c34d20-daa5-4cb3-f038-8904abdeb27b"
      },
      "source": [
        "predictive_values[:30]"
      ],
      "execution_count": 22,
      "outputs": [
        {
          "output_type": "execute_result",
          "data": {
            "text/plain": [
              "array([0., 0., 0., 0., 0., 0., 0., 0., 0., 0., 0., 0., 0., 0., 0., 0., 0.,\n",
              "       0., 0., 0., 0., 0., 1., 0., 0., 0., 0., 1., 0., 0.], dtype=float32)"
            ]
          },
          "metadata": {},
          "execution_count": 22
        }
      ]
    },
    {
      "cell_type": "code",
      "metadata": {
        "id": "bTOUmqH3C3Rx"
      },
      "source": [
        ""
      ],
      "execution_count": 22,
      "outputs": []
    },
    {
      "cell_type": "code",
      "metadata": {
        "id": "rM7ZSDRuCSqI"
      },
      "source": [
        "from sklearn.metrics import accuracy_score\n",
        "from sklearn.metrics import confusion_matrix\n",
        "from sklearn.metrics import precision_score\n",
        "from sklearn.metrics import recall_score\n",
        "from sklearn import metrics\n",
        "from sklearn.model_selection import GridSearchCV\n",
        "\n",
        "accuracy = accuracy_score(Y_test, predictive_values)\n",
        "cm = confusion_matrix(Y_test, predictive_values)\n",
        "precision = precision_score(Y_test, predictive_values)\n",
        "recall = recall_score(Y_test, predictive_values)"
      ],
      "execution_count": 23,
      "outputs": []
    },
    {
      "cell_type": "code",
      "metadata": {
        "colab": {
          "base_uri": "https://localhost:8080/"
        },
        "id": "ILgUzrN4CbjW",
        "outputId": "8d6651ee-4196-4033-cf80-6a8bae97deb9"
      },
      "source": [
        "print(accuracy)\n",
        "print(cm)\n",
        "print(precision)\n",
        "print(recall)"
      ],
      "execution_count": 24,
      "outputs": [
        {
          "output_type": "stream",
          "name": "stdout",
          "text": [
            "0.8192222222222222\n",
            "[[6669  315]\n",
            " [1312  704]]\n",
            "0.6908734052993131\n",
            "0.3492063492063492\n"
          ]
        }
      ]
    },
    {
      "cell_type": "code",
      "metadata": {
        "id": "du7r2EVyCh4F"
      },
      "source": [
        "import matplotlib\n",
        "import matplotlib.pyplot as plt\n",
        "%matplotlib inline\n",
        "import itertools\n",
        "\n",
        "def plot_confusion_matrix(cm, classes,\n",
        "                          normalize=False,\n",
        "                          title='Confusion matrix',\n",
        "                          cmap=plt.cm.Blues):\n",
        "    if normalize:\n",
        "        cm = cm.astype('float') / cm.sum(axis=1)[:, np.newaxis]\n",
        "        print(\"Normalized confusion matrix\")\n",
        "    else:\n",
        "        print('Confusion matrix, without normalization')\n",
        "\n",
        "    print(cm)\n",
        "    \n",
        "    plt.imshow(cm, interpolation='nearest', cmap=cmap)\n",
        "    plt.title(title)\n",
        "    plt.colorbar()\n",
        "    tick_marks = np.arange(len(classes))\n",
        "    plt.xticks(tick_marks, classes, rotation=45)\n",
        "    plt.yticks(tick_marks, classes)\n",
        "\n",
        "    fmt = '.2f' if normalize else 'd'\n",
        "    thresh = cm.max() / 2.\n",
        "    for i, j in itertools.product(range(cm.shape[0]), range(cm.shape[1])):\n",
        "        plt.text(j, i, format(cm[i, j], fmt),\n",
        "                 horizontalalignment=\"center\",\n",
        "                 color=\"white\" if cm[i, j] > thresh else \"black\")"
      ],
      "execution_count": 25,
      "outputs": []
    },
    {
      "cell_type": "code",
      "metadata": {
        "colab": {
          "base_uri": "https://localhost:8080/",
          "height": 379
        },
        "id": "jwAaCKGdClou",
        "outputId": "1e4204ec-413a-4ee3-c797-607a9fe0cb99"
      },
      "source": [
        "plt.figure()\n",
        "plot_confusion_matrix(cm, classes=['Non_Default','Default'], normalize=False,\n",
        "                      title='Non Normalized confusion matrix')"
      ],
      "execution_count": 26,
      "outputs": [
        {
          "output_type": "stream",
          "name": "stdout",
          "text": [
            "Confusion matrix, without normalization\n",
            "[[6669  315]\n",
            " [1312  704]]\n"
          ]
        },
        {
          "output_type": "display_data",
          "data": {
            "image/png": "[encoded data removed]",
            "text/plain": [
              "<Figure size 432x288 with 2 Axes>"
            ]
          },
          "metadata": {
            "needs_background": "light"
          }
        }
      ]
    },
    {
      "cell_type": "code",
      "metadata": {
        "id": "S0OSeYGWDKA4"
      },
      "source": [
        "import matplotlib.pyplot as plt"
      ],
      "execution_count": 27,
      "outputs": []
    },
    {
      "cell_type": "code",
      "metadata": {
        "colab": {
          "base_uri": "https://localhost:8080/",
          "height": 314
        },
        "id": "-LPZp4QRC5K_",
        "outputId": "9918b8d4-6af1-4cd1-85f1-f63fc5b3169b"
      },
      "source": [
        "xgb.plot_importance(bst)"
      ],
      "execution_count": 28,
      "outputs": [
        {
          "output_type": "execute_result",
          "data": {
            "text/plain": [
              "<matplotlib.axes._subplots.AxesSubplot at 0x7f30a7c55150>"
            ]
          },
          "metadata": {},
          "execution_count": 28
        },
        {
          "output_type": "display_data",
          "data": {
            "image/png": "[encoded data removed]",
            "text/plain": [
              "<Figure size 432x288 with 1 Axes>"
            ]
          },
          "metadata": {
            "needs_background": "light"
          }
        }
      ]
    },
    {
      "cell_type": "code",
      "metadata": {
        "colab": {
          "base_uri": "https://localhost:8080/"
        },
        "id": "UW3EgFWCDyxQ",
        "outputId": "668b9c9f-12ff-4d4a-ecb7-bfe6da113478"
      },
      "source": [
        "df.columns"
      ],
      "execution_count": 29,
      "outputs": [
        {
          "output_type": "execute_result",
          "data": {
            "text/plain": [
              "Index(['ID', 'LIMIT_BAL', 'SEX', 'EDUCATION', 'MARRIAGE', 'AGE', 'PAY_0',\n",
              "       'PAY_2', 'PAY_3', 'PAY_4', 'PAY_5', 'PAY_6', 'BILL_AMT1', 'BILL_AMT2',\n",
              "       'BILL_AMT3', 'BILL_AMT4', 'BILL_AMT5', 'BILL_AMT6', 'PAY_AMT1',\n",
              "       'PAY_AMT2', 'PAY_AMT3', 'PAY_AMT4', 'PAY_AMT5', 'PAY_AMT6',\n",
              "       'default.payment.next.month'],\n",
              "      dtype='object')"
            ]
          },
          "metadata": {},
          "execution_count": 29
        }
      ]
    }
  ]
}