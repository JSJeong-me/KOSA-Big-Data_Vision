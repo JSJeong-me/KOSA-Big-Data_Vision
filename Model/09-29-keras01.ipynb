{
  "nbformat": 4,
  "nbformat_minor": 0,
  "metadata": {
    "colab": {
      "name": "Untitled21.ipynb",
      "provenance": [],
      "authorship_tag": "ABX9TyPxZeodXifuXWodz5j9ekt4",
      "include_colab_link": true
    },
    "kernelspec": {
      "name": "python3",
      "display_name": "Python 3"
    },
    "language_info": {
      "name": "python"
    }
  },
  "cells": [
    {
      "cell_type": "markdown",
      "metadata": {
        "id": "view-in-github",
        "colab_type": "text"
      },
      "source": [
        "<a href=\"https://colab.research.google.com/github/JSJeong-me/KOSA-Big-Data_Vision/blob/main/Model/09-29-keras01.ipynb\" target=\"_parent\"><img src=\"https://colab.research.google.com/assets/colab-badge.svg\" alt=\"Open In Colab\"/></a>"
      ]
    },
    {
      "cell_type": "code",
      "metadata": {
        "id": "rIVQr8rkRSzo"
      },
      "source": [
        "import tensorflow as tf"
      ],
      "execution_count": 1,
      "outputs": []
    },
    {
      "cell_type": "code",
      "metadata": {
        "id": "K-LyBvtlRXLx"
      },
      "source": [
        "from tensorflow import keras\n",
        "from tensorflow.keras import layers"
      ],
      "execution_count": 2,
      "outputs": []
    },
    {
      "cell_type": "markdown",
      "metadata": {
        "id": "o8P-5vWCbFX6"
      },
      "source": [
        "Data Set Preparation"
      ]
    },
    {
      "cell_type": "code",
      "metadata": {
        "id": "63-1k-fkbJZr"
      },
      "source": [
        "from sklearn.model_selection import train_test_split\n",
        "import pandas as pd\n",
        "import numpy as np\n",
        "from sklearn.preprocessing import StandardScaler"
      ],
      "execution_count": 3,
      "outputs": []
    },
    {
      "cell_type": "code",
      "metadata": {
        "id": "RRCFJZynbcDk"
      },
      "source": [
        "df = pd.read_csv(\"./credit_cards_dataset.csv\")"
      ],
      "execution_count": 4,
      "outputs": []
    },
    {
      "cell_type": "code",
      "metadata": {
        "id": "tFoTnb3KbiW1"
      },
      "source": [
        "X = df.drop('default.payment.next.month',axis =1).values\n",
        "y = df['default.payment.next.month'].values"
      ],
      "execution_count": 5,
      "outputs": []
    },
    {
      "cell_type": "code",
      "metadata": {
        "id": "EGv9KO1ubnCN"
      },
      "source": [
        "X_train, X_test, y_train, y_test = train_test_split (X,y,test_size=0.3, random_state=42)"
      ],
      "execution_count": 6,
      "outputs": []
    },
    {
      "cell_type": "code",
      "metadata": {
        "id": "AaEgKOqpbqTV"
      },
      "source": [
        "sc = StandardScaler()\n",
        "X_train = sc.fit_transform(X_train)\n",
        "X_test = sc.transform(X_test)"
      ],
      "execution_count": 7,
      "outputs": []
    },
    {
      "cell_type": "code",
      "metadata": {
        "id": "cfTe23-Hbp30"
      },
      "source": [
        ""
      ],
      "execution_count": 7,
      "outputs": []
    },
    {
      "cell_type": "code",
      "metadata": {
        "id": "4PYGmQT6Ratp"
      },
      "source": [
        "# Create a network with 1 linear unit\n",
        "model = keras.Sequential([\n",
        "    layers.Dense(units=50, input_shape=[24]),\n",
        "    layers.Dense(units=50),\n",
        "    layers.Dense(units=30),\n",
        "    layers.Dense(units=10),\n",
        "    layers.Dense(units=5)\n",
        "])"
      ],
      "execution_count": 8,
      "outputs": []
    },
    {
      "cell_type": "code",
      "metadata": {
        "id": "cu-WJLDdaxSN"
      },
      "source": [
        "model.add(layers.Dense(units = 1, activation = 'sigmoid'))"
      ],
      "execution_count": 9,
      "outputs": []
    },
    {
      "cell_type": "code",
      "metadata": {
        "colab": {
          "base_uri": "https://localhost:8080/"
        },
        "id": "p5klIrtTReci",
        "outputId": "b700a34d-256b-4c71-c7d1-96daa3f9e431"
      },
      "source": [
        "model.summary()"
      ],
      "execution_count": 10,
      "outputs": [
        {
          "output_type": "stream",
          "name": "stdout",
          "text": [
            "Model: \"sequential\"\n",
            "_________________________________________________________________\n",
            "Layer (type)                 Output Shape              Param #   \n",
            "=================================================================\n",
            "dense (Dense)                (None, 50)                1250      \n",
            "_________________________________________________________________\n",
            "dense_1 (Dense)              (None, 50)                2550      \n",
            "_________________________________________________________________\n",
            "dense_2 (Dense)              (None, 30)                1530      \n",
            "_________________________________________________________________\n",
            "dense_3 (Dense)              (None, 10)                310       \n",
            "_________________________________________________________________\n",
            "dense_4 (Dense)              (None, 5)                 55        \n",
            "_________________________________________________________________\n",
            "dense_5 (Dense)              (None, 1)                 6         \n",
            "=================================================================\n",
            "Total params: 5,701\n",
            "Trainable params: 5,701\n",
            "Non-trainable params: 0\n",
            "_________________________________________________________________\n"
          ]
        }
      ]
    },
    {
      "cell_type": "code",
      "metadata": {
        "id": "n0zrA0dqa_DD"
      },
      "source": [
        "#compile the model\n",
        "model.compile(optimizer = 'adam' ,\n",
        "             loss = 'binary_crossentropy',\n",
        "             metrics =['accuracy'])"
      ],
      "execution_count": 11,
      "outputs": []
    },
    {
      "cell_type": "code",
      "metadata": {
        "id": "BdUE1QJsbC-K",
        "outputId": "bce2385e-6b34-4e75-c179-3fd857076993",
        "colab": {
          "base_uri": "https://localhost:8080/"
        }
      },
      "source": [
        "model.fit(X_train, y_train, epochs=50,shuffle = True,verbose =2)"
      ],
      "execution_count": 12,
      "outputs": [
        {
          "output_type": "stream",
          "name": "stdout",
          "text": [
            "Epoch 1/50\n",
            "657/657 - 1s - loss: 0.4850 - accuracy: 0.8010\n",
            "Epoch 2/50\n",
            "657/657 - 1s - loss: 0.4703 - accuracy: 0.8089\n",
            "Epoch 3/50\n",
            "657/657 - 1s - loss: 0.4698 - accuracy: 0.8086\n",
            "Epoch 4/50\n",
            "657/657 - 1s - loss: 0.4688 - accuracy: 0.8072\n",
            "Epoch 5/50\n",
            "657/657 - 1s - loss: 0.4689 - accuracy: 0.8097\n",
            "Epoch 6/50\n",
            "657/657 - 1s - loss: 0.4679 - accuracy: 0.8085\n",
            "Epoch 7/50\n",
            "657/657 - 1s - loss: 0.4679 - accuracy: 0.8076\n",
            "Epoch 8/50\n",
            "657/657 - 1s - loss: 0.4683 - accuracy: 0.8099\n",
            "Epoch 9/50\n",
            "657/657 - 1s - loss: 0.4681 - accuracy: 0.8084\n",
            "Epoch 10/50\n",
            "657/657 - 1s - loss: 0.4681 - accuracy: 0.8088\n",
            "Epoch 11/50\n",
            "657/657 - 1s - loss: 0.4674 - accuracy: 0.8106\n",
            "Epoch 12/50\n",
            "657/657 - 1s - loss: 0.4678 - accuracy: 0.8091\n",
            "Epoch 13/50\n",
            "657/657 - 1s - loss: 0.4677 - accuracy: 0.8088\n",
            "Epoch 14/50\n",
            "657/657 - 1s - loss: 0.4675 - accuracy: 0.8085\n",
            "Epoch 15/50\n",
            "657/657 - 1s - loss: 0.4672 - accuracy: 0.8107\n",
            "Epoch 16/50\n",
            "657/657 - 1s - loss: 0.4674 - accuracy: 0.8086\n",
            "Epoch 17/50\n",
            "657/657 - 1s - loss: 0.4677 - accuracy: 0.8076\n",
            "Epoch 18/50\n",
            "657/657 - 1s - loss: 0.4672 - accuracy: 0.8092\n",
            "Epoch 19/50\n",
            "657/657 - 1s - loss: 0.4672 - accuracy: 0.8083\n",
            "Epoch 20/50\n",
            "657/657 - 1s - loss: 0.4671 - accuracy: 0.8086\n",
            "Epoch 21/50\n",
            "657/657 - 1s - loss: 0.4671 - accuracy: 0.8079\n",
            "Epoch 22/50\n",
            "657/657 - 1s - loss: 0.4673 - accuracy: 0.8095\n",
            "Epoch 23/50\n",
            "657/657 - 1s - loss: 0.4671 - accuracy: 0.8099\n",
            "Epoch 24/50\n",
            "657/657 - 1s - loss: 0.4674 - accuracy: 0.8092\n",
            "Epoch 25/50\n",
            "657/657 - 1s - loss: 0.4670 - accuracy: 0.8093\n",
            "Epoch 26/50\n",
            "657/657 - 1s - loss: 0.4668 - accuracy: 0.8101\n",
            "Epoch 27/50\n",
            "657/657 - 1s - loss: 0.4670 - accuracy: 0.8099\n",
            "Epoch 28/50\n",
            "657/657 - 1s - loss: 0.4667 - accuracy: 0.8092\n",
            "Epoch 29/50\n",
            "657/657 - 1s - loss: 0.4669 - accuracy: 0.8090\n",
            "Epoch 30/50\n",
            "657/657 - 1s - loss: 0.4669 - accuracy: 0.8098\n",
            "Epoch 31/50\n",
            "657/657 - 1s - loss: 0.4666 - accuracy: 0.8089\n",
            "Epoch 32/50\n",
            "657/657 - 1s - loss: 0.4667 - accuracy: 0.8096\n",
            "Epoch 33/50\n",
            "657/657 - 1s - loss: 0.4665 - accuracy: 0.8104\n",
            "Epoch 34/50\n",
            "657/657 - 1s - loss: 0.4670 - accuracy: 0.8096\n",
            "Epoch 35/50\n",
            "657/657 - 1s - loss: 0.4670 - accuracy: 0.8104\n",
            "Epoch 36/50\n",
            "657/657 - 1s - loss: 0.4669 - accuracy: 0.8094\n",
            "Epoch 37/50\n",
            "657/657 - 1s - loss: 0.4672 - accuracy: 0.8094\n",
            "Epoch 38/50\n",
            "657/657 - 1s - loss: 0.4669 - accuracy: 0.8080\n",
            "Epoch 39/50\n",
            "657/657 - 1s - loss: 0.4662 - accuracy: 0.8106\n",
            "Epoch 40/50\n",
            "657/657 - 1s - loss: 0.4663 - accuracy: 0.8099\n",
            "Epoch 41/50\n",
            "657/657 - 1s - loss: 0.4664 - accuracy: 0.8102\n",
            "Epoch 42/50\n",
            "657/657 - 1s - loss: 0.4666 - accuracy: 0.8100\n",
            "Epoch 43/50\n",
            "657/657 - 1s - loss: 0.4663 - accuracy: 0.8096\n",
            "Epoch 44/50\n",
            "657/657 - 1s - loss: 0.4665 - accuracy: 0.8092\n",
            "Epoch 45/50\n",
            "657/657 - 1s - loss: 0.4664 - accuracy: 0.8098\n",
            "Epoch 46/50\n",
            "657/657 - 1s - loss: 0.4664 - accuracy: 0.8104\n",
            "Epoch 47/50\n",
            "657/657 - 1s - loss: 0.4664 - accuracy: 0.8095\n",
            "Epoch 48/50\n",
            "657/657 - 1s - loss: 0.4663 - accuracy: 0.8098\n",
            "Epoch 49/50\n",
            "657/657 - 1s - loss: 0.4666 - accuracy: 0.8109\n",
            "Epoch 50/50\n",
            "657/657 - 1s - loss: 0.4667 - accuracy: 0.8100\n"
          ]
        },
        {
          "output_type": "execute_result",
          "data": {
            "text/plain": [
              "<keras.callbacks.History at 0x7fa34f47a4d0>"
            ]
          },
          "metadata": {},
          "execution_count": 12
        }
      ]
    },
    {
      "cell_type": "code",
      "metadata": {
        "id": "v9U8gHKYcHir",
        "outputId": "578313af-ce9e-4785-f7a4-3a84d1624f9e",
        "colab": {
          "base_uri": "https://localhost:8080/"
        }
      },
      "source": [
        "#quantify the model\n",
        "model_loss, model_accuracy = model.evaluate(X_test,y_test,verbose =2)\n",
        "print( model_loss )\n",
        "print (model_accuracy)"
      ],
      "execution_count": 13,
      "outputs": [
        {
          "output_type": "stream",
          "name": "stdout",
          "text": [
            "282/282 - 0s - loss: 0.4644 - accuracy: 0.8038\n",
            "0.4643948972225189\n",
            "0.8037777543067932\n"
          ]
        }
      ]
    },
    {
      "cell_type": "code",
      "metadata": {
        "id": "6QeLPBQDcM47"
      },
      "source": [
        "from sklearn.metrics import recall_score"
      ],
      "execution_count": 14,
      "outputs": []
    },
    {
      "cell_type": "code",
      "metadata": {
        "id": "KcO89d6hcO3b"
      },
      "source": [
        "y_prediction = model.predict(X_test)"
      ],
      "execution_count": 15,
      "outputs": []
    },
    {
      "cell_type": "code",
      "metadata": {
        "id": "kCD8Uc5NcjW0",
        "outputId": "f6f36c56-0268-425b-9800-79a8af7df5c5",
        "colab": {
          "base_uri": "https://localhost:8080/"
        }
      },
      "source": [
        "y_prediction[:3]"
      ],
      "execution_count": 16,
      "outputs": [
        {
          "output_type": "execute_result",
          "data": {
            "text/plain": [
              "array([[0.22957641],\n",
              "       [0.16704306],\n",
              "       [0.19962645]], dtype=float32)"
            ]
          },
          "metadata": {},
          "execution_count": 16
        }
      ]
    },
    {
      "cell_type": "code",
      "metadata": {
        "id": "QNpfE-h_epqL"
      },
      "source": [
        "predictions = np.rint(y_prediction)"
      ],
      "execution_count": 17,
      "outputs": []
    },
    {
      "cell_type": "code",
      "metadata": {
        "id": "IbWFqrl5cVWT",
        "outputId": "f90530e6-3843-45e5-cd3a-ea2e14801915",
        "colab": {
          "base_uri": "https://localhost:8080/"
        }
      },
      "source": [
        "print(\"Recall score:\"+ str(recall_score(y_test, predictions)))"
      ],
      "execution_count": 18,
      "outputs": [
        {
          "output_type": "stream",
          "name": "stdout",
          "text": [
            "Recall score:0.18622448979591838\n"
          ]
        }
      ]
    }
  ]
}