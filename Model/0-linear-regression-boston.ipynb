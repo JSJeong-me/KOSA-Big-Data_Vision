{
  "nbformat": 4,
  "nbformat_minor": 0,
  "metadata": {
    "colab": {
      "name": "Untitled14.ipynb",
      "provenance": [],
      "authorship_tag": "ABX9TyPDHffWP3Jk6UH2ulmfcqdS",
      "include_colab_link": true
    },
    "kernelspec": {
      "name": "python3",
      "display_name": "Python 3"
    },
    "language_info": {
      "name": "python"
    }
  },
  "cells": [
    {
      "cell_type": "markdown",
      "metadata": {
        "id": "view-in-github",
        "colab_type": "text"
      },
      "source": [
        "<a href=\"https://colab.research.google.com/github/JSJeong-me/KOSA-Big-Data_Vision/blob/main/Model/0-linear-regression-boston.ipynb\" target=\"_parent\"><img src=\"https://colab.research.google.com/assets/colab-badge.svg\" alt=\"Open In Colab\"/></a>"
      ]
    },
    {
      "cell_type": "markdown",
      "metadata": {
        "id": "yxwK1xPy7Ekk"
      },
      "source": [
        "ZN: proportion of residential land zoned for lots over 25,000 sq.ft.\n",
        "INDUS: proportion of non-retail business acres per town\n",
        "CHAS: Charles River dummy variable (= 1 if tract bounds river; 0 otherwise)\n",
        "NOX: nitric oxides concentration (parts per 10 million)\n",
        "1https://archive.ics.uci.edu/ml/datasets/Housing\n",
        "123\n",
        "20.2. Load the Dataset 124\n",
        "RM: average number of rooms per dwelling\n",
        "AGE: proportion of owner-occupied units built prior to 1940\n",
        "DIS: weighted distances to ﬁve Boston employment centers\n",
        "RAD: index of accessibility to radial highways\n",
        "TAX: full-value property-tax rate per $10,000\n",
        "PTRATIO: pupil-teacher ratio by town 12. B: 1000(Bk−0.63)2 where Bk is the proportion of blacks by town 13. LSTAT: % lower status of the population\n",
        "MEDV: Median value of owner-occupied homes in $1000s\n",
        "We can see that the input attributes have a mixture of units."
      ]
    },
    {
      "cell_type": "markdown",
      "metadata": {
        "id": "3YALG0iM-FCJ"
      },
      "source": [
        "https://www.kaggle.com/alkautsarm/simple-house-prices-prediction-linear-regression"
      ]
    },
    {
      "cell_type": "code",
      "metadata": {
        "id": "MrWuTtE85VvJ"
      },
      "source": [
        "# Linear Regression\n",
        "from pandas import read_csv\n",
        "from sklearn.model_selection import KFold\n",
        "from sklearn.model_selection import cross_val_score\n",
        "from sklearn.linear_model import LinearRegression\n",
        "filename = 'housing.csv'\n",
        "names = ['CRIM', 'ZN', 'INDUS', 'CHAS', 'NOX', 'RM', 'AGE', 'DIS', 'RAD', 'TAX', 'PTRATIO',\n",
        "'B', 'LSTAT', 'MEDV']\n",
        "dataframe = read_csv(filename, delim_whitespace=True, names=names)\n",
        "array = dataframe.values\n",
        "X = array[:,0:13]\n",
        "Y = array[:,13]\n",
        "kfold = KFold(n_splits=10, random_state=7)\n",
        "model = LinearRegression().fit(X, Y)\n",
        "#scoring = 'neg_mean_squared_error'\n",
        "#results = cross_val_score(model, X, Y, cv=kfold, scoring=scoring)\n",
        "#print(results.mean())\n"
      ],
      "execution_count": null,
      "outputs": []
    },
    {
      "cell_type": "code",
      "metadata": {
        "colab": {
          "base_uri": "https://localhost:8080/"
        },
        "id": "2UyE-v-h5zdU",
        "outputId": "be5c1000-4053-40ce-ad64-cbe29773deb6"
      },
      "source": [
        "model.coef_"
      ],
      "execution_count": null,
      "outputs": [
        {
          "output_type": "execute_result",
          "data": {
            "text/plain": [
              "array([-1.08011358e-01,  4.64204584e-02,  2.05586264e-02,  2.68673382e+00,\n",
              "       -1.77666112e+01,  3.80986521e+00,  6.92224640e-04, -1.47556685e+00,\n",
              "        3.06049479e-01, -1.23345939e-02, -9.52747232e-01,  9.31168327e-03,\n",
              "       -5.24758378e-01])"
            ]
          },
          "metadata": {},
          "execution_count": 2
        }
      ]
    },
    {
      "cell_type": "code",
      "metadata": {
        "colab": {
          "base_uri": "https://localhost:8080/"
        },
        "id": "ppSXOY4C6Q3l",
        "outputId": "aec3311d-f2d7-4055-ac99-e4d8c2618e29"
      },
      "source": [
        "model.intercept_"
      ],
      "execution_count": null,
      "outputs": [
        {
          "output_type": "execute_result",
          "data": {
            "text/plain": [
              "36.4594883850902"
            ]
          },
          "metadata": {},
          "execution_count": 4
        }
      ]
    },
    {
      "cell_type": "code",
      "metadata": {
        "id": "D_5l6_rs76ew"
      },
      "source": [
        "import numpy as np\n"
      ],
      "execution_count": null,
      "outputs": []
    },
    {
      "cell_type": "code",
      "metadata": {
        "id": "TbsBBMhn7k8T"
      },
      "source": [
        "X1 = np.linspace(0, 10, 13)"
      ],
      "execution_count": null,
      "outputs": []
    },
    {
      "cell_type": "code",
      "metadata": {
        "colab": {
          "base_uri": "https://localhost:8080/"
        },
        "id": "2B42pAys8Vm4",
        "outputId": "2f9165ac-a6c1-401d-9b14-a96109756ab3"
      },
      "source": [
        "X1.shape"
      ],
      "execution_count": null,
      "outputs": [
        {
          "output_type": "execute_result",
          "data": {
            "text/plain": [
              "(13,)"
            ]
          },
          "metadata": {},
          "execution_count": 19
        }
      ]
    },
    {
      "cell_type": "code",
      "metadata": {
        "id": "l-q0Y8VkqGa6"
      },
      "source": [
        "from sklearn.model_selection import train_test_split\n",
        "\n",
        "X_train, X_test, y_train, y_test = train_test_split(X, Y, test_size=0.2, random_state=10)\n",
        "\n",
        "print('X Train Shape: ', X_train.shape)\n",
        "print('X Test Shape: ', X_test.shape)\n",
        "print('Y Train Shape: ', y_train.shape)\n",
        "print('Y Test Shape: ', y_test.shape)"
      ],
      "execution_count": null,
      "outputs": []
    },
    {
      "cell_type": "code",
      "metadata": {
        "id": "HDKpVN94qFMN"
      },
      "source": [
        "from sklearn.pipeline import Pipeline\n",
        "from sklearn.preprocessing import MinMaxScaler\n",
        "from sklearn.linear_model import LinearRegression\n",
        "\n",
        "model_pipeline = Pipeline([\n",
        "  ('scale', MinMaxScaler()),\n",
        "  ('regression', LinearRegression())\n",
        "])\n",
        "\n",
        "model_pipeline.fit(X_train, y_train)"
      ],
      "execution_count": null,
      "outputs": []
    },
    {
      "cell_type": "code",
      "metadata": {
        "id": "nrLduiAO7d-K"
      },
      "source": [
        "predictions = model_pipeline.predict(X_test)\n",
        "print(predictions)"
      ],
      "execution_count": null,
      "outputs": []
    },
    {
      "cell_type": "code",
      "metadata": {
        "id": "7YQ0p3OnqyLg"
      },
      "source": [
        "from sklearn.metrics import mean_squared_error\n",
        "from sklearn.metrics import mean_absolute_error\n",
        "from sklearn.metrics import r2_score\n",
        "\n",
        "metrics_mse = mean_squared_error(y_test, predictions)\n",
        "metrics_rmse = np.sqrt(metrics_mse)\n",
        "metrics_mae = mean_absolute_error(y_test, predictions)\n",
        "metrics_r2 = r2_score(y_test, predictions)"
      ],
      "execution_count": null,
      "outputs": []
    }
  ]
}