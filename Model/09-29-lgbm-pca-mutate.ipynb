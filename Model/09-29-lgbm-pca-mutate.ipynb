{
  "nbformat": 4,
  "nbformat_minor": 0,
  "metadata": {
    "kernelspec": {
      "display_name": "Python 3",
      "language": "python",
      "name": "python3"
    },
    "language_info": {
      "codemirror_mode": {
        "name": "ipython",
        "version": 3
      },
      "file_extension": ".py",
      "mimetype": "text/x-python",
      "name": "python",
      "nbconvert_exporter": "python",
      "pygments_lexer": "ipython3",
      "version": "3.7.6"
    },
    "colab": {
      "name": "lgbm.ipynb",
      "provenance": [],
      "include_colab_link": true
    },
    "accelerator": "GPU"
  },
  "cells": [
    {
      "cell_type": "markdown",
      "metadata": {
        "id": "view-in-github",
        "colab_type": "text"
      },
      "source": [
        "<a href=\"https://colab.research.google.com/github/JSJeong-me/KOSA-Big-Data_Vision/blob/main/Model/09-29-lgbm-pca-mutate.ipynb\" target=\"_parent\"><img src=\"https://colab.research.google.com/assets/colab-badge.svg\" alt=\"Open In Colab\"/></a>"
      ]
    },
    {
      "cell_type": "markdown",
      "metadata": {
        "id": "gBFOpPbwQesK"
      },
      "source": [
        "### Microsoft https://github.com/microsoft/LightGBM"
      ]
    },
    {
      "cell_type": "markdown",
      "metadata": {
        "id": "xjy38KdTrcHR"
      },
      "source": [
        "![download (1).png](data:image/png;base64,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)"
      ]
    },
    {
      "cell_type": "code",
      "metadata": {
        "id": "_0pqNTHSrJQD"
      },
      "source": [
        ""
      ],
      "execution_count": null,
      "outputs": []
    },
    {
      "cell_type": "code",
      "metadata": {
        "id": "BUufWch4QYGd"
      },
      "source": [
        "#Import modules\n",
        "import numpy as np\n",
        "import pandas as pd\n",
        "import seaborn as sns\n",
        "import matplotlib.pyplot as plt\n",
        "import lightgbm as lgb\n",
        "from sklearn.model_selection import train_test_split, GridSearchCV\n",
        "from sklearn.metrics import confusion_matrix,accuracy_score, roc_curve, auc\n",
        "sns.set_style(\"whitegrid\")"
      ],
      "execution_count": 1,
      "outputs": []
    },
    {
      "cell_type": "code",
      "metadata": {
        "id": "EB6HgVUUQYGf"
      },
      "source": [
        "#Import data\n",
        "df = pd.read_csv('./credit_cards_pca.csv')"
      ],
      "execution_count": 2,
      "outputs": []
    },
    {
      "cell_type": "code",
      "metadata": {
        "id": "V6JBnMaxaXR3",
        "colab": {
          "base_uri": "https://localhost:8080/"
        },
        "outputId": "fd67d357-2d71-454d-a9c2-ba3ba8bf061e"
      },
      "source": [
        "df.columns"
      ],
      "execution_count": 3,
      "outputs": [
        {
          "output_type": "execute_result",
          "data": {
            "text/plain": [
              "Index(['ID', 'LIMIT_BAL', 'SEX', 'EDUCATION', 'MARRIAGE', 'AGE', 'Pay_AVR',\n",
              "       'Bill_AVR', 'P_AMT_AVR', 'default.payment.next.month'],\n",
              "      dtype='object')"
            ]
          },
          "metadata": {},
          "execution_count": 3
        }
      ]
    },
    {
      "cell_type": "code",
      "metadata": {
        "id": "chSBB2triY2m"
      },
      "source": [
        ""
      ],
      "execution_count": 3,
      "outputs": []
    },
    {
      "cell_type": "markdown",
      "metadata": {
        "id": "sHD4xr4nf4kF"
      },
      "source": [
        "Mutate Variable I : Credit Utilize"
      ]
    },
    {
      "cell_type": "code",
      "metadata": {
        "id": "ChMIoDtWgJ9d"
      },
      "source": [
        "df['Credit_Util'] = (df['Bill_AVR'] / df['LIMIT_BAL'])*100"
      ],
      "execution_count": 4,
      "outputs": []
    },
    {
      "cell_type": "code",
      "metadata": {
        "colab": {
          "base_uri": "https://localhost:8080/"
        },
        "id": "mpDqYCxFYDxA",
        "outputId": "5b0d164c-5225-4e64-a008-4cdb79f85a1b"
      },
      "source": [
        "df.columns"
      ],
      "execution_count": 5,
      "outputs": [
        {
          "output_type": "execute_result",
          "data": {
            "text/plain": [
              "Index(['ID', 'LIMIT_BAL', 'SEX', 'EDUCATION', 'MARRIAGE', 'AGE', 'Pay_AVR',\n",
              "       'Bill_AVR', 'P_AMT_AVR', 'default.payment.next.month', 'Credit_Util'],\n",
              "      dtype='object')"
            ]
          },
          "metadata": {},
          "execution_count": 5
        }
      ]
    },
    {
      "cell_type": "code",
      "metadata": {
        "colab": {
          "base_uri": "https://localhost:8080/"
        },
        "id": "kHU7otz2gM0t",
        "outputId": "371d4f36-0e02-476f-9df0-b178caaa94bc"
      },
      "source": [
        "df['Credit_Util'].describe()"
      ],
      "execution_count": 6,
      "outputs": [
        {
          "output_type": "execute_result",
          "data": {
            "text/plain": [
              "count    30000.000000\n",
              "mean       -63.177296\n",
              "std        177.382164\n",
              "min      -1131.471832\n",
              "25%        -89.887148\n",
              "50%        -35.267329\n",
              "75%         21.189695\n",
              "max        773.172464\n",
              "Name: Credit_Util, dtype: float64"
            ]
          },
          "metadata": {},
          "execution_count": 6
        }
      ]
    },
    {
      "cell_type": "markdown",
      "metadata": {
        "id": "PZar84xPf8b2"
      },
      "source": [
        "Mutate Variable 2 : Bill to Pay Rate"
      ]
    },
    {
      "cell_type": "code",
      "metadata": {
        "id": "oFVCis3kgkoE"
      },
      "source": [
        ""
      ],
      "execution_count": 6,
      "outputs": []
    },
    {
      "cell_type": "code",
      "metadata": {
        "id": "H4cmRSKbga43"
      },
      "source": [
        "df['Pay_Rate'] = (df['P_AMT_AVR'] / df['Bill_AVR'])"
      ],
      "execution_count": 7,
      "outputs": []
    },
    {
      "cell_type": "code",
      "metadata": {
        "colab": {
          "base_uri": "https://localhost:8080/"
        },
        "id": "fqUQSf4SYl0s",
        "outputId": "33cf240a-aae7-434f-9b6b-c5e79fe9ab9e"
      },
      "source": [
        "df['Pay_Rate'].describe()"
      ],
      "execution_count": 8,
      "outputs": [
        {
          "output_type": "execute_result",
          "data": {
            "text/plain": [
              "count    30000.000000\n",
              "mean        -0.305677\n",
              "std         41.620972\n",
              "min      -6834.448681\n",
              "25%         -0.016120\n",
              "50%          0.079590\n",
              "75%          0.118993\n",
              "max        302.001406\n",
              "Name: Pay_Rate, dtype: float64"
            ]
          },
          "metadata": {},
          "execution_count": 8
        }
      ]
    },
    {
      "cell_type": "code",
      "metadata": {
        "colab": {
          "base_uri": "https://localhost:8080/"
        },
        "id": "BFIoGO2yYqA-",
        "outputId": "1eb06f2a-c01a-4852-e521-0176f210e4b9"
      },
      "source": [
        "df['Pay_Rate'].std()"
      ],
      "execution_count": 9,
      "outputs": [
        {
          "output_type": "execute_result",
          "data": {
            "text/plain": [
              "41.62097188167064"
            ]
          },
          "metadata": {},
          "execution_count": 9
        }
      ]
    },
    {
      "cell_type": "code",
      "metadata": {
        "colab": {
          "base_uri": "https://localhost:8080/"
        },
        "id": "tn5ysnfBY-0N",
        "outputId": "892ef426-f947-4754-97ef-fb2e4b5fefa8"
      },
      "source": [
        "df.isnull().sum()"
      ],
      "execution_count": 10,
      "outputs": [
        {
          "output_type": "execute_result",
          "data": {
            "text/plain": [
              "ID                            0\n",
              "LIMIT_BAL                     0\n",
              "SEX                           0\n",
              "EDUCATION                     0\n",
              "MARRIAGE                      0\n",
              "AGE                           0\n",
              "Pay_AVR                       0\n",
              "Bill_AVR                      0\n",
              "P_AMT_AVR                     0\n",
              "default.payment.next.month    0\n",
              "Credit_Util                   0\n",
              "Pay_Rate                      0\n",
              "dtype: int64"
            ]
          },
          "metadata": {},
          "execution_count": 10
        }
      ]
    },
    {
      "cell_type": "code",
      "metadata": {
        "colab": {
          "base_uri": "https://localhost:8080/"
        },
        "id": "c7Z_K3ZBge8G",
        "outputId": "2dcec8b8-0aa4-4bab-9221-319d0b7d456d"
      },
      "source": [
        "df['Pay_Rate'].describe()"
      ],
      "execution_count": 11,
      "outputs": [
        {
          "output_type": "execute_result",
          "data": {
            "text/plain": [
              "count    30000.000000\n",
              "mean        -0.305677\n",
              "std         41.620972\n",
              "min      -6834.448681\n",
              "25%         -0.016120\n",
              "50%          0.079590\n",
              "75%          0.118993\n",
              "max        302.001406\n",
              "Name: Pay_Rate, dtype: float64"
            ]
          },
          "metadata": {},
          "execution_count": 11
        }
      ]
    },
    {
      "cell_type": "code",
      "metadata": {
        "id": "DaczCyoHgerf"
      },
      "source": [
        "#df['Pay_Rate'].replace([np.inf, -np.inf, np.nan], 1, inplace=True)"
      ],
      "execution_count": 12,
      "outputs": []
    },
    {
      "cell_type": "code",
      "metadata": {
        "id": "a8M5D_ZcggUR"
      },
      "source": [
        ""
      ],
      "execution_count": 12,
      "outputs": []
    },
    {
      "cell_type": "code",
      "metadata": {
        "colab": {
          "base_uri": "https://localhost:8080/"
        },
        "id": "aF9EjwUlgjge",
        "outputId": "55caac1e-1c55-419b-9f20-6d65e2438171"
      },
      "source": [
        "df.columns"
      ],
      "execution_count": 13,
      "outputs": [
        {
          "output_type": "execute_result",
          "data": {
            "text/plain": [
              "Index(['ID', 'LIMIT_BAL', 'SEX', 'EDUCATION', 'MARRIAGE', 'AGE', 'Pay_AVR',\n",
              "       'Bill_AVR', 'P_AMT_AVR', 'default.payment.next.month', 'Credit_Util',\n",
              "       'Pay_Rate'],\n",
              "      dtype='object')"
            ]
          },
          "metadata": {},
          "execution_count": 13
        }
      ]
    },
    {
      "cell_type": "code",
      "metadata": {
        "id": "j0s8psDtgis-"
      },
      "source": [
        ""
      ],
      "execution_count": 13,
      "outputs": []
    },
    {
      "cell_type": "code",
      "metadata": {
        "id": "eeyQxKUCkDF5"
      },
      "source": [
        "#df = df.drop(['ID', 'PAY_AMT1','PAY_AMT2', 'PAY_AMT3','PAY_AMT4', 'PAY_AMT5', 'PAY_AMT6', 'BILL_AMT1', 'BILL_AMT2','BILL_AMT3', 'BILL_AMT4', 'BILL_AMT5', 'BILL_AMT6', 'PAY_0','PAY_2', 'PAY_3', 'PAY_4', 'PAY_5', 'PAY_6', 'Credit_Util', 'Pay_Rate'], axis = 1)"
      ],
      "execution_count": 14,
      "outputs": []
    },
    {
      "cell_type": "code",
      "metadata": {
        "id": "1INM6yiklG82"
      },
      "source": [
        "col_list = list(df.columns)"
      ],
      "execution_count": 15,
      "outputs": []
    },
    {
      "cell_type": "code",
      "metadata": {
        "colab": {
          "base_uri": "https://localhost:8080/"
        },
        "id": "u5mEjsBcaH4B",
        "outputId": "7bdbff77-1ded-49a3-85db-091a5bfdbecb"
      },
      "source": [
        "col_list"
      ],
      "execution_count": 16,
      "outputs": [
        {
          "output_type": "execute_result",
          "data": {
            "text/plain": [
              "['ID',\n",
              " 'LIMIT_BAL',\n",
              " 'SEX',\n",
              " 'EDUCATION',\n",
              " 'MARRIAGE',\n",
              " 'AGE',\n",
              " 'Pay_AVR',\n",
              " 'Bill_AVR',\n",
              " 'P_AMT_AVR',\n",
              " 'default.payment.next.month',\n",
              " 'Credit_Util',\n",
              " 'Pay_Rate']"
            ]
          },
          "metadata": {},
          "execution_count": 16
        }
      ]
    },
    {
      "cell_type": "code",
      "metadata": {
        "id": "4fZrX0teaMG4"
      },
      "source": [
        "new_col = ['ID', 'LIMIT_BAL', 'SEX', 'EDUCATION', 'MARRIAGE', 'AGE', 'Pay_AVR', 'Bill_AVR', 'P_AMT_AVR', 'Pay_Rate', 'Credit_Util', 'default.payment.next.month']"
      ],
      "execution_count": 17,
      "outputs": []
    },
    {
      "cell_type": "code",
      "metadata": {
        "id": "--xOtmnjkQI8",
        "outputId": "755f2caf-c293-4e9d-8b3e-485fd97c28e1",
        "colab": {
          "base_uri": "https://localhost:8080/"
        }
      },
      "source": [
        "new_col"
      ],
      "execution_count": 18,
      "outputs": [
        {
          "output_type": "execute_result",
          "data": {
            "text/plain": [
              "['ID',\n",
              " 'LIMIT_BAL',\n",
              " 'SEX',\n",
              " 'EDUCATION',\n",
              " 'MARRIAGE',\n",
              " 'AGE',\n",
              " 'Pay_AVR',\n",
              " 'Bill_AVR',\n",
              " 'P_AMT_AVR',\n",
              " 'Pay_Rate',\n",
              " 'Credit_Util',\n",
              " 'default.payment.next.month']"
            ]
          },
          "metadata": {},
          "execution_count": 18
        }
      ]
    },
    {
      "cell_type": "code",
      "metadata": {
        "id": "zChiwsyRktJ6"
      },
      "source": [
        "df = df[new_col]"
      ],
      "execution_count": 19,
      "outputs": []
    },
    {
      "cell_type": "code",
      "metadata": {
        "id": "jn4euEznhzON"
      },
      "source": [
        "df = df.drop(['ID'], axis = 1)"
      ],
      "execution_count": 20,
      "outputs": []
    },
    {
      "cell_type": "code",
      "metadata": {
        "id": "jkr1DLwiZ7-B"
      },
      "source": [
        ""
      ],
      "execution_count": 28,
      "outputs": []
    },
    {
      "cell_type": "code",
      "metadata": {
        "colab": {
          "base_uri": "https://localhost:8080/"
        },
        "id": "47bscA4mahbF",
        "outputId": "dc3f8250-37a4-40cb-cfcc-81272a83c716"
      },
      "source": [
        "df.columns"
      ],
      "execution_count": 21,
      "outputs": [
        {
          "output_type": "execute_result",
          "data": {
            "text/plain": [
              "Index(['LIMIT_BAL', 'SEX', 'EDUCATION', 'MARRIAGE', 'AGE', 'Pay_AVR',\n",
              "       'Bill_AVR', 'P_AMT_AVR', 'Pay_Rate', 'Credit_Util',\n",
              "       'default.payment.next.month'],\n",
              "      dtype='object')"
            ]
          },
          "metadata": {},
          "execution_count": 21
        }
      ]
    },
    {
      "cell_type": "code",
      "metadata": {
        "id": "_1FQkefQmW8L",
        "colab": {
          "base_uri": "https://localhost:8080/"
        },
        "outputId": "7d33a3f7-fe30-4858-8025-fcc9a34d00f6"
      },
      "source": [
        "df.shape"
      ],
      "execution_count": 23,
      "outputs": [
        {
          "output_type": "execute_result",
          "data": {
            "text/plain": [
              "(30000, 11)"
            ]
          },
          "metadata": {},
          "execution_count": 23
        }
      ]
    },
    {
      "cell_type": "code",
      "metadata": {
        "id": "O9OFB96XmWu0"
      },
      "source": [
        "#Split in 75% train and 25% test set\n",
        "train_df, test_df = train_test_split(df, test_size = 0.3, random_state= 42)"
      ],
      "execution_count": 24,
      "outputs": []
    },
    {
      "cell_type": "code",
      "metadata": {
        "id": "07de78MDoYYU"
      },
      "source": [
        ""
      ],
      "execution_count": 24,
      "outputs": []
    },
    {
      "cell_type": "code",
      "metadata": {
        "id": "kwQQwzTcQYGi"
      },
      "source": [
        "#Define 'y' labels\n",
        "train_y = train_df['default.payment.next.month']\n",
        "test_y = test_df['default.payment.next.month']"
      ],
      "execution_count": 25,
      "outputs": []
    },
    {
      "cell_type": "code",
      "metadata": {
        "id": "Or_1w4R5kHb8"
      },
      "source": [
        "#Define 'x' sets\n",
        "train_x = train_df.drop('default.payment.next.month', axis = 1)\n",
        "test_x = test_df.drop('default.payment.next.month', axis = 1)"
      ],
      "execution_count": 26,
      "outputs": []
    },
    {
      "cell_type": "code",
      "metadata": {
        "id": "mvsJXt1goTfr"
      },
      "source": [
        ""
      ],
      "execution_count": 26,
      "outputs": []
    },
    {
      "cell_type": "code",
      "metadata": {
        "id": "3a82qyG0QYGj"
      },
      "source": [
        "#------------------------Build LightGBM Model-----------------------\n",
        "train_data=lgb.Dataset(train_x, label=train_y)"
      ],
      "execution_count": 27,
      "outputs": []
    },
    {
      "cell_type": "code",
      "metadata": {
        "id": "qU8xhPIgQYGj"
      },
      "source": [
        "#Select Hyper-Parameters\n",
        "params = {'boosting_type': 'gbdt',\n",
        "          'max_depth' : -1,\n",
        "          'objective': 'binary',\n",
        "          'nthread': 5,\n",
        "          'num_leaves': 64,\n",
        "          'learning_rate': 0.07,\n",
        "          'max_bin': 512,\n",
        "          'subsample_for_bin': 200,\n",
        "          'subsample': 1,\n",
        "          'subsample_freq': 1,\n",
        "          'colsample_bytree': 0.8,\n",
        "          'reg_alpha': 1.2,\n",
        "          'reg_lambda': 1.2,\n",
        "          'min_split_gain': 0.5,\n",
        "          'min_child_weight': 1,\n",
        "          'min_child_samples': 5,\n",
        "          'scale_pos_weight': 1,\n",
        "          'num_class' : 1,\n",
        "          'metric' : 'binary_error'\n",
        "          }"
      ],
      "execution_count": 28,
      "outputs": []
    },
    {
      "cell_type": "code",
      "metadata": {
        "id": "LuqTNXApQYGk"
      },
      "source": [
        "# Create parameters to search\n",
        "gridParams = {\n",
        "    'learning_rate': [0.07],\n",
        "    'n_estimators': [8,16],\n",
        "    'num_leaves': [20, 24, 27],\n",
        "    'boosting_type' : ['gbdt'],\n",
        "    'objective' : ['binary'],\n",
        "    'random_state' : [501], \n",
        "    'colsample_bytree' : [0.64, 0.65],\n",
        "    'subsample' : [0.7,0.75],\n",
        "    #'reg_alpha' : [1, 1.2],\n",
        "    #'reg_lambda' : [ 1.2, 1.4],\n",
        "    }"
      ],
      "execution_count": 29,
      "outputs": []
    },
    {
      "cell_type": "code",
      "metadata": {
        "id": "LnkY0KiwQYGk"
      },
      "source": [
        "# Create classifier to use\n",
        "mdl = lgb.LGBMClassifier(boosting_type= 'gbdt',\n",
        "          objective = 'binary',\n",
        "          n_jobs = 5, \n",
        "          silent = True,\n",
        "          max_depth = params['max_depth'],\n",
        "          max_bin = params['max_bin'],\n",
        "          subsample_for_bin = params['subsample_for_bin'],\n",
        "          subsample = params['subsample'],\n",
        "          subsample_freq = params['subsample_freq'],\n",
        "          min_split_gain = params['min_split_gain'],\n",
        "          min_child_weight = params['min_child_weight'],\n",
        "          min_child_samples = params['min_child_samples'],\n",
        "          scale_pos_weight = params['scale_pos_weight'])"
      ],
      "execution_count": 30,
      "outputs": []
    },
    {
      "cell_type": "code",
      "metadata": {
        "id": "3OveWHcmQYGl",
        "colab": {
          "base_uri": "https://localhost:8080/"
        },
        "outputId": "19aaa844-5225-4444-9046-56408813f26f"
      },
      "source": [
        "# View the default model params:\n",
        "mdl.get_params().keys()"
      ],
      "execution_count": 31,
      "outputs": [
        {
          "output_type": "execute_result",
          "data": {
            "text/plain": [
              "dict_keys(['boosting_type', 'class_weight', 'colsample_bytree', 'importance_type', 'learning_rate', 'max_depth', 'min_child_samples', 'min_child_weight', 'min_split_gain', 'n_estimators', 'n_jobs', 'num_leaves', 'objective', 'random_state', 'reg_alpha', 'reg_lambda', 'silent', 'subsample', 'subsample_for_bin', 'subsample_freq', 'max_bin', 'scale_pos_weight'])"
            ]
          },
          "metadata": {},
          "execution_count": 31
        }
      ]
    },
    {
      "cell_type": "code",
      "metadata": {
        "id": "FNRoT8YYQYGm",
        "colab": {
          "base_uri": "https://localhost:8080/"
        },
        "outputId": "c59300ed-8bbc-4765-fb03-3649942597ed"
      },
      "source": [
        "# Create the grid\n",
        "grid = GridSearchCV(mdl, gridParams, verbose=2, cv=4, n_jobs=-1)\n",
        "\n",
        "# Run the grid\n",
        "grid.fit(train_x, train_y)\n",
        "\n",
        "# Print the best parameters found\n",
        "print(grid.best_params_)\n",
        "print(grid.best_score_)"
      ],
      "execution_count": 32,
      "outputs": [
        {
          "output_type": "stream",
          "name": "stdout",
          "text": [
            "Fitting 4 folds for each of 24 candidates, totalling 96 fits\n"
          ]
        },
        {
          "output_type": "stream",
          "name": "stderr",
          "text": [
            "[Parallel(n_jobs=-1)]: Using backend LokyBackend with 2 concurrent workers.\n",
            "[Parallel(n_jobs=-1)]: Done  37 tasks      | elapsed:    4.1s\n"
          ]
        },
        {
          "output_type": "stream",
          "name": "stdout",
          "text": [
            "{'boosting_type': 'gbdt', 'colsample_bytree': 0.64, 'learning_rate': 0.07, 'n_estimators': 16, 'num_leaves': 27, 'objective': 'binary', 'random_state': 501, 'subsample': 0.7}\n",
            "0.7869999999999999\n"
          ]
        },
        {
          "output_type": "stream",
          "name": "stderr",
          "text": [
            "[Parallel(n_jobs=-1)]: Done  96 out of  96 | elapsed:    8.9s finished\n"
          ]
        }
      ]
    },
    {
      "cell_type": "code",
      "metadata": {
        "id": "2NfBlxPQRXH1",
        "colab": {
          "base_uri": "https://localhost:8080/"
        },
        "outputId": "b493cf6f-5690-4fe0-dc93-c8023770baeb"
      },
      "source": [
        "# Using parameters already set above, replace in the best from the grid search\n",
        "params['colsample_bytree'] = grid.best_params_['colsample_bytree']\n",
        "params['learning_rate'] = grid.best_params_['learning_rate']\n",
        "# params['max_bin'] = grid.best_params_['max_bin']\n",
        "params['num_leaves'] = grid.best_params_['num_leaves']\n",
        "#params['reg_alpha'] = grid.best_params_['reg_alpha']\n",
        "#params['reg_lambda'] = grid.best_params_['reg_lambda']\n",
        "params['subsample'] = grid.best_params_['subsample']\n",
        "# params['subsample_for_bin'] = grid.best_params_['subsample_for_bin']\n",
        "\n",
        "print('Fitting with params: ')\n",
        "print(params)"
      ],
      "execution_count": 33,
      "outputs": [
        {
          "output_type": "stream",
          "name": "stdout",
          "text": [
            "Fitting with params: \n",
            "{'boosting_type': 'gbdt', 'max_depth': -1, 'objective': 'binary', 'nthread': 5, 'num_leaves': 27, 'learning_rate': 0.07, 'max_bin': 512, 'subsample_for_bin': 200, 'subsample': 0.7, 'subsample_freq': 1, 'colsample_bytree': 0.64, 'reg_alpha': 1.2, 'reg_lambda': 1.2, 'min_split_gain': 0.5, 'min_child_weight': 1, 'min_child_samples': 5, 'scale_pos_weight': 1, 'num_class': 1, 'metric': 'binary_error'}\n"
          ]
        }
      ]
    },
    {
      "cell_type": "code",
      "metadata": {
        "id": "F-tET99kQYGo"
      },
      "source": [
        "#Train model on selected parameters and number of iterations\n",
        "lgbm = lgb.train(params,\n",
        "                 train_data,\n",
        "                 280,\n",
        "                 #early_stopping_rounds= 40,\n",
        "                 verbose_eval= 1\n",
        "                 )"
      ],
      "execution_count": 34,
      "outputs": []
    },
    {
      "cell_type": "code",
      "metadata": {
        "id": "FPYSYKY2QYGo"
      },
      "source": [
        "#Predict on test set\n",
        "predictions_lgbm_prob = lgbm.predict(test_x)"
      ],
      "execution_count": 35,
      "outputs": []
    },
    {
      "cell_type": "code",
      "metadata": {
        "id": "3b_PVD6WQYGp"
      },
      "source": [
        "predictions_lgbm_01 = np.where(predictions_lgbm_prob > 0.5, 1, 0) #Turn probability to 0-1 binary output"
      ],
      "execution_count": 36,
      "outputs": []
    },
    {
      "cell_type": "code",
      "metadata": {
        "id": "la-zoK65QYGp",
        "colab": {
          "base_uri": "https://localhost:8080/",
          "height": 312
        },
        "outputId": "7b254c7c-7d5f-4f43-be50-12f095b6a806"
      },
      "source": [
        "#--------------------------Print accuracy measures and variable importances----------------------\n",
        "#Plot Variable Importances\n",
        "lgb.plot_importance(lgbm, max_num_features=21, importance_type='split')\n",
        "\n",
        "#Print accuracy\n",
        "acc_lgbm = accuracy_score(test_y,predictions_lgbm_01)\n",
        "print('Overall accuracy of Light GBM model:', acc_lgbm)"
      ],
      "execution_count": 37,
      "outputs": [
        {
          "output_type": "stream",
          "name": "stdout",
          "text": [
            "Overall accuracy of Light GBM model: 0.8103333333333333\n"
          ]
        },
        {
          "output_type": "display_data",
          "data": {
            "image/png": "[encoded data removed]",
            "text/plain": [
              "<Figure size 432x288 with 1 Axes>"
            ]
          },
          "metadata": {
            "needs_background": "light"
          }
        }
      ]
    },
    {
      "cell_type": "code",
      "metadata": {
        "id": "jPBhNNxBQYGq",
        "colab": {
          "base_uri": "https://localhost:8080/",
          "height": 718
        },
        "outputId": "5f9f0788-02fc-4c62-e9f8-dd64ecf8e7f5"
      },
      "source": [
        "#Print Area Under Curve\n",
        "plt.figure()\n",
        "false_positive_rate, recall, thresholds = roc_curve(test_y, predictions_lgbm_prob)\n",
        "roc_auc = auc(false_positive_rate, recall)\n",
        "plt.title('Receiver Operating Characteristic (ROC)')\n",
        "plt.plot(false_positive_rate, recall, 'b', label = 'AUC = %0.3f' %roc_auc)\n",
        "plt.legend(loc='lower right')\n",
        "plt.plot([0,1], [0,1], 'r--')\n",
        "plt.xlim([0.0,1.0])\n",
        "plt.ylim([0.0,1.0])\n",
        "plt.ylabel('Recall')\n",
        "plt.xlabel('Fall-out (1-Specificity)')\n",
        "plt.show()\n",
        "\n",
        "print('AUC score:', roc_auc)\n",
        "\n",
        "#Print Confusion Matrix\n",
        "plt.figure()\n",
        "cm = confusion_matrix(test_y, predictions_lgbm_01)\n",
        "labels = ['No Default', 'Default']\n",
        "plt.figure(figsize=(8,6))\n",
        "sns.heatmap(cm, xticklabels = labels, yticklabels = labels, annot = True, fmt='d', cmap=\"Blues\", vmin = 0.2);\n",
        "plt.title('Confusion Matrix')\n",
        "plt.ylabel('True Class')\n",
        "plt.xlabel('Predicted Class')\n",
        "plt.show()"
      ],
      "execution_count": 38,
      "outputs": [
        {
          "output_type": "display_data",
          "data": {
            "image/png": "[encoded data removed]",
            "text/plain": [
              "<Figure size 432x288 with 1 Axes>"
            ]
          },
          "metadata": {
            "needs_background": "light"
          }
        },
        {
          "output_type": "stream",
          "name": "stdout",
          "text": [
            "AUC score: 0.7631099257884972\n"
          ]
        },
        {
          "output_type": "display_data",
          "data": {
            "text/plain": [
              "<Figure size 432x288 with 0 Axes>"
            ]
          },
          "metadata": {}
        },
        {
          "output_type": "display_data",
          "data": {
            "image/png": "[encoded data removed]",
            "text/plain": [
              "<Figure size 576x432 with 2 Axes>"
            ]
          },
          "metadata": {
            "needs_background": "light"
          }
        }
      ]
    },
    {
      "cell_type": "code",
      "metadata": {
        "id": "ll5fySnAS9DL"
      },
      "source": [
        ""
      ],
      "execution_count": 38,
      "outputs": []
    },
    {
      "cell_type": "code",
      "metadata": {
        "id": "xYPW8YrrSL0x"
      },
      "source": [
        "from sklearn.metrics import accuracy_score\n",
        "from sklearn.metrics import confusion_matrix\n",
        "from sklearn.metrics import precision_score\n",
        "from sklearn.metrics import recall_score"
      ],
      "execution_count": 39,
      "outputs": []
    },
    {
      "cell_type": "code",
      "metadata": {
        "id": "AQ1cvW25QYGr"
      },
      "source": [
        "accuracy = accuracy_score(test_y, predictions_lgbm_01)\n",
        "cm = confusion_matrix(test_y, predictions_lgbm_01)\n",
        "precision = precision_score(test_y,predictions_lgbm_01)\n",
        "recall = recall_score(test_y,predictions_lgbm_01)"
      ],
      "execution_count": 40,
      "outputs": []
    },
    {
      "cell_type": "code",
      "metadata": {
        "id": "_gsy9uiqSV9a",
        "colab": {
          "base_uri": "https://localhost:8080/"
        },
        "outputId": "ce51ebca-302f-42bc-a124-b729ca6bd76d"
      },
      "source": [
        "print(accuracy)\n",
        "print(cm)\n",
        "print(precision)\n",
        "print(recall)"
      ],
      "execution_count": 41,
      "outputs": [
        {
          "output_type": "stream",
          "name": "stdout",
          "text": [
            "0.8103333333333333\n",
            "[[6651  389]\n",
            " [1318  642]]\n",
            "0.6226964112512124\n",
            "0.32755102040816325\n"
          ]
        }
      ]
    }
  ]
}