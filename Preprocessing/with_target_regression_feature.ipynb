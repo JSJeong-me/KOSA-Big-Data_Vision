{
  "nbformat": 4,
  "nbformat_minor": 5,
  "metadata": {
    "kernelspec": {
      "display_name": "Python 3",
      "language": "python",
      "name": "python3"
    },
    "language_info": {
      "codemirror_mode": {
        "name": "ipython",
        "version": 3
      },
      "file_extension": ".py",
      "mimetype": "text/x-python",
      "name": "python",
      "nbconvert_exporter": "python",
      "pygments_lexer": "ipython3",
      "version": "3.7.6"
    },
    "colab": {
      "name": "regression_feature.ipynb",
      "provenance": [],
      "include_colab_link": true
    }
  },
  "cells": [
    {
      "cell_type": "markdown",
      "metadata": {
        "id": "view-in-github",
        "colab_type": "text"
      },
      "source": [
        "<a href=\"https://colab.research.google.com/github/JSJeong-me/KOSA-Big-Data_Vision/blob/main/Preprocessing/with_target_regression_feature.ipynb\" target=\"_parent\"><img src=\"https://colab.research.google.com/assets/colab-badge.svg\" alt=\"Open In Colab\"/></a>"
      ]
    },
    {
      "cell_type": "markdown",
      "metadata": {
        "id": "olive-decrease"
      },
      "source": [
        "### Regression Feature Selection:\n",
        "(Numerical Input, Numerical Output)"
      ],
      "id": "olive-decrease"
    },
    {
      "cell_type": "markdown",
      "metadata": {
        "id": "saved-values"
      },
      "source": [
        "Feature selection is performed using Pearson’s Correlation Coefficient via the f_regression() function."
      ],
      "id": "saved-values"
    },
    {
      "cell_type": "code",
      "metadata": {
        "id": "political-track"
      },
      "source": [
        "# pearson's correlation feature selection for numeric input and numeric output\n",
        "from sklearn.datasets import make_regression\n",
        "from sklearn.feature_selection import SelectKBest\n",
        "from sklearn.feature_selection import f_regression\n"
      ],
      "id": "political-track",
      "execution_count": 1,
      "outputs": []
    },
    {
      "cell_type": "code",
      "metadata": {
        "id": "adjacent-private"
      },
      "source": [
        "# generate dataset\n",
        "X, y = make_regression(n_samples=10000, n_features=500, n_informative=10)\n"
      ],
      "id": "adjacent-private",
      "execution_count": 2,
      "outputs": []
    },
    {
      "cell_type": "code",
      "metadata": {
        "colab": {
          "base_uri": "https://localhost:8080/"
        },
        "id": "o81zk1HseJQI",
        "outputId": "bd24fbd5-0953-4ea3-ce54-6b745cb7bf19"
      },
      "source": [
        "X.shape"
      ],
      "id": "o81zk1HseJQI",
      "execution_count": 3,
      "outputs": [
        {
          "output_type": "execute_result",
          "data": {
            "text/plain": [
              "(10000, 500)"
            ]
          },
          "metadata": {},
          "execution_count": 3
        }
      ]
    },
    {
      "cell_type": "code",
      "metadata": {
        "colab": {
          "base_uri": "https://localhost:8080/"
        },
        "id": "vRGDAW9ReMJL",
        "outputId": "8360033e-4eac-445e-fb96-3a70972c7357"
      },
      "source": [
        "X[:3,:]"
      ],
      "id": "vRGDAW9ReMJL",
      "execution_count": 4,
      "outputs": [
        {
          "output_type": "execute_result",
          "data": {
            "text/plain": [
              "array([[-0.25400253, -1.13056034,  0.03182602, ..., -0.71105441,\n",
              "         0.98433231, -1.29658277],\n",
              "       [-0.74763005, -0.02324787,  0.24015581, ..., -0.98162567,\n",
              "         0.91779706, -0.88059449],\n",
              "       [-0.06668942, -2.09201244,  0.61705619, ..., -0.40569486,\n",
              "        -0.31989367, -0.54638897]])"
            ]
          },
          "metadata": {},
          "execution_count": 4
        }
      ]
    },
    {
      "cell_type": "code",
      "metadata": {
        "colab": {
          "base_uri": "https://localhost:8080/"
        },
        "id": "gcRwjPwIeMF_",
        "outputId": "01fb8f78-53e3-4528-a305-9a3e8a7a62f5"
      },
      "source": [
        "y[:3]"
      ],
      "id": "gcRwjPwIeMF_",
      "execution_count": 5,
      "outputs": [
        {
          "output_type": "execute_result",
          "data": {
            "text/plain": [
              "array([-69.07691634, 266.70390297, 202.82483225])"
            ]
          },
          "metadata": {},
          "execution_count": 5
        }
      ]
    },
    {
      "cell_type": "code",
      "metadata": {
        "id": "ctXhRxFdeMCQ"
      },
      "source": [
        ""
      ],
      "id": "ctXhRxFdeMCQ",
      "execution_count": null,
      "outputs": []
    },
    {
      "cell_type": "code",
      "metadata": {
        "id": "5e5wB46CdjUB"
      },
      "source": [
        "# define feature selection\n",
        "fs = SelectKBest(score_func=f_regression, k=20)\n",
        "# apply feature selection\n"
      ],
      "id": "5e5wB46CdjUB",
      "execution_count": 6,
      "outputs": []
    },
    {
      "cell_type": "code",
      "metadata": {
        "colab": {
          "base_uri": "https://localhost:8080/"
        },
        "id": "OL1v9R0ge4Ss",
        "outputId": "dfc002c0-afc3-4518-f6ae-633ccfd8c7f5"
      },
      "source": [
        "X_selected = fs.fit_transform(X, y)\n",
        "print(X_selected.shape)"
      ],
      "id": "OL1v9R0ge4Ss",
      "execution_count": 7,
      "outputs": [
        {
          "output_type": "stream",
          "name": "stdout",
          "text": [
            "(10000, 20)\n"
          ]
        }
      ]
    },
    {
      "cell_type": "code",
      "metadata": {
        "colab": {
          "base_uri": "https://localhost:8080/"
        },
        "id": "7b7BooQGfLaI",
        "outputId": "afdc91ae-f779-44ae-fcc7-4209ab42c028"
      },
      "source": [
        "X_selected.shape"
      ],
      "id": "7b7BooQGfLaI",
      "execution_count": 8,
      "outputs": [
        {
          "output_type": "execute_result",
          "data": {
            "text/plain": [
              "(10000, 20)"
            ]
          },
          "metadata": {},
          "execution_count": 8
        }
      ]
    },
    {
      "cell_type": "code",
      "metadata": {
        "colab": {
          "base_uri": "https://localhost:8080/"
        },
        "id": "4-9tw8m8fixK",
        "outputId": "25acfd56-bde1-4a89-d915-ca57cbcbfeaf"
      },
      "source": [
        "type(X_selected)"
      ],
      "id": "4-9tw8m8fixK",
      "execution_count": 9,
      "outputs": [
        {
          "output_type": "execute_result",
          "data": {
            "text/plain": [
              "numpy.ndarray"
            ]
          },
          "metadata": {},
          "execution_count": 9
        }
      ]
    },
    {
      "cell_type": "code",
      "metadata": {
        "id": "miQ1m6gofyMZ"
      },
      "source": [
        "import pandas as pd"
      ],
      "id": "miQ1m6gofyMZ",
      "execution_count": 10,
      "outputs": []
    },
    {
      "cell_type": "code",
      "metadata": {
        "id": "lFf0M0o5gDvh"
      },
      "source": [
        "df_y = pd.DataFrame(y) "
      ],
      "id": "lFf0M0o5gDvh",
      "execution_count": 11,
      "outputs": []
    },
    {
      "cell_type": "code",
      "metadata": {
        "id": "mmoP4dGSfisq"
      },
      "source": [
        "df = pd.DataFrame(X_selected)"
      ],
      "id": "mmoP4dGSfisq",
      "execution_count": 12,
      "outputs": []
    },
    {
      "cell_type": "code",
      "metadata": {
        "id": "ddiRj6-rgSwm"
      },
      "source": [
        "df_sum = pd.concat([df, df_y], axis=1)"
      ],
      "id": "ddiRj6-rgSwm",
      "execution_count": 13,
      "outputs": []
    },
    {
      "cell_type": "code",
      "metadata": {
        "colab": {
          "base_uri": "https://localhost:8080/",
          "height": 723
        },
        "id": "RprnxHQsfijI",
        "outputId": "ae9cec5f-3828-4dfc-8c21-536ae06528eb"
      },
      "source": [
        "df_sum.corr().round(3)"
      ],
      "id": "RprnxHQsfijI",
      "execution_count": 16,
      "outputs": [
        {
          "output_type": "execute_result",
          "data": {
            "text/html": [
              "<div>\n",
              "<style scoped>\n",
              "    .dataframe tbody tr th:only-of-type {\n",
              "        vertical-align: middle;\n",
              "    }\n",
              "\n",
              "    .dataframe tbody tr th {\n",
              "        vertical-align: top;\n",
              "    }\n",
              "\n",
              "    .dataframe thead th {\n",
              "        text-align: right;\n",
              "    }\n",
              "</style>\n",
              "<table border=\"1\" class=\"dataframe\">\n",
              "  <thead>\n",
              "    <tr style=\"text-align: right;\">\n",
              "      <th></th>\n",
              "      <th>0</th>\n",
              "      <th>1</th>\n",
              "      <th>2</th>\n",
              "      <th>3</th>\n",
              "      <th>4</th>\n",
              "      <th>5</th>\n",
              "      <th>6</th>\n",
              "      <th>7</th>\n",
              "      <th>8</th>\n",
              "      <th>9</th>\n",
              "      <th>10</th>\n",
              "      <th>11</th>\n",
              "      <th>12</th>\n",
              "      <th>13</th>\n",
              "      <th>14</th>\n",
              "      <th>15</th>\n",
              "      <th>16</th>\n",
              "      <th>17</th>\n",
              "      <th>18</th>\n",
              "      <th>19</th>\n",
              "      <th>0</th>\n",
              "    </tr>\n",
              "  </thead>\n",
              "  <tbody>\n",
              "    <tr>\n",
              "      <th>0</th>\n",
              "      <td>1.000</td>\n",
              "      <td>0.018</td>\n",
              "      <td>0.020</td>\n",
              "      <td>0.015</td>\n",
              "      <td>0.009</td>\n",
              "      <td>0.002</td>\n",
              "      <td>-0.004</td>\n",
              "      <td>-0.006</td>\n",
              "      <td>-0.011</td>\n",
              "      <td>0.018</td>\n",
              "      <td>-0.004</td>\n",
              "      <td>0.001</td>\n",
              "      <td>0.011</td>\n",
              "      <td>0.007</td>\n",
              "      <td>-0.003</td>\n",
              "      <td>0.007</td>\n",
              "      <td>-0.030</td>\n",
              "      <td>-0.002</td>\n",
              "      <td>0.001</td>\n",
              "      <td>0.004</td>\n",
              "      <td>0.023</td>\n",
              "    </tr>\n",
              "    <tr>\n",
              "      <th>1</th>\n",
              "      <td>0.018</td>\n",
              "      <td>1.000</td>\n",
              "      <td>0.009</td>\n",
              "      <td>-0.003</td>\n",
              "      <td>0.016</td>\n",
              "      <td>-0.006</td>\n",
              "      <td>-0.007</td>\n",
              "      <td>-0.015</td>\n",
              "      <td>-0.010</td>\n",
              "      <td>-0.012</td>\n",
              "      <td>0.008</td>\n",
              "      <td>0.003</td>\n",
              "      <td>0.009</td>\n",
              "      <td>0.015</td>\n",
              "      <td>-0.002</td>\n",
              "      <td>0.004</td>\n",
              "      <td>-0.015</td>\n",
              "      <td>-0.016</td>\n",
              "      <td>0.002</td>\n",
              "      <td>0.003</td>\n",
              "      <td>0.326</td>\n",
              "    </tr>\n",
              "    <tr>\n",
              "      <th>2</th>\n",
              "      <td>0.020</td>\n",
              "      <td>0.009</td>\n",
              "      <td>1.000</td>\n",
              "      <td>0.017</td>\n",
              "      <td>0.013</td>\n",
              "      <td>-0.008</td>\n",
              "      <td>0.004</td>\n",
              "      <td>0.004</td>\n",
              "      <td>-0.004</td>\n",
              "      <td>-0.001</td>\n",
              "      <td>-0.007</td>\n",
              "      <td>0.026</td>\n",
              "      <td>0.010</td>\n",
              "      <td>0.002</td>\n",
              "      <td>-0.012</td>\n",
              "      <td>-0.018</td>\n",
              "      <td>-0.019</td>\n",
              "      <td>-0.006</td>\n",
              "      <td>-0.016</td>\n",
              "      <td>-0.000</td>\n",
              "      <td>0.423</td>\n",
              "    </tr>\n",
              "    <tr>\n",
              "      <th>3</th>\n",
              "      <td>0.015</td>\n",
              "      <td>-0.003</td>\n",
              "      <td>0.017</td>\n",
              "      <td>1.000</td>\n",
              "      <td>0.005</td>\n",
              "      <td>-0.001</td>\n",
              "      <td>0.019</td>\n",
              "      <td>0.008</td>\n",
              "      <td>-0.000</td>\n",
              "      <td>-0.000</td>\n",
              "      <td>-0.005</td>\n",
              "      <td>0.005</td>\n",
              "      <td>0.013</td>\n",
              "      <td>0.008</td>\n",
              "      <td>0.012</td>\n",
              "      <td>0.029</td>\n",
              "      <td>-0.011</td>\n",
              "      <td>0.008</td>\n",
              "      <td>-0.008</td>\n",
              "      <td>0.005</td>\n",
              "      <td>0.031</td>\n",
              "    </tr>\n",
              "    <tr>\n",
              "      <th>4</th>\n",
              "      <td>0.009</td>\n",
              "      <td>0.016</td>\n",
              "      <td>0.013</td>\n",
              "      <td>0.005</td>\n",
              "      <td>1.000</td>\n",
              "      <td>0.003</td>\n",
              "      <td>-0.009</td>\n",
              "      <td>-0.001</td>\n",
              "      <td>0.004</td>\n",
              "      <td>-0.009</td>\n",
              "      <td>0.004</td>\n",
              "      <td>-0.003</td>\n",
              "      <td>0.029</td>\n",
              "      <td>0.011</td>\n",
              "      <td>0.006</td>\n",
              "      <td>0.000</td>\n",
              "      <td>-0.008</td>\n",
              "      <td>0.019</td>\n",
              "      <td>-0.004</td>\n",
              "      <td>0.000</td>\n",
              "      <td>0.025</td>\n",
              "    </tr>\n",
              "    <tr>\n",
              "      <th>5</th>\n",
              "      <td>0.002</td>\n",
              "      <td>-0.006</td>\n",
              "      <td>-0.008</td>\n",
              "      <td>-0.001</td>\n",
              "      <td>0.003</td>\n",
              "      <td>1.000</td>\n",
              "      <td>-0.005</td>\n",
              "      <td>0.008</td>\n",
              "      <td>0.007</td>\n",
              "      <td>-0.010</td>\n",
              "      <td>-0.013</td>\n",
              "      <td>0.009</td>\n",
              "      <td>-0.017</td>\n",
              "      <td>-0.004</td>\n",
              "      <td>0.004</td>\n",
              "      <td>-0.016</td>\n",
              "      <td>0.011</td>\n",
              "      <td>0.000</td>\n",
              "      <td>0.005</td>\n",
              "      <td>-0.002</td>\n",
              "      <td>-0.026</td>\n",
              "    </tr>\n",
              "    <tr>\n",
              "      <th>6</th>\n",
              "      <td>-0.004</td>\n",
              "      <td>-0.007</td>\n",
              "      <td>0.004</td>\n",
              "      <td>0.019</td>\n",
              "      <td>-0.009</td>\n",
              "      <td>-0.005</td>\n",
              "      <td>1.000</td>\n",
              "      <td>-0.001</td>\n",
              "      <td>-0.020</td>\n",
              "      <td>0.019</td>\n",
              "      <td>-0.018</td>\n",
              "      <td>-0.010</td>\n",
              "      <td>-0.003</td>\n",
              "      <td>-0.014</td>\n",
              "      <td>-0.008</td>\n",
              "      <td>0.000</td>\n",
              "      <td>-0.001</td>\n",
              "      <td>-0.006</td>\n",
              "      <td>0.005</td>\n",
              "      <td>0.008</td>\n",
              "      <td>0.270</td>\n",
              "    </tr>\n",
              "    <tr>\n",
              "      <th>7</th>\n",
              "      <td>-0.006</td>\n",
              "      <td>-0.015</td>\n",
              "      <td>0.004</td>\n",
              "      <td>0.008</td>\n",
              "      <td>-0.001</td>\n",
              "      <td>0.008</td>\n",
              "      <td>-0.001</td>\n",
              "      <td>1.000</td>\n",
              "      <td>-0.026</td>\n",
              "      <td>-0.014</td>\n",
              "      <td>-0.027</td>\n",
              "      <td>0.017</td>\n",
              "      <td>-0.003</td>\n",
              "      <td>-0.010</td>\n",
              "      <td>-0.012</td>\n",
              "      <td>-0.004</td>\n",
              "      <td>-0.008</td>\n",
              "      <td>0.005</td>\n",
              "      <td>-0.004</td>\n",
              "      <td>-0.006</td>\n",
              "      <td>-0.023</td>\n",
              "    </tr>\n",
              "    <tr>\n",
              "      <th>8</th>\n",
              "      <td>-0.011</td>\n",
              "      <td>-0.010</td>\n",
              "      <td>-0.004</td>\n",
              "      <td>-0.000</td>\n",
              "      <td>0.004</td>\n",
              "      <td>0.007</td>\n",
              "      <td>-0.020</td>\n",
              "      <td>-0.026</td>\n",
              "      <td>1.000</td>\n",
              "      <td>-0.010</td>\n",
              "      <td>-0.020</td>\n",
              "      <td>0.002</td>\n",
              "      <td>-0.003</td>\n",
              "      <td>0.001</td>\n",
              "      <td>-0.012</td>\n",
              "      <td>0.001</td>\n",
              "      <td>0.004</td>\n",
              "      <td>-0.008</td>\n",
              "      <td>0.002</td>\n",
              "      <td>-0.012</td>\n",
              "      <td>-0.024</td>\n",
              "    </tr>\n",
              "    <tr>\n",
              "      <th>9</th>\n",
              "      <td>0.018</td>\n",
              "      <td>-0.012</td>\n",
              "      <td>-0.001</td>\n",
              "      <td>-0.000</td>\n",
              "      <td>-0.009</td>\n",
              "      <td>-0.010</td>\n",
              "      <td>0.019</td>\n",
              "      <td>-0.014</td>\n",
              "      <td>-0.010</td>\n",
              "      <td>1.000</td>\n",
              "      <td>-0.015</td>\n",
              "      <td>-0.011</td>\n",
              "      <td>-0.009</td>\n",
              "      <td>-0.027</td>\n",
              "      <td>0.002</td>\n",
              "      <td>0.016</td>\n",
              "      <td>-0.022</td>\n",
              "      <td>-0.001</td>\n",
              "      <td>-0.011</td>\n",
              "      <td>-0.006</td>\n",
              "      <td>0.192</td>\n",
              "    </tr>\n",
              "    <tr>\n",
              "      <th>10</th>\n",
              "      <td>-0.004</td>\n",
              "      <td>0.008</td>\n",
              "      <td>-0.007</td>\n",
              "      <td>-0.005</td>\n",
              "      <td>0.004</td>\n",
              "      <td>-0.013</td>\n",
              "      <td>-0.018</td>\n",
              "      <td>-0.027</td>\n",
              "      <td>-0.020</td>\n",
              "      <td>-0.015</td>\n",
              "      <td>1.000</td>\n",
              "      <td>-0.001</td>\n",
              "      <td>0.020</td>\n",
              "      <td>0.002</td>\n",
              "      <td>-0.004</td>\n",
              "      <td>-0.020</td>\n",
              "      <td>0.009</td>\n",
              "      <td>-0.009</td>\n",
              "      <td>0.014</td>\n",
              "      <td>-0.000</td>\n",
              "      <td>0.325</td>\n",
              "    </tr>\n",
              "    <tr>\n",
              "      <th>11</th>\n",
              "      <td>0.001</td>\n",
              "      <td>0.003</td>\n",
              "      <td>0.026</td>\n",
              "      <td>0.005</td>\n",
              "      <td>-0.003</td>\n",
              "      <td>0.009</td>\n",
              "      <td>-0.010</td>\n",
              "      <td>0.017</td>\n",
              "      <td>0.002</td>\n",
              "      <td>-0.011</td>\n",
              "      <td>-0.001</td>\n",
              "      <td>1.000</td>\n",
              "      <td>0.020</td>\n",
              "      <td>-0.009</td>\n",
              "      <td>0.008</td>\n",
              "      <td>0.019</td>\n",
              "      <td>0.003</td>\n",
              "      <td>-0.004</td>\n",
              "      <td>0.014</td>\n",
              "      <td>0.022</td>\n",
              "      <td>0.025</td>\n",
              "    </tr>\n",
              "    <tr>\n",
              "      <th>12</th>\n",
              "      <td>0.011</td>\n",
              "      <td>0.009</td>\n",
              "      <td>0.010</td>\n",
              "      <td>0.013</td>\n",
              "      <td>0.029</td>\n",
              "      <td>-0.017</td>\n",
              "      <td>-0.003</td>\n",
              "      <td>-0.003</td>\n",
              "      <td>-0.003</td>\n",
              "      <td>-0.009</td>\n",
              "      <td>0.020</td>\n",
              "      <td>0.020</td>\n",
              "      <td>1.000</td>\n",
              "      <td>-0.006</td>\n",
              "      <td>0.026</td>\n",
              "      <td>0.020</td>\n",
              "      <td>-0.015</td>\n",
              "      <td>-0.029</td>\n",
              "      <td>0.013</td>\n",
              "      <td>0.017</td>\n",
              "      <td>0.508</td>\n",
              "    </tr>\n",
              "    <tr>\n",
              "      <th>13</th>\n",
              "      <td>0.007</td>\n",
              "      <td>0.015</td>\n",
              "      <td>0.002</td>\n",
              "      <td>0.008</td>\n",
              "      <td>0.011</td>\n",
              "      <td>-0.004</td>\n",
              "      <td>-0.014</td>\n",
              "      <td>-0.010</td>\n",
              "      <td>0.001</td>\n",
              "      <td>-0.027</td>\n",
              "      <td>0.002</td>\n",
              "      <td>-0.009</td>\n",
              "      <td>-0.006</td>\n",
              "      <td>1.000</td>\n",
              "      <td>-0.002</td>\n",
              "      <td>0.016</td>\n",
              "      <td>-0.003</td>\n",
              "      <td>-0.018</td>\n",
              "      <td>0.011</td>\n",
              "      <td>0.007</td>\n",
              "      <td>0.080</td>\n",
              "    </tr>\n",
              "    <tr>\n",
              "      <th>14</th>\n",
              "      <td>-0.003</td>\n",
              "      <td>-0.002</td>\n",
              "      <td>-0.012</td>\n",
              "      <td>0.012</td>\n",
              "      <td>0.006</td>\n",
              "      <td>0.004</td>\n",
              "      <td>-0.008</td>\n",
              "      <td>-0.012</td>\n",
              "      <td>-0.012</td>\n",
              "      <td>0.002</td>\n",
              "      <td>-0.004</td>\n",
              "      <td>0.008</td>\n",
              "      <td>0.026</td>\n",
              "      <td>-0.002</td>\n",
              "      <td>1.000</td>\n",
              "      <td>-0.010</td>\n",
              "      <td>0.001</td>\n",
              "      <td>-0.004</td>\n",
              "      <td>0.003</td>\n",
              "      <td>0.022</td>\n",
              "      <td>0.353</td>\n",
              "    </tr>\n",
              "    <tr>\n",
              "      <th>15</th>\n",
              "      <td>0.007</td>\n",
              "      <td>0.004</td>\n",
              "      <td>-0.018</td>\n",
              "      <td>0.029</td>\n",
              "      <td>0.000</td>\n",
              "      <td>-0.016</td>\n",
              "      <td>0.000</td>\n",
              "      <td>-0.004</td>\n",
              "      <td>0.001</td>\n",
              "      <td>0.016</td>\n",
              "      <td>-0.020</td>\n",
              "      <td>0.019</td>\n",
              "      <td>0.020</td>\n",
              "      <td>0.016</td>\n",
              "      <td>-0.010</td>\n",
              "      <td>1.000</td>\n",
              "      <td>-0.008</td>\n",
              "      <td>-0.009</td>\n",
              "      <td>0.003</td>\n",
              "      <td>0.014</td>\n",
              "      <td>0.343</td>\n",
              "    </tr>\n",
              "    <tr>\n",
              "      <th>16</th>\n",
              "      <td>-0.030</td>\n",
              "      <td>-0.015</td>\n",
              "      <td>-0.019</td>\n",
              "      <td>-0.011</td>\n",
              "      <td>-0.008</td>\n",
              "      <td>0.011</td>\n",
              "      <td>-0.001</td>\n",
              "      <td>-0.008</td>\n",
              "      <td>0.004</td>\n",
              "      <td>-0.022</td>\n",
              "      <td>0.009</td>\n",
              "      <td>0.003</td>\n",
              "      <td>-0.015</td>\n",
              "      <td>-0.003</td>\n",
              "      <td>0.001</td>\n",
              "      <td>-0.008</td>\n",
              "      <td>1.000</td>\n",
              "      <td>0.002</td>\n",
              "      <td>0.002</td>\n",
              "      <td>0.011</td>\n",
              "      <td>-0.024</td>\n",
              "    </tr>\n",
              "    <tr>\n",
              "      <th>17</th>\n",
              "      <td>-0.002</td>\n",
              "      <td>-0.016</td>\n",
              "      <td>-0.006</td>\n",
              "      <td>0.008</td>\n",
              "      <td>0.019</td>\n",
              "      <td>0.000</td>\n",
              "      <td>-0.006</td>\n",
              "      <td>0.005</td>\n",
              "      <td>-0.008</td>\n",
              "      <td>-0.001</td>\n",
              "      <td>-0.009</td>\n",
              "      <td>-0.004</td>\n",
              "      <td>-0.029</td>\n",
              "      <td>-0.018</td>\n",
              "      <td>-0.004</td>\n",
              "      <td>-0.009</td>\n",
              "      <td>0.002</td>\n",
              "      <td>1.000</td>\n",
              "      <td>0.002</td>\n",
              "      <td>-0.015</td>\n",
              "      <td>-0.032</td>\n",
              "    </tr>\n",
              "    <tr>\n",
              "      <th>18</th>\n",
              "      <td>0.001</td>\n",
              "      <td>0.002</td>\n",
              "      <td>-0.016</td>\n",
              "      <td>-0.008</td>\n",
              "      <td>-0.004</td>\n",
              "      <td>0.005</td>\n",
              "      <td>0.005</td>\n",
              "      <td>-0.004</td>\n",
              "      <td>0.002</td>\n",
              "      <td>-0.011</td>\n",
              "      <td>0.014</td>\n",
              "      <td>0.014</td>\n",
              "      <td>0.013</td>\n",
              "      <td>0.011</td>\n",
              "      <td>0.003</td>\n",
              "      <td>0.003</td>\n",
              "      <td>0.002</td>\n",
              "      <td>0.002</td>\n",
              "      <td>1.000</td>\n",
              "      <td>-0.000</td>\n",
              "      <td>0.023</td>\n",
              "    </tr>\n",
              "    <tr>\n",
              "      <th>19</th>\n",
              "      <td>0.004</td>\n",
              "      <td>0.003</td>\n",
              "      <td>-0.000</td>\n",
              "      <td>0.005</td>\n",
              "      <td>0.000</td>\n",
              "      <td>-0.002</td>\n",
              "      <td>0.008</td>\n",
              "      <td>-0.006</td>\n",
              "      <td>-0.012</td>\n",
              "      <td>-0.006</td>\n",
              "      <td>-0.000</td>\n",
              "      <td>0.022</td>\n",
              "      <td>0.017</td>\n",
              "      <td>0.007</td>\n",
              "      <td>0.022</td>\n",
              "      <td>0.014</td>\n",
              "      <td>0.011</td>\n",
              "      <td>-0.015</td>\n",
              "      <td>-0.000</td>\n",
              "      <td>1.000</td>\n",
              "      <td>0.023</td>\n",
              "    </tr>\n",
              "    <tr>\n",
              "      <th>0</th>\n",
              "      <td>0.023</td>\n",
              "      <td>0.326</td>\n",
              "      <td>0.423</td>\n",
              "      <td>0.031</td>\n",
              "      <td>0.025</td>\n",
              "      <td>-0.026</td>\n",
              "      <td>0.270</td>\n",
              "      <td>-0.023</td>\n",
              "      <td>-0.024</td>\n",
              "      <td>0.192</td>\n",
              "      <td>0.325</td>\n",
              "      <td>0.025</td>\n",
              "      <td>0.508</td>\n",
              "      <td>0.080</td>\n",
              "      <td>0.353</td>\n",
              "      <td>0.343</td>\n",
              "      <td>-0.024</td>\n",
              "      <td>-0.032</td>\n",
              "      <td>0.023</td>\n",
              "      <td>0.023</td>\n",
              "      <td>1.000</td>\n",
              "    </tr>\n",
              "  </tbody>\n",
              "</table>\n",
              "</div>"
            ],
            "text/plain": [
              "       0      1      2      3      4   ...     16     17     18     19     0 \n",
              "0   1.000  0.018  0.020  0.015  0.009  ... -0.030 -0.002  0.001  0.004  0.023\n",
              "1   0.018  1.000  0.009 -0.003  0.016  ... -0.015 -0.016  0.002  0.003  0.326\n",
              "2   0.020  0.009  1.000  0.017  0.013  ... -0.019 -0.006 -0.016 -0.000  0.423\n",
              "3   0.015 -0.003  0.017  1.000  0.005  ... -0.011  0.008 -0.008  0.005  0.031\n",
              "4   0.009  0.016  0.013  0.005  1.000  ... -0.008  0.019 -0.004  0.000  0.025\n",
              "5   0.002 -0.006 -0.008 -0.001  0.003  ...  0.011  0.000  0.005 -0.002 -0.026\n",
              "6  -0.004 -0.007  0.004  0.019 -0.009  ... -0.001 -0.006  0.005  0.008  0.270\n",
              "7  -0.006 -0.015  0.004  0.008 -0.001  ... -0.008  0.005 -0.004 -0.006 -0.023\n",
              "8  -0.011 -0.010 -0.004 -0.000  0.004  ...  0.004 -0.008  0.002 -0.012 -0.024\n",
              "9   0.018 -0.012 -0.001 -0.000 -0.009  ... -0.022 -0.001 -0.011 -0.006  0.192\n",
              "10 -0.004  0.008 -0.007 -0.005  0.004  ...  0.009 -0.009  0.014 -0.000  0.325\n",
              "11  0.001  0.003  0.026  0.005 -0.003  ...  0.003 -0.004  0.014  0.022  0.025\n",
              "12  0.011  0.009  0.010  0.013  0.029  ... -0.015 -0.029  0.013  0.017  0.508\n",
              "13  0.007  0.015  0.002  0.008  0.011  ... -0.003 -0.018  0.011  0.007  0.080\n",
              "14 -0.003 -0.002 -0.012  0.012  0.006  ...  0.001 -0.004  0.003  0.022  0.353\n",
              "15  0.007  0.004 -0.018  0.029  0.000  ... -0.008 -0.009  0.003  0.014  0.343\n",
              "16 -0.030 -0.015 -0.019 -0.011 -0.008  ...  1.000  0.002  0.002  0.011 -0.024\n",
              "17 -0.002 -0.016 -0.006  0.008  0.019  ...  0.002  1.000  0.002 -0.015 -0.032\n",
              "18  0.001  0.002 -0.016 -0.008 -0.004  ...  0.002  0.002  1.000 -0.000  0.023\n",
              "19  0.004  0.003 -0.000  0.005  0.000  ...  0.011 -0.015 -0.000  1.000  0.023\n",
              "0   0.023  0.326  0.423  0.031  0.025  ... -0.024 -0.032  0.023  0.023  1.000\n",
              "\n",
              "[21 rows x 21 columns]"
            ]
          },
          "metadata": {},
          "execution_count": 16
        }
      ]
    },
    {
      "cell_type": "code",
      "metadata": {
        "id": "spjnlqq2fiWq"
      },
      "source": [
        ""
      ],
      "id": "spjnlqq2fiWq",
      "execution_count": null,
      "outputs": []
    }
  ]
}