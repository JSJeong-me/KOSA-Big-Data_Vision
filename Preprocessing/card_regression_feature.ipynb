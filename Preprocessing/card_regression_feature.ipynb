{
  "nbformat": 4,
  "nbformat_minor": 5,
  "metadata": {
    "kernelspec": {
      "display_name": "Python 3",
      "language": "python",
      "name": "python3"
    },
    "language_info": {
      "codemirror_mode": {
        "name": "ipython",
        "version": 3
      },
      "file_extension": ".py",
      "mimetype": "text/x-python",
      "name": "python",
      "nbconvert_exporter": "python",
      "pygments_lexer": "ipython3",
      "version": "3.7.6"
    },
    "colab": {
      "name": "regression_feature.ipynb",
      "provenance": [],
      "include_colab_link": true
    }
  },
  "cells": [
    {
      "cell_type": "markdown",
      "metadata": {
        "id": "view-in-github",
        "colab_type": "text"
      },
      "source": [
        "<a href=\"https://colab.research.google.com/github/JSJeong-me/KOSA-Big-Data_Vision/blob/main/Preprocessing/card_regression_feature.ipynb\" target=\"_parent\"><img src=\"https://colab.research.google.com/assets/colab-badge.svg\" alt=\"Open In Colab\"/></a>"
      ]
    },
    {
      "cell_type": "markdown",
      "metadata": {
        "id": "olive-decrease"
      },
      "source": [
        "### Regression Feature Selection:\n",
        "(Numerical Input, Numerical Output)"
      ],
      "id": "olive-decrease"
    },
    {
      "cell_type": "markdown",
      "metadata": {
        "id": "saved-values"
      },
      "source": [
        "Feature selection is performed using Pearson’s Correlation Coefficient via the f_regression() function."
      ],
      "id": "saved-values"
    },
    {
      "cell_type": "code",
      "metadata": {
        "id": "political-track"
      },
      "source": [
        "# pearson's correlation feature selection for numeric input and numeric output\n",
        "from sklearn.datasets import make_regression\n",
        "from sklearn.feature_selection import SelectKBest\n",
        "from sklearn.feature_selection import f_regression\n"
      ],
      "id": "political-track",
      "execution_count": 1,
      "outputs": []
    },
    {
      "cell_type": "code",
      "metadata": {
        "id": "adjacent-private"
      },
      "source": [
        "# generate dataset\n",
        "#X, y = make_regression(n_samples=10000, n_features=500, n_informative=10)\n"
      ],
      "id": "adjacent-private",
      "execution_count": null,
      "outputs": []
    },
    {
      "cell_type": "code",
      "metadata": {
        "id": "KYFEzjliojSx"
      },
      "source": [
        "import pandas as pd"
      ],
      "id": "KYFEzjliojSx",
      "execution_count": 2,
      "outputs": []
    },
    {
      "cell_type": "code",
      "metadata": {
        "id": "EomaBdN2omWh"
      },
      "source": [
        "data = pd.read_csv('credit_cards_dataset.csv')"
      ],
      "id": "EomaBdN2omWh",
      "execution_count": 10,
      "outputs": []
    },
    {
      "cell_type": "code",
      "metadata": {
        "id": "Itf1JXdNpCG5",
        "outputId": "31034226-00df-4723-f966-bc28fac1d92e",
        "colab": {
          "base_uri": "https://localhost:8080/"
        }
      },
      "source": [
        "data.columns"
      ],
      "id": "Itf1JXdNpCG5",
      "execution_count": 5,
      "outputs": [
        {
          "output_type": "execute_result",
          "data": {
            "text/plain": [
              "Index(['ID', 'LIMIT_BAL', 'SEX', 'EDUCATION', 'MARRIAGE', 'AGE', 'PAY_0',\n",
              "       'PAY_2', 'PAY_3', 'PAY_4', 'PAY_5', 'PAY_6', 'BILL_AMT1', 'BILL_AMT2',\n",
              "       'BILL_AMT3', 'BILL_AMT4', 'BILL_AMT5', 'BILL_AMT6', 'PAY_AMT1',\n",
              "       'PAY_AMT2', 'PAY_AMT3', 'PAY_AMT4', 'PAY_AMT5', 'PAY_AMT6',\n",
              "       'default.payment.next.month'],\n",
              "      dtype='object')"
            ]
          },
          "metadata": {},
          "execution_count": 5
        }
      ]
    },
    {
      "cell_type": "code",
      "metadata": {
        "id": "nSnftVVpo_Op"
      },
      "source": [
        "data.drop('default.payment.next.month', axis=1,inplace=True)"
      ],
      "id": "nSnftVVpo_Op",
      "execution_count": 7,
      "outputs": []
    },
    {
      "cell_type": "code",
      "metadata": {
        "id": "EiXm7xMSo7nB"
      },
      "source": [
        "X = data.values"
      ],
      "id": "EiXm7xMSo7nB",
      "execution_count": 8,
      "outputs": []
    },
    {
      "cell_type": "code",
      "metadata": {
        "id": "HDujEm3bpWtp"
      },
      "source": [
        "y=data['default.payment.next.month']"
      ],
      "id": "HDujEm3bpWtp",
      "execution_count": 11,
      "outputs": []
    },
    {
      "cell_type": "code",
      "metadata": {
        "colab": {
          "base_uri": "https://localhost:8080/"
        },
        "id": "o81zk1HseJQI",
        "outputId": "2de98bc4-d920-4d9c-aa03-2fac44fe1910"
      },
      "source": [
        "X.shape"
      ],
      "id": "o81zk1HseJQI",
      "execution_count": 12,
      "outputs": [
        {
          "output_type": "execute_result",
          "data": {
            "text/plain": [
              "(30000, 24)"
            ]
          },
          "metadata": {},
          "execution_count": 12
        }
      ]
    },
    {
      "cell_type": "code",
      "metadata": {
        "colab": {
          "base_uri": "https://localhost:8080/"
        },
        "id": "vRGDAW9ReMJL",
        "outputId": "3d12909c-51b2-4e60-e291-ca3cf00e0827"
      },
      "source": [
        "X[:3,:]"
      ],
      "id": "vRGDAW9ReMJL",
      "execution_count": 13,
      "outputs": [
        {
          "output_type": "execute_result",
          "data": {
            "text/plain": [
              "array([[ 1.0000e+00,  2.0000e+04,  2.0000e+00,  2.0000e+00,  1.0000e+00,\n",
              "         2.4000e+01,  2.0000e+00,  2.0000e+00, -1.0000e+00, -1.0000e+00,\n",
              "        -2.0000e+00, -2.0000e+00,  3.9130e+03,  3.1020e+03,  6.8900e+02,\n",
              "         0.0000e+00,  0.0000e+00,  0.0000e+00,  0.0000e+00,  6.8900e+02,\n",
              "         0.0000e+00,  0.0000e+00,  0.0000e+00,  0.0000e+00],\n",
              "       [ 2.0000e+00,  1.2000e+05,  2.0000e+00,  2.0000e+00,  2.0000e+00,\n",
              "         2.6000e+01, -1.0000e+00,  2.0000e+00,  0.0000e+00,  0.0000e+00,\n",
              "         0.0000e+00,  2.0000e+00,  2.6820e+03,  1.7250e+03,  2.6820e+03,\n",
              "         3.2720e+03,  3.4550e+03,  3.2610e+03,  0.0000e+00,  1.0000e+03,\n",
              "         1.0000e+03,  1.0000e+03,  0.0000e+00,  2.0000e+03],\n",
              "       [ 3.0000e+00,  9.0000e+04,  2.0000e+00,  2.0000e+00,  2.0000e+00,\n",
              "         3.4000e+01,  0.0000e+00,  0.0000e+00,  0.0000e+00,  0.0000e+00,\n",
              "         0.0000e+00,  0.0000e+00,  2.9239e+04,  1.4027e+04,  1.3559e+04,\n",
              "         1.4331e+04,  1.4948e+04,  1.5549e+04,  1.5180e+03,  1.5000e+03,\n",
              "         1.0000e+03,  1.0000e+03,  1.0000e+03,  5.0000e+03]])"
            ]
          },
          "metadata": {},
          "execution_count": 13
        }
      ]
    },
    {
      "cell_type": "code",
      "metadata": {
        "colab": {
          "base_uri": "https://localhost:8080/"
        },
        "id": "gcRwjPwIeMF_",
        "outputId": "4f552493-6425-4ccd-a340-4d784ff934ae"
      },
      "source": [
        "y[:3]"
      ],
      "id": "gcRwjPwIeMF_",
      "execution_count": 14,
      "outputs": [
        {
          "output_type": "execute_result",
          "data": {
            "text/plain": [
              "0    1\n",
              "1    1\n",
              "2    0\n",
              "Name: default.payment.next.month, dtype: int64"
            ]
          },
          "metadata": {},
          "execution_count": 14
        }
      ]
    },
    {
      "cell_type": "code",
      "metadata": {
        "id": "ctXhRxFdeMCQ"
      },
      "source": [
        ""
      ],
      "id": "ctXhRxFdeMCQ",
      "execution_count": null,
      "outputs": []
    },
    {
      "cell_type": "code",
      "metadata": {
        "id": "5e5wB46CdjUB"
      },
      "source": [
        "# define feature selection\n",
        "fs = SelectKBest(score_func=f_regression, k=10)\n",
        "# apply feature selection\n"
      ],
      "id": "5e5wB46CdjUB",
      "execution_count": 16,
      "outputs": []
    },
    {
      "cell_type": "code",
      "metadata": {
        "colab": {
          "base_uri": "https://localhost:8080/"
        },
        "id": "OL1v9R0ge4Ss",
        "outputId": "de1eb042-8e29-4b16-876c-cd8001873c20"
      },
      "source": [
        "X_selected = fs.fit_transform(X, y)\n",
        "print(X_selected.shape)"
      ],
      "id": "OL1v9R0ge4Ss",
      "execution_count": 17,
      "outputs": [
        {
          "output_type": "stream",
          "name": "stdout",
          "text": [
            "(30000, 10)\n"
          ]
        }
      ]
    },
    {
      "cell_type": "code",
      "metadata": {
        "colab": {
          "base_uri": "https://localhost:8080/"
        },
        "id": "7b7BooQGfLaI",
        "outputId": "405f53b1-4b9f-4cf2-bad1-8a1089450b72"
      },
      "source": [
        "X_selected.shape"
      ],
      "id": "7b7BooQGfLaI",
      "execution_count": 18,
      "outputs": [
        {
          "output_type": "execute_result",
          "data": {
            "text/plain": [
              "(30000, 10)"
            ]
          },
          "metadata": {},
          "execution_count": 18
        }
      ]
    },
    {
      "cell_type": "code",
      "metadata": {
        "colab": {
          "base_uri": "https://localhost:8080/"
        },
        "id": "4-9tw8m8fixK",
        "outputId": "25acfd56-bde1-4a89-d915-ca57cbcbfeaf"
      },
      "source": [
        "type(X_selected)"
      ],
      "id": "4-9tw8m8fixK",
      "execution_count": null,
      "outputs": [
        {
          "output_type": "execute_result",
          "data": {
            "text/plain": [
              "numpy.ndarray"
            ]
          },
          "metadata": {},
          "execution_count": 9
        }
      ]
    },
    {
      "cell_type": "code",
      "metadata": {
        "id": "miQ1m6gofyMZ"
      },
      "source": [
        "import pandas as pd"
      ],
      "id": "miQ1m6gofyMZ",
      "execution_count": null,
      "outputs": []
    },
    {
      "cell_type": "code",
      "metadata": {
        "id": "lFf0M0o5gDvh"
      },
      "source": [
        "df_y = pd.DataFrame(y) "
      ],
      "id": "lFf0M0o5gDvh",
      "execution_count": 19,
      "outputs": []
    },
    {
      "cell_type": "code",
      "metadata": {
        "id": "mmoP4dGSfisq"
      },
      "source": [
        "df = pd.DataFrame(X_selected)"
      ],
      "id": "mmoP4dGSfisq",
      "execution_count": 20,
      "outputs": []
    },
    {
      "cell_type": "code",
      "metadata": {
        "id": "oKYpKD42p9GJ",
        "outputId": "d83ab174-7a7a-4535-dd8c-6d80f3387690",
        "colab": {
          "base_uri": "https://localhost:8080/",
          "height": 380
        }
      },
      "source": [
        "df.corr()"
      ],
      "id": "oKYpKD42p9GJ",
      "execution_count": 21,
      "outputs": [
        {
          "output_type": "execute_result",
          "data": {
            "text/html": [
              "<div>\n",
              "<style scoped>\n",
              "    .dataframe tbody tr th:only-of-type {\n",
              "        vertical-align: middle;\n",
              "    }\n",
              "\n",
              "    .dataframe tbody tr th {\n",
              "        vertical-align: top;\n",
              "    }\n",
              "\n",
              "    .dataframe thead th {\n",
              "        text-align: right;\n",
              "    }\n",
              "</style>\n",
              "<table border=\"1\" class=\"dataframe\">\n",
              "  <thead>\n",
              "    <tr style=\"text-align: right;\">\n",
              "      <th></th>\n",
              "      <th>0</th>\n",
              "      <th>1</th>\n",
              "      <th>2</th>\n",
              "      <th>3</th>\n",
              "      <th>4</th>\n",
              "      <th>5</th>\n",
              "      <th>6</th>\n",
              "      <th>7</th>\n",
              "      <th>8</th>\n",
              "      <th>9</th>\n",
              "    </tr>\n",
              "  </thead>\n",
              "  <tbody>\n",
              "    <tr>\n",
              "      <th>0</th>\n",
              "      <td>1.000000</td>\n",
              "      <td>-0.271214</td>\n",
              "      <td>-0.296382</td>\n",
              "      <td>-0.286123</td>\n",
              "      <td>-0.267460</td>\n",
              "      <td>-0.249411</td>\n",
              "      <td>-0.235195</td>\n",
              "      <td>0.195236</td>\n",
              "      <td>0.178408</td>\n",
              "      <td>0.203242</td>\n",
              "    </tr>\n",
              "    <tr>\n",
              "      <th>1</th>\n",
              "      <td>-0.271214</td>\n",
              "      <td>1.000000</td>\n",
              "      <td>0.672164</td>\n",
              "      <td>0.574245</td>\n",
              "      <td>0.538841</td>\n",
              "      <td>0.509426</td>\n",
              "      <td>0.474553</td>\n",
              "      <td>-0.079269</td>\n",
              "      <td>-0.070101</td>\n",
              "      <td>-0.064005</td>\n",
              "    </tr>\n",
              "    <tr>\n",
              "      <th>2</th>\n",
              "      <td>-0.296382</td>\n",
              "      <td>0.672164</td>\n",
              "      <td>1.000000</td>\n",
              "      <td>0.766552</td>\n",
              "      <td>0.662067</td>\n",
              "      <td>0.622780</td>\n",
              "      <td>0.575501</td>\n",
              "      <td>-0.080701</td>\n",
              "      <td>-0.058990</td>\n",
              "      <td>-0.046858</td>\n",
              "    </tr>\n",
              "    <tr>\n",
              "      <th>3</th>\n",
              "      <td>-0.286123</td>\n",
              "      <td>0.574245</td>\n",
              "      <td>0.766552</td>\n",
              "      <td>1.000000</td>\n",
              "      <td>0.777359</td>\n",
              "      <td>0.686775</td>\n",
              "      <td>0.632684</td>\n",
              "      <td>0.001295</td>\n",
              "      <td>-0.066793</td>\n",
              "      <td>-0.046067</td>\n",
              "    </tr>\n",
              "    <tr>\n",
              "      <th>4</th>\n",
              "      <td>-0.267460</td>\n",
              "      <td>0.538841</td>\n",
              "      <td>0.662067</td>\n",
              "      <td>0.777359</td>\n",
              "      <td>1.000000</td>\n",
              "      <td>0.819835</td>\n",
              "      <td>0.716449</td>\n",
              "      <td>-0.009362</td>\n",
              "      <td>-0.001944</td>\n",
              "      <td>-0.043461</td>\n",
              "    </tr>\n",
              "    <tr>\n",
              "      <th>5</th>\n",
              "      <td>-0.249411</td>\n",
              "      <td>0.509426</td>\n",
              "      <td>0.622780</td>\n",
              "      <td>0.686775</td>\n",
              "      <td>0.819835</td>\n",
              "      <td>1.000000</td>\n",
              "      <td>0.816900</td>\n",
              "      <td>-0.006089</td>\n",
              "      <td>-0.003191</td>\n",
              "      <td>-0.058299</td>\n",
              "    </tr>\n",
              "    <tr>\n",
              "      <th>6</th>\n",
              "      <td>-0.235195</td>\n",
              "      <td>0.474553</td>\n",
              "      <td>0.575501</td>\n",
              "      <td>0.632684</td>\n",
              "      <td>0.716449</td>\n",
              "      <td>0.816900</td>\n",
              "      <td>1.000000</td>\n",
              "      <td>-0.001496</td>\n",
              "      <td>-0.005223</td>\n",
              "      <td>0.019018</td>\n",
              "    </tr>\n",
              "    <tr>\n",
              "      <th>7</th>\n",
              "      <td>0.195236</td>\n",
              "      <td>-0.079269</td>\n",
              "      <td>-0.080701</td>\n",
              "      <td>0.001295</td>\n",
              "      <td>-0.009362</td>\n",
              "      <td>-0.006089</td>\n",
              "      <td>-0.001496</td>\n",
              "      <td>1.000000</td>\n",
              "      <td>0.285576</td>\n",
              "      <td>0.199558</td>\n",
              "    </tr>\n",
              "    <tr>\n",
              "      <th>8</th>\n",
              "      <td>0.178408</td>\n",
              "      <td>-0.070101</td>\n",
              "      <td>-0.058990</td>\n",
              "      <td>-0.066793</td>\n",
              "      <td>-0.001944</td>\n",
              "      <td>-0.003191</td>\n",
              "      <td>-0.005223</td>\n",
              "      <td>0.285576</td>\n",
              "      <td>1.000000</td>\n",
              "      <td>0.180107</td>\n",
              "    </tr>\n",
              "    <tr>\n",
              "      <th>9</th>\n",
              "      <td>0.203242</td>\n",
              "      <td>-0.064005</td>\n",
              "      <td>-0.046858</td>\n",
              "      <td>-0.046067</td>\n",
              "      <td>-0.043461</td>\n",
              "      <td>-0.058299</td>\n",
              "      <td>0.019018</td>\n",
              "      <td>0.199558</td>\n",
              "      <td>0.180107</td>\n",
              "      <td>1.000000</td>\n",
              "    </tr>\n",
              "  </tbody>\n",
              "</table>\n",
              "</div>"
            ],
            "text/plain": [
              "          0         1         2  ...         7         8         9\n",
              "0  1.000000 -0.271214 -0.296382  ...  0.195236  0.178408  0.203242\n",
              "1 -0.271214  1.000000  0.672164  ... -0.079269 -0.070101 -0.064005\n",
              "2 -0.296382  0.672164  1.000000  ... -0.080701 -0.058990 -0.046858\n",
              "3 -0.286123  0.574245  0.766552  ...  0.001295 -0.066793 -0.046067\n",
              "4 -0.267460  0.538841  0.662067  ... -0.009362 -0.001944 -0.043461\n",
              "5 -0.249411  0.509426  0.622780  ... -0.006089 -0.003191 -0.058299\n",
              "6 -0.235195  0.474553  0.575501  ... -0.001496 -0.005223  0.019018\n",
              "7  0.195236 -0.079269 -0.080701  ...  1.000000  0.285576  0.199558\n",
              "8  0.178408 -0.070101 -0.058990  ...  0.285576  1.000000  0.180107\n",
              "9  0.203242 -0.064005 -0.046858  ...  0.199558  0.180107  1.000000\n",
              "\n",
              "[10 rows x 10 columns]"
            ]
          },
          "metadata": {},
          "execution_count": 21
        }
      ]
    },
    {
      "cell_type": "code",
      "metadata": {
        "id": "ddiRj6-rgSwm"
      },
      "source": [
        "df_sum = pd.concat([df, df_y], axis=1)"
      ],
      "id": "ddiRj6-rgSwm",
      "execution_count": null,
      "outputs": []
    },
    {
      "cell_type": "code",
      "metadata": {
        "colab": {
          "base_uri": "https://localhost:8080/",
          "height": 723
        },
        "id": "RprnxHQsfijI",
        "outputId": "ae9cec5f-3828-4dfc-8c21-536ae06528eb"
      },
      "source": [
        "df_sum.corr().round(3)"
      ],
      "id": "RprnxHQsfijI",
      "execution_count": null,
      "outputs": [
        {
          "output_type": "execute_result",
          "data": {
            "text/html": [
              "<div>\n",
              "<style scoped>\n",
              "    .dataframe tbody tr th:only-of-type {\n",
              "        vertical-align: middle;\n",
              "    }\n",
              "\n",
              "    .dataframe tbody tr th {\n",
              "        vertical-align: top;\n",
              "    }\n",
              "\n",
              "    .dataframe thead th {\n",
              "        text-align: right;\n",
              "    }\n",
              "</style>\n",
              "<table border=\"1\" class=\"dataframe\">\n",
              "  <thead>\n",
              "    <tr style=\"text-align: right;\">\n",
              "      <th></th>\n",
              "      <th>0</th>\n",
              "      <th>1</th>\n",
              "      <th>2</th>\n",
              "      <th>3</th>\n",
              "      <th>4</th>\n",
              "      <th>5</th>\n",
              "      <th>6</th>\n",
              "      <th>7</th>\n",
              "      <th>8</th>\n",
              "      <th>9</th>\n",
              "      <th>10</th>\n",
              "      <th>11</th>\n",
              "      <th>12</th>\n",
              "      <th>13</th>\n",
              "      <th>14</th>\n",
              "      <th>15</th>\n",
              "      <th>16</th>\n",
              "      <th>17</th>\n",
              "      <th>18</th>\n",
              "      <th>19</th>\n",
              "      <th>0</th>\n",
              "    </tr>\n",
              "  </thead>\n",
              "  <tbody>\n",
              "    <tr>\n",
              "      <th>0</th>\n",
              "      <td>1.000</td>\n",
              "      <td>0.018</td>\n",
              "      <td>0.020</td>\n",
              "      <td>0.015</td>\n",
              "      <td>0.009</td>\n",
              "      <td>0.002</td>\n",
              "      <td>-0.004</td>\n",
              "      <td>-0.006</td>\n",
              "      <td>-0.011</td>\n",
              "      <td>0.018</td>\n",
              "      <td>-0.004</td>\n",
              "      <td>0.001</td>\n",
              "      <td>0.011</td>\n",
              "      <td>0.007</td>\n",
              "      <td>-0.003</td>\n",
              "      <td>0.007</td>\n",
              "      <td>-0.030</td>\n",
              "      <td>-0.002</td>\n",
              "      <td>0.001</td>\n",
              "      <td>0.004</td>\n",
              "      <td>0.023</td>\n",
              "    </tr>\n",
              "    <tr>\n",
              "      <th>1</th>\n",
              "      <td>0.018</td>\n",
              "      <td>1.000</td>\n",
              "      <td>0.009</td>\n",
              "      <td>-0.003</td>\n",
              "      <td>0.016</td>\n",
              "      <td>-0.006</td>\n",
              "      <td>-0.007</td>\n",
              "      <td>-0.015</td>\n",
              "      <td>-0.010</td>\n",
              "      <td>-0.012</td>\n",
              "      <td>0.008</td>\n",
              "      <td>0.003</td>\n",
              "      <td>0.009</td>\n",
              "      <td>0.015</td>\n",
              "      <td>-0.002</td>\n",
              "      <td>0.004</td>\n",
              "      <td>-0.015</td>\n",
              "      <td>-0.016</td>\n",
              "      <td>0.002</td>\n",
              "      <td>0.003</td>\n",
              "      <td>0.326</td>\n",
              "    </tr>\n",
              "    <tr>\n",
              "      <th>2</th>\n",
              "      <td>0.020</td>\n",
              "      <td>0.009</td>\n",
              "      <td>1.000</td>\n",
              "      <td>0.017</td>\n",
              "      <td>0.013</td>\n",
              "      <td>-0.008</td>\n",
              "      <td>0.004</td>\n",
              "      <td>0.004</td>\n",
              "      <td>-0.004</td>\n",
              "      <td>-0.001</td>\n",
              "      <td>-0.007</td>\n",
              "      <td>0.026</td>\n",
              "      <td>0.010</td>\n",
              "      <td>0.002</td>\n",
              "      <td>-0.012</td>\n",
              "      <td>-0.018</td>\n",
              "      <td>-0.019</td>\n",
              "      <td>-0.006</td>\n",
              "      <td>-0.016</td>\n",
              "      <td>-0.000</td>\n",
              "      <td>0.423</td>\n",
              "    </tr>\n",
              "    <tr>\n",
              "      <th>3</th>\n",
              "      <td>0.015</td>\n",
              "      <td>-0.003</td>\n",
              "      <td>0.017</td>\n",
              "      <td>1.000</td>\n",
              "      <td>0.005</td>\n",
              "      <td>-0.001</td>\n",
              "      <td>0.019</td>\n",
              "      <td>0.008</td>\n",
              "      <td>-0.000</td>\n",
              "      <td>-0.000</td>\n",
              "      <td>-0.005</td>\n",
              "      <td>0.005</td>\n",
              "      <td>0.013</td>\n",
              "      <td>0.008</td>\n",
              "      <td>0.012</td>\n",
              "      <td>0.029</td>\n",
              "      <td>-0.011</td>\n",
              "      <td>0.008</td>\n",
              "      <td>-0.008</td>\n",
              "      <td>0.005</td>\n",
              "      <td>0.031</td>\n",
              "    </tr>\n",
              "    <tr>\n",
              "      <th>4</th>\n",
              "      <td>0.009</td>\n",
              "      <td>0.016</td>\n",
              "      <td>0.013</td>\n",
              "      <td>0.005</td>\n",
              "      <td>1.000</td>\n",
              "      <td>0.003</td>\n",
              "      <td>-0.009</td>\n",
              "      <td>-0.001</td>\n",
              "      <td>0.004</td>\n",
              "      <td>-0.009</td>\n",
              "      <td>0.004</td>\n",
              "      <td>-0.003</td>\n",
              "      <td>0.029</td>\n",
              "      <td>0.011</td>\n",
              "      <td>0.006</td>\n",
              "      <td>0.000</td>\n",
              "      <td>-0.008</td>\n",
              "      <td>0.019</td>\n",
              "      <td>-0.004</td>\n",
              "      <td>0.000</td>\n",
              "      <td>0.025</td>\n",
              "    </tr>\n",
              "    <tr>\n",
              "      <th>5</th>\n",
              "      <td>0.002</td>\n",
              "      <td>-0.006</td>\n",
              "      <td>-0.008</td>\n",
              "      <td>-0.001</td>\n",
              "      <td>0.003</td>\n",
              "      <td>1.000</td>\n",
              "      <td>-0.005</td>\n",
              "      <td>0.008</td>\n",
              "      <td>0.007</td>\n",
              "      <td>-0.010</td>\n",
              "      <td>-0.013</td>\n",
              "      <td>0.009</td>\n",
              "      <td>-0.017</td>\n",
              "      <td>-0.004</td>\n",
              "      <td>0.004</td>\n",
              "      <td>-0.016</td>\n",
              "      <td>0.011</td>\n",
              "      <td>0.000</td>\n",
              "      <td>0.005</td>\n",
              "      <td>-0.002</td>\n",
              "      <td>-0.026</td>\n",
              "    </tr>\n",
              "    <tr>\n",
              "      <th>6</th>\n",
              "      <td>-0.004</td>\n",
              "      <td>-0.007</td>\n",
              "      <td>0.004</td>\n",
              "      <td>0.019</td>\n",
              "      <td>-0.009</td>\n",
              "      <td>-0.005</td>\n",
              "      <td>1.000</td>\n",
              "      <td>-0.001</td>\n",
              "      <td>-0.020</td>\n",
              "      <td>0.019</td>\n",
              "      <td>-0.018</td>\n",
              "      <td>-0.010</td>\n",
              "      <td>-0.003</td>\n",
              "      <td>-0.014</td>\n",
              "      <td>-0.008</td>\n",
              "      <td>0.000</td>\n",
              "      <td>-0.001</td>\n",
              "      <td>-0.006</td>\n",
              "      <td>0.005</td>\n",
              "      <td>0.008</td>\n",
              "      <td>0.270</td>\n",
              "    </tr>\n",
              "    <tr>\n",
              "      <th>7</th>\n",
              "      <td>-0.006</td>\n",
              "      <td>-0.015</td>\n",
              "      <td>0.004</td>\n",
              "      <td>0.008</td>\n",
              "      <td>-0.001</td>\n",
              "      <td>0.008</td>\n",
              "      <td>-0.001</td>\n",
              "      <td>1.000</td>\n",
              "      <td>-0.026</td>\n",
              "      <td>-0.014</td>\n",
              "      <td>-0.027</td>\n",
              "      <td>0.017</td>\n",
              "      <td>-0.003</td>\n",
              "      <td>-0.010</td>\n",
              "      <td>-0.012</td>\n",
              "      <td>-0.004</td>\n",
              "      <td>-0.008</td>\n",
              "      <td>0.005</td>\n",
              "      <td>-0.004</td>\n",
              "      <td>-0.006</td>\n",
              "      <td>-0.023</td>\n",
              "    </tr>\n",
              "    <tr>\n",
              "      <th>8</th>\n",
              "      <td>-0.011</td>\n",
              "      <td>-0.010</td>\n",
              "      <td>-0.004</td>\n",
              "      <td>-0.000</td>\n",
              "      <td>0.004</td>\n",
              "      <td>0.007</td>\n",
              "      <td>-0.020</td>\n",
              "      <td>-0.026</td>\n",
              "      <td>1.000</td>\n",
              "      <td>-0.010</td>\n",
              "      <td>-0.020</td>\n",
              "      <td>0.002</td>\n",
              "      <td>-0.003</td>\n",
              "      <td>0.001</td>\n",
              "      <td>-0.012</td>\n",
              "      <td>0.001</td>\n",
              "      <td>0.004</td>\n",
              "      <td>-0.008</td>\n",
              "      <td>0.002</td>\n",
              "      <td>-0.012</td>\n",
              "      <td>-0.024</td>\n",
              "    </tr>\n",
              "    <tr>\n",
              "      <th>9</th>\n",
              "      <td>0.018</td>\n",
              "      <td>-0.012</td>\n",
              "      <td>-0.001</td>\n",
              "      <td>-0.000</td>\n",
              "      <td>-0.009</td>\n",
              "      <td>-0.010</td>\n",
              "      <td>0.019</td>\n",
              "      <td>-0.014</td>\n",
              "      <td>-0.010</td>\n",
              "      <td>1.000</td>\n",
              "      <td>-0.015</td>\n",
              "      <td>-0.011</td>\n",
              "      <td>-0.009</td>\n",
              "      <td>-0.027</td>\n",
              "      <td>0.002</td>\n",
              "      <td>0.016</td>\n",
              "      <td>-0.022</td>\n",
              "      <td>-0.001</td>\n",
              "      <td>-0.011</td>\n",
              "      <td>-0.006</td>\n",
              "      <td>0.192</td>\n",
              "    </tr>\n",
              "    <tr>\n",
              "      <th>10</th>\n",
              "      <td>-0.004</td>\n",
              "      <td>0.008</td>\n",
              "      <td>-0.007</td>\n",
              "      <td>-0.005</td>\n",
              "      <td>0.004</td>\n",
              "      <td>-0.013</td>\n",
              "      <td>-0.018</td>\n",
              "      <td>-0.027</td>\n",
              "      <td>-0.020</td>\n",
              "      <td>-0.015</td>\n",
              "      <td>1.000</td>\n",
              "      <td>-0.001</td>\n",
              "      <td>0.020</td>\n",
              "      <td>0.002</td>\n",
              "      <td>-0.004</td>\n",
              "      <td>-0.020</td>\n",
              "      <td>0.009</td>\n",
              "      <td>-0.009</td>\n",
              "      <td>0.014</td>\n",
              "      <td>-0.000</td>\n",
              "      <td>0.325</td>\n",
              "    </tr>\n",
              "    <tr>\n",
              "      <th>11</th>\n",
              "      <td>0.001</td>\n",
              "      <td>0.003</td>\n",
              "      <td>0.026</td>\n",
              "      <td>0.005</td>\n",
              "      <td>-0.003</td>\n",
              "      <td>0.009</td>\n",
              "      <td>-0.010</td>\n",
              "      <td>0.017</td>\n",
              "      <td>0.002</td>\n",
              "      <td>-0.011</td>\n",
              "      <td>-0.001</td>\n",
              "      <td>1.000</td>\n",
              "      <td>0.020</td>\n",
              "      <td>-0.009</td>\n",
              "      <td>0.008</td>\n",
              "      <td>0.019</td>\n",
              "      <td>0.003</td>\n",
              "      <td>-0.004</td>\n",
              "      <td>0.014</td>\n",
              "      <td>0.022</td>\n",
              "      <td>0.025</td>\n",
              "    </tr>\n",
              "    <tr>\n",
              "      <th>12</th>\n",
              "      <td>0.011</td>\n",
              "      <td>0.009</td>\n",
              "      <td>0.010</td>\n",
              "      <td>0.013</td>\n",
              "      <td>0.029</td>\n",
              "      <td>-0.017</td>\n",
              "      <td>-0.003</td>\n",
              "      <td>-0.003</td>\n",
              "      <td>-0.003</td>\n",
              "      <td>-0.009</td>\n",
              "      <td>0.020</td>\n",
              "      <td>0.020</td>\n",
              "      <td>1.000</td>\n",
              "      <td>-0.006</td>\n",
              "      <td>0.026</td>\n",
              "      <td>0.020</td>\n",
              "      <td>-0.015</td>\n",
              "      <td>-0.029</td>\n",
              "      <td>0.013</td>\n",
              "      <td>0.017</td>\n",
              "      <td>0.508</td>\n",
              "    </tr>\n",
              "    <tr>\n",
              "      <th>13</th>\n",
              "      <td>0.007</td>\n",
              "      <td>0.015</td>\n",
              "      <td>0.002</td>\n",
              "      <td>0.008</td>\n",
              "      <td>0.011</td>\n",
              "      <td>-0.004</td>\n",
              "      <td>-0.014</td>\n",
              "      <td>-0.010</td>\n",
              "      <td>0.001</td>\n",
              "      <td>-0.027</td>\n",
              "      <td>0.002</td>\n",
              "      <td>-0.009</td>\n",
              "      <td>-0.006</td>\n",
              "      <td>1.000</td>\n",
              "      <td>-0.002</td>\n",
              "      <td>0.016</td>\n",
              "      <td>-0.003</td>\n",
              "      <td>-0.018</td>\n",
              "      <td>0.011</td>\n",
              "      <td>0.007</td>\n",
              "      <td>0.080</td>\n",
              "    </tr>\n",
              "    <tr>\n",
              "      <th>14</th>\n",
              "      <td>-0.003</td>\n",
              "      <td>-0.002</td>\n",
              "      <td>-0.012</td>\n",
              "      <td>0.012</td>\n",
              "      <td>0.006</td>\n",
              "      <td>0.004</td>\n",
              "      <td>-0.008</td>\n",
              "      <td>-0.012</td>\n",
              "      <td>-0.012</td>\n",
              "      <td>0.002</td>\n",
              "      <td>-0.004</td>\n",
              "      <td>0.008</td>\n",
              "      <td>0.026</td>\n",
              "      <td>-0.002</td>\n",
              "      <td>1.000</td>\n",
              "      <td>-0.010</td>\n",
              "      <td>0.001</td>\n",
              "      <td>-0.004</td>\n",
              "      <td>0.003</td>\n",
              "      <td>0.022</td>\n",
              "      <td>0.353</td>\n",
              "    </tr>\n",
              "    <tr>\n",
              "      <th>15</th>\n",
              "      <td>0.007</td>\n",
              "      <td>0.004</td>\n",
              "      <td>-0.018</td>\n",
              "      <td>0.029</td>\n",
              "      <td>0.000</td>\n",
              "      <td>-0.016</td>\n",
              "      <td>0.000</td>\n",
              "      <td>-0.004</td>\n",
              "      <td>0.001</td>\n",
              "      <td>0.016</td>\n",
              "      <td>-0.020</td>\n",
              "      <td>0.019</td>\n",
              "      <td>0.020</td>\n",
              "      <td>0.016</td>\n",
              "      <td>-0.010</td>\n",
              "      <td>1.000</td>\n",
              "      <td>-0.008</td>\n",
              "      <td>-0.009</td>\n",
              "      <td>0.003</td>\n",
              "      <td>0.014</td>\n",
              "      <td>0.343</td>\n",
              "    </tr>\n",
              "    <tr>\n",
              "      <th>16</th>\n",
              "      <td>-0.030</td>\n",
              "      <td>-0.015</td>\n",
              "      <td>-0.019</td>\n",
              "      <td>-0.011</td>\n",
              "      <td>-0.008</td>\n",
              "      <td>0.011</td>\n",
              "      <td>-0.001</td>\n",
              "      <td>-0.008</td>\n",
              "      <td>0.004</td>\n",
              "      <td>-0.022</td>\n",
              "      <td>0.009</td>\n",
              "      <td>0.003</td>\n",
              "      <td>-0.015</td>\n",
              "      <td>-0.003</td>\n",
              "      <td>0.001</td>\n",
              "      <td>-0.008</td>\n",
              "      <td>1.000</td>\n",
              "      <td>0.002</td>\n",
              "      <td>0.002</td>\n",
              "      <td>0.011</td>\n",
              "      <td>-0.024</td>\n",
              "    </tr>\n",
              "    <tr>\n",
              "      <th>17</th>\n",
              "      <td>-0.002</td>\n",
              "      <td>-0.016</td>\n",
              "      <td>-0.006</td>\n",
              "      <td>0.008</td>\n",
              "      <td>0.019</td>\n",
              "      <td>0.000</td>\n",
              "      <td>-0.006</td>\n",
              "      <td>0.005</td>\n",
              "      <td>-0.008</td>\n",
              "      <td>-0.001</td>\n",
              "      <td>-0.009</td>\n",
              "      <td>-0.004</td>\n",
              "      <td>-0.029</td>\n",
              "      <td>-0.018</td>\n",
              "      <td>-0.004</td>\n",
              "      <td>-0.009</td>\n",
              "      <td>0.002</td>\n",
              "      <td>1.000</td>\n",
              "      <td>0.002</td>\n",
              "      <td>-0.015</td>\n",
              "      <td>-0.032</td>\n",
              "    </tr>\n",
              "    <tr>\n",
              "      <th>18</th>\n",
              "      <td>0.001</td>\n",
              "      <td>0.002</td>\n",
              "      <td>-0.016</td>\n",
              "      <td>-0.008</td>\n",
              "      <td>-0.004</td>\n",
              "      <td>0.005</td>\n",
              "      <td>0.005</td>\n",
              "      <td>-0.004</td>\n",
              "      <td>0.002</td>\n",
              "      <td>-0.011</td>\n",
              "      <td>0.014</td>\n",
              "      <td>0.014</td>\n",
              "      <td>0.013</td>\n",
              "      <td>0.011</td>\n",
              "      <td>0.003</td>\n",
              "      <td>0.003</td>\n",
              "      <td>0.002</td>\n",
              "      <td>0.002</td>\n",
              "      <td>1.000</td>\n",
              "      <td>-0.000</td>\n",
              "      <td>0.023</td>\n",
              "    </tr>\n",
              "    <tr>\n",
              "      <th>19</th>\n",
              "      <td>0.004</td>\n",
              "      <td>0.003</td>\n",
              "      <td>-0.000</td>\n",
              "      <td>0.005</td>\n",
              "      <td>0.000</td>\n",
              "      <td>-0.002</td>\n",
              "      <td>0.008</td>\n",
              "      <td>-0.006</td>\n",
              "      <td>-0.012</td>\n",
              "      <td>-0.006</td>\n",
              "      <td>-0.000</td>\n",
              "      <td>0.022</td>\n",
              "      <td>0.017</td>\n",
              "      <td>0.007</td>\n",
              "      <td>0.022</td>\n",
              "      <td>0.014</td>\n",
              "      <td>0.011</td>\n",
              "      <td>-0.015</td>\n",
              "      <td>-0.000</td>\n",
              "      <td>1.000</td>\n",
              "      <td>0.023</td>\n",
              "    </tr>\n",
              "    <tr>\n",
              "      <th>0</th>\n",
              "      <td>0.023</td>\n",
              "      <td>0.326</td>\n",
              "      <td>0.423</td>\n",
              "      <td>0.031</td>\n",
              "      <td>0.025</td>\n",
              "      <td>-0.026</td>\n",
              "      <td>0.270</td>\n",
              "      <td>-0.023</td>\n",
              "      <td>-0.024</td>\n",
              "      <td>0.192</td>\n",
              "      <td>0.325</td>\n",
              "      <td>0.025</td>\n",
              "      <td>0.508</td>\n",
              "      <td>0.080</td>\n",
              "      <td>0.353</td>\n",
              "      <td>0.343</td>\n",
              "      <td>-0.024</td>\n",
              "      <td>-0.032</td>\n",
              "      <td>0.023</td>\n",
              "      <td>0.023</td>\n",
              "      <td>1.000</td>\n",
              "    </tr>\n",
              "  </tbody>\n",
              "</table>\n",
              "</div>"
            ],
            "text/plain": [
              "       0      1      2      3      4   ...     16     17     18     19     0 \n",
              "0   1.000  0.018  0.020  0.015  0.009  ... -0.030 -0.002  0.001  0.004  0.023\n",
              "1   0.018  1.000  0.009 -0.003  0.016  ... -0.015 -0.016  0.002  0.003  0.326\n",
              "2   0.020  0.009  1.000  0.017  0.013  ... -0.019 -0.006 -0.016 -0.000  0.423\n",
              "3   0.015 -0.003  0.017  1.000  0.005  ... -0.011  0.008 -0.008  0.005  0.031\n",
              "4   0.009  0.016  0.013  0.005  1.000  ... -0.008  0.019 -0.004  0.000  0.025\n",
              "5   0.002 -0.006 -0.008 -0.001  0.003  ...  0.011  0.000  0.005 -0.002 -0.026\n",
              "6  -0.004 -0.007  0.004  0.019 -0.009  ... -0.001 -0.006  0.005  0.008  0.270\n",
              "7  -0.006 -0.015  0.004  0.008 -0.001  ... -0.008  0.005 -0.004 -0.006 -0.023\n",
              "8  -0.011 -0.010 -0.004 -0.000  0.004  ...  0.004 -0.008  0.002 -0.012 -0.024\n",
              "9   0.018 -0.012 -0.001 -0.000 -0.009  ... -0.022 -0.001 -0.011 -0.006  0.192\n",
              "10 -0.004  0.008 -0.007 -0.005  0.004  ...  0.009 -0.009  0.014 -0.000  0.325\n",
              "11  0.001  0.003  0.026  0.005 -0.003  ...  0.003 -0.004  0.014  0.022  0.025\n",
              "12  0.011  0.009  0.010  0.013  0.029  ... -0.015 -0.029  0.013  0.017  0.508\n",
              "13  0.007  0.015  0.002  0.008  0.011  ... -0.003 -0.018  0.011  0.007  0.080\n",
              "14 -0.003 -0.002 -0.012  0.012  0.006  ...  0.001 -0.004  0.003  0.022  0.353\n",
              "15  0.007  0.004 -0.018  0.029  0.000  ... -0.008 -0.009  0.003  0.014  0.343\n",
              "16 -0.030 -0.015 -0.019 -0.011 -0.008  ...  1.000  0.002  0.002  0.011 -0.024\n",
              "17 -0.002 -0.016 -0.006  0.008  0.019  ...  0.002  1.000  0.002 -0.015 -0.032\n",
              "18  0.001  0.002 -0.016 -0.008 -0.004  ...  0.002  0.002  1.000 -0.000  0.023\n",
              "19  0.004  0.003 -0.000  0.005  0.000  ...  0.011 -0.015 -0.000  1.000  0.023\n",
              "0   0.023  0.326  0.423  0.031  0.025  ... -0.024 -0.032  0.023  0.023  1.000\n",
              "\n",
              "[21 rows x 21 columns]"
            ]
          },
          "metadata": {},
          "execution_count": 16
        }
      ]
    },
    {
      "cell_type": "code",
      "metadata": {
        "id": "spjnlqq2fiWq"
      },
      "source": [
        ""
      ],
      "id": "spjnlqq2fiWq",
      "execution_count": null,
      "outputs": []
    }
  ]
}