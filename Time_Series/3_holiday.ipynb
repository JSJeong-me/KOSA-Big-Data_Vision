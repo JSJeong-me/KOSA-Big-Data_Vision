{
  "nbformat": 4,
  "nbformat_minor": 0,
  "metadata": {
    "celltoolbar": "Edit Metadata",
    "kernelspec": {
      "display_name": "Python 3",
      "language": "python",
      "name": "python3"
    },
    "language_info": {
      "codemirror_mode": {
        "name": "ipython",
        "version": 3
      },
      "file_extension": ".py",
      "mimetype": "text/x-python",
      "name": "python",
      "nbconvert_exporter": "python",
      "pygments_lexer": "ipython3",
      "version": "3.7.6"
    },
    "colab": {
      "name": "3_holiday.ipynb",
      "provenance": [],
      "include_colab_link": true
    }
  },
  "cells": [
    {
      "cell_type": "markdown",
      "metadata": {
        "id": "view-in-github",
        "colab_type": "text"
      },
      "source": [
        "<a href=\"https://colab.research.google.com/github/JSJeong-me/KOSA-Big-Data_Vision/blob/main/Time_Series/3_holiday.ipynb\" target=\"_parent\"><img src=\"https://colab.research.google.com/assets/colab-badge.svg\" alt=\"Open In Colab\"/></a>"
      ]
    },
    {
      "cell_type": "code",
      "metadata": {
        "block_hidden": true,
        "id": "JMSRUaAaGoc_"
      },
      "source": [
        "%load_ext rpy2.ipython\n",
        "%matplotlib inline\n",
        "from fbprophet import Prophet\n",
        "import pandas as pd\n",
        "from matplotlib import pyplot as plt\n",
        "import logging\n",
        "logging.getLogger('fbprophet').setLevel(logging.ERROR)\n",
        "import warnings\n",
        "warnings.filterwarnings(\"ignore\")"
      ],
      "execution_count": null,
      "outputs": []
    },
    {
      "cell_type": "code",
      "metadata": {
        "block_hidden": true,
        "id": "Ah-ueKkpGodC"
      },
      "source": [
        "df = pd.read_excel('Total(marriot).xlsx', index_col='TS', parse_dates=True, dtype={'Value':float})\n",
        "df.drop(['Unnamed: 0','Unnamed: 0.1', 'Time', 'Max Value','Date'], axis=1, inplace=True)\n",
        "df.rename(columns={'TS':'ds','Value':'y'},inplace=True)"
      ],
      "execution_count": null,
      "outputs": []
    },
    {
      "cell_type": "code",
      "metadata": {
        "block_hidden": true,
        "id": "06oQqf-OGodD"
      },
      "source": [
        "df_day=df.resample(rule='D').mean()\n",
        "df_day=df_day.reset_index()\n",
        "df_day.columns\n",
        "df_day.rename(columns={'TS':'ds','Value':'y'},inplace=True)"
      ],
      "execution_count": null,
      "outputs": []
    },
    {
      "cell_type": "code",
      "metadata": {
        "block_hidden": true,
        "id": "u3hbo8X2GodD"
      },
      "source": [
        "m = Prophet()\n",
        "m.fit(df_day)\n",
        "future = m.make_future_dataframe(periods=7) #366"
      ],
      "execution_count": null,
      "outputs": []
    },
    {
      "cell_type": "code",
      "metadata": {
        "id": "50ITYhwoHFRl"
      },
      "source": [
        "df_day.tail(3)"
      ],
      "execution_count": null,
      "outputs": []
    },
    {
      "cell_type": "code",
      "metadata": {
        "block_hidden": true,
        "id": "mHDT4icqGodE"
      },
      "source": [
        "future"
      ],
      "execution_count": null,
      "outputs": []
    },
    {
      "cell_type": "markdown",
      "metadata": {
        "id": "PRrPLnJdGodE"
      },
      "source": [
        "### Modeling Holidays and Special Events\n",
        "If you have holidays or other recurring events that you'd like to model, you must create a dataframe for them. It has two columns (`holiday` and `ds`) and a row for each occurrence of the holiday. It must include all occurrences of the holiday, both in the past (back as far as the historical data go) and in the future (out as far as the forecast is being made). If they won't repeat in the future, Prophet will model them and then not include them in the forecast.\n",
        "\n",
        "You can also include columns `lower_window` and `upper_window` which extend the holiday out to `[lower_window, upper_window]` days around the date. For instance, if you wanted to include Christmas Eve in addition to Christmas you'd include `lower_window=-1,upper_window=0`. If you wanted to use Black Friday in addition to Thanksgiving, you'd include `lower_window=0,upper_window=1`. You can also include a column `prior_scale` to set the prior scale separately for each holiday, as described below.\n",
        "\n",
        "Here we create a dataframe that includes the dates of all of Peyton Manning's playoff appearances:"
      ]
    },
    {
      "cell_type": "code",
      "metadata": {
        "output_hidden": true,
        "id": "ksblKUxnGodF"
      },
      "source": [
        ""
      ],
      "execution_count": null,
      "outputs": []
    },
    {
      "cell_type": "code",
      "metadata": {
        "id": "GdA4Y4uoGodF"
      },
      "source": [
        "playoffs = pd.DataFrame({\n",
        "  'holiday': 'playoff',\n",
        "  'ds': pd.to_datetime(['2019-02-15','2019-02-03','2019-02-04', '2019-02-05', '2020-01-24']),\n",
        "  'lower_window': 0,\n",
        "  'upper_window': 1,\n",
        "})\n",
        "superbowls = pd.DataFrame({\n",
        "  'holiday': 'superbowl',\n",
        "  'ds': pd.to_datetime(['2018-09-24', '2019-09-11', '2019-09-12', '2019-09-13', '2020-10-01']),\n",
        "  'lower_window': 0,\n",
        "  'upper_window': 1,\n",
        "})\n",
        "holidays = pd.concat((playoffs, superbowls))"
      ],
      "execution_count": null,
      "outputs": []
    },
    {
      "cell_type": "markdown",
      "metadata": {
        "id": "WF9K06XDGodG"
      },
      "source": [
        "Above we have included the superbowl days as both playoff games and superbowl games. This means that the superbowl effect will be an additional additive bonus on top of the playoff effect.\n",
        "\n",
        "Once the table is created, holiday effects are included in the forecast by passing them in with the `holidays` argument. Here we do it with the Peyton Manning data from the [Quickstart](https://facebook.github.io/prophet/docs/quick_start.html):"
      ]
    },
    {
      "cell_type": "code",
      "metadata": {
        "output_hidden": true,
        "id": "Ik5xudhiGodG"
      },
      "source": [
        ""
      ],
      "execution_count": null,
      "outputs": []
    },
    {
      "cell_type": "code",
      "metadata": {
        "id": "ZCLNIrJvGodH"
      },
      "source": [
        "m = Prophet(holidays=holidays)\n",
        "m.add_country_holidays(country_name='KR')\n",
        "forecast = m.fit(df_day).predict(future)"
      ],
      "execution_count": null,
      "outputs": []
    },
    {
      "cell_type": "markdown",
      "metadata": {
        "id": "ALMfw4kZGodH"
      },
      "source": [
        "The holiday effect can be seen in the `forecast` dataframe:"
      ]
    },
    {
      "cell_type": "code",
      "metadata": {
        "output_hidden": true,
        "id": "J-RSpYKGGodH"
      },
      "source": [
        ""
      ],
      "execution_count": null,
      "outputs": []
    },
    {
      "cell_type": "code",
      "metadata": {
        "id": "WBtM5rknGodH"
      },
      "source": [
        "forecast[(forecast['playoff'] + forecast['superbowl']).abs() > 0][\n",
        "        ['ds', 'playoff', 'superbowl']][-10:]"
      ],
      "execution_count": null,
      "outputs": []
    },
    {
      "cell_type": "markdown",
      "metadata": {
        "id": "dyIfwwZWGodI"
      },
      "source": [
        "The holiday effects will also show up in the components plot, where we see that there is a spike on the days around playoff appearances, with an especially large spike for the superbowl:"
      ]
    },
    {
      "cell_type": "code",
      "metadata": {
        "output_hidden": true,
        "id": "Y0NenVDQGodI"
      },
      "source": [
        "fig1=m.plot(forecast)"
      ],
      "execution_count": null,
      "outputs": []
    },
    {
      "cell_type": "code",
      "metadata": {
        "id": "GUJtt73NGodI"
      },
      "source": [
        "fig = m.plot_components(forecast)"
      ],
      "execution_count": null,
      "outputs": []
    },
    {
      "cell_type": "code",
      "metadata": {
        "id": "gATl5teZGodJ"
      },
      "source": [
        "import matplotlib.pyplot as plt\n",
        "from sklearn.metrics import mean_squared_error\n",
        "import numpy as np\n",
        "%matplotlib inline"
      ],
      "execution_count": null,
      "outputs": []
    },
    {
      "cell_type": "code",
      "metadata": {
        "id": "0ErOCTMPGodJ"
      },
      "source": [
        "df_day['yhat_holiday'] = forecast['yhat']\n",
        "rmse = np.sqrt(mean_squared_error(df_day['y'], df_day['yhat_holiday']))\n",
        "rmse"
      ],
      "execution_count": null,
      "outputs": []
    },
    {
      "cell_type": "markdown",
      "metadata": {
        "id": "hSPyl8keGodK"
      },
      "source": [
        "Individual holidays can be plotted using the `plot_forecast_component` function (imported from `fbprophet.plot` in Python) like `plot_forecast_component(m, forecast, 'superbowl')` to plot just the superbowl holiday component."
      ]
    },
    {
      "cell_type": "markdown",
      "metadata": {
        "id": "t7v7IvlOGodK"
      },
      "source": [
        "### Built-in Country Holidays\n",
        "\n",
        "You can use a built-in collection of country-specific holidays using the `add_country_holidays` method (Python) or function (R). The name of the country is specified, and then major holidays for that country will be included in addition to any holidays that are specified via the `holidays` argument described above:"
      ]
    },
    {
      "cell_type": "code",
      "metadata": {
        "output_hidden": true,
        "id": "y5vjMEysGodK"
      },
      "source": [
        ""
      ],
      "execution_count": null,
      "outputs": []
    },
    {
      "cell_type": "code",
      "metadata": {
        "output_hidden": true,
        "id": "B6q_B0KhGodK"
      },
      "source": [
        "\"\"\"\n",
        "m = Prophet(holidays=holidays)\n",
        "m.add_country_holidays(country_name='US')\n",
        "m.fit(df)\n",
        "\"\"\""
      ],
      "execution_count": null,
      "outputs": []
    },
    {
      "cell_type": "markdown",
      "metadata": {
        "id": "R8DIu6s5GodL"
      },
      "source": [
        "You can see which holidays were included by looking at the `train_holiday_names` (Python) or `train.holiday.names` (R) attribute of the model:"
      ]
    },
    {
      "cell_type": "code",
      "metadata": {
        "id": "PGb5ns8OGodL"
      },
      "source": [
        ""
      ],
      "execution_count": null,
      "outputs": []
    },
    {
      "cell_type": "code",
      "metadata": {
        "id": "DckCIdQlGodL"
      },
      "source": [
        "\"\"\"m.train_holiday_names\n",
        "\"\"\""
      ],
      "execution_count": null,
      "outputs": []
    },
    {
      "cell_type": "markdown",
      "metadata": {
        "id": "LWPFtbyaGodL"
      },
      "source": [
        "The holidays for each country are provided by the `holidays` package in Python. A list of available countries, and the country name to use, is available on their page: https://github.com/dr-prodigy/python-holidays. In addition to those countries, Prophet includes holidays for these countries: Brazil (BR), Indonesia (ID), India (IN), Malaysia (MY), Vietnam (VN), Thailand (TH), Philippines (PH), Turkey (TU), Pakistan (PK), Bangladesh (BD), Egypt (EG), China (CN), and Russian (RU).\n",
        "\n",
        "In Python, most holidays are computed deterministically and so are available for any date range; a warning will be raised if dates fall outside the range supported by that country. In R, holiday dates are computed for 1995 through 2044 and stored in the package as `data-raw/generated_holidays.csv`. If a wider date range is needed, this script can be used to replace that file with a different date range: https://github.com/facebook/prophet/blob/master/python/scripts/generate_holidays_file.py.\n",
        "\n",
        "As above, the country-level holidays will then show up in the components plot:"
      ]
    },
    {
      "cell_type": "code",
      "metadata": {
        "output_hidden": true,
        "id": "wemlpL7QGodM"
      },
      "source": [
        ""
      ],
      "execution_count": null,
      "outputs": []
    },
    {
      "cell_type": "code",
      "metadata": {
        "id": "MZsJMUxXGodM"
      },
      "source": [
        "\"\"\"\n",
        "forecast = m.predict(future)\n",
        "fig = m.plot_components(forecast)\n",
        "\"\"\""
      ],
      "execution_count": null,
      "outputs": []
    },
    {
      "cell_type": "markdown",
      "metadata": {
        "id": "SVqgdw9RGodN"
      },
      "source": [
        "### Fourier Order for Seasonalities\n",
        "\n",
        "Seasonalities are estimated using a partial Fourier sum. See [the paper](https://peerj.com/preprints/3190/) for complete details, and [this figure on Wikipedia](https://en.wikipedia.org/wiki/Fourier_series#/media/File:Fourier_Series.svg) for an illustration of how a partial Fourier sum can approximate an aribtrary periodic signal. The number of terms in the partial sum (the order) is a parameter that determines how quickly the seasonality can change. To illustrate this, consider the Peyton Manning data from the [Quickstart](https://facebook.github.io/prophet/docs/quick_start.html). The default Fourier order for yearly seasonality is 10, which produces this fit:"
      ]
    },
    {
      "cell_type": "code",
      "metadata": {
        "output_hidden": true,
        "id": "ywWOegyRGodN"
      },
      "source": [
        ""
      ],
      "execution_count": null,
      "outputs": []
    },
    {
      "cell_type": "code",
      "metadata": {
        "id": "4qpwpObUGodN"
      },
      "source": [
        "from fbprophet.plot import plot_yearly"
      ],
      "execution_count": null,
      "outputs": []
    },
    {
      "cell_type": "code",
      "metadata": {
        "id": "l8hdnYWWGodO"
      },
      "source": [
        "m = Prophet(yearly_seasonality=5).fit(df_day)"
      ],
      "execution_count": null,
      "outputs": []
    },
    {
      "cell_type": "code",
      "metadata": {
        "id": "wUdxjj4yGodO"
      },
      "source": [
        "a = plot_yearly(m)"
      ],
      "execution_count": null,
      "outputs": []
    },
    {
      "cell_type": "markdown",
      "metadata": {
        "id": "ctPmsT3gGodO"
      },
      "source": [
        "The default values are often appropriate, but they can be increased when the seasonality needs to fit higher-frequency changes, and generally be less smooth. The Fourier order can be specified for each built-in seasonality when instantiating the model, here it is increased to 20:"
      ]
    },
    {
      "cell_type": "code",
      "metadata": {
        "output_hidden": true,
        "id": "9ITdLrDWGodP"
      },
      "source": [
        "\"\"\"\n",
        "%%R -w 9 -h 3 -u in\n",
        "m <- prophet(df, yearly.seasonality = 20)\n",
        "prophet:::plot_yearly(m)\n",
        "\"\"\""
      ],
      "execution_count": null,
      "outputs": []
    },
    {
      "cell_type": "code",
      "metadata": {
        "id": "Nlcg95axGodP"
      },
      "source": [
        "from fbprophet.plot import plot_yearly\n",
        "m = Prophet(yearly_seasonality=20).fit(df_day)\n",
        "a = plot_yearly(m)"
      ],
      "execution_count": null,
      "outputs": []
    },
    {
      "cell_type": "markdown",
      "metadata": {
        "id": "sL-qdNssGodP"
      },
      "source": [
        "Increasing the number of Fourier terms allows the seasonality to fit faster changing cycles, but can also lead to overfitting: N Fourier terms corresponds to 2N variables used for modeling the cycle\n",
        "\n",
        "### Specifying Custom Seasonalities\n",
        "\n",
        "Prophet will by default fit weekly and yearly seasonalities, if the time series is more than two cycles long. It will also fit daily seasonality for a sub-daily time series. You can add other seasonalities (monthly, quarterly, hourly) using the `add_seasonality` method (Python) or function (R).\n",
        "\n",
        "The inputs to this function are a name, the period of the seasonality in days, and the Fourier order for the seasonality. For reference, by default Prophet uses a Fourier order of 3 for weekly seasonality and 10 for yearly seasonality. An optional input to `add_seasonality` is the prior scale for that seasonal component - this is discussed below.\n",
        "\n",
        "As an example, here we fit the Peyton Manning data from the [Quickstart](https://facebook.github.io/prophet/docs/quick_start.html), but replace the weekly seasonality with monthly seasonality. The monthly seasonality then will appear in the components plot:"
      ]
    },
    {
      "cell_type": "code",
      "metadata": {
        "output_hidden": true,
        "id": "JrgUw7iCGodQ"
      },
      "source": [
        "\"\"\"\n",
        "%%R -w 9 -h 9 -u in\n",
        "m <- prophet(weekly.seasonality=FALSE)\n",
        "m <- add_seasonality(m, name='monthly', period=30.5, fourier.order=5)\n",
        "m <- fit.prophet(m, df)\n",
        "forecast <- predict(m, future)\n",
        "prophet_plot_components(m, forecast)\n",
        "\"\"\""
      ],
      "execution_count": null,
      "outputs": []
    },
    {
      "cell_type": "code",
      "metadata": {
        "id": "Dq_9uhd9GodR"
      },
      "source": [
        "m = Prophet(weekly_seasonality=False)\n",
        "m.add_seasonality(name='monthly', period=30.5, fourier_order=5)\n",
        "forecast = m.fit(df_day).predict(future)\n",
        "fig = m.plot_components(forecast)"
      ],
      "execution_count": null,
      "outputs": []
    },
    {
      "cell_type": "markdown",
      "metadata": {
        "id": "gBLbvAWKGodR"
      },
      "source": [
        "### Seasonalities that depend on other factors\n",
        "In some instances the seasonality may depend on other factors, such as a weekly seasonal pattern that is different during the summer than it is during the rest of the year, or a daily seasonal pattern that is different on weekends vs. on weekdays. These types of seasonalities can be modeled using conditional seasonalities.\n",
        "\n",
        "Consider the Peyton Manning example from the [Quickstart](https://facebook.github.io/prophet/docs/quick_start.html). The default weekly seasonality assumes that the pattern of weekly seasonality is the same throughout the year, but we'd expect the pattern of weekly seasonality to be different during the on-season (when there are games every Sunday) and the off-season. We can use conditional seasonalities to construct separate on-season and off-season weekly seasonalities.\n",
        "\n",
        "First we add a boolean column to the dataframe that indicates whether each date is during the on-season or the off-season:"
      ]
    },
    {
      "cell_type": "code",
      "metadata": {
        "id": "jHrFzL8iGodR"
      },
      "source": [
        "%%R\n",
        "is_nfl_season <- function(ds) {\n",
        "  dates <- as.Date(ds)\n",
        "  month <- as.numeric(format(dates, '%m'))\n",
        "  return(month > 8 | month < 2)\n",
        "}\n",
        "df$on_season <- is_nfl_season(df$ds)\n",
        "df$off_season <- !is_nfl_season(df$ds)"
      ],
      "execution_count": null,
      "outputs": []
    },
    {
      "cell_type": "code",
      "metadata": {
        "id": "XIYSRzirGodS"
      },
      "source": [
        "def is_nfl_season(ds):\n",
        "    date = pd.to_datetime(ds)\n",
        "    return (date.month > 8 or date.month < 2)\n",
        "\n",
        "df['on_season'] = df['ds'].apply(is_nfl_season)\n",
        "df['off_season'] = ~df['ds'].apply(is_nfl_season)"
      ],
      "execution_count": null,
      "outputs": []
    },
    {
      "cell_type": "markdown",
      "metadata": {
        "id": "f0sPPFFqGodS"
      },
      "source": [
        "Then we disable the built-in weekly seasonality, and replace it with two weekly seasonalities that have these columns specified as a condition. This means that the seasonality will only be applied to dates where the `condition_name` column is `True`. We must also add the column to the `future` dataframe for which we are making predictions."
      ]
    },
    {
      "cell_type": "code",
      "metadata": {
        "output_hidden": true,
        "id": "RrnW9EhoGodS"
      },
      "source": [
        "%%R -w 9 -h 12 -u in\n",
        "m <- prophet(weekly.seasonality=FALSE)\n",
        "m <- add_seasonality(m, name='weekly_on_season', period=7, fourier.order=3, condition.name='on_season')\n",
        "m <- add_seasonality(m, name='weekly_off_season', period=7, fourier.order=3, condition.name='off_season')\n",
        "m <- fit.prophet(m, df)\n",
        "\n",
        "future$on_season <- is_nfl_season(future$ds)\n",
        "future$off_season <- !is_nfl_season(future$ds)\n",
        "forecast <- predict(m, future)\n",
        "prophet_plot_components(m, forecast)"
      ],
      "execution_count": null,
      "outputs": []
    },
    {
      "cell_type": "code",
      "metadata": {
        "id": "t2a9PoeoGodT"
      },
      "source": [
        "m = Prophet(weekly_seasonality=False)\n",
        "m.add_seasonality(name='weekly_on_season', period=7, fourier_order=3, condition_name='on_season')\n",
        "m.add_seasonality(name='weekly_off_season', period=7, fourier_order=3, condition_name='off_season')\n",
        "\n",
        "future['on_season'] = future['ds'].apply(is_nfl_season)\n",
        "future['off_season'] = ~future['ds'].apply(is_nfl_season)\n",
        "forecast = m.fit(df).predict(future)\n",
        "fig = m.plot_components(forecast)"
      ],
      "execution_count": null,
      "outputs": []
    },
    {
      "cell_type": "markdown",
      "metadata": {
        "id": "WDwjk_HQGodT"
      },
      "source": [
        "Both of the seasonalities now show up in the components plots above. We can see that during the on-season when games are played every Sunday, there are large increases on Sunday and Monday that are completely absent during the off-season."
      ]
    },
    {
      "cell_type": "markdown",
      "metadata": {
        "id": "d6pxiYCBGodT"
      },
      "source": [
        "### Prior scale for holidays and seasonality\n",
        "If you find that the holidays are overfitting, you can adjust their prior scale to smooth them using the parameter `holidays_prior_scale`. By default this parameter is 10, which provides very little regularization. Reducing this parameter dampens holiday effects:"
      ]
    },
    {
      "cell_type": "code",
      "metadata": {
        "output_hidden": true,
        "id": "cwQvIRf0GodT"
      },
      "source": [
        "%%R\n",
        "m <- prophet(df, holidays = holidays, holidays.prior.scale = 0.05)\n",
        "forecast <- predict(m, future)\n",
        "forecast %>% \n",
        "  select(ds, playoff, superbowl) %>% \n",
        "  filter(abs(playoff + superbowl) > 0) %>%\n",
        "  tail(10)"
      ],
      "execution_count": null,
      "outputs": []
    },
    {
      "cell_type": "code",
      "metadata": {
        "id": "KVADOIKeGodT"
      },
      "source": [
        "m = Prophet(holidays=holidays, holidays_prior_scale=0.05).fit(df)\n",
        "forecast = m.predict(future)\n",
        "forecast[(forecast['playoff'] + forecast['superbowl']).abs() > 0][\n",
        "    ['ds', 'playoff', 'superbowl']][-10:]"
      ],
      "execution_count": null,
      "outputs": []
    },
    {
      "cell_type": "markdown",
      "metadata": {
        "id": "jgv0vR6AGodU"
      },
      "source": [
        "The magnitude of the holiday effect has been reduced compared to before, especially for superbowls, which had the fewest observations. There is a parameter `seasonality_prior_scale` which similarly adjusts the extent to which the seasonality model will fit the data.\n",
        "\n",
        "Prior scales can be set separately for individual holidays by including a column `prior_scale` in the holidays dataframe. Prior scales for individual seasonalities can be passed as an argument to `add_seasonality`. For instance, the prior scale for just weekly seasonality can be set using:"
      ]
    },
    {
      "cell_type": "code",
      "metadata": {
        "id": "zX8J97nrGodU"
      },
      "source": [
        "%%R\n",
        "m <- prophet()\n",
        "m <- add_seasonality(\n",
        "  m, name='weekly', period=7, fourier.order=3, prior.scale=0.1)"
      ],
      "execution_count": null,
      "outputs": []
    },
    {
      "cell_type": "code",
      "metadata": {
        "output_hidden": true,
        "id": "4H5SOdDhGodU"
      },
      "source": [
        "m = Prophet()\n",
        "m.add_seasonality(\n",
        "    name='weekly', period=7, fourier_order=3, prior_scale=0.1)"
      ],
      "execution_count": null,
      "outputs": []
    },
    {
      "cell_type": "markdown",
      "metadata": {
        "id": "HaB3zqWqGodV"
      },
      "source": [
        "\n",
        "### Additional regressors\n",
        "Additional regressors can be added to the linear part of the model using the `add_regressor` method or function. A column with the regressor value will need to be present in both the fitting and prediction dataframes. For example, we can add an additional effect on Sundays during the NFL season. On the components plot, this effect will show up in the 'extra_regressors' plot:"
      ]
    },
    {
      "cell_type": "code",
      "metadata": {
        "output_hidden": true,
        "id": "s2v21mm-GodV"
      },
      "source": [
        "%%R -w 9 -h 12 -u in\n",
        "nfl_sunday <- function(ds) {\n",
        "  dates <- as.Date(ds)\n",
        "  month <- as.numeric(format(dates, '%m'))\n",
        "  as.numeric((weekdays(dates) == \"Sunday\") & (month > 8 | month < 2))\n",
        "}\n",
        "df$nfl_sunday <- nfl_sunday(df$ds)\n",
        "\n",
        "m <- prophet()\n",
        "m <- add_regressor(m, 'nfl_sunday')\n",
        "m <- fit.prophet(m, df)\n",
        "\n",
        "future$nfl_sunday <- nfl_sunday(future$ds)\n",
        "\n",
        "forecast <- predict(m, future)\n",
        "prophet_plot_components(m, forecast)"
      ],
      "execution_count": null,
      "outputs": []
    },
    {
      "cell_type": "code",
      "metadata": {
        "id": "J5C8986hGodV"
      },
      "source": [
        "def nfl_sunday(ds):\n",
        "    date = pd.to_datetime(ds)\n",
        "    if date.weekday() == 6 and (date.month > 8 or date.month < 2):\n",
        "        return 1\n",
        "    else:\n",
        "        return 0\n",
        "df['nfl_sunday'] = df['ds'].apply(nfl_sunday)\n",
        "\n",
        "m = Prophet()\n",
        "m.add_regressor('nfl_sunday')\n",
        "m.fit(df)\n",
        "\n",
        "future['nfl_sunday'] = future['ds'].apply(nfl_sunday)\n",
        "\n",
        "forecast = m.predict(future)\n",
        "fig = m.plot_components(forecast)"
      ],
      "execution_count": null,
      "outputs": []
    },
    {
      "cell_type": "markdown",
      "metadata": {
        "id": "C9vDcCfAGodW"
      },
      "source": [
        "NFL Sundays could also have been handled using the \"holidays\" interface described above, by creating a list of past and future NFL Sundays. The `add_regressor` function provides a more general interface for defining extra linear regressors, and in particular does not require that the regressor be a binary indicator. Another time series could be used as a regressor, although its future values would have to be known.\n",
        "\n",
        "[This notebook](https://nbviewer.jupyter.org/github/nicolasfauchereau/Auckland_Cycling/blob/master/notebooks/Auckland_cycling_and_weather.ipynb) shows an example of using weather factors as extra regressors in a forecast of bicycle usage, and provides an excellent illustration of how other time series can be included as extra regressors.\n",
        "\n",
        "The `add_regressor` function has optional arguments for specifying the prior scale (holiday prior scale is used by default) and whether or not the regressor is standardized - see the docstring with `help(Prophet.add_regressor)` in Python and `?add_regressor` in R. Note that regressors must be added prior to model fitting.\n",
        "\n",
        "The extra regressor must be known for both the history and for future dates. It thus must either be something that has known future values (such as `nfl_sunday`), or something that has separately been forecasted elsewhere. Prophet will also raise an error if the regressor is constant throughout the history, since there is nothing to fit from it.\n",
        "\n",
        "Extra regressors are put in the linear component of the model, so the underlying model is that the time series depends on the extra regressor as either an additive or multiplicative factor (see the next section for multiplicativity)."
      ]
    }
  ]
}