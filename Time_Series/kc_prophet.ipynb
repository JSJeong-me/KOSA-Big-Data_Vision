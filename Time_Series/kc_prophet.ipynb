{
  "nbformat": 4,
  "nbformat_minor": 0,
  "metadata": {
    "kernelspec": {
      "display_name": "Python 3",
      "language": "python",
      "name": "python3"
    },
    "language_info": {
      "codemirror_mode": {
        "name": "ipython",
        "version": 3
      },
      "file_extension": ".py",
      "mimetype": "text/x-python",
      "name": "python",
      "nbconvert_exporter": "python",
      "pygments_lexer": "ipython3",
      "version": "3.8.3"
    },
    "colab": {
      "name": "kc_prophet.ipynb",
      "provenance": [],
      "include_colab_link": true
    }
  },
  "cells": [
    {
      "cell_type": "markdown",
      "metadata": {
        "id": "view-in-github",
        "colab_type": "text"
      },
      "source": [
        "<a href=\"https://colab.research.google.com/github/JSJeong-me/KOSA-Big-Data_Vision/blob/main/Time_Series/kc_prophet.ipynb\" target=\"_parent\"><img src=\"https://colab.research.google.com/assets/colab-badge.svg\" alt=\"Open In Colab\"/></a>"
      ]
    },
    {
      "cell_type": "code",
      "metadata": {
        "id": "wsTliT-5z7zj"
      },
      "source": [
        "# check prophet version\n",
        "import fbprophet\n",
        "# print version number\n",
        "print('Prophet %s' % fbprophet.__version__)"
      ],
      "execution_count": null,
      "outputs": []
    },
    {
      "cell_type": "code",
      "metadata": {
        "id": "EKiES6u2z7zo"
      },
      "source": [
        "# load the car sales dataset\n",
        "#from pandas import read_csv\n",
        "import pandas as pd\n",
        "# load data\n",
        "\n",
        "\n",
        "df=pd.read_excel('Total_final.xlsx', index_col='TS', parse_dates=True, dtype={'Value':float})"
      ],
      "execution_count": 2,
      "outputs": []
    },
    {
      "cell_type": "code",
      "metadata": {
        "id": "wMM7j7ljz7zr"
      },
      "source": [
        "df.drop(['Unnamed: 0','Unnamed: 0.1', 'Time', 'Max Value','Date'], axis=1, inplace=True)\n",
        "# summarize shape\n",
        "print(df.shape)\n",
        "# show first few rows\n",
        "print(df.head())"
      ],
      "execution_count": null,
      "outputs": []
    },
    {
      "cell_type": "code",
      "metadata": {
        "id": "0hpvEPq3z7zu"
      },
      "source": [
        "print(df.tail())"
      ],
      "execution_count": null,
      "outputs": []
    },
    {
      "cell_type": "code",
      "metadata": {
        "id": "5Gb28_SYz7zw"
      },
      "source": [
        "from matplotlib import pyplot\n",
        "\n",
        "df.plot()\n",
        "pyplot.show()"
      ],
      "execution_count": null,
      "outputs": []
    },
    {
      "cell_type": "code",
      "metadata": {
        "id": "HX6p5Ih9z7zz"
      },
      "source": [
        "df_day=df.resample(rule='1H').sum()\n",
        "df_day=df_day.reset_index()\n",
        "#df_day.columns\n",
        "df_day.rename(columns={'TS':'ds','Value':'y'},inplace=True)"
      ],
      "execution_count": 6,
      "outputs": []
    },
    {
      "cell_type": "code",
      "metadata": {
        "id": "JP88hITTz7z0"
      },
      "source": [
        "df_day.head()"
      ],
      "execution_count": null,
      "outputs": []
    },
    {
      "cell_type": "code",
      "metadata": {
        "id": "QHg0pFDIz7z2"
      },
      "source": [
        "df_day.tail()"
      ],
      "execution_count": null,
      "outputs": []
    },
    {
      "cell_type": "code",
      "metadata": {
        "id": "46B-EppUz7z4"
      },
      "source": [
        "df_day.describe()"
      ],
      "execution_count": null,
      "outputs": []
    },
    {
      "cell_type": "code",
      "metadata": {
        "id": "4g0M-iu5z7z4"
      },
      "source": [
        ""
      ],
      "execution_count": null,
      "outputs": []
    },
    {
      "cell_type": "code",
      "metadata": {
        "id": "5zmRWy_Sz7z5"
      },
      "source": [
        "df_day=df.resample(rule='D').sum()\n",
        "df_day=df_day.reset_index()\n",
        "#df_day.columns\n",
        "df_day.rename(columns={'TS':'ds','Value':'y'},inplace=True)"
      ],
      "execution_count": 8,
      "outputs": []
    },
    {
      "cell_type": "code",
      "metadata": {
        "id": "ImGt6Ldhz7z6"
      },
      "source": [
        "df_day.tail(10)"
      ],
      "execution_count": null,
      "outputs": []
    },
    {
      "cell_type": "code",
      "metadata": {
        "id": "YYfXmketz7z7"
      },
      "source": [
        "from fbprophet import Prophet\n",
        "from pandas import to_datetime"
      ],
      "execution_count": 11,
      "outputs": []
    },
    {
      "cell_type": "code",
      "metadata": {
        "id": "XO8PwVqEz7z7"
      },
      "source": [
        "\n",
        "# prepare expected column names\n",
        "df_day.columns = ['ds', 'y']\n",
        "df_day['ds']= to_datetime(df_day['ds'])\n"
      ],
      "execution_count": 12,
      "outputs": []
    },
    {
      "cell_type": "code",
      "metadata": {
        "id": "HB1VeEtt0ZQR"
      },
      "source": [
        "# define the model\n",
        "model = Prophet()"
      ],
      "execution_count": 13,
      "outputs": []
    },
    {
      "cell_type": "code",
      "metadata": {
        "colab": {
          "base_uri": "https://localhost:8080/"
        },
        "id": "ODT7eIbAz7z8",
        "outputId": "1759d08e-c549-4d8f-c1a3-c5df8374a9d6"
      },
      "source": [
        "# fit the model\n",
        "model.fit(df_day)"
      ],
      "execution_count": 14,
      "outputs": [
        {
          "output_type": "stream",
          "name": "stderr",
          "text": [
            "INFO:fbprophet:Disabling yearly seasonality. Run prophet with yearly_seasonality=True to override this.\n",
            "INFO:fbprophet:Disabling daily seasonality. Run prophet with daily_seasonality=True to override this.\n"
          ]
        },
        {
          "output_type": "execute_result",
          "data": {
            "text/plain": [
              "<fbprophet.forecaster.Prophet at 0x7f9a31977210>"
            ]
          },
          "metadata": {},
          "execution_count": 14
        }
      ]
    },
    {
      "cell_type": "markdown",
      "metadata": {
        "id": "geOzhEG9z7z9"
      },
      "source": [
        "INFO:fbprophet:Disabling weekly seasonality. Run prophet with weekly_seasonality=True to override this.\n",
        "INFO:fbprophet:Disabling daily seasonality. Run prophet with daily_seasonality=True to override this.\n",
        "Initial log joint probability = -4.39613\n",
        "    Iter      log prob        ||dx||      ||grad||       alpha      alpha0  # evals  Notes\n",
        "      99       270.121    0.00413718       75.7289           1           1      120\n",
        "    Iter      log prob        ||dx||      ||grad||       alpha      alpha0  # evals  Notes\n",
        "     179       270.265    0.00019681       84.1622   2.169e-06       0.001      273  LS failed, Hessian reset\n",
        "     199       270.283   1.38947e-05       87.8642      0.3402           1      299\n",
        "    Iter      log prob        ||dx||      ||grad||       alpha      alpha0  # evals  Notes\n",
        "     240       270.296    1.6343e-05       89.9117   1.953e-07       0.001      381  LS failed, Hessian reset\n",
        "     299         270.3   4.73573e-08       74.9719      0.3914           1      455\n",
        "    Iter      log prob        ||dx||      ||grad||       alpha      alpha0  # evals  Notes\n",
        "     300         270.3   8.25604e-09       74.4478      0.3522      0.3522      456\n",
        "Optimization terminated normally:\n",
        "  Convergence detected: absolute parameter change was below tolerance"
      ]
    },
    {
      "cell_type": "code",
      "metadata": {
        "id": "sjWpPNfUz7z_"
      },
      "source": [
        "from pandas import DataFrame\n",
        "\n",
        "future = list()"
      ],
      "execution_count": 15,
      "outputs": []
    },
    {
      "cell_type": "code",
      "metadata": {
        "id": "SCwWkEjez70A"
      },
      "source": [
        "for i in range(1, 7):\n",
        "\tdate = '2020-09-%02d' % i\n",
        "\tfuture.append([date])"
      ],
      "execution_count": 16,
      "outputs": []
    },
    {
      "cell_type": "code",
      "metadata": {
        "id": "DHWW-3D-z70B"
      },
      "source": [
        "future = DataFrame(future)\n",
        "future.columns = ['ds']\n",
        "future['ds']= to_datetime(future['ds'])\n",
        "# use the model to make a forecast\n",
        "forecast = model.predict(future)"
      ],
      "execution_count": 17,
      "outputs": []
    },
    {
      "cell_type": "code",
      "metadata": {
        "id": "-NRu_mVrz70B"
      },
      "source": [
        "# summarize the forecast\n",
        "print(forecast[['ds', 'yhat', 'yhat_lower', 'yhat_upper']].head())\n",
        "# plot forecast\n",
        "model.plot(forecast)\n",
        "pyplot.show()"
      ],
      "execution_count": null,
      "outputs": []
    },
    {
      "cell_type": "code",
      "metadata": {
        "id": "_9p4k4fEz70C"
      },
      "source": [
        ""
      ],
      "execution_count": null,
      "outputs": []
    },
    {
      "cell_type": "code",
      "metadata": {
        "id": "FSt0h3Nqz70D"
      },
      "source": [
        "# evaluate prophet time series forecasting model on hold out dataset\n",
        "from sklearn.metrics import mean_absolute_error\n",
        "\n",
        "train = df_day.drop(df_day.index[-7:])\n",
        "print(train.tail())\n",
        "# define the model\n",
        "model = Prophet()\n",
        "# fit the model\n",
        "model.fit(train)\n",
        "# define the period for which we want a prediction\n",
        "future = list()\n",
        "for i in range(14, 21):\n",
        "\tdate = '2020-09-%02d' % i\n",
        "\tfuture.append([date])\n",
        "future = DataFrame(future)\n",
        "future.columns = ['ds']\n",
        "future['ds'] = to_datetime(future['ds'])\n",
        "# use the model to make a forecast\n",
        "forecast = model.predict(future)\n",
        "# calculate MAE between expected and predicted values for december\n",
        "y_true = df_day['y'][-7:].values\n",
        "y_pred = forecast['yhat'].values\n",
        "mae = mean_absolute_error(y_true, y_pred)\n",
        "print('MAE: %.3f' % mae)\n",
        "# plot expected vs actual\n",
        "pyplot.plot(y_true, label='Actual')\n",
        "pyplot.plot(y_pred, label='Predicted')\n",
        "pyplot.legend()\n",
        "pyplot.show()"
      ],
      "execution_count": null,
      "outputs": []
    },
    {
      "cell_type": "code",
      "metadata": {
        "id": "5yWRdniiz70F"
      },
      "source": [
        "future"
      ],
      "execution_count": null,
      "outputs": []
    },
    {
      "cell_type": "code",
      "metadata": {
        "id": "C3ONhQAsz70F"
      },
      "source": [
        ""
      ],
      "execution_count": null,
      "outputs": []
    },
    {
      "cell_type": "code",
      "metadata": {
        "id": "RJaYcR9Az70F"
      },
      "source": [
        "y_true"
      ],
      "execution_count": null,
      "outputs": []
    },
    {
      "cell_type": "code",
      "metadata": {
        "id": "iV7pNrSqz70G"
      },
      "source": [
        "forecast.yhat"
      ],
      "execution_count": null,
      "outputs": []
    },
    {
      "cell_type": "code",
      "metadata": {
        "id": "jq-NmiLTz70G"
      },
      "source": [
        "forecast"
      ],
      "execution_count": null,
      "outputs": []
    },
    {
      "cell_type": "code",
      "metadata": {
        "id": "7Osvha3Xz70H"
      },
      "source": [
        ""
      ],
      "execution_count": null,
      "outputs": []
    }
  ]
}