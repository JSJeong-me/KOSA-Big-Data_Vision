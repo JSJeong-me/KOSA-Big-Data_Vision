{
  "nbformat": 4,
  "nbformat_minor": 0,
  "metadata": {
    "kernelspec": {
      "display_name": "Python 3",
      "language": "python",
      "name": "python3"
    },
    "language_info": {
      "codemirror_mode": {
        "name": "ipython",
        "version": 3
      },
      "file_extension": ".py",
      "mimetype": "text/x-python",
      "name": "python",
      "nbconvert_exporter": "python",
      "pygments_lexer": "ipython3",
      "version": "3.8.3"
    },
    "colab": {
      "name": "marriots_prophet.ipynb",
      "provenance": [],
      "include_colab_link": true
    }
  },
  "cells": [
    {
      "cell_type": "markdown",
      "metadata": {
        "id": "view-in-github",
        "colab_type": "text"
      },
      "source": [
        "<a href=\"https://colab.research.google.com/github/JSJeong-me/KOSA-Big-Data_Vision/blob/main/Time_Series/marriots_prophet.ipynb\" target=\"_parent\"><img src=\"https://colab.research.google.com/assets/colab-badge.svg\" alt=\"Open In Colab\"/></a>"
      ]
    },
    {
      "cell_type": "code",
      "metadata": {
        "colab": {
          "base_uri": "https://localhost:8080/"
        },
        "id": "PQau03_x1nYY",
        "outputId": "3d6db1b9-76ca-465b-ee69-5f328c5de2e9"
      },
      "source": [
        "# check prophet version\n",
        "import fbprophet\n",
        "# print version number\n",
        "print('Prophet %s' % fbprophet.__version__)"
      ],
      "execution_count": 1,
      "outputs": [
        {
          "output_type": "stream",
          "name": "stdout",
          "text": [
            "Prophet 0.7.1\n"
          ]
        }
      ]
    },
    {
      "cell_type": "code",
      "metadata": {
        "id": "NTOfuY5S1nYc"
      },
      "source": [
        "# load the car sales dataset\n",
        "#from pandas import read_csv\n",
        "import pandas as pd\n",
        "\n",
        "\n",
        "df=pd.read_excel('Total(marriot).xlsx', index_col='TS', parse_dates=True, dtype={'Value':float})\n",
        "df.drop(['Unnamed: 0','Unnamed: 0.1', 'Time', 'Max Value','Date'], axis=1, inplace=True)\n",
        "# summarize shape\n",
        "print(df.shape)\n",
        "# show first few rows\n",
        "print(df.head())"
      ],
      "execution_count": null,
      "outputs": []
    },
    {
      "cell_type": "code",
      "metadata": {
        "id": "-fq1syxU1nYh"
      },
      "source": [
        "print(df.tail())"
      ],
      "execution_count": null,
      "outputs": []
    },
    {
      "cell_type": "code",
      "metadata": {
        "id": "QJfbuZZs1nYj"
      },
      "source": [
        "from matplotlib import pyplot\n",
        "\n",
        "df.plot()\n",
        "pyplot.show()"
      ],
      "execution_count": null,
      "outputs": []
    },
    {
      "cell_type": "code",
      "metadata": {
        "id": "7kxyLojH1nYn"
      },
      "source": [
        "df_day=df.resample(rule='1H').sum()\n",
        "df_day=df_day.reset_index()\n",
        "#df_day.columns\n",
        "df_day.rename(columns={'TS':'ds','Value':'y'},inplace=True)"
      ],
      "execution_count": 4,
      "outputs": []
    },
    {
      "cell_type": "code",
      "metadata": {
        "id": "mdZ8uSQ-1nYr"
      },
      "source": [
        "df_day.head()"
      ],
      "execution_count": null,
      "outputs": []
    },
    {
      "cell_type": "code",
      "metadata": {
        "id": "nPTIOCiP1nYu"
      },
      "source": [
        ""
      ],
      "execution_count": null,
      "outputs": []
    },
    {
      "cell_type": "code",
      "metadata": {
        "id": "gmXesPMy1nYw"
      },
      "source": [
        "df_day.tail()"
      ],
      "execution_count": null,
      "outputs": []
    },
    {
      "cell_type": "code",
      "metadata": {
        "id": "ic2718kU1nYy"
      },
      "source": [
        "df_day.describe()"
      ],
      "execution_count": null,
      "outputs": []
    },
    {
      "cell_type": "code",
      "metadata": {
        "id": "oooVmq3D1nYz"
      },
      "source": [
        ""
      ],
      "execution_count": null,
      "outputs": []
    },
    {
      "cell_type": "code",
      "metadata": {
        "id": "a8w480Mg1nY0"
      },
      "source": [
        "df_day=df.resample(rule='D').sum()"
      ],
      "execution_count": 6,
      "outputs": []
    },
    {
      "cell_type": "code",
      "metadata": {
        "id": "nGxHtrJK1nY1"
      },
      "source": [
        "df_day=df_day.reset_index()\n",
        "#df_day.columns\n",
        "df_day.rename(columns={'TS':'ds','Value':'y'},inplace=True)"
      ],
      "execution_count": 7,
      "outputs": []
    },
    {
      "cell_type": "code",
      "metadata": {
        "id": "KoXsa0nb1nY2"
      },
      "source": [
        "df_day.tail()"
      ],
      "execution_count": null,
      "outputs": []
    },
    {
      "cell_type": "code",
      "metadata": {
        "id": "Ntik4X6t1nY5"
      },
      "source": [
        "from fbprophet import Prophet\n",
        "from pandas import to_datetime\n"
      ],
      "execution_count": 8,
      "outputs": []
    },
    {
      "cell_type": "code",
      "metadata": {
        "id": "Z9WoBMAg1nY6"
      },
      "source": [
        "# prepare expected column names\n",
        "df_day.columns = ['ds', 'y']\n",
        "df_day['ds']= to_datetime(df_day['ds'])\n"
      ],
      "execution_count": 9,
      "outputs": []
    },
    {
      "cell_type": "code",
      "metadata": {
        "id": "Z42hwvNI2RXI"
      },
      "source": [
        "# define the model\n",
        "model = Prophet()"
      ],
      "execution_count": null,
      "outputs": []
    },
    {
      "cell_type": "code",
      "metadata": {
        "id": "Dr5ZE_oC1nY7"
      },
      "source": [
        "# fit the model\n",
        "model.fit(df_day)"
      ],
      "execution_count": null,
      "outputs": []
    },
    {
      "cell_type": "markdown",
      "metadata": {
        "id": "xDiZfu4s1nY8"
      },
      "source": [
        "INFO:fbprophet:Disabling weekly seasonality. Run prophet with weekly_seasonality=True to override this.\n",
        "INFO:fbprophet:Disabling daily seasonality. Run prophet with daily_seasonality=True to override this.\n",
        "Initial log joint probability = -4.39613\n",
        "    Iter      log prob        ||dx||      ||grad||       alpha      alpha0  # evals  Notes\n",
        "      99       270.121    0.00413718       75.7289           1           1      120\n",
        "    Iter      log prob        ||dx||      ||grad||       alpha      alpha0  # evals  Notes\n",
        "     179       270.265    0.00019681       84.1622   2.169e-06       0.001      273  LS failed, Hessian reset\n",
        "     199       270.283   1.38947e-05       87.8642      0.3402           1      299\n",
        "    Iter      log prob        ||dx||      ||grad||       alpha      alpha0  # evals  Notes\n",
        "     240       270.296    1.6343e-05       89.9117   1.953e-07       0.001      381  LS failed, Hessian reset\n",
        "     299         270.3   4.73573e-08       74.9719      0.3914           1      455\n",
        "    Iter      log prob        ||dx||      ||grad||       alpha      alpha0  # evals  Notes\n",
        "     300         270.3   8.25604e-09       74.4478      0.3522      0.3522      456\n",
        "Optimization terminated normally:\n",
        "  Convergence detected: absolute parameter change was below tolerance"
      ]
    },
    {
      "cell_type": "code",
      "metadata": {
        "id": "q50bppob1nZC"
      },
      "source": [
        "from pandas import DataFrame\n",
        "\n",
        "future = list()\n",
        "for i in range(9, 15):\n",
        "\tdate = '2020-09-%02d' % i\n",
        "\tfuture.append([date])\n",
        "future = DataFrame(future)\n",
        "future.columns = ['ds']\n",
        "future['ds']= to_datetime(future['ds'])"
      ],
      "execution_count": 11,
      "outputs": []
    },
    {
      "cell_type": "code",
      "metadata": {
        "id": "0RCWE15H1nZH"
      },
      "source": [
        "# use the model to make a forecast\n",
        "forecast = model.predict(future)"
      ],
      "execution_count": 12,
      "outputs": []
    },
    {
      "cell_type": "code",
      "metadata": {
        "id": "f9iY5dtm1nZI"
      },
      "source": [
        "# summarize the forecast\n",
        "print(forecast[['ds', 'yhat', 'yhat_lower', 'yhat_upper']].head())\n",
        "# plot forecast\n",
        "model.plot(forecast)\n",
        "#pyplot.show()"
      ],
      "execution_count": null,
      "outputs": []
    },
    {
      "cell_type": "code",
      "metadata": {
        "id": "SFXzdDAI1nZK"
      },
      "source": [
        "# evaluate prophet time series forecasting model on hold out dataset\n",
        "#from pandas import read_csv\n",
        "#from pandas import to_datetime\n",
        "#from pandas import DataFrame\n",
        "#from fbprophet import Prophet\n",
        "from sklearn.metrics import mean_absolute_error\n",
        "#from matplotlib import pyplot\n",
        "\n",
        "train = df_day.drop(df_day.index[-7:])"
      ],
      "execution_count": 14,
      "outputs": []
    },
    {
      "cell_type": "code",
      "metadata": {
        "id": "1rQTL1Uf1nZL"
      },
      "source": [
        "print(train.tail())"
      ],
      "execution_count": null,
      "outputs": []
    },
    {
      "cell_type": "code",
      "metadata": {
        "id": "0C5R_qBW1nZM"
      },
      "source": [
        "# define the model\n",
        "model = Prophet()\n",
        "# fit the model\n",
        "model.fit(train)"
      ],
      "execution_count": null,
      "outputs": []
    },
    {
      "cell_type": "code",
      "metadata": {
        "id": "p8ul-zY81nZM"
      },
      "source": [
        "# define the period for which we want a prediction\n",
        "future = list()\n",
        "for i in range(9, 16):\n",
        "\tdate = '2020-09-%02d' % i\n",
        "\tfuture.append([date])\n",
        "future = DataFrame(future)\n",
        "future.columns = ['ds']\n",
        "future['ds'] = to_datetime(future['ds'])\n",
        "# use the model to make a forecast\n",
        "forecast = model.predict(future)\n",
        "# calculate MAE between expected and predicted values for december\n",
        "y_true = df_day['y'][-7:].values\n",
        "y_pred = forecast['yhat'].values\n",
        "mae = mean_absolute_error(y_true, y_pred)\n",
        "print('MAE: %.3f' % mae)\n",
        "# plot expected vs actual\n",
        "pyplot.plot(y_true, label='Actual')\n",
        "pyplot.plot(y_pred, label='Predicted')\n",
        "pyplot.legend()\n",
        "pyplot.show()"
      ],
      "execution_count": null,
      "outputs": []
    },
    {
      "cell_type": "code",
      "metadata": {
        "id": "G9mW7YPG1nZN"
      },
      "source": [
        "future"
      ],
      "execution_count": null,
      "outputs": []
    },
    {
      "cell_type": "code",
      "metadata": {
        "id": "tya3vBlq1nZO"
      },
      "source": [
        ""
      ],
      "execution_count": null,
      "outputs": []
    },
    {
      "cell_type": "code",
      "metadata": {
        "id": "ZINl6NHs1nZO"
      },
      "source": [
        "y_true"
      ],
      "execution_count": null,
      "outputs": []
    },
    {
      "cell_type": "code",
      "metadata": {
        "id": "JtbfSBRD1nZP"
      },
      "source": [
        "forecast.yhat"
      ],
      "execution_count": null,
      "outputs": []
    },
    {
      "cell_type": "code",
      "metadata": {
        "id": "NpayJy3I1nZP"
      },
      "source": [
        "forecast"
      ],
      "execution_count": null,
      "outputs": []
    },
    {
      "cell_type": "code",
      "metadata": {
        "id": "1qodRCCR1nZP"
      },
      "source": [
        ""
      ],
      "execution_count": null,
      "outputs": []
    }
  ]
}