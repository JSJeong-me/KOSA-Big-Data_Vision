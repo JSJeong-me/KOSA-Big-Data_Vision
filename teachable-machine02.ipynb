{
  "nbformat": 4,
  "nbformat_minor": 0,
  "metadata": {
    "colab": {
      "name": "Untitled30.ipynb",
      "provenance": [],
      "authorship_tag": "ABX9TyM0/gFlQkCUscjqd9JgEWyu",
      "include_colab_link": true
    },
    "kernelspec": {
      "name": "python3",
      "display_name": "Python 3"
    },
    "language_info": {
      "name": "python"
    },
    "accelerator": "GPU"
  },
  "cells": [
    {
      "cell_type": "markdown",
      "metadata": {
        "id": "view-in-github",
        "colab_type": "text"
      },
      "source": [
        "<a href=\"https://colab.research.google.com/github/JSJeong-me/KOSA-Big-Data_Vision/blob/main/teachable-machine02.ipynb\" target=\"_parent\"><img src=\"https://colab.research.google.com/assets/colab-badge.svg\" alt=\"Open In Colab\"/></a>"
      ]
    },
    {
      "cell_type": "code",
      "metadata": {
        "colab": {
          "base_uri": "https://localhost:8080/"
        },
        "id": "EZcXEpDjVyiu",
        "outputId": "47b0a464-5461-456d-c345-fe3bda208717"
      },
      "source": [
        "!pwd"
      ],
      "execution_count": 1,
      "outputs": [
        {
          "output_type": "stream",
          "name": "stdout",
          "text": [
            "/content\n"
          ]
        }
      ]
    },
    {
      "cell_type": "code",
      "metadata": {
        "colab": {
          "base_uri": "https://localhost:8080/"
        },
        "id": "6_639UgcV6IV",
        "outputId": "5bf58bcf-c09a-4a54-8ae4-89c05517b87e"
      },
      "source": [
        "!ls -l"
      ],
      "execution_count": 2,
      "outputs": [
        {
          "output_type": "stream",
          "name": "stdout",
          "text": [
            "total 7412\n",
            "-rw-r--r-- 1 root root 7563542 Oct 12 07:11 converted_savedmodel.zip\n",
            "drwxr-xr-x 2 root root    4096 Oct 12 07:20 cup\n",
            "drwxr-xr-x 2 root root    4096 Oct 12 07:21 eraser\n",
            "-rw-r--r-- 1 root root      36 Oct 12 06:53 labels.txt\n",
            "drwxr-xr-x 4 root root    4096 Oct 12 06:53 model.savedmodel\n",
            "drwxr-xr-x 2 root root    4096 Oct 12 07:17 remote\n",
            "drwxr-xr-x 1 root root    4096 Oct  8 13:45 sample_data\n"
          ]
        }
      ]
    },
    {
      "cell_type": "code",
      "metadata": {
        "colab": {
          "base_uri": "https://localhost:8080/"
        },
        "id": "sjPewtI6WzLe",
        "outputId": "ecf7116f-06c0-43d3-b45e-5789bb3ae89f"
      },
      "source": [
        "!mkdir ./remote"
      ],
      "execution_count": 3,
      "outputs": [
        {
          "output_type": "stream",
          "name": "stdout",
          "text": [
            "mkdir: cannot create directory ‘./remote’: File exists\n"
          ]
        }
      ]
    },
    {
      "cell_type": "code",
      "metadata": {
        "colab": {
          "base_uri": "https://localhost:8080/"
        },
        "id": "fmXWO7s7XBRu",
        "outputId": "2a1716d7-51cd-4823-d6dc-51c103508e31"
      },
      "source": [
        "!mv ./지우게-samples.zip ./eraser"
      ],
      "execution_count": 4,
      "outputs": [
        {
          "output_type": "stream",
          "name": "stdout",
          "text": [
            "mv: cannot stat './지우게-samples.zip': No such file or directory\n"
          ]
        }
      ]
    },
    {
      "cell_type": "code",
      "metadata": {
        "colab": {
          "base_uri": "https://localhost:8080/"
        },
        "id": "spY9qjm8X4kt",
        "outputId": "81201a04-657c-4ac5-933e-918728a7b987"
      },
      "source": [
        "%cd ../eraser/"
      ],
      "execution_count": 5,
      "outputs": [
        {
          "output_type": "stream",
          "name": "stdout",
          "text": [
            "[Errno 2] No such file or directory: '../eraser/'\n",
            "/content\n"
          ]
        }
      ]
    },
    {
      "cell_type": "code",
      "metadata": {
        "colab": {
          "base_uri": "https://localhost:8080/"
        },
        "id": "ptwRJqp5XnUm",
        "outputId": "2d09adb5-2c82-4926-f151-1b32e4485173"
      },
      "source": [
        "!unzip ./지우게-samples.zip"
      ],
      "execution_count": 6,
      "outputs": [
        {
          "output_type": "stream",
          "name": "stdout",
          "text": [
            "unzip:  cannot find or open ./지우게-samples.zip, ./지우게-samples.zip.zip or ./지우게-samples.zip.ZIP.\n"
          ]
        }
      ]
    },
    {
      "cell_type": "code",
      "metadata": {
        "colab": {
          "base_uri": "https://localhost:8080/"
        },
        "id": "9s__w0MnXNCB",
        "outputId": "6c434c96-5fed-49db-e661-5a0c44a78da9"
      },
      "source": [
        "!mv ./*.jpg ./remote/"
      ],
      "execution_count": 7,
      "outputs": [
        {
          "output_type": "stream",
          "name": "stdout",
          "text": [
            "mv: cannot stat './*.jpg': No such file or directory\n"
          ]
        }
      ]
    },
    {
      "cell_type": "code",
      "metadata": {
        "colab": {
          "base_uri": "https://localhost:8080/"
        },
        "id": "ekkB5JekW5Cm",
        "outputId": "14ee29cf-ef26-4a7e-c6da-afebbf45bfde"
      },
      "source": [
        "!mkdir ./eraser"
      ],
      "execution_count": 8,
      "outputs": [
        {
          "output_type": "stream",
          "name": "stdout",
          "text": [
            "mkdir: cannot create directory ‘./eraser’: File exists\n"
          ]
        }
      ]
    },
    {
      "cell_type": "code",
      "metadata": {
        "colab": {
          "base_uri": "https://localhost:8080/"
        },
        "id": "8OuGZ2B3W8le",
        "outputId": "2a05d755-b44c-45e5-d413-ac4ada9449ed"
      },
      "source": [
        "!mkdir ./cup"
      ],
      "execution_count": 9,
      "outputs": [
        {
          "output_type": "stream",
          "name": "stdout",
          "text": [
            "mkdir: cannot create directory ‘./cup’: File exists\n"
          ]
        }
      ]
    },
    {
      "cell_type": "code",
      "metadata": {
        "colab": {
          "base_uri": "https://localhost:8080/"
        },
        "id": "UjyRavb4V9V1",
        "outputId": "e668d8cd-0d1c-47c2-aab4-efba6682f998"
      },
      "source": [
        "!unzip ./리모컨-samples.zip"
      ],
      "execution_count": 10,
      "outputs": [
        {
          "output_type": "stream",
          "name": "stdout",
          "text": [
            "unzip:  cannot find or open ./리모컨-samples.zip, ./리모컨-samples.zip.zip or ./리모컨-samples.zip.ZIP.\n"
          ]
        }
      ]
    },
    {
      "cell_type": "code",
      "metadata": {
        "colab": {
          "base_uri": "https://localhost:8080/"
        },
        "id": "Ne9JAX_7Y-be",
        "outputId": "440b15ae-8277-4ca1-a68e-693348d7091a"
      },
      "source": [
        "!ls -l"
      ],
      "execution_count": 11,
      "outputs": [
        {
          "output_type": "stream",
          "name": "stdout",
          "text": [
            "total 7412\n",
            "-rw-r--r-- 1 root root 7563542 Oct 12 07:11 converted_savedmodel.zip\n",
            "drwxr-xr-x 2 root root    4096 Oct 12 07:20 cup\n",
            "drwxr-xr-x 2 root root    4096 Oct 12 07:21 eraser\n",
            "-rw-r--r-- 1 root root      36 Oct 12 06:53 labels.txt\n",
            "drwxr-xr-x 4 root root    4096 Oct 12 06:53 model.savedmodel\n",
            "drwxr-xr-x 2 root root    4096 Oct 12 07:17 remote\n",
            "drwxr-xr-x 1 root root    4096 Oct  8 13:45 sample_data\n"
          ]
        }
      ]
    },
    {
      "cell_type": "code",
      "metadata": {
        "colab": {
          "base_uri": "https://localhost:8080/"
        },
        "id": "LwY7UaDNYzme",
        "outputId": "b67718a7-657e-43b5-cb4a-5baa1d7fcb26"
      },
      "source": [
        "!pwd"
      ],
      "execution_count": 12,
      "outputs": [
        {
          "output_type": "stream",
          "name": "stdout",
          "text": [
            "/content\n"
          ]
        }
      ]
    },
    {
      "cell_type": "code",
      "metadata": {
        "colab": {
          "base_uri": "https://localhost:8080/"
        },
        "id": "yJbnnsc8YoC3",
        "outputId": "1aa06916-2795-4965-ce9e-d5fbc5606771"
      },
      "source": [
        "%cd /content/"
      ],
      "execution_count": 13,
      "outputs": [
        {
          "output_type": "stream",
          "name": "stdout",
          "text": [
            "/content\n"
          ]
        }
      ]
    },
    {
      "cell_type": "code",
      "metadata": {
        "id": "dgOW5P_-ZUjv"
      },
      "source": [
        "from keras.models import load_model\n",
        "from PIL import Image, ImageOps\n",
        "import numpy as np"
      ],
      "execution_count": 14,
      "outputs": []
    },
    {
      "cell_type": "code",
      "metadata": {
        "colab": {
          "base_uri": "https://localhost:8080/"
        },
        "id": "bBJ_aldUZYaX",
        "outputId": "803f3ac7-19c6-4e2a-b0fc-d0a03a319cb1"
      },
      "source": [
        "# Load the model\n",
        "model = load_model('./model.savedmodel')"
      ],
      "execution_count": 15,
      "outputs": [
        {
          "output_type": "stream",
          "name": "stdout",
          "text": [
            "WARNING:tensorflow:SavedModel saved prior to TF 2.5 detected when loading Keras model. Please ensure that you are saving the model with model.save() or tf.keras.models.save_model(), *NOT* tf.saved_model.save(). To confirm, there should be a file named \"keras_metadata.pb\" in the SavedModel directory.\n",
            "WARNING:tensorflow:No training configuration found in save file, so the model was *not* compiled. Compile it manually.\n"
          ]
        }
      ]
    },
    {
      "cell_type": "code",
      "metadata": {
        "colab": {
          "base_uri": "https://localhost:8080/"
        },
        "id": "lMW2kk9MaKIY",
        "outputId": "8d1c80cc-7fdb-43e3-f3aa-80da430fddb8"
      },
      "source": [
        "model.summary()"
      ],
      "execution_count": 16,
      "outputs": [
        {
          "output_type": "stream",
          "name": "stdout",
          "text": [
            "Model: \"sequential_40\"\n",
            "_________________________________________________________________\n",
            "Layer (type)                 Output Shape              Param #   \n",
            "=================================================================\n",
            "sequential_37 (Sequential)   (None, 1280)              410208    \n",
            "_________________________________________________________________\n",
            "sequential_39 (Sequential)   (None, 3)                 128400    \n",
            "=================================================================\n",
            "Total params: 538,608\n",
            "Trainable params: 524,528\n",
            "Non-trainable params: 14,080\n",
            "_________________________________________________________________\n"
          ]
        }
      ]
    },
    {
      "cell_type": "code",
      "metadata": {
        "id": "GEF7e4GYdXqp"
      },
      "source": [
        ""
      ],
      "execution_count": 16,
      "outputs": []
    },
    {
      "cell_type": "code",
      "metadata": {
        "id": "dIfWfObgau0H"
      },
      "source": [
        "data = np.ndarray(shape=(1, 224, 224, 3), dtype=np.float32)"
      ],
      "execution_count": 17,
      "outputs": []
    },
    {
      "cell_type": "code",
      "metadata": {
        "colab": {
          "base_uri": "https://localhost:8080/"
        },
        "id": "dgR-Ukkfa5PB",
        "outputId": "0dd01c8e-2cb2-49d8-f66b-68cddb9e5861"
      },
      "source": [
        "!pwd"
      ],
      "execution_count": 18,
      "outputs": [
        {
          "output_type": "stream",
          "name": "stdout",
          "text": [
            "/content\n"
          ]
        }
      ]
    },
    {
      "cell_type": "code",
      "metadata": {
        "id": "bDBEQmXyazO3"
      },
      "source": [
        "image = Image.open('./remote/150.jpg')"
      ],
      "execution_count": 19,
      "outputs": []
    },
    {
      "cell_type": "code",
      "metadata": {
        "id": "93R_kf1ubDS_"
      },
      "source": [
        "size = (224, 224)\n",
        "image = ImageOps.fit(image, size, Image.ANTIALIAS)"
      ],
      "execution_count": 20,
      "outputs": []
    },
    {
      "cell_type": "code",
      "metadata": {
        "id": "8iRGbb5HbJrK"
      },
      "source": [
        "image_array = np.asarray(image)"
      ],
      "execution_count": 21,
      "outputs": []
    },
    {
      "cell_type": "code",
      "metadata": {
        "colab": {
          "base_uri": "https://localhost:8080/"
        },
        "id": "4VRKEmKxbQB3",
        "outputId": "14b5aafc-9082-481d-df3e-8015fe0ddf90"
      },
      "source": [
        "image_array.shape"
      ],
      "execution_count": 22,
      "outputs": [
        {
          "output_type": "execute_result",
          "data": {
            "text/plain": [
              "(224, 224, 3)"
            ]
          },
          "metadata": {},
          "execution_count": 22
        }
      ]
    },
    {
      "cell_type": "code",
      "metadata": {
        "colab": {
          "base_uri": "https://localhost:8080/"
        },
        "id": "Axc7j8KubZPM",
        "outputId": "f94d5f61-7e6d-46c1-effe-d1c0ba90c995"
      },
      "source": [
        "image_array[:10, :10, 0]  # Red"
      ],
      "execution_count": 23,
      "outputs": [
        {
          "output_type": "execute_result",
          "data": {
            "text/plain": [
              "array([[107, 107, 107, 106, 106, 106, 108, 109, 107, 107],\n",
              "       [107, 107, 107, 106, 106, 107, 108, 109, 108, 108],\n",
              "       [107, 107, 108, 107, 107, 107, 108, 109, 108, 108],\n",
              "       [107, 108, 108, 108, 108, 108, 109, 110, 109, 109],\n",
              "       [107, 108, 109, 109, 109, 109, 109, 110, 109, 109],\n",
              "       [107, 108, 109, 110, 109, 109, 109, 109, 110, 109],\n",
              "       [107, 108, 109, 110, 109, 109, 109, 109, 110, 109],\n",
              "       [107, 108, 109, 110, 110, 109, 109, 109, 110, 109],\n",
              "       [109, 109, 109, 109, 109, 109, 109, 109, 109, 110],\n",
              "       [109, 109, 109, 109, 109, 109, 109, 109, 111, 111]], dtype=uint8)"
            ]
          },
          "metadata": {},
          "execution_count": 23
        }
      ]
    },
    {
      "cell_type": "code",
      "metadata": {
        "colab": {
          "base_uri": "https://localhost:8080/"
        },
        "id": "6DnVhdj7brRP",
        "outputId": "bc405789-0c49-4d0c-c24a-67329eab983d"
      },
      "source": [
        "image_array[:10, :10, 1] #Green"
      ],
      "execution_count": 24,
      "outputs": [
        {
          "output_type": "execute_result",
          "data": {
            "text/plain": [
              "array([[108, 108, 108, 107, 107, 107, 108, 109, 107, 107],\n",
              "       [108, 108, 108, 107, 107, 107, 108, 109, 108, 108],\n",
              "       [108, 108, 109, 108, 108, 107, 108, 109, 108, 108],\n",
              "       [108, 109, 109, 109, 108, 108, 109, 110, 109, 109],\n",
              "       [108, 109, 110, 110, 109, 109, 109, 110, 109, 109],\n",
              "       [108, 108, 109, 110, 109, 109, 109, 109, 110, 109],\n",
              "       [107, 108, 109, 110, 109, 109, 109, 109, 110, 109],\n",
              "       [107, 108, 109, 110, 110, 109, 109, 109, 110, 109],\n",
              "       [109, 109, 109, 109, 109, 109, 109, 109, 109, 110],\n",
              "       [109, 109, 109, 109, 109, 109, 109, 109, 111, 111]], dtype=uint8)"
            ]
          },
          "metadata": {},
          "execution_count": 24
        }
      ]
    },
    {
      "cell_type": "code",
      "metadata": {
        "id": "zOl4xibieCKH"
      },
      "source": [
        ""
      ],
      "execution_count": 24,
      "outputs": []
    },
    {
      "cell_type": "code",
      "metadata": {
        "id": "U-nlLeH1bz0X"
      },
      "source": [
        "#normalized_image_array[:10, :10, 2] # Blue"
      ],
      "execution_count": 25,
      "outputs": []
    },
    {
      "cell_type": "code",
      "metadata": {
        "id": "p0uOt0S8bN5A"
      },
      "source": [
        "normalized_image_array = (image_array.astype(np.float32) / 127.0) - 1"
      ],
      "execution_count": 26,
      "outputs": []
    },
    {
      "cell_type": "code",
      "metadata": {
        "id": "aiSmEFXscXDd"
      },
      "source": [
        "data[0] = normalized_image_array"
      ],
      "execution_count": 27,
      "outputs": []
    },
    {
      "cell_type": "code",
      "metadata": {
        "id": "MZamC8gTcZuC"
      },
      "source": [
        "prediction = model.predict(data)\n"
      ],
      "execution_count": 28,
      "outputs": []
    },
    {
      "cell_type": "code",
      "metadata": {
        "colab": {
          "base_uri": "https://localhost:8080/"
        },
        "id": "BhYN8r_SdBPs",
        "outputId": "c5f3d667-0161-4061-da16-b6d210d837c4"
      },
      "source": [
        "prediction"
      ],
      "execution_count": 29,
      "outputs": [
        {
          "output_type": "execute_result",
          "data": {
            "text/plain": [
              "array([[1.0000000e+00, 6.0258310e-14, 1.6075816e-16]], dtype=float32)"
            ]
          },
          "metadata": {},
          "execution_count": 29
        }
      ]
    },
    {
      "cell_type": "code",
      "metadata": {
        "colab": {
          "base_uri": "https://localhost:8080/"
        },
        "id": "YNe2ujnudET3",
        "outputId": "bdbc59ac-9ef7-4817-efd2-1ab8af3e0123"
      },
      "source": [
        "print(prediction)"
      ],
      "execution_count": 30,
      "outputs": [
        {
          "output_type": "stream",
          "name": "stdout",
          "text": [
            "[[1.0000000e+00 6.0258310e-14 1.6075816e-16]]\n"
          ]
        }
      ]
    },
    {
      "cell_type": "code",
      "metadata": {
        "colab": {
          "base_uri": "https://localhost:8080/"
        },
        "id": "Y3T8n76Qc5Qg",
        "outputId": "ce7b93c0-78ed-452e-88be-f4608ad3b252"
      },
      "source": [
        "prediction.max()"
      ],
      "execution_count": 31,
      "outputs": [
        {
          "output_type": "execute_result",
          "data": {
            "text/plain": [
              "1.0"
            ]
          },
          "metadata": {},
          "execution_count": 31
        }
      ]
    },
    {
      "cell_type": "code",
      "metadata": {
        "colab": {
          "base_uri": "https://localhost:8080/"
        },
        "id": "9hcegaDQRZCb",
        "outputId": "57665977-25e8-4b49-beb7-ef638a78b802"
      },
      "source": [
        "\n",
        "\n",
        "\n",
        "\n",
        "# Create the array of the right shape to feed into the keras model\n",
        "# The 'length' or number of images you can put into the array is\n",
        "# determined by the first position in the shape tuple, in this case 1.\n",
        "\n",
        "# Replace this with the path to your image\n",
        "\n",
        "#resize the image to a 224x224 with the same strategy as in TM2:\n",
        "#resizing the image to be at least 224x224 and then cropping from the center\n",
        "\n",
        "\n",
        "#turn the image into a numpy array\n",
        "\n",
        "# Normalize the image\n",
        "\n",
        "# Load the image into the array\n",
        "data[0] = normalized_image_array\n",
        "\n",
        "# run the inference\n",
        "prediction = model.predict(data)\n",
        "print(prediction)\n"
      ],
      "execution_count": 32,
      "outputs": [
        {
          "output_type": "stream",
          "name": "stdout",
          "text": [
            "[[1.0000000e+00 6.0258310e-14 1.6075816e-16]]\n"
          ]
        }
      ]
    }
  ]
}