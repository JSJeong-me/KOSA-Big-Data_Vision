{
  "nbformat": 4,
  "nbformat_minor": 5,
  "metadata": {
    "kernelspec": {
      "display_name": "Python 3",
      "language": "python",
      "name": "python3"
    },
    "language_info": {
      "codemirror_mode": {
        "name": "ipython",
        "version": 3
      },
      "file_extension": ".py",
      "mimetype": "text/x-python",
      "name": "python",
      "nbconvert_exporter": "python",
      "pygments_lexer": "ipython3",
      "version": "3.7.6"
    },
    "colab": {
      "name": "target_tip_add.ipynb",
      "provenance": [],
      "include_colab_link": true
    }
  },
  "cells": [
    {
      "cell_type": "markdown",
      "metadata": {
        "id": "view-in-github",
        "colab_type": "text"
      },
      "source": [
        "<a href=\"https://colab.research.google.com/github/JSJeong-me/KOSA-Big-Data_Vision/blob/main/ML/1-tips_featuring.ipynb\" target=\"_parent\"><img src=\"https://colab.research.google.com/assets/colab-badge.svg\" alt=\"Open In Colab\"/></a>"
      ]
    },
    {
      "cell_type": "markdown",
      "metadata": {
        "id": "attempted-israeli"
      },
      "source": [
        "### Target Variable : Tip"
      ],
      "id": "attempted-israeli"
    },
    {
      "cell_type": "code",
      "metadata": {
        "id": "textile-staff"
      },
      "source": [
        "!cd"
      ],
      "id": "textile-staff",
      "execution_count": 1,
      "outputs": []
    },
    {
      "cell_type": "code",
      "metadata": {
        "id": "uPPI9gG74GqA"
      },
      "source": [
        "import pandas as pd"
      ],
      "id": "uPPI9gG74GqA",
      "execution_count": 3,
      "outputs": []
    },
    {
      "cell_type": "code",
      "metadata": {
        "id": "strange-printer"
      },
      "source": [
        "df = pd.read_csv('tips.csv')"
      ],
      "id": "strange-printer",
      "execution_count": 4,
      "outputs": []
    },
    {
      "cell_type": "code",
      "metadata": {
        "id": "technical-hampshire"
      },
      "source": [
        "df.isnull().sum()"
      ],
      "id": "technical-hampshire",
      "execution_count": null,
      "outputs": []
    },
    {
      "cell_type": "markdown",
      "metadata": {
        "id": "systematic-postcard"
      },
      "source": [
        "### Encoding"
      ],
      "id": "systematic-postcard"
    },
    {
      "cell_type": "code",
      "metadata": {
        "id": "legislative-worse"
      },
      "source": [
        "df['sex'].replace({'Female':0, 'Male':1}, inplace=True)"
      ],
      "id": "legislative-worse",
      "execution_count": 6,
      "outputs": []
    },
    {
      "cell_type": "code",
      "metadata": {
        "id": "moderate-while"
      },
      "source": [
        "df[\"smoker\"].replace({\"No\" : 0, \"Yes\" : 1}, inplace=True)\n",
        "df[\"day\"].replace({\"Thur\" : 0, \"Fri\" : 1, \"Sat\" : 2, \"Sun\" : 3}, inplace=True)\n",
        "df[\"time\"].replace({\"Lunch\" : 0, \"Dinner\" : 1}, inplace=True)"
      ],
      "id": "moderate-while",
      "execution_count": 7,
      "outputs": []
    },
    {
      "cell_type": "code",
      "metadata": {
        "id": "suspended-excuse"
      },
      "source": [
        "import numpy as np"
      ],
      "id": "suspended-excuse",
      "execution_count": 8,
      "outputs": []
    },
    {
      "cell_type": "code",
      "metadata": {
        "id": "manufactured-american"
      },
      "source": [
        "df.replace('',np.nan,inplace=True) # '' -> np.nan"
      ],
      "id": "manufactured-american",
      "execution_count": 9,
      "outputs": []
    },
    {
      "cell_type": "code",
      "metadata": {
        "id": "comic-corporation"
      },
      "source": [
        "df['tip_percentage'] = (df['tip']/df['total_bill'])*100"
      ],
      "id": "comic-corporation",
      "execution_count": 10,
      "outputs": []
    },
    {
      "cell_type": "code",
      "metadata": {
        "id": "marked-stable"
      },
      "source": [
        "df['tip_percentage'] = np.round(df['tip_percentage'],2)"
      ],
      "id": "marked-stable",
      "execution_count": 11,
      "outputs": []
    },
    {
      "cell_type": "code",
      "metadata": {
        "id": "unsigned-ceramic"
      },
      "source": [
        "df.isnull().sum()"
      ],
      "id": "unsigned-ceramic",
      "execution_count": null,
      "outputs": []
    },
    {
      "cell_type": "code",
      "metadata": {
        "id": "clean-british"
      },
      "source": [
        "df.describe()"
      ],
      "id": "clean-british",
      "execution_count": null,
      "outputs": []
    },
    {
      "cell_type": "code",
      "metadata": {
        "id": "inside-grant",
        "outputId": "31604a0f-1feb-45dc-9254-072e2fe1d308"
      },
      "source": [
        "type(df)"
      ],
      "id": "inside-grant",
      "execution_count": null,
      "outputs": [
        {
          "data": {
            "text/plain": [
              "pandas.core.frame.DataFrame"
            ]
          },
          "execution_count": 13,
          "metadata": {},
          "output_type": "execute_result"
        }
      ]
    },
    {
      "cell_type": "code",
      "metadata": {
        "id": "architectural-territory"
      },
      "source": [
        "#import numpy as np\n",
        "from sklearn.impute import SimpleImputer"
      ],
      "id": "architectural-territory",
      "execution_count": 14,
      "outputs": []
    },
    {
      "cell_type": "code",
      "metadata": {
        "id": "developing-deficit"
      },
      "source": [
        "data = df.values"
      ],
      "id": "developing-deficit",
      "execution_count": 15,
      "outputs": []
    },
    {
      "cell_type": "code",
      "metadata": {
        "id": "possible-pricing"
      },
      "source": [
        "y=df['tip'] # Target variable -> Tip"
      ],
      "id": "possible-pricing",
      "execution_count": 16,
      "outputs": []
    },
    {
      "cell_type": "code",
      "metadata": {
        "id": "loving-nigeria"
      },
      "source": [
        "X=df.drop('tip',axis=1)"
      ],
      "id": "loving-nigeria",
      "execution_count": 17,
      "outputs": []
    },
    {
      "cell_type": "code",
      "metadata": {
        "colab": {
          "base_uri": "https://localhost:8080/"
        },
        "id": "accessible-premium",
        "outputId": "994fb6ff-01f1-4637-b916-15709c9381c5"
      },
      "source": [
        "X.columns"
      ],
      "id": "accessible-premium",
      "execution_count": 18,
      "outputs": [
        {
          "output_type": "execute_result",
          "data": {
            "text/plain": [
              "Index(['total_bill', 'sex', 'smoker', 'day', 'time', 'size', 'tip_percentage'], dtype='object')"
            ]
          },
          "metadata": {},
          "execution_count": 18
        }
      ]
    },
    {
      "cell_type": "code",
      "metadata": {
        "colab": {
          "base_uri": "https://localhost:8080/"
        },
        "id": "medieval-cause",
        "outputId": "27e83837-f285-46b6-af2a-835261a987c7"
      },
      "source": [
        "y.describe()"
      ],
      "id": "medieval-cause",
      "execution_count": 19,
      "outputs": [
        {
          "output_type": "execute_result",
          "data": {
            "text/plain": [
              "count    244.000000\n",
              "mean       2.998279\n",
              "std        1.383638\n",
              "min        1.000000\n",
              "25%        2.000000\n",
              "50%        2.900000\n",
              "75%        3.562500\n",
              "max       10.000000\n",
              "Name: tip, dtype: float64"
            ]
          },
          "metadata": {},
          "execution_count": 19
        }
      ]
    },
    {
      "cell_type": "code",
      "metadata": {
        "id": "rough-catch"
      },
      "source": [
        "data=X.values # Train data"
      ],
      "id": "rough-catch",
      "execution_count": 20,
      "outputs": []
    },
    {
      "cell_type": "code",
      "metadata": {
        "id": "incident-content"
      },
      "source": [
        "y=y.values"
      ],
      "id": "incident-content",
      "execution_count": 21,
      "outputs": []
    },
    {
      "cell_type": "code",
      "metadata": {
        "id": "premium-museum"
      },
      "source": [
        "sum(np.isnan(data).flatten())"
      ],
      "id": "premium-museum",
      "execution_count": null,
      "outputs": []
    },
    {
      "cell_type": "code",
      "metadata": {
        "id": "meaning-dressing"
      },
      "source": [
        "sum(np.isnan(y).flatten())"
      ],
      "id": "meaning-dressing",
      "execution_count": null,
      "outputs": []
    },
    {
      "cell_type": "code",
      "metadata": {
        "id": "reduced-verse"
      },
      "source": [
        "imputer = SimpleImputer(strategy='median')"
      ],
      "id": "reduced-verse",
      "execution_count": 24,
      "outputs": []
    },
    {
      "cell_type": "code",
      "metadata": {
        "colab": {
          "base_uri": "https://localhost:8080/"
        },
        "id": "gentle-armor",
        "outputId": "7963dcb3-479a-4bc7-8515-4efe113dc191"
      },
      "source": [
        "imputer.fit(data)"
      ],
      "id": "gentle-armor",
      "execution_count": 25,
      "outputs": [
        {
          "output_type": "execute_result",
          "data": {
            "text/plain": [
              "SimpleImputer(add_indicator=False, copy=True, fill_value=None,\n",
              "              missing_values=nan, strategy='median', verbose=0)"
            ]
          },
          "metadata": {},
          "execution_count": 25
        }
      ]
    },
    {
      "cell_type": "code",
      "metadata": {
        "id": "fundamental-privacy"
      },
      "source": [
        "# transform the dataset\n",
        "data_trans = imputer.transform(data) # Imputed data set"
      ],
      "id": "fundamental-privacy",
      "execution_count": 26,
      "outputs": []
    },
    {
      "cell_type": "code",
      "metadata": {
        "id": "literary-discount"
      },
      "source": [
        ""
      ],
      "id": "literary-discount",
      "execution_count": null,
      "outputs": []
    },
    {
      "cell_type": "markdown",
      "metadata": {
        "id": "unable-spencer"
      },
      "source": [
        "### RFE"
      ],
      "id": "unable-spencer"
    },
    {
      "cell_type": "code",
      "metadata": {
        "id": "dress-asset"
      },
      "source": [
        "from sklearn.feature_selection import RFE"
      ],
      "id": "dress-asset",
      "execution_count": 27,
      "outputs": []
    },
    {
      "cell_type": "code",
      "metadata": {
        "id": "registered-football"
      },
      "source": [
        "#from sklearn.tree import DecisionTreeClassifier"
      ],
      "id": "registered-football",
      "execution_count": null,
      "outputs": []
    },
    {
      "cell_type": "code",
      "metadata": {
        "id": "former-ability"
      },
      "source": [
        "from sklearn.svm import SVR"
      ],
      "id": "former-ability",
      "execution_count": 28,
      "outputs": []
    },
    {
      "cell_type": "code",
      "metadata": {
        "id": "challenging-topic"
      },
      "source": [
        "estimator = SVR(kernel=\"linear\")"
      ],
      "id": "challenging-topic",
      "execution_count": 29,
      "outputs": []
    },
    {
      "cell_type": "code",
      "metadata": {
        "id": "found-retailer"
      },
      "source": [
        "# define RFE\n",
        "rfe = RFE(estimator, n_features_to_select=5)"
      ],
      "id": "found-retailer",
      "execution_count": 30,
      "outputs": []
    },
    {
      "cell_type": "code",
      "metadata": {
        "id": "classical-denial"
      },
      "source": [
        "# fit RFE\n",
        "selector=rfe.fit(data_trans, y)"
      ],
      "id": "classical-denial",
      "execution_count": 31,
      "outputs": []
    },
    {
      "cell_type": "code",
      "metadata": {
        "id": "national-textbook"
      },
      "source": [
        "!cd"
      ],
      "id": "national-textbook",
      "execution_count": 32,
      "outputs": []
    },
    {
      "cell_type": "code",
      "metadata": {
        "colab": {
          "base_uri": "https://localhost:8080/"
        },
        "id": "literary-holly",
        "outputId": "4a34a809-44a8-4653-9e83-1ea746f78382"
      },
      "source": [
        "selector.support_"
      ],
      "id": "literary-holly",
      "execution_count": 33,
      "outputs": [
        {
          "output_type": "execute_result",
          "data": {
            "text/plain": [
              "array([ True,  True,  True, False, False,  True,  True])"
            ]
          },
          "metadata": {},
          "execution_count": 33
        }
      ]
    },
    {
      "cell_type": "markdown",
      "metadata": {
        "id": "centered-salvation"
      },
      "source": [
        "Index(['total_bill', 'sex', 'smoker', 'day', 'time', 'size', 'tip_percentage'], dtype='object')"
      ],
      "id": "centered-salvation"
    },
    {
      "cell_type": "code",
      "metadata": {
        "id": "traditional-sunglasses"
      },
      "source": [
        "# summarize all features\n",
        "for i in range(data_trans.shape[1]):\n",
        "  print('Column: %d,  Rank: %d' % (i,  rfe.ranking_[i]))"
      ],
      "id": "traditional-sunglasses",
      "execution_count": null,
      "outputs": []
    },
    {
      "cell_type": "code",
      "metadata": {
        "id": "recorded-impact"
      },
      "source": [
        "df1=pd.DataFrame(data_trans, columns=['total_bill', 'sex', 'smoker', 'day', 'time', 'size', 'tip_percentage' ])"
      ],
      "id": "recorded-impact",
      "execution_count": 35,
      "outputs": []
    },
    {
      "cell_type": "code",
      "metadata": {
        "colab": {
          "base_uri": "https://localhost:8080/"
        },
        "id": "basic-trout",
        "outputId": "5b0c87d0-35f0-4b37-94ee-f1b12c6c0cf2"
      },
      "source": [
        "df1.columns"
      ],
      "id": "basic-trout",
      "execution_count": 36,
      "outputs": [
        {
          "output_type": "execute_result",
          "data": {
            "text/plain": [
              "Index(['total_bill', 'sex', 'smoker', 'day', 'time', 'size', 'tip_percentage'], dtype='object')"
            ]
          },
          "metadata": {},
          "execution_count": 36
        }
      ]
    },
    {
      "cell_type": "code",
      "metadata": {
        "id": "native-department"
      },
      "source": [
        "df1.drop([ 'time', 'size'], axis=1)"
      ],
      "id": "native-department",
      "execution_count": null,
      "outputs": []
    },
    {
      "cell_type": "markdown",
      "metadata": {
        "id": "quick-cursor"
      },
      "source": [
        "### PCA"
      ],
      "id": "quick-cursor"
    },
    {
      "cell_type": "code",
      "metadata": {
        "id": "treated-academy"
      },
      "source": [
        "from sklearn.decomposition import PCA"
      ],
      "id": "treated-academy",
      "execution_count": 38,
      "outputs": []
    },
    {
      "cell_type": "code",
      "metadata": {
        "colab": {
          "base_uri": "https://localhost:8080/"
        },
        "id": "fresh-exhibition",
        "outputId": "34c9e97a-536a-4ebf-bfa3-3ff55199c233"
      },
      "source": [
        "data_trans.shape"
      ],
      "id": "fresh-exhibition",
      "execution_count": 39,
      "outputs": [
        {
          "output_type": "execute_result",
          "data": {
            "text/plain": [
              "(244, 7)"
            ]
          },
          "metadata": {},
          "execution_count": 39
        }
      ]
    },
    {
      "cell_type": "code",
      "metadata": {
        "id": "human-university"
      },
      "source": [
        "# define the transform\n",
        "trans = PCA(n_components=5)"
      ],
      "id": "human-university",
      "execution_count": 40,
      "outputs": []
    },
    {
      "cell_type": "code",
      "metadata": {
        "id": "private-oregon"
      },
      "source": [
        "# https://stackoverflow.com/questions/55582413/put-results-of-pca-into-dataframe"
      ],
      "id": "private-oregon",
      "execution_count": null,
      "outputs": []
    },
    {
      "cell_type": "code",
      "metadata": {
        "id": "renewable-discussion"
      },
      "source": [
        "# transform the data\n",
        "X_dim = trans.fit_transform(data_trans)"
      ],
      "id": "renewable-discussion",
      "execution_count": 41,
      "outputs": []
    },
    {
      "cell_type": "code",
      "metadata": {
        "colab": {
          "base_uri": "https://localhost:8080/"
        },
        "id": "coral-elevation",
        "outputId": "9faad37e-57c9-40d1-dd32-68969aba83b9"
      },
      "source": [
        "# summarize data after the transform\n",
        "print(X_dim[:3, :])"
      ],
      "id": "coral-elevation",
      "execution_count": 42,
      "outputs": [
        {
          "output_type": "stream",
          "name": "stdout",
          "text": [
            "[[ -0.93290544 -10.455709    -1.45991492  -0.30022964  -0.37894007]\n",
            " [  8.76368653  -3.28016313  -1.66122008   0.99431705  -0.08947122]\n",
            " [ -0.99405246   1.01457123  -1.30498485   0.36913843  -0.29621359]]\n"
          ]
        }
      ]
    },
    {
      "cell_type": "code",
      "metadata": {
        "colab": {
          "base_uri": "https://localhost:8080/"
        },
        "id": "municipal-sellers",
        "outputId": "36170d9f-99d4-4197-d473-6b3a600b5424"
      },
      "source": [
        "trans.components_"
      ],
      "id": "municipal-sellers",
      "execution_count": 43,
      "outputs": [
        {
          "output_type": "execute_result",
          "data": {
            "text/plain": [
              "array([[-0.93455023, -0.00759278, -0.0036134 , -0.01938127, -0.00844045,\n",
              "        -0.0559023 ,  0.35067537],\n",
              "       [ 0.34897766,  0.00099653,  0.00707371,  0.0247894 ,  0.00599564,\n",
              "         0.02926261,  0.93629952],\n",
              "       [ 0.03244857, -0.09797331,  0.02436618, -0.93737951, -0.32703167,\n",
              "        -0.05343516,  0.01640814],\n",
              "       [-0.05826144, -0.00965097, -0.19959764, -0.0400315 , -0.06265821,\n",
              "         0.9752493 , -0.00578538],\n",
              "       [-0.01899107,  0.02853285,  0.97609636, -0.0139226 ,  0.06873875,\n",
              "         0.20272375, -0.00673377]])"
            ]
          },
          "metadata": {},
          "execution_count": 43
        }
      ]
    },
    {
      "cell_type": "code",
      "metadata": {
        "id": "answering-punishment"
      },
      "source": [
        "df_pca = pd.DataFrame(X_dim)"
      ],
      "id": "answering-punishment",
      "execution_count": 44,
      "outputs": []
    },
    {
      "cell_type": "code",
      "metadata": {
        "colab": {
          "base_uri": "https://localhost:8080/",
          "height": 300
        },
        "id": "scientific-surname",
        "outputId": "145ffd56-9d16-4137-baec-09d56e154d2e"
      },
      "source": [
        "df_pca.describe().round(2)"
      ],
      "id": "scientific-surname",
      "execution_count": 45,
      "outputs": [
        {
          "output_type": "execute_result",
          "data": {
            "text/html": [
              "<div>\n",
              "<style scoped>\n",
              "    .dataframe tbody tr th:only-of-type {\n",
              "        vertical-align: middle;\n",
              "    }\n",
              "\n",
              "    .dataframe tbody tr th {\n",
              "        vertical-align: top;\n",
              "    }\n",
              "\n",
              "    .dataframe thead th {\n",
              "        text-align: right;\n",
              "    }\n",
              "</style>\n",
              "<table border=\"1\" class=\"dataframe\">\n",
              "  <thead>\n",
              "    <tr style=\"text-align: right;\">\n",
              "      <th></th>\n",
              "      <th>0</th>\n",
              "      <th>1</th>\n",
              "      <th>2</th>\n",
              "      <th>3</th>\n",
              "      <th>4</th>\n",
              "    </tr>\n",
              "  </thead>\n",
              "  <tbody>\n",
              "    <tr>\n",
              "      <th>count</th>\n",
              "      <td>244.00</td>\n",
              "      <td>244.00</td>\n",
              "      <td>244.00</td>\n",
              "      <td>244.00</td>\n",
              "      <td>244.00</td>\n",
              "    </tr>\n",
              "    <tr>\n",
              "      <th>mean</th>\n",
              "      <td>0.00</td>\n",
              "      <td>0.00</td>\n",
              "      <td>0.00</td>\n",
              "      <td>0.00</td>\n",
              "      <td>0.00</td>\n",
              "    </tr>\n",
              "    <tr>\n",
              "      <th>std</th>\n",
              "      <td>9.30</td>\n",
              "      <td>5.51</td>\n",
              "      <td>1.21</td>\n",
              "      <td>0.78</td>\n",
              "      <td>0.47</td>\n",
              "    </tr>\n",
              "    <tr>\n",
              "      <th>min</th>\n",
              "      <td>-28.75</td>\n",
              "      <td>-10.46</td>\n",
              "      <td>-1.67</td>\n",
              "      <td>-1.89</td>\n",
              "      <td>-0.85</td>\n",
              "    </tr>\n",
              "    <tr>\n",
              "      <th>25%</th>\n",
              "      <td>-4.81</td>\n",
              "      <td>-3.48</td>\n",
              "      <td>-1.03</td>\n",
              "      <td>-0.43</td>\n",
              "      <td>-0.39</td>\n",
              "    </tr>\n",
              "    <tr>\n",
              "      <th>50%</th>\n",
              "      <td>2.06</td>\n",
              "      <td>-0.64</td>\n",
              "      <td>-0.38</td>\n",
              "      <td>-0.16</td>\n",
              "      <td>-0.22</td>\n",
              "    </tr>\n",
              "    <tr>\n",
              "      <th>75%</th>\n",
              "      <td>6.17</td>\n",
              "      <td>2.64</td>\n",
              "      <td>1.49</td>\n",
              "      <td>0.32</td>\n",
              "      <td>0.50</td>\n",
              "    </tr>\n",
              "    <tr>\n",
              "      <th>max</th>\n",
              "      <td>30.98</td>\n",
              "      <td>47.10</td>\n",
              "      <td>2.54</td>\n",
              "      <td>3.12</td>\n",
              "      <td>1.00</td>\n",
              "    </tr>\n",
              "  </tbody>\n",
              "</table>\n",
              "</div>"
            ],
            "text/plain": [
              "            0       1       2       3       4\n",
              "count  244.00  244.00  244.00  244.00  244.00\n",
              "mean     0.00    0.00    0.00    0.00    0.00\n",
              "std      9.30    5.51    1.21    0.78    0.47\n",
              "min    -28.75  -10.46   -1.67   -1.89   -0.85\n",
              "25%     -4.81   -3.48   -1.03   -0.43   -0.39\n",
              "50%      2.06   -0.64   -0.38   -0.16   -0.22\n",
              "75%      6.17    2.64    1.49    0.32    0.50\n",
              "max     30.98   47.10    2.54    3.12    1.00"
            ]
          },
          "metadata": {},
          "execution_count": 45
        }
      ]
    },
    {
      "cell_type": "code",
      "metadata": {
        "colab": {
          "base_uri": "https://localhost:8080/",
          "height": 300
        },
        "id": "suitable-queensland",
        "outputId": "312ae0fb-a1a3-4830-a69b-4c7fbea830c2"
      },
      "source": [
        "df.describe()"
      ],
      "id": "suitable-queensland",
      "execution_count": 46,
      "outputs": [
        {
          "output_type": "execute_result",
          "data": {
            "text/html": [
              "<div>\n",
              "<style scoped>\n",
              "    .dataframe tbody tr th:only-of-type {\n",
              "        vertical-align: middle;\n",
              "    }\n",
              "\n",
              "    .dataframe tbody tr th {\n",
              "        vertical-align: top;\n",
              "    }\n",
              "\n",
              "    .dataframe thead th {\n",
              "        text-align: right;\n",
              "    }\n",
              "</style>\n",
              "<table border=\"1\" class=\"dataframe\">\n",
              "  <thead>\n",
              "    <tr style=\"text-align: right;\">\n",
              "      <th></th>\n",
              "      <th>total_bill</th>\n",
              "      <th>tip</th>\n",
              "      <th>sex</th>\n",
              "      <th>smoker</th>\n",
              "      <th>day</th>\n",
              "      <th>time</th>\n",
              "      <th>size</th>\n",
              "      <th>tip_percentage</th>\n",
              "    </tr>\n",
              "  </thead>\n",
              "  <tbody>\n",
              "    <tr>\n",
              "      <th>count</th>\n",
              "      <td>244.000000</td>\n",
              "      <td>244.000000</td>\n",
              "      <td>244.000000</td>\n",
              "      <td>244.000000</td>\n",
              "      <td>244.000000</td>\n",
              "      <td>244.000000</td>\n",
              "      <td>241.000000</td>\n",
              "      <td>244.000000</td>\n",
              "    </tr>\n",
              "    <tr>\n",
              "      <th>mean</th>\n",
              "      <td>19.785943</td>\n",
              "      <td>2.998279</td>\n",
              "      <td>0.643443</td>\n",
              "      <td>0.381148</td>\n",
              "      <td>1.725410</td>\n",
              "      <td>0.721311</td>\n",
              "      <td>2.556017</td>\n",
              "      <td>16.079754</td>\n",
              "    </tr>\n",
              "    <tr>\n",
              "      <th>std</th>\n",
              "      <td>8.902412</td>\n",
              "      <td>1.383638</td>\n",
              "      <td>0.479967</td>\n",
              "      <td>0.486667</td>\n",
              "      <td>1.155774</td>\n",
              "      <td>0.449276</td>\n",
              "      <td>0.947571</td>\n",
              "      <td>6.107020</td>\n",
              "    </tr>\n",
              "    <tr>\n",
              "      <th>min</th>\n",
              "      <td>3.070000</td>\n",
              "      <td>1.000000</td>\n",
              "      <td>0.000000</td>\n",
              "      <td>0.000000</td>\n",
              "      <td>0.000000</td>\n",
              "      <td>0.000000</td>\n",
              "      <td>1.000000</td>\n",
              "      <td>3.560000</td>\n",
              "    </tr>\n",
              "    <tr>\n",
              "      <th>25%</th>\n",
              "      <td>13.347500</td>\n",
              "      <td>2.000000</td>\n",
              "      <td>0.000000</td>\n",
              "      <td>0.000000</td>\n",
              "      <td>0.000000</td>\n",
              "      <td>0.000000</td>\n",
              "      <td>2.000000</td>\n",
              "      <td>12.910000</td>\n",
              "    </tr>\n",
              "    <tr>\n",
              "      <th>50%</th>\n",
              "      <td>17.795000</td>\n",
              "      <td>2.900000</td>\n",
              "      <td>1.000000</td>\n",
              "      <td>0.000000</td>\n",
              "      <td>2.000000</td>\n",
              "      <td>1.000000</td>\n",
              "      <td>2.000000</td>\n",
              "      <td>15.475000</td>\n",
              "    </tr>\n",
              "    <tr>\n",
              "      <th>75%</th>\n",
              "      <td>24.127500</td>\n",
              "      <td>3.562500</td>\n",
              "      <td>1.000000</td>\n",
              "      <td>1.000000</td>\n",
              "      <td>3.000000</td>\n",
              "      <td>1.000000</td>\n",
              "      <td>3.000000</td>\n",
              "      <td>19.147500</td>\n",
              "    </tr>\n",
              "    <tr>\n",
              "      <th>max</th>\n",
              "      <td>50.810000</td>\n",
              "      <td>10.000000</td>\n",
              "      <td>1.000000</td>\n",
              "      <td>1.000000</td>\n",
              "      <td>3.000000</td>\n",
              "      <td>1.000000</td>\n",
              "      <td>6.000000</td>\n",
              "      <td>71.030000</td>\n",
              "    </tr>\n",
              "  </tbody>\n",
              "</table>\n",
              "</div>"
            ],
            "text/plain": [
              "       total_bill         tip  ...        size  tip_percentage\n",
              "count  244.000000  244.000000  ...  241.000000      244.000000\n",
              "mean    19.785943    2.998279  ...    2.556017       16.079754\n",
              "std      8.902412    1.383638  ...    0.947571        6.107020\n",
              "min      3.070000    1.000000  ...    1.000000        3.560000\n",
              "25%     13.347500    2.000000  ...    2.000000       12.910000\n",
              "50%     17.795000    2.900000  ...    2.000000       15.475000\n",
              "75%     24.127500    3.562500  ...    3.000000       19.147500\n",
              "max     50.810000   10.000000  ...    6.000000       71.030000\n",
              "\n",
              "[8 rows x 8 columns]"
            ]
          },
          "metadata": {},
          "execution_count": 46
        }
      ]
    },
    {
      "cell_type": "markdown",
      "metadata": {
        "id": "cathedral-ratio"
      },
      "source": [
        "### Regression Feature Selection"
      ],
      "id": "cathedral-ratio"
    },
    {
      "cell_type": "code",
      "metadata": {
        "id": "necessary-karma"
      },
      "source": [
        "from sklearn.feature_selection import SelectKBest\n",
        "from sklearn.feature_selection import f_regression"
      ],
      "id": "necessary-karma",
      "execution_count": 47,
      "outputs": []
    },
    {
      "cell_type": "code",
      "metadata": {
        "id": "collectible-buffer"
      },
      "source": [
        "fs = SelectKBest(score_func=f_regression, k=5)"
      ],
      "id": "collectible-buffer",
      "execution_count": 48,
      "outputs": []
    },
    {
      "cell_type": "code",
      "metadata": {
        "colab": {
          "base_uri": "https://localhost:8080/"
        },
        "id": "periodic-complex",
        "outputId": "da5c941f-db6e-4bc5-837c-e1b9b791254c"
      },
      "source": [
        "data_trans.shape"
      ],
      "id": "periodic-complex",
      "execution_count": 49,
      "outputs": [
        {
          "output_type": "execute_result",
          "data": {
            "text/plain": [
              "(244, 7)"
            ]
          },
          "metadata": {},
          "execution_count": 49
        }
      ]
    },
    {
      "cell_type": "code",
      "metadata": {
        "colab": {
          "base_uri": "https://localhost:8080/"
        },
        "id": "irish-mortality",
        "outputId": "52ba6295-a4ad-49e3-cf71-889a7a372082"
      },
      "source": [
        "y.shape"
      ],
      "id": "irish-mortality",
      "execution_count": 50,
      "outputs": [
        {
          "output_type": "execute_result",
          "data": {
            "text/plain": [
              "(244,)"
            ]
          },
          "metadata": {},
          "execution_count": 50
        }
      ]
    },
    {
      "cell_type": "code",
      "metadata": {
        "id": "answering-sarah"
      },
      "source": [
        "# apply feature selection\n",
        "X_selected = fs.fit_transform(data_trans, y)"
      ],
      "id": "answering-sarah",
      "execution_count": 51,
      "outputs": []
    },
    {
      "cell_type": "code",
      "metadata": {
        "id": "accompanied-rouge"
      },
      "source": [
        "parameters = fs.get_params(deep=True)"
      ],
      "id": "accompanied-rouge",
      "execution_count": 52,
      "outputs": []
    },
    {
      "cell_type": "code",
      "metadata": {
        "colab": {
          "base_uri": "https://localhost:8080/"
        },
        "id": "analyzed-scottish",
        "outputId": "0646b896-95cd-4b5d-95be-6891a4f13b28"
      },
      "source": [
        "parameters"
      ],
      "id": "analyzed-scottish",
      "execution_count": 53,
      "outputs": [
        {
          "output_type": "execute_result",
          "data": {
            "text/plain": [
              "{'k': 5,\n",
              " 'score_func': <function sklearn.feature_selection._univariate_selection.f_regression>}"
            ]
          },
          "metadata": {},
          "execution_count": 53
        }
      ]
    },
    {
      "cell_type": "code",
      "metadata": {
        "colab": {
          "base_uri": "https://localhost:8080/"
        },
        "id": "seven-fairy",
        "outputId": "cd800869-92ee-473b-8f1a-1088df912c8b"
      },
      "source": [
        "parameters['score_func']"
      ],
      "id": "seven-fairy",
      "execution_count": 54,
      "outputs": [
        {
          "output_type": "execute_result",
          "data": {
            "text/plain": [
              "<function sklearn.feature_selection._univariate_selection.f_regression>"
            ]
          },
          "metadata": {},
          "execution_count": 54
        }
      ]
    },
    {
      "cell_type": "code",
      "metadata": {
        "id": "altered-stations"
      },
      "source": [
        "get_features = fs.fit(data_trans, y)"
      ],
      "id": "altered-stations",
      "execution_count": 55,
      "outputs": []
    },
    {
      "cell_type": "code",
      "metadata": {
        "colab": {
          "base_uri": "https://localhost:8080/"
        },
        "id": "representative-symposium",
        "outputId": "67962ecf-e3ec-4a77-b4c5-9870ea1e8701"
      },
      "source": [
        "get_features"
      ],
      "id": "representative-symposium",
      "execution_count": 56,
      "outputs": [
        {
          "output_type": "execute_result",
          "data": {
            "text/plain": [
              "SelectKBest(k=5, score_func=<function f_regression at 0x7f3dc5ffd290>)"
            ]
          },
          "metadata": {},
          "execution_count": 56
        }
      ]
    },
    {
      "cell_type": "code",
      "metadata": {
        "colab": {
          "base_uri": "https://localhost:8080/"
        },
        "id": "expected-judgment",
        "outputId": "4c8c58b5-abeb-44f0-ef41-79c6aed6b3a4"
      },
      "source": [
        "fs.get_support(indices=True)"
      ],
      "id": "expected-judgment",
      "execution_count": 57,
      "outputs": [
        {
          "output_type": "execute_result",
          "data": {
            "text/plain": [
              "array([0, 3, 4, 5, 6])"
            ]
          },
          "metadata": {},
          "execution_count": 57
        }
      ]
    },
    {
      "cell_type": "code",
      "metadata": {
        "id": "creative-worst",
        "outputId": "dfb11c24-01d9-4df8-b027-99ca2e3477ec"
      },
      "source": [
        "print(X_selected.shape)"
      ],
      "id": "creative-worst",
      "execution_count": null,
      "outputs": [
        {
          "name": "stdout",
          "output_type": "stream",
          "text": [
            "(244, 5)\n"
          ]
        }
      ]
    },
    {
      "cell_type": "code",
      "metadata": {
        "id": "absent-firewall",
        "outputId": "b9594019-ad6a-4152-bfa6-27c549b2c7d4"
      },
      "source": [
        "X_selected.shape[1]"
      ],
      "id": "absent-firewall",
      "execution_count": null,
      "outputs": [
        {
          "data": {
            "text/plain": [
              "5"
            ]
          },
          "execution_count": 63,
          "metadata": {},
          "output_type": "execute_result"
        }
      ]
    },
    {
      "cell_type": "code",
      "metadata": {
        "id": "starting-pearl"
      },
      "source": [
        ""
      ],
      "id": "starting-pearl",
      "execution_count": null,
      "outputs": []
    },
    {
      "cell_type": "code",
      "metadata": {
        "id": "micro-preparation"
      },
      "source": [
        "df_rfe_selected = pd.DataFrame(X_selected, columns=['total_bill', 'day', 'time', 'size', 'tip_percentage' ])"
      ],
      "id": "micro-preparation",
      "execution_count": null,
      "outputs": []
    },
    {
      "cell_type": "code",
      "metadata": {
        "id": "accredited-activation",
        "outputId": "29f448c3-e5b6-4212-9f50-b5157248416f"
      },
      "source": [
        "df_rfe_selected.describe()"
      ],
      "id": "accredited-activation",
      "execution_count": null,
      "outputs": [
        {
          "data": {
            "text/html": [
              "<div>\n",
              "<style scoped>\n",
              "    .dataframe tbody tr th:only-of-type {\n",
              "        vertical-align: middle;\n",
              "    }\n",
              "\n",
              "    .dataframe tbody tr th {\n",
              "        vertical-align: top;\n",
              "    }\n",
              "\n",
              "    .dataframe thead th {\n",
              "        text-align: right;\n",
              "    }\n",
              "</style>\n",
              "<table border=\"1\" class=\"dataframe\">\n",
              "  <thead>\n",
              "    <tr style=\"text-align: right;\">\n",
              "      <th></th>\n",
              "      <th>total_bill</th>\n",
              "      <th>day</th>\n",
              "      <th>time</th>\n",
              "      <th>size</th>\n",
              "      <th>tip_percentage</th>\n",
              "    </tr>\n",
              "  </thead>\n",
              "  <tbody>\n",
              "    <tr>\n",
              "      <th>count</th>\n",
              "      <td>244.000000</td>\n",
              "      <td>244.000000</td>\n",
              "      <td>244.000000</td>\n",
              "      <td>244.000000</td>\n",
              "      <td>244.000000</td>\n",
              "    </tr>\n",
              "    <tr>\n",
              "      <th>mean</th>\n",
              "      <td>19.785943</td>\n",
              "      <td>1.725410</td>\n",
              "      <td>0.721311</td>\n",
              "      <td>2.549180</td>\n",
              "      <td>16.079754</td>\n",
              "    </tr>\n",
              "    <tr>\n",
              "      <th>std</th>\n",
              "      <td>8.902412</td>\n",
              "      <td>1.155774</td>\n",
              "      <td>0.449276</td>\n",
              "      <td>0.943703</td>\n",
              "      <td>6.107020</td>\n",
              "    </tr>\n",
              "    <tr>\n",
              "      <th>min</th>\n",
              "      <td>3.070000</td>\n",
              "      <td>0.000000</td>\n",
              "      <td>0.000000</td>\n",
              "      <td>1.000000</td>\n",
              "      <td>3.560000</td>\n",
              "    </tr>\n",
              "    <tr>\n",
              "      <th>25%</th>\n",
              "      <td>13.347500</td>\n",
              "      <td>0.000000</td>\n",
              "      <td>0.000000</td>\n",
              "      <td>2.000000</td>\n",
              "      <td>12.910000</td>\n",
              "    </tr>\n",
              "    <tr>\n",
              "      <th>50%</th>\n",
              "      <td>17.795000</td>\n",
              "      <td>2.000000</td>\n",
              "      <td>1.000000</td>\n",
              "      <td>2.000000</td>\n",
              "      <td>15.475000</td>\n",
              "    </tr>\n",
              "    <tr>\n",
              "      <th>75%</th>\n",
              "      <td>24.127500</td>\n",
              "      <td>3.000000</td>\n",
              "      <td>1.000000</td>\n",
              "      <td>3.000000</td>\n",
              "      <td>19.147500</td>\n",
              "    </tr>\n",
              "    <tr>\n",
              "      <th>max</th>\n",
              "      <td>50.810000</td>\n",
              "      <td>3.000000</td>\n",
              "      <td>1.000000</td>\n",
              "      <td>6.000000</td>\n",
              "      <td>71.030000</td>\n",
              "    </tr>\n",
              "  </tbody>\n",
              "</table>\n",
              "</div>"
            ],
            "text/plain": [
              "       total_bill         day        time        size  tip_percentage\n",
              "count  244.000000  244.000000  244.000000  244.000000      244.000000\n",
              "mean    19.785943    1.725410    0.721311    2.549180       16.079754\n",
              "std      8.902412    1.155774    0.449276    0.943703        6.107020\n",
              "min      3.070000    0.000000    0.000000    1.000000        3.560000\n",
              "25%     13.347500    0.000000    0.000000    2.000000       12.910000\n",
              "50%     17.795000    2.000000    1.000000    2.000000       15.475000\n",
              "75%     24.127500    3.000000    1.000000    3.000000       19.147500\n",
              "max     50.810000    3.000000    1.000000    6.000000       71.030000"
            ]
          },
          "execution_count": 66,
          "metadata": {},
          "output_type": "execute_result"
        }
      ]
    },
    {
      "cell_type": "code",
      "metadata": {
        "id": "voluntary-safety"
      },
      "source": [
        ""
      ],
      "id": "voluntary-safety",
      "execution_count": null,
      "outputs": []
    }
  ]
}